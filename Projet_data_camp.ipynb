{
  "nbformat": 4,
  "nbformat_minor": 0,
  "metadata": {
    "colab": {
      "name": "Projet_data_camp.ipynb",
      "provenance": [],
      "collapsed_sections": [
        "0hFaBZVwRZqy",
        "yKnhA_snRZq3",
        "VERfoXsLRZq5",
        "ybJktk62RZq6",
        "CWwr89aFR-Mk"
      ],
      "include_colab_link": true
    },
    "kernelspec": {
      "display_name": "Python 3",
      "language": "python",
      "name": "python3"
    },
    "language_info": {
      "codemirror_mode": {
        "name": "ipython",
        "version": 3
      },
      "file_extension": ".py",
      "mimetype": "text/x-python",
      "name": "python",
      "nbconvert_exporter": "python",
      "pygments_lexer": "ipython3",
      "version": "3.7.6"
    }
  },
  "cells": [
    {
      "cell_type": "markdown",
      "metadata": {
        "id": "view-in-github",
        "colab_type": "text"
      },
      "source": [
        "<a href=\"https://colab.research.google.com/github/oagbohouto93/Suivi-data-camp-Elhajam-Agbohouto-Yokam-Koua/blob/main/Projet_data_camp.ipynb\" target=\"_parent\"><img src=\"https://colab.research.google.com/assets/colab-badge.svg\" alt=\"Open In Colab\"/></a>"
      ]
    },
    {
      "cell_type": "markdown",
      "metadata": {
        "id": "T-bYUWjORZqV"
      },
      "source": [
        "## ASHRAE Energy Predictions"
      ]
    },
    {
      "cell_type": "markdown",
      "metadata": {
        "id": "Ab8_YYLhTkhI"
      },
      "source": [
        "# Problématique et but du projet\n",
        "De nos jours, de plus en plus d'investissements sont réalisés dans le domaine de l'immobilier dans le but de réduire les consommations d'énergie des bâtiments et d'améliorer l'impact environnemental.\n",
        "\n",
        "Ainsi, les propriétaires d'immeubles peuvent bénéficier de financements basés sur la différence entre la consommation d'énergie réelle du bâtiment et celle qu'il aurait utilisée sans aucuns travaux d'aménagement. Toutefois, les données sur la consommation d'énergie des bâtiments au cas où il n'aurait pas de rénovation ne sont pas disponibles.\n",
        "\n",
        "Pour résoudre ce problème, des modèles contrefactuels sont développés afin de modéliser la consommation d'énergie d'un bâtiment sans travaux de rénovation.\n",
        "\n",
        "Le but de ce TP est de construire ces modèles contrefactuels pour les quatre types d'énergie que sont la consommation d'eau froide, d'électricité, d'eau chaude et de vapeur en se basant sur les taux d'utilisation historiques et les conditions météorologiques observées. Il s'agira concrètement de prédire les valeurs de la variable meter_reading pour 1449 bâtiments."
      ]
    },
    {
      "cell_type": "markdown",
      "metadata": {
        "id": "XXZbPPknTtTi"
      },
      "source": [
        "# Analyse exploratoire des données"
      ]
    },
    {
      "cell_type": "markdown",
      "metadata": {
        "id": "pyVeGa-CT28d"
      },
      "source": [
        "## Importation des données"
      ]
    },
    {
      "cell_type": "code",
      "metadata": {
        "id": "ERqdtTv9RZqY"
      },
      "source": [
        "import pandas as pd\n",
        "import numpy as np\n",
        "import matplotlib.pyplot as plt\n",
        "import seaborn as sns\n",
        "import pickle\n",
        "import scipy.stats\n",
        "import gc\n",
        "import os"
      ],
      "execution_count": 4,
      "outputs": []
    },
    {
      "cell_type": "code",
      "metadata": {
        "id": "0GMYzw1ERZqa"
      },
      "source": [
        "train = pd.read_csv('/content/drive/MyDrive/Kaggle/train.csv')\n",
        "test = pd.read_csv('/content/drive/MyDrive/Kaggle/test.csv')\n",
        "weather_train = pd.read_csv('/content/drive/MyDrive/Kaggle/weather_train.csv')\n",
        "weather_test = pd.read_csv('/content/drive/MyDrive/Kaggle/weather_test.csv')\n",
        "building_metadata = pd.read_csv('/content/drive/MyDrive/Kaggle/building_metadata.csv')"
      ],
      "execution_count": 5,
      "outputs": []
    },
    {
      "cell_type": "markdown",
      "metadata": {
        "id": "Yc2ewG21UOF9"
      },
      "source": [
        "## Description des données\n",
        "L'ensemble de données comprend trois années de relevés de compteurs horaires de plus de mille bâtiments sur plusieurs sites différents à travers le monde. Les données sont regroupées en deux types: les données météorologiques et les données individuelles. Les données météorologiques sont communes à tous les bâtiments d'un même site et les données individuelles sont propres à chacun des bâtiments.\n",
        "\n",
        "Les données météorologiques sont contenues dans la base weather_train/test.csv et concernent les données de températures, de niveau de précipitation, de vitesse et de direction du vent.\n",
        "\n",
        "Les données individuelles sont contenues dans les bases building_meta.csv et concernent les données sur l'utilisation primaire du bâtiment, la surface brute du bâtiment, le nombre d'étages des immeubles ou encore l'année d'ouverture du bâtiment.\n",
        "\n",
        "Les données train.csv décrivent quant à elles contiennent les données sur les quatre différents types de compteur (eau chaude et froide, gaz et électricité) et les consommations de ces énergies de chaque bâtiment."
      ]
    },
    {
      "cell_type": "markdown",
      "metadata": {
        "id": "Hu8R3AOIVNRd"
      },
      "source": [
        "## Etude de chaque table de données"
      ]
    },
    {
      "cell_type": "markdown",
      "metadata": {
        "id": "bZAHRRzdRZqb"
      },
      "source": [
        "\n",
        "\n",
        "### Analyse de la base de données train"
      ]
    },
    {
      "cell_type": "markdown",
      "metadata": {
        "id": "ZnJQJK3cRZqc"
      },
      "source": [
        "Cette base de données contient les 4 variables sivantes:\n",
        "\n",
        "- building_id: identifie chaque batiment\n",
        "- meter: le type de compteur. Il y en a 4, electricity, chilled water, hot water et steam\n",
        "- timestamp: les dates et heures de lecture de compteur; toutes les heures du 01/01/2016 à 00:00:00 au 31/12/2016 à 23:00:00\n",
        "- meter_reading: les consommations d'énergie rélévées "
      ]
    },
    {
      "cell_type": "code",
      "metadata": {
        "id": "Zqh0sGw3RZqc",
        "colab": {
          "base_uri": "https://localhost:8080/"
        },
        "outputId": "57008d8f-8038-457c-adbe-f8afccdffa57"
      },
      "source": [
        "train.info()"
      ],
      "execution_count": 9,
      "outputs": [
        {
          "output_type": "stream",
          "text": [
            "<class 'pandas.core.frame.DataFrame'>\n",
            "RangeIndex: 20216100 entries, 0 to 20216099\n",
            "Data columns (total 4 columns):\n",
            " #   Column         Dtype  \n",
            "---  ------         -----  \n",
            " 0   building_id    int64  \n",
            " 1   meter          int64  \n",
            " 2   timestamp      object \n",
            " 3   meter_reading  float64\n",
            "dtypes: float64(1), int64(2), object(1)\n",
            "memory usage: 616.9+ MB\n"
          ],
          "name": "stdout"
        }
      ]
    },
    {
      "cell_type": "markdown",
      "metadata": {
        "id": "QJX-quQuRZqd"
      },
      "source": [
        "Pour avoir une idée de la distribution de la variable d'intérêt qui est la consommation d'énergie (meter_reading), nous faisons un histogramme"
      ]
    },
    {
      "cell_type": "code",
      "metadata": {
        "id": "QFJdj7CKRZqd",
        "colab": {
          "base_uri": "https://localhost:8080/",
          "height": 393
        },
        "outputId": "98ff1a92-4498-4d57-f5cc-e9d36f449a1d"
      },
      "source": [
        "plt.hist(train['meter_reading'])"
      ],
      "execution_count": 10,
      "outputs": [
        {
          "output_type": "execute_result",
          "data": {
            "text/plain": [
              "(array([2.0213198e+07, 3.2200000e+02, 4.7800000e+02, 5.3800000e+02,\n",
              "        1.1700000e+02, 7.7000000e+01, 2.8100000e+02, 5.3500000e+02,\n",
              "        4.2300000e+02, 1.3100000e+02]),\n",
              " array([       0.,  2190470.,  4380940.,  6571410.,  8761880., 10952350.,\n",
              "        13142820., 15333290., 17523760., 19714230., 21904700.]),\n",
              " <a list of 10 Patch objects>)"
            ]
          },
          "metadata": {
            "tags": []
          },
          "execution_count": 10
        },
        {
          "output_type": "display_data",
          "data": {
            "image/png": "[encoded data removed]",
            "text/plain": [
              "<Figure size 432x288 with 1 Axes>"
            ]
          },
          "metadata": {
            "tags": [],
            "needs_background": "light"
          }
        }
      ]
    },
    {
      "cell_type": "markdown",
      "metadata": {
        "id": "PwJ4VKLCRZqf"
      },
      "source": [
        "Nous constatons qu'il y a plein de zéros pour cette variable. Toute fois, l'histogramme ne nous permet pas de bien voir la distribution de cette variable pour les valeurs différentes de zéro. Nous allons étudier les données pour des meter reading égale à zéro séparément des autres dans un premier temps."
      ]
    },
    {
      "cell_type": "code",
      "metadata": {
        "id": "ksNDfgfhRZqg",
        "colab": {
          "base_uri": "https://localhost:8080/"
        },
        "outputId": "4a14da48-ed8f-42da-fbde-0dae2ce386b5"
      },
      "source": [
        "train['meter_reading'].describe()"
      ],
      "execution_count": 11,
      "outputs": [
        {
          "output_type": "execute_result",
          "data": {
            "text/plain": [
              "count    2.021610e+07\n",
              "mean     2.117121e+03\n",
              "std      1.532356e+05\n",
              "min      0.000000e+00\n",
              "25%      1.830000e+01\n",
              "50%      7.877500e+01\n",
              "75%      2.679840e+02\n",
              "max      2.190470e+07\n",
              "Name: meter_reading, dtype: float64"
            ]
          },
          "metadata": {
            "tags": []
          },
          "execution_count": 11
        }
      ]
    },
    {
      "cell_type": "markdown",
      "metadata": {
        "id": "qf2Aw_UcRZqh"
      },
      "source": [
        "En regardant la descrirption de cette variable, la moyenne est loin de zéro. On s'intéresse donc maintenant au pourcentage de valeurs qui sont égales à zéro."
      ]
    },
    {
      "cell_type": "code",
      "metadata": {
        "id": "uO0e7kNnRZqh",
        "colab": {
          "base_uri": "https://localhost:8080/"
        },
        "outputId": "317361b1-4ebc-42e1-a0a1-3de77e4c6ed0"
      },
      "source": [
        "train[train['meter_reading']==0].shape[0] / train.shape[0]"
      ],
      "execution_count": 12,
      "outputs": [
        {
          "output_type": "execute_result",
          "data": {
            "text/plain": [
              "0.09269720668180312"
            ]
          },
          "metadata": {
            "tags": []
          },
          "execution_count": 12
        }
      ]
    },
    {
      "cell_type": "markdown",
      "metadata": {
        "id": "51dzTlxhRZqi"
      },
      "source": [
        "Environ 9.3% des valeurs des compteurs sont égales à zéro. Nous ne pouvons pas dire exactement à quoi attribuer ce phénomène. Il se pourrait que certains de ces valeurs sont égaleas à zéro parcequ'il n'y avait pas de consommation d'énergie, ou par exemple pour le dû au fait qu'en hiver on n'a pas besoin d'eau glacée."
      ]
    },
    {
      "cell_type": "code",
      "metadata": {
        "id": "xcMKgcadRZqj",
        "colab": {
          "base_uri": "https://localhost:8080/"
        },
        "outputId": "f27d5f83-779e-4925-bdbf-040727cfe31b"
      },
      "source": [
        "len(train['meter'])"
      ],
      "execution_count": 13,
      "outputs": [
        {
          "output_type": "execute_result",
          "data": {
            "text/plain": [
              "20216100"
            ]
          },
          "metadata": {
            "tags": []
          },
          "execution_count": 13
        }
      ]
    },
    {
      "cell_type": "code",
      "metadata": {
        "id": "YcJ56IDLRZqk"
      },
      "source": [
        "train['meter'].replace({0:\"electricity\",1:\"chilledwater\",2:\"steam\",3:\"hotwater\"},inplace=True)"
      ],
      "execution_count": 14,
      "outputs": []
    },
    {
      "cell_type": "code",
      "metadata": {
        "id": "0jzi1FgsRZql",
        "colab": {
          "base_uri": "https://localhost:8080/",
          "height": 281
        },
        "outputId": "19614369-8173-494f-df03-afdc93ac487c"
      },
      "source": [
        "meter_dict = {}\n",
        "for i in train['meter'].unique():\n",
        "    percent = round(train[train['meter_reading']== 0]['meter'].value_counts()[i] / train['meter'].value_counts()[i],2)\n",
        "    meter_dict[i] = percent\n",
        "zero_meter = pd.Series(meter_dict)\n",
        "sns.barplot(x=zero_meter.index, y= zero_meter)\n",
        "plt.title(\"Meters percentage having zero readings\")\n",
        "plt.show()"
      ],
      "execution_count": 15,
      "outputs": [
        {
          "output_type": "display_data",
          "data": {
            "image/png": "[encoded data removed]",
            "text/plain": [
              "<Figure size 432x288 with 1 Axes>"
            ]
          },
          "metadata": {
            "tags": [],
            "needs_background": "light"
          }
        }
      ]
    },
    {
      "cell_type": "markdown",
      "metadata": {
        "id": "jTw_RVP2RZql"
      },
      "source": [
        "D'après le graphique ci-dessus, on constate que le compteur d'eau chaude a plus de zéros que les autres compteurs. Mais nous avons à faire au données temporelles, et donc ce n'est peut être pas la meilleur façon de regarder cette variable. Dans ce qui suit, nous allons faire des études plus détaillées."
      ]
    },
    {
      "cell_type": "markdown",
      "metadata": {
        "id": "fN0vImK9RZqm"
      },
      "source": [
        "Nous convertissons tout d'abord la variable timestamp en objet de date et temps, et ensuite attribuons le mois correspondant à chaque date pour pouvoir étudier les tendences mensuelles de meter_reading."
      ]
    },
    {
      "cell_type": "code",
      "metadata": {
        "id": "lPcOD3x3RZqm"
      },
      "source": [
        "train['meter'].unique()\n",
        "\n",
        "train['timestamp2'] = pd.to_datetime(train[\"timestamp\"])\n",
        "train['month'] = train.timestamp2.dt.month"
      ],
      "execution_count": 16,
      "outputs": []
    },
    {
      "cell_type": "markdown",
      "metadata": {
        "id": "Vz1mHn3BRZqn"
      },
      "source": [
        "On représente ensuite séparément pour chaque compteur les valeurs de meter_reading par mois pour voir à quel moment on a ces valeurs sur l'année."
      ]
    },
    {
      "cell_type": "code",
      "metadata": {
        "id": "yhWOqa4pRZqo",
        "colab": {
          "base_uri": "https://localhost:8080/",
          "height": 459
        },
        "outputId": "e0a298e3-4c8c-4465-9499-dc2acc7f416d"
      },
      "source": [
        "fig, axs = plt.subplots(2,2, sharey=True, tight_layout=True,figsize=(10,6))\n",
        "\n",
        "axs[0][0].hist(x =\"month\",data =train[(train.meter_reading == 0) & (train.meter==\"electricity\")],bins =12,color = \"navajowhite\")\n",
        "axs[0][0].set_title(\"For electricity\")\n",
        "\n",
        "axs[0][1].hist(x =\"month\",data =train[(train.meter_reading == 0) & (train.meter==\"chilledwater\")],bins =12,color = \"skyblue\")\n",
        "axs[0][1].set_title(\"For chilled water\")\n",
        "\n",
        "axs[1][0].hist(x =\"month\",data =train[(train.meter_reading == 0) & (train.meter==\"steam\")],bins =12,color = \"slategrey\")\n",
        "axs[1][0].set_title(\"For steam\")\n",
        "\n",
        "axs[1][1].hist(x =\"month\",data =train[(train.meter_reading == 0) & (train.meter==\"hotwater\")],bins =12,color = \"lightcoral\")\n",
        "axs[1][1].set_title(\"For hot water\")"
      ],
      "execution_count": 17,
      "outputs": [
        {
          "output_type": "execute_result",
          "data": {
            "text/plain": [
              "Text(0.5, 1.0, 'For hot water')"
            ]
          },
          "metadata": {
            "tags": []
          },
          "execution_count": 17
        },
        {
          "output_type": "display_data",
          "data": {
            "image/png": "[encoded data removed]",
            "text/plain": [
              "<Figure size 720x432 with 4 Axes>"
            ]
          },
          "metadata": {
            "tags": [],
            "needs_background": "light"
          }
        }
      ]
    },
    {
      "cell_type": "markdown",
      "metadata": {
        "id": "pKsPoOoYRZqp"
      },
      "source": [
        "Comme on peut le voir sur les graphes, et comme attendu, les consommation de 0 change d'un mois à l'autre sur l'année en fonction du type de compteur aussi. Pour le compteur d'électricité, on a des consommation de 0 plutôt au début de l'année jusqu'en mai environ. A partir de juin les consommation de 0 baisse. Les consommations à 0 de \"steam\" et d'eau chaude ont à peu près la même tendance sur l'année. Les consommations à 0 d'eau glacée sont saisonnières aussi."
      ]
    },
    {
      "cell_type": "markdown",
      "metadata": {
        "id": "13AgW1RARZqq"
      },
      "source": [
        "En ne séparant pas les consommations à 0 du reste des consommations comme dans les graphiques ci-dessous, on n'arrive pas à voir l'effet des consommations à 0."
      ]
    },
    {
      "cell_type": "code",
      "metadata": {
        "id": "dtFI3jt1RZqq",
        "outputId": "3666663c-cf71-4bc5-e521-e6b66d521155"
      },
      "source": [
        "fig, axs = plt.subplots(2,2, sharey=True, tight_layout=True,figsize=(10,6))\n",
        "\n",
        "axs[0][0].hist(x =\"month\",data =train[(train.meter==\"electricity\")],bins =12,color = \"navajowhite\")\n",
        "axs[0][0].set_title(\"For electricity\")\n",
        "\n",
        "axs[0][1].hist(x =\"month\",data =train[(train.meter==\"chilledwater\")],bins =12,color = \"skyblue\")\n",
        "axs[0][1].set_title(\"For chilled water\")\n",
        "\n",
        "axs[1][0].hist(x =\"month\",data =train[(train.meter==\"steam\")],bins =12,color = \"slategrey\")\n",
        "axs[1][0].set_title(\"For steam\")\n",
        "\n",
        "axs[1][1].hist(x =\"month\",data =train[(train.meter==\"hotwater\")],bins =12,color = \"lightcoral\")\n",
        "axs[1][1].set_title(\"For hot water\")"
      ],
      "execution_count": null,
      "outputs": [
        {
          "output_type": "execute_result",
          "data": {
            "text/plain": [
              "Text(0.5, 1.0, 'For hot water')"
            ]
          },
          "metadata": {
            "tags": []
          },
          "execution_count": 14
        },
        {
          "output_type": "display_data",
          "data": {
            "image/png": "[encoded data removed]",
            "text/plain": [
              "<Figure size 720x432 with 4 Axes>"
            ]
          },
          "metadata": {
            "tags": [],
            "needs_background": "light"
          }
        }
      ]
    },
    {
      "cell_type": "markdown",
      "metadata": {
        "id": "Bxh1yVovRZqr"
      },
      "source": [
        "Les consommations différentes de 0 ont une tendance plutôt uniforme, comme ci-dessous."
      ]
    },
    {
      "cell_type": "code",
      "metadata": {
        "id": "ZbYY6qIERZqs",
        "outputId": "3b89352f-b87e-4c3d-e880-7ff1ec30b076"
      },
      "source": [
        "fig, axs = plt.subplots(2,2, sharey=True, tight_layout=True,figsize=(10,6))\n",
        "\n",
        "axs[0][0].hist(x =\"month\",data =train[(train.meter_reading != 0) & (train.meter==\"electricity\")],bins =12,color = \"navajowhite\")\n",
        "axs[0][0].set_title(\"For electricity\")\n",
        "\n",
        "axs[0][1].hist(x =\"month\",data =train[(train.meter_reading != 0) & (train.meter==\"chilledwater\")],bins =12,color = \"skyblue\")\n",
        "axs[0][1].set_title(\"For chilled water\")\n",
        "\n",
        "axs[1][0].hist(x =\"month\",data =train[(train.meter_reading != 0) & (train.meter==\"steam\")],bins =12,color = \"slategrey\")\n",
        "axs[1][0].set_title(\"For steam\")\n",
        "\n",
        "axs[1][1].hist(x =\"month\",data =train[(train.meter_reading != 0) & (train.meter==\"hotwater\")],bins =12,color = \"lightcoral\")\n",
        "axs[1][1].set_title(\"For hot water\")"
      ],
      "execution_count": null,
      "outputs": [
        {
          "output_type": "execute_result",
          "data": {
            "text/plain": [
              "Text(0.5, 1.0, 'For hot water')"
            ]
          },
          "metadata": {
            "tags": []
          },
          "execution_count": 15
        },
        {
          "output_type": "display_data",
          "data": {
            "image/png": "[encoded data removed]",
            "text/plain": [
              "<Figure size 720x432 with 4 Axes>"
            ]
          },
          "metadata": {
            "tags": [],
            "needs_background": "light"
          }
        }
      ]
    },
    {
      "cell_type": "code",
      "metadata": {
        "id": "04hMe58PRZqt",
        "outputId": "0f1fcbeb-0570-4905-9d84-d53a93eb0efa"
      },
      "source": [
        "sns.kdeplot(train.loc[(train['meter']=='electricity'), \n",
        "            'meter_reading'], color='yellow', shade=False, Label='electricity')\n",
        "\n",
        "sns.kdeplot(train.loc[(train['meter']=='chilledwater'), \n",
        "            'meter_reading'], color='b', shade=False, Label='chilledwater')\n",
        "\n",
        "sns.kdeplot(train.loc[(train['meter']=='steam'), \n",
        "            'meter_reading'], color='gray', shade=False, Label='steam')\n",
        "\n",
        "sns.kdeplot(train.loc[(train['meter']=='hotwater'), \n",
        "            'meter_reading'], color='r', shade=False, Label='hotwater')\n",
        "\n",
        "plt.xlabel('meter_reading') \n",
        "plt.ylabel('Probability Density') "
      ],
      "execution_count": null,
      "outputs": [
        {
          "output_type": "execute_result",
          "data": {
            "text/plain": [
              "Text(0, 0.5, 'Probability Density')"
            ]
          },
          "metadata": {
            "tags": []
          },
          "execution_count": 16
        },
        {
          "output_type": "display_data",
          "data": {
            "image/png": "[encoded data removed]",
            "text/plain": [
              "<Figure size 432x288 with 1 Axes>"
            ]
          },
          "metadata": {
            "tags": [],
            "needs_background": "light"
          }
        }
      ]
    },
    {
      "cell_type": "markdown",
      "metadata": {
        "id": "jGkal4zyRZqt"
      },
      "source": [
        "Nous faisons une log transformation sur la variable meter_reading pour avoir des données plus normalisées et une bonne représentation de la densité."
      ]
    },
    {
      "cell_type": "code",
      "metadata": {
        "id": "UWrRL7wtRZqv"
      },
      "source": [
        "train['meter_reading_log'] = np.log1p(train['meter_reading'])"
      ],
      "execution_count": 18,
      "outputs": []
    },
    {
      "cell_type": "code",
      "metadata": {
        "id": "Z1i1BmH-RZqw"
      },
      "source": [
        "sns.kdeplot(train.loc[(train['meter']=='electricity'), \n",
        "            \"meter_reading_log\"], color='yellow', shade=False, Label='electricity')\n",
        "\n",
        "sns.kdeplot(train.loc[(train['meter']=='chilledwater'), \n",
        "            \"meter_reading_log\"], color='b', shade=False, Label='chilledwater')\n",
        "\n",
        "sns.kdeplot(train.loc[(train['meter']=='steam'), \n",
        "            \"meter_reading_log\"], color='gray', shade=False, Label='steam')\n",
        "\n",
        "sns.kdeplot(train.loc[(train['meter']=='hotwater'), \n",
        "            \"meter_reading_log\"], color='r', shade=False, Label='hotwater')\n",
        "\n",
        "plt.xlabel('meter_reading_log') \n",
        "plt.ylabel('Probability Density') "
      ],
      "execution_count": null,
      "outputs": []
    },
    {
      "cell_type": "code",
      "metadata": {
        "id": "ziOAtNX-RZqy",
        "outputId": "43ab79bf-da84-495e-81e0-12cac502834f"
      },
      "source": [
        "len(set(train['building_id']))"
      ],
      "execution_count": null,
      "outputs": [
        {
          "output_type": "execute_result",
          "data": {
            "text/plain": [
              "1449"
            ]
          },
          "metadata": {
            "tags": []
          },
          "execution_count": 19
        }
      ]
    },
    {
      "cell_type": "markdown",
      "metadata": {
        "id": "0hFaBZVwRZqy"
      },
      "source": [
        "### Analyse des données building"
      ]
    },
    {
      "cell_type": "markdown",
      "metadata": {
        "id": "RG3zO0LfRZqz"
      },
      "source": [
        "Les données building_meta.csv sont composé de 6 variables définies par :\n",
        "\n",
        "- site_id : Clé étrangère pour les fichiers météo.\n",
        "- building_id : Clé étrangère pour train.csv\n",
        "- primary_use : Indicateur de la catégorie principale d'activités pour le bâtiment basé sur les définitions de type de propriété EnergyStar\n",
        "- square_feet : Surface de plancher brute du bâtiment\n",
        "- year_built : Année d'ouverture du bâtiment\n",
        "- floor_count : Nombre d'étages du bâtiment"
      ]
    },
    {
      "cell_type": "code",
      "metadata": {
        "id": "ThENnZEIRZq0",
        "outputId": "6d00bfbe-d8da-4a9c-a1a0-1dd0eaa71f81"
      },
      "source": [
        "building_metadata.shape"
      ],
      "execution_count": null,
      "outputs": [
        {
          "output_type": "execute_result",
          "data": {
            "text/plain": [
              "(1449, 6)"
            ]
          },
          "metadata": {
            "tags": []
          },
          "execution_count": 21
        }
      ]
    },
    {
      "cell_type": "code",
      "metadata": {
        "id": "pvdfFAxERZq0",
        "outputId": "20479e3b-9a97-4a52-9b89-8f213f3c05ab"
      },
      "source": [
        "building_metadata.head()"
      ],
      "execution_count": null,
      "outputs": [
        {
          "output_type": "execute_result",
          "data": {
            "text/html": [
              "<div>\n",
              "<style scoped>\n",
              "    .dataframe tbody tr th:only-of-type {\n",
              "        vertical-align: middle;\n",
              "    }\n",
              "\n",
              "    .dataframe tbody tr th {\n",
              "        vertical-align: top;\n",
              "    }\n",
              "\n",
              "    .dataframe thead th {\n",
              "        text-align: right;\n",
              "    }\n",
              "</style>\n",
              "<table border=\"1\" class=\"dataframe\">\n",
              "  <thead>\n",
              "    <tr style=\"text-align: right;\">\n",
              "      <th></th>\n",
              "      <th>site_id</th>\n",
              "      <th>building_id</th>\n",
              "      <th>primary_use</th>\n",
              "      <th>square_feet</th>\n",
              "      <th>year_built</th>\n",
              "      <th>floor_count</th>\n",
              "    </tr>\n",
              "  </thead>\n",
              "  <tbody>\n",
              "    <tr>\n",
              "      <th>0</th>\n",
              "      <td>0</td>\n",
              "      <td>0</td>\n",
              "      <td>Education</td>\n",
              "      <td>7432</td>\n",
              "      <td>2008.0</td>\n",
              "      <td>NaN</td>\n",
              "    </tr>\n",
              "    <tr>\n",
              "      <th>1</th>\n",
              "      <td>0</td>\n",
              "      <td>1</td>\n",
              "      <td>Education</td>\n",
              "      <td>2720</td>\n",
              "      <td>2004.0</td>\n",
              "      <td>NaN</td>\n",
              "    </tr>\n",
              "    <tr>\n",
              "      <th>2</th>\n",
              "      <td>0</td>\n",
              "      <td>2</td>\n",
              "      <td>Education</td>\n",
              "      <td>5376</td>\n",
              "      <td>1991.0</td>\n",
              "      <td>NaN</td>\n",
              "    </tr>\n",
              "    <tr>\n",
              "      <th>3</th>\n",
              "      <td>0</td>\n",
              "      <td>3</td>\n",
              "      <td>Education</td>\n",
              "      <td>23685</td>\n",
              "      <td>2002.0</td>\n",
              "      <td>NaN</td>\n",
              "    </tr>\n",
              "    <tr>\n",
              "      <th>4</th>\n",
              "      <td>0</td>\n",
              "      <td>4</td>\n",
              "      <td>Education</td>\n",
              "      <td>116607</td>\n",
              "      <td>1975.0</td>\n",
              "      <td>NaN</td>\n",
              "    </tr>\n",
              "  </tbody>\n",
              "</table>\n",
              "</div>"
            ],
            "text/plain": [
              "   site_id  building_id primary_use  square_feet  year_built  floor_count\n",
              "0        0            0   Education         7432      2008.0          NaN\n",
              "1        0            1   Education         2720      2004.0          NaN\n",
              "2        0            2   Education         5376      1991.0          NaN\n",
              "3        0            3   Education        23685      2002.0          NaN\n",
              "4        0            4   Education       116607      1975.0          NaN"
            ]
          },
          "metadata": {
            "tags": []
          },
          "execution_count": 22
        }
      ]
    },
    {
      "cell_type": "code",
      "metadata": {
        "id": "H-9LkQwCRZq0",
        "outputId": "86fbaeb5-5b53-447c-cce7-d18d09138fdd"
      },
      "source": [
        "building_metadata.describe()"
      ],
      "execution_count": null,
      "outputs": [
        {
          "output_type": "execute_result",
          "data": {
            "text/html": [
              "<div>\n",
              "<style scoped>\n",
              "    .dataframe tbody tr th:only-of-type {\n",
              "        vertical-align: middle;\n",
              "    }\n",
              "\n",
              "    .dataframe tbody tr th {\n",
              "        vertical-align: top;\n",
              "    }\n",
              "\n",
              "    .dataframe thead th {\n",
              "        text-align: right;\n",
              "    }\n",
              "</style>\n",
              "<table border=\"1\" class=\"dataframe\">\n",
              "  <thead>\n",
              "    <tr style=\"text-align: right;\">\n",
              "      <th></th>\n",
              "      <th>site_id</th>\n",
              "      <th>building_id</th>\n",
              "      <th>square_feet</th>\n",
              "      <th>year_built</th>\n",
              "      <th>floor_count</th>\n",
              "    </tr>\n",
              "  </thead>\n",
              "  <tbody>\n",
              "    <tr>\n",
              "      <th>count</th>\n",
              "      <td>1449.000000</td>\n",
              "      <td>1449.000000</td>\n",
              "      <td>1449.000000</td>\n",
              "      <td>675.000000</td>\n",
              "      <td>355.000000</td>\n",
              "    </tr>\n",
              "    <tr>\n",
              "      <th>mean</th>\n",
              "      <td>6.952381</td>\n",
              "      <td>724.000000</td>\n",
              "      <td>92111.776398</td>\n",
              "      <td>1967.957037</td>\n",
              "      <td>3.740845</td>\n",
              "    </tr>\n",
              "    <tr>\n",
              "      <th>std</th>\n",
              "      <td>5.003432</td>\n",
              "      <td>418.434583</td>\n",
              "      <td>110769.950997</td>\n",
              "      <td>31.054030</td>\n",
              "      <td>3.333683</td>\n",
              "    </tr>\n",
              "    <tr>\n",
              "      <th>min</th>\n",
              "      <td>0.000000</td>\n",
              "      <td>0.000000</td>\n",
              "      <td>283.000000</td>\n",
              "      <td>1900.000000</td>\n",
              "      <td>1.000000</td>\n",
              "    </tr>\n",
              "    <tr>\n",
              "      <th>25%</th>\n",
              "      <td>3.000000</td>\n",
              "      <td>362.000000</td>\n",
              "      <td>23012.000000</td>\n",
              "      <td>1949.000000</td>\n",
              "      <td>1.000000</td>\n",
              "    </tr>\n",
              "    <tr>\n",
              "      <th>50%</th>\n",
              "      <td>5.000000</td>\n",
              "      <td>724.000000</td>\n",
              "      <td>57673.000000</td>\n",
              "      <td>1970.000000</td>\n",
              "      <td>3.000000</td>\n",
              "    </tr>\n",
              "    <tr>\n",
              "      <th>75%</th>\n",
              "      <td>13.000000</td>\n",
              "      <td>1086.000000</td>\n",
              "      <td>115676.000000</td>\n",
              "      <td>1995.000000</td>\n",
              "      <td>5.000000</td>\n",
              "    </tr>\n",
              "    <tr>\n",
              "      <th>max</th>\n",
              "      <td>15.000000</td>\n",
              "      <td>1448.000000</td>\n",
              "      <td>875000.000000</td>\n",
              "      <td>2017.000000</td>\n",
              "      <td>26.000000</td>\n",
              "    </tr>\n",
              "  </tbody>\n",
              "</table>\n",
              "</div>"
            ],
            "text/plain": [
              "           site_id  building_id    square_feet   year_built  floor_count\n",
              "count  1449.000000  1449.000000    1449.000000   675.000000   355.000000\n",
              "mean      6.952381   724.000000   92111.776398  1967.957037     3.740845\n",
              "std       5.003432   418.434583  110769.950997    31.054030     3.333683\n",
              "min       0.000000     0.000000     283.000000  1900.000000     1.000000\n",
              "25%       3.000000   362.000000   23012.000000  1949.000000     1.000000\n",
              "50%       5.000000   724.000000   57673.000000  1970.000000     3.000000\n",
              "75%      13.000000  1086.000000  115676.000000  1995.000000     5.000000\n",
              "max      15.000000  1448.000000  875000.000000  2017.000000    26.000000"
            ]
          },
          "metadata": {
            "tags": []
          },
          "execution_count": 23
        }
      ]
    },
    {
      "cell_type": "code",
      "metadata": {
        "id": "h0XZfeoGRZq1",
        "outputId": "5ccf8c52-0ab4-4c2c-a336-9de8a5571809"
      },
      "source": [
        "building_metadata.info()"
      ],
      "execution_count": null,
      "outputs": [
        {
          "output_type": "stream",
          "text": [
            "<class 'pandas.core.frame.DataFrame'>\n",
            "RangeIndex: 1449 entries, 0 to 1448\n",
            "Data columns (total 6 columns):\n",
            " #   Column       Non-Null Count  Dtype  \n",
            "---  ------       --------------  -----  \n",
            " 0   site_id      1449 non-null   int64  \n",
            " 1   building_id  1449 non-null   int64  \n",
            " 2   primary_use  1449 non-null   object \n",
            " 3   square_feet  1449 non-null   int64  \n",
            " 4   year_built   675 non-null    float64\n",
            " 5   floor_count  355 non-null    float64\n",
            "dtypes: float64(2), int64(3), object(1)\n",
            "memory usage: 68.0+ KB\n"
          ],
          "name": "stdout"
        }
      ]
    },
    {
      "cell_type": "markdown",
      "metadata": {
        "id": "kG4rlefMRZq1"
      },
      "source": [
        "les variables years_built et floor_count ont beaucoup de valeurs manquantes ( 774 pour years_built  et 1094 pour floor_count)"
      ]
    },
    {
      "cell_type": "markdown",
      "metadata": {
        "id": "yKnhA_snRZq3"
      },
      "source": [
        "#### Variable primary_use"
      ]
    },
    {
      "cell_type": "code",
      "metadata": {
        "id": "SPFaeYmrRZq3",
        "outputId": "d4987c23-d48e-45e6-8bdd-94f07a9c7533"
      },
      "source": [
        "building_metadata.primary_use.unique()"
      ],
      "execution_count": null,
      "outputs": [
        {
          "output_type": "execute_result",
          "data": {
            "text/plain": [
              "array(['Education', 'Lodging/residential', 'Office',\n",
              "       'Entertainment/public assembly', 'Other', 'Retail', 'Parking',\n",
              "       'Public services', 'Warehouse/storage', 'Food sales and service',\n",
              "       'Religious worship', 'Healthcare', 'Utility', 'Technology/science',\n",
              "       'Manufacturing/industrial', 'Services'], dtype=object)"
            ]
          },
          "metadata": {
            "tags": []
          },
          "execution_count": 27
        }
      ]
    },
    {
      "cell_type": "markdown",
      "metadata": {
        "id": "IykBdxqIRZq4"
      },
      "source": [
        "16 types de catégorie principale d'activités pour le bâtiment, la variable primary_use peut être pris comme une varibles catégorielle.\n"
      ]
    },
    {
      "cell_type": "code",
      "metadata": {
        "id": "HuHyc8d-RZq4",
        "outputId": "7dfd8adc-d6df-4b05-9410-77313337ef7b"
      },
      "source": [
        "sns.countplot(y=\"primary_use\",data=building_metadata ,color=\"salmon\")"
      ],
      "execution_count": null,
      "outputs": [
        {
          "output_type": "execute_result",
          "data": {
            "text/plain": [
              "<matplotlib.axes._subplots.AxesSubplot at 0x7fa959f1ed10>"
            ]
          },
          "metadata": {
            "tags": []
          },
          "execution_count": 28
        },
        {
          "output_type": "display_data",
          "data": {
            "image/png": "[encoded data removed]",
            "text/plain": [
              "<Figure size 432x288 with 1 Axes>"
            ]
          },
          "metadata": {
            "tags": [],
            "needs_background": "light"
          }
        }
      ]
    },
    {
      "cell_type": "markdown",
      "metadata": {
        "id": "rXP6SHCCRZq5"
      },
      "source": [
        "On remarque que la majorité des acitivités des bâtiments est lié à l'éducation, et la minorité est lié a des lieux de culte religieux.  "
      ]
    },
    {
      "cell_type": "markdown",
      "metadata": {
        "id": "VERfoXsLRZq5"
      },
      "source": [
        "#### Variable site_id"
      ]
    },
    {
      "cell_type": "code",
      "metadata": {
        "id": "-xdqANTSRZq5",
        "outputId": "5a485e19-f86d-4779-8266-47fec50265e8"
      },
      "source": [
        "site_build = building_metadata.groupby('site_id').building_id.size()\n",
        "sns.barplot(x=site_build.index , y= site_build,color=\"blue\")\n",
        "plt.ylabel(\"Number of building\")\n",
        "del site_build"
      ],
      "execution_count": null,
      "outputs": [
        {
          "output_type": "display_data",
          "data": {
            "image/png": "[encoded data removed]",
            "text/plain": [
              "<Figure size 432x288 with 1 Axes>"
            ]
          },
          "metadata": {
            "tags": [],
            "needs_background": "light"
          }
        }
      ]
    },
    {
      "cell_type": "markdown",
      "metadata": {
        "id": "vtBZzHZDRZq6"
      },
      "source": [
        "On remarque le site 3 a le plus grand nombre de batiments, et le site 11 en a le moins."
      ]
    },
    {
      "cell_type": "markdown",
      "metadata": {
        "id": "ybJktk62RZq6"
      },
      "source": [
        "#### Variable square_feet, years_built et floor_count"
      ]
    },
    {
      "cell_type": "code",
      "metadata": {
        "id": "hec3mF30RZq6",
        "outputId": "218c4d43-79c1-4632-9451-ff17a5b0ae0e"
      },
      "source": [
        "fig, axes = plt.subplots(3,1,figsize=(10,10)) \n",
        "columns = building_metadata.drop([\"primary_use\",\"site_id\",\"building_id\"],axis=1).columns\n",
        "for i,col in enumerate(list(columns)):\n",
        "    plot = building_metadata.boxplot(col, by=\"site_id\", ax=axes.flatten()[i])\n",
        "\n",
        "plt.tight_layout() \n",
        "\n",
        "plt.show()"
      ],
      "execution_count": null,
      "outputs": [
        {
          "output_type": "display_data",
          "data": {
            "image/png": "[encoded data removed]",
            "text/plain": [
              "<Figure size 720x720 with 3 Axes>"
            ]
          },
          "metadata": {
            "tags": [],
            "needs_background": "light"
          }
        }
      ]
    },
    {
      "cell_type": "markdown",
      "metadata": {
        "id": "K40SlvbCRZq7"
      },
      "source": [
        "On remarque que le site 0 est un site avec des bâtiments récents, et le site 4 qu'en a lui a des baitments assez anciens. Par rapport au nombres d'étages, le site 8 ne possède pas beaucoup d'étages contrairement au site 7 qui a des bâtiments avec plus d'étages."
      ]
    },
    {
      "cell_type": "code",
      "metadata": {
        "id": "xkPAieYCRZq7",
        "outputId": "d39bcbae-a8f8-47a8-b9f6-7264762cc487"
      },
      "source": [
        "building_metadata.hist(column =\"year_built\",bins=40)"
      ],
      "execution_count": null,
      "outputs": [
        {
          "output_type": "execute_result",
          "data": {
            "text/plain": [
              "array([[<matplotlib.axes._subplots.AxesSubplot object at 0x7fa95b0a5ed0>]],\n",
              "      dtype=object)"
            ]
          },
          "metadata": {
            "tags": []
          },
          "execution_count": 31
        },
        {
          "output_type": "display_data",
          "data": {
            "image/png": "[encoded data removed]",
            "text/plain": [
              "<Figure size 432x288 with 1 Axes>"
            ]
          },
          "metadata": {
            "tags": [],
            "needs_background": "light"
          }
        }
      ]
    },
    {
      "cell_type": "markdown",
      "metadata": {
        "id": "oRtLhsYvRZq8"
      },
      "source": [
        "Beaucoup de batiments datent des années 1975."
      ]
    },
    {
      "cell_type": "code",
      "metadata": {
        "id": "uT_yQ3vFRZq8",
        "outputId": "c1c2d894-cd13-4d25-caa6-1fa40cf2bf32"
      },
      "source": [
        "building_metadata['year_built'].describe()"
      ],
      "execution_count": null,
      "outputs": [
        {
          "output_type": "execute_result",
          "data": {
            "text/plain": [
              "count     675.000000\n",
              "mean     1967.957037\n",
              "std        31.054030\n",
              "min      1900.000000\n",
              "25%      1949.000000\n",
              "50%      1970.000000\n",
              "75%      1995.000000\n",
              "max      2017.000000\n",
              "Name: year_built, dtype: float64"
            ]
          },
          "metadata": {
            "tags": []
          },
          "execution_count": 32
        }
      ]
    },
    {
      "cell_type": "markdown",
      "metadata": {
        "id": "liCVpLYqRZq9"
      },
      "source": [
        "## Fusion base de données "
      ]
    },
    {
      "cell_type": "code",
      "metadata": {
        "id": "hS_gTE6xRZq_"
      },
      "source": [
        "x = alltrain.drop([\"square_feet\",\"year_built\",\"meter_reading\",'precip_depth_1_hr',\n",
        "'sea_level_pressure', 'wind_direction','wind_speed'],axis =1)\n",
        "y = alltrain[\"meter_reading\"]"
      ],
      "execution_count": null,
      "outputs": []
    },
    {
      "cell_type": "markdown",
      "metadata": {
        "id": "CWwr89aFR-Mk"
      },
      "source": [
        "### Analyse des données méteorologiques (weather_data)"
      ]
    },
    {
      "cell_type": "code",
      "metadata": {
        "id": "foqa96UFSMDw",
        "outputId": "d5da0f74-b103-46db-9718-b3f8b71ce1fc"
      },
      "source": [
        "weather_train.shape"
      ],
      "execution_count": null,
      "outputs": [
        {
          "output_type": "execute_result",
          "data": {
            "text/plain": [
              "(139773, 9)"
            ]
          },
          "metadata": {
            "tags": []
          },
          "execution_count": 50
        }
      ]
    },
    {
      "cell_type": "markdown",
      "metadata": {
        "id": "xcqu2JCASPZU"
      },
      "source": [
        "La base d'apprentissage des données météorologiques comportent au total 139773 observations évaluées sur 8 variables que sont: la température de l'air, la couverture en nuage, la température de la rosée, le niveau des pluies, la pression du niveau de mer, la direction et la vitesse du vent. Chaque observation (ligne) corresponds au relevé météorologique par heure de chaque site. Ainsi, chaque site a 24 lignes pour les 8 données méteo recueillies."
      ]
    },
    {
      "cell_type": "code",
      "metadata": {
        "id": "PuR3BpdKSSsH",
        "outputId": "e9e790d5-b1f1-4638-d4e9-53fb692a4b82"
      },
      "source": [
        "weather_train.info()"
      ],
      "execution_count": null,
      "outputs": [
        {
          "output_type": "stream",
          "text": [
            "<class 'pandas.core.frame.DataFrame'>\n",
            "RangeIndex: 139773 entries, 0 to 139772\n",
            "Data columns (total 9 columns):\n",
            " #   Column              Non-Null Count   Dtype  \n",
            "---  ------              --------------   -----  \n",
            " 0   site_id             139773 non-null  int64  \n",
            " 1   timestamp           139773 non-null  object \n",
            " 2   air_temperature     139718 non-null  float64\n",
            " 3   cloud_coverage      70600 non-null   float64\n",
            " 4   dew_temperature     139660 non-null  float64\n",
            " 5   precip_depth_1_hr   89484 non-null   float64\n",
            " 6   sea_level_pressure  129155 non-null  float64\n",
            " 7   wind_direction      133505 non-null  float64\n",
            " 8   wind_speed          139469 non-null  float64\n",
            "dtypes: float64(7), int64(1), object(1)\n",
            "memory usage: 9.6+ MB\n"
          ],
          "name": "stdout"
        }
      ]
    },
    {
      "cell_type": "markdown",
      "metadata": {
        "id": "AXvDiuXdSXvT"
      },
      "source": [
        "Toutes les données de cette base n'ont pas pu être recueillies. Il y a des valeurs manquantes pour toutes les variables mesurées sauf évidemment les heures de recueil. Les heures de recueil **timestamp** seront transformées en format date."
      ]
    },
    {
      "cell_type": "code",
      "metadata": {
        "id": "w9F6yxWTSXOf",
        "outputId": "c48ee55e-3a58-4f93-a061-72d182bccb01"
      },
      "source": [
        "weather_train.describe()"
      ],
      "execution_count": null,
      "outputs": [
        {
          "output_type": "execute_result",
          "data": {
            "text/html": [
              "<div>\n",
              "<style scoped>\n",
              "    .dataframe tbody tr th:only-of-type {\n",
              "        vertical-align: middle;\n",
              "    }\n",
              "\n",
              "    .dataframe tbody tr th {\n",
              "        vertical-align: top;\n",
              "    }\n",
              "\n",
              "    .dataframe thead th {\n",
              "        text-align: right;\n",
              "    }\n",
              "</style>\n",
              "<table border=\"1\" class=\"dataframe\">\n",
              "  <thead>\n",
              "    <tr style=\"text-align: right;\">\n",
              "      <th></th>\n",
              "      <th>site_id</th>\n",
              "      <th>air_temperature</th>\n",
              "      <th>cloud_coverage</th>\n",
              "      <th>dew_temperature</th>\n",
              "      <th>precip_depth_1_hr</th>\n",
              "      <th>sea_level_pressure</th>\n",
              "      <th>wind_direction</th>\n",
              "      <th>wind_speed</th>\n",
              "    </tr>\n",
              "  </thead>\n",
              "  <tbody>\n",
              "    <tr>\n",
              "      <th>count</th>\n",
              "      <td>139773.000000</td>\n",
              "      <td>139718.000000</td>\n",
              "      <td>70600.000000</td>\n",
              "      <td>139660.000000</td>\n",
              "      <td>89484.000000</td>\n",
              "      <td>129155.000000</td>\n",
              "      <td>133505.000000</td>\n",
              "      <td>139469.000000</td>\n",
              "    </tr>\n",
              "    <tr>\n",
              "      <th>mean</th>\n",
              "      <td>7.478977</td>\n",
              "      <td>14.418106</td>\n",
              "      <td>2.149306</td>\n",
              "      <td>7.350158</td>\n",
              "      <td>0.983047</td>\n",
              "      <td>1016.158038</td>\n",
              "      <td>180.526632</td>\n",
              "      <td>3.560527</td>\n",
              "    </tr>\n",
              "    <tr>\n",
              "      <th>std</th>\n",
              "      <td>4.604744</td>\n",
              "      <td>10.626595</td>\n",
              "      <td>2.599150</td>\n",
              "      <td>9.790235</td>\n",
              "      <td>8.463678</td>\n",
              "      <td>7.629684</td>\n",
              "      <td>111.523629</td>\n",
              "      <td>2.335874</td>\n",
              "    </tr>\n",
              "    <tr>\n",
              "      <th>min</th>\n",
              "      <td>0.000000</td>\n",
              "      <td>-28.900000</td>\n",
              "      <td>0.000000</td>\n",
              "      <td>-35.000000</td>\n",
              "      <td>-1.000000</td>\n",
              "      <td>968.200000</td>\n",
              "      <td>0.000000</td>\n",
              "      <td>0.000000</td>\n",
              "    </tr>\n",
              "    <tr>\n",
              "      <th>25%</th>\n",
              "      <td>3.000000</td>\n",
              "      <td>7.200000</td>\n",
              "      <td>0.000000</td>\n",
              "      <td>0.600000</td>\n",
              "      <td>0.000000</td>\n",
              "      <td>1011.800000</td>\n",
              "      <td>80.000000</td>\n",
              "      <td>2.100000</td>\n",
              "    </tr>\n",
              "    <tr>\n",
              "      <th>50%</th>\n",
              "      <td>7.000000</td>\n",
              "      <td>15.000000</td>\n",
              "      <td>2.000000</td>\n",
              "      <td>8.300000</td>\n",
              "      <td>0.000000</td>\n",
              "      <td>1016.400000</td>\n",
              "      <td>190.000000</td>\n",
              "      <td>3.100000</td>\n",
              "    </tr>\n",
              "    <tr>\n",
              "      <th>75%</th>\n",
              "      <td>11.000000</td>\n",
              "      <td>22.200000</td>\n",
              "      <td>4.000000</td>\n",
              "      <td>14.400000</td>\n",
              "      <td>0.000000</td>\n",
              "      <td>1020.800000</td>\n",
              "      <td>280.000000</td>\n",
              "      <td>5.000000</td>\n",
              "    </tr>\n",
              "    <tr>\n",
              "      <th>max</th>\n",
              "      <td>15.000000</td>\n",
              "      <td>47.200000</td>\n",
              "      <td>9.000000</td>\n",
              "      <td>26.100000</td>\n",
              "      <td>343.000000</td>\n",
              "      <td>1045.500000</td>\n",
              "      <td>360.000000</td>\n",
              "      <td>19.000000</td>\n",
              "    </tr>\n",
              "  </tbody>\n",
              "</table>\n",
              "</div>"
            ],
            "text/plain": [
              "             site_id  air_temperature  cloud_coverage  dew_temperature  \\\n",
              "count  139773.000000    139718.000000    70600.000000    139660.000000   \n",
              "mean        7.478977        14.418106        2.149306         7.350158   \n",
              "std         4.604744        10.626595        2.599150         9.790235   \n",
              "min         0.000000       -28.900000        0.000000       -35.000000   \n",
              "25%         3.000000         7.200000        0.000000         0.600000   \n",
              "50%         7.000000        15.000000        2.000000         8.300000   \n",
              "75%        11.000000        22.200000        4.000000        14.400000   \n",
              "max        15.000000        47.200000        9.000000        26.100000   \n",
              "\n",
              "       precip_depth_1_hr  sea_level_pressure  wind_direction     wind_speed  \n",
              "count       89484.000000       129155.000000   133505.000000  139469.000000  \n",
              "mean            0.983047         1016.158038      180.526632       3.560527  \n",
              "std             8.463678            7.629684      111.523629       2.335874  \n",
              "min            -1.000000          968.200000        0.000000       0.000000  \n",
              "25%             0.000000         1011.800000       80.000000       2.100000  \n",
              "50%             0.000000         1016.400000      190.000000       3.100000  \n",
              "75%             0.000000         1020.800000      280.000000       5.000000  \n",
              "max           343.000000         1045.500000      360.000000      19.000000  "
            ]
          },
          "metadata": {
            "tags": []
          },
          "execution_count": 44
        }
      ]
    },
    {
      "cell_type": "markdown",
      "metadata": {
        "id": "uxmUyJUjSdBR"
      },
      "source": [
        "En analysant les statistiques descriptives des variables de la table weather on peut soupçonner la présence de variables abérrantes. En effet, lorsque nous prenons les valeurs de températures, nous avons des valeurs extrêmes (min et max) très éloignées avec de fortes dispersions (std=10,62 et 9,79).\n",
        "La variable precip_depth_1_hr contient à priori des variables abbérantes car la valeur minimum est de -1 alors que la valeur maximale est de 343 avec une valeur moyenne de 0.98 et des quartiles nulles.\n",
        "De même, les variables de mesure du vent (wind_direction et wind_speed) présentent des caractéristiques similaires aux précédentes.\n",
        "Nous pouvons vérifier la présence de valeurs abbérantes grâce au box-plot ci-dessous."
      ]
    },
    {
      "cell_type": "code",
      "metadata": {
        "id": "N74NYTHkSPIA",
        "outputId": "331b4ef2-a5e0-424f-b770-885230b29da7"
      },
      "source": [
        "fig, axes = plt.subplots(7,1,figsize=(10,30)) \n",
        "columns = weather_train.drop([\"site_id\",\"timestamp\"],axis=1).columns\n",
        "for i,col in enumerate(list(columns)):\n",
        "\n",
        "    plot = weather_train.boxplot(col, by=\"site_id\", ax=axes.flatten()[i])\n",
        "\n",
        "plt.tight_layout() \n",
        "\n",
        "plt.show()"
      ],
      "execution_count": null,
      "outputs": [
        {
          "output_type": "display_data",
          "data": {
            "image/png": "[encoded data removed]",
            "text/plain": [
              "<Figure size 720x2160 with 7 Axes>"
            ]
          },
          "metadata": {
            "tags": [],
            "needs_background": "light"
          }
        }
      ]
    },
    {
      "cell_type": "markdown",
      "metadata": {
        "id": "xyrC22aVSion"
      },
      "source": [
        "La représentation des box-plot confirme bien la présence de valeurs abbérantes pour toutes les variables d'étude de la table sauf la variable wind_direction.\n",
        "Aussi, en général les données météorologiques varient en fonction des sites étudiés.\n",
        "Par exemple, les sites 0, 8 et 9 ont en moyenne des températures (ambiante et de la rosée) élevées contrairement aux sites 7 et 11 avec des températures (ambiante et de la rosée) basses.\n",
        "Par ailleurs, on peut également noter que nous avons très peu de données pour les variables precip_depth_1_hr et cloud_coverage. Sur le site 11, nous n'avons pas de données pour la variable cloud_coverage et sur les sites 1, 5 et 12 nous n'avons pas de données pour la variable precip_depth_1_hr."
      ]
    },
    {
      "cell_type": "markdown",
      "metadata": {
        "id": "wqiVmQFwTeKS"
      },
      "source": [
        "Etudions la corrélation entre les différentes variables de la base weather_train"
      ]
    },
    {
      "cell_type": "code",
      "metadata": {
        "id": "i2RgxOW_SM_9",
        "outputId": "1006d403-d9b7-4ff3-9d2e-81a6e5442126"
      },
      "source": [
        "sns.heatmap(weather_train.corr(),linewidths=.5,annot=True)"
      ],
      "execution_count": null,
      "outputs": [
        {
          "output_type": "execute_result",
          "data": {
            "text/plain": [
              "<matplotlib.axes._subplots.AxesSubplot at 0x7fa95b27d250>"
            ]
          },
          "metadata": {
            "tags": []
          },
          "execution_count": 52
        },
        {
          "output_type": "display_data",
          "data": {
            "image/png": "[encoded data removed]",
            "text/plain": [
              "<Figure size 432x288 with 2 Axes>"
            ]
          },
          "metadata": {
            "tags": [],
            "needs_background": "light"
          }
        }
      ]
    },
    {
      "cell_type": "markdown",
      "metadata": {
        "id": "qL5WA2fVS_oI"
      },
      "source": [
        "On obtient ci-dessus une matrice des valeurs de corrélation représentée par des couleurs. On remarque essentiellement qu'il y a une forte corrélation entre les variables **dew_temperature** et **air_température**"
      ]
    },
    {
      "cell_type": "markdown",
      "metadata": {
        "id": "eCVuxLMgVrKu"
      },
      "source": [
        "# Fusion des différentes tables de données"
      ]
    },
    {
      "cell_type": "markdown",
      "metadata": {
        "id": "s4j4tWG-Wap5"
      },
      "source": [
        "Nous avons à cette étape fusinner toutes les tables afin d'avoir une grande base de données contenant toutes les informations. Chaque table contient une clé qui permets de les référencer et donc de les fusionner entre elles."
      ]
    },
    {
      "cell_type": "code",
      "metadata": {
        "id": "XKiNrDaCV4ZS",
        "colab": {
          "base_uri": "https://localhost:8080/"
        },
        "outputId": "2a479e31-8b08-4eec-8412-0062e397eba8"
      },
      "source": [
        "train = train.merge(building_metadata, on='building_id', how='left')\n",
        "alltrain = train.merge(weather_train, on=['site_id','timestamp'], how='left')\n",
        "del building_metadata,weather_train,train\n",
        "gc.collect()"
      ],
      "execution_count": 6,
      "outputs": [
        {
          "output_type": "execute_result",
          "data": {
            "text/plain": [
              "0"
            ]
          },
          "metadata": {
            "tags": []
          },
          "execution_count": 6
        }
      ]
    },
    {
      "cell_type": "code",
      "metadata": {
        "id": "dQwFEwUC_dn4"
      },
      "source": [
        "compression_opts=dict(method='zip',archive_name='out.csv')\r\n",
        "alltrain.to_csv('out.zip', index=False, compression=compression_opts)\r\n"
      ],
      "execution_count": 7,
      "outputs": []
    },
    {
      "cell_type": "code",
      "metadata": {
        "colab": {
          "base_uri": "https://localhost:8080/"
        },
        "id": "Pl6PQFRqDFd1",
        "outputId": "444b2afb-4457-4753-ab06-dc4871333081"
      },
      "source": [
        "! unzip '/content/out.zip' -d alltrain"
      ],
      "execution_count": 9,
      "outputs": [
        {
          "output_type": "stream",
          "text": [
            "Archive:  /content/out.zip\n",
            "  inflating: alltrain/out.csv        \n"
          ],
          "name": "stdout"
        }
      ]
    },
    {
      "cell_type": "code",
      "metadata": {
        "colab": {
          "base_uri": "https://localhost:8080/"
        },
        "id": "HVZBM7pX6lYH",
        "outputId": "ff886a65-35aa-4bfc-fa3e-3dbe58a516f7"
      },
      "source": [
        "alltrain.shape"
      ],
      "execution_count": 8,
      "outputs": [
        {
          "output_type": "execute_result",
          "data": {
            "text/plain": [
              "(20216100, 16)"
            ]
          },
          "metadata": {
            "tags": []
          },
          "execution_count": 8
        }
      ]
    },
    {
      "cell_type": "markdown",
      "metadata": {
        "id": "4eEUtRO5WBBr"
      },
      "source": [
        "La base de données complète contient au total 20216100 individus et 16 variables."
      ]
    },
    {
      "cell_type": "code",
      "metadata": {
        "id": "TU_Cz6x6RZq-"
      },
      "source": [
        "alltrain[\"timestamp\"] = pd.to_datetime(alltrain[\"timestamp\"])"
      ],
      "execution_count": 10,
      "outputs": []
    },
    {
      "cell_type": "code",
      "metadata": {
        "id": "31EcmCYmRZq-",
        "colab": {
          "base_uri": "https://localhost:8080/"
        },
        "outputId": "d2d8680d-53c1-4430-ed59-f4840e7a42d6"
      },
      "source": [
        "numeric_col = alltrain.select_dtypes(np.number).columns.tolist()\n",
        "categoric_col =alltrain.select_dtypes(\"object\").columns.tolist()\n",
        "date =alltrain.select_dtypes(\"datetime\").columns.tolist()\n",
        "print(\"numeric columns : {} \".format(numeric_col))\n",
        "print(\"categorical columns : {} \".format(categoric_col))\n",
        "print(\"datetime columns : {} \".format(date))"
      ],
      "execution_count": 11,
      "outputs": [
        {
          "output_type": "stream",
          "text": [
            "numeric columns : ['building_id', 'meter', 'meter_reading', 'site_id', 'square_feet', 'year_built', 'floor_count', 'air_temperature', 'cloud_coverage', 'dew_temperature', 'precip_depth_1_hr', 'sea_level_pressure', 'wind_direction', 'wind_speed'] \n",
            "categorical columns : ['primary_use'] \n",
            "datetime columns : ['timestamp'] \n"
          ],
          "name": "stdout"
        }
      ]
    },
    {
      "cell_type": "code",
      "metadata": {
        "id": "rHIJdV_6RZq_",
        "colab": {
          "base_uri": "https://localhost:8080/",
          "height": 314
        },
        "outputId": "66e9e565-b16e-4cea-e739-84c0909502df"
      },
      "source": [
        "alltrain.drop(['building_id','site_id'],axis =1).describe() "
      ],
      "execution_count": 12,
      "outputs": [
        {
          "output_type": "execute_result",
          "data": {
            "text/html": [
              "<div>\n",
              "<style scoped>\n",
              "    .dataframe tbody tr th:only-of-type {\n",
              "        vertical-align: middle;\n",
              "    }\n",
              "\n",
              "    .dataframe tbody tr th {\n",
              "        vertical-align: top;\n",
              "    }\n",
              "\n",
              "    .dataframe thead th {\n",
              "        text-align: right;\n",
              "    }\n",
              "</style>\n",
              "<table border=\"1\" class=\"dataframe\">\n",
              "  <thead>\n",
              "    <tr style=\"text-align: right;\">\n",
              "      <th></th>\n",
              "      <th>meter</th>\n",
              "      <th>meter_reading</th>\n",
              "      <th>square_feet</th>\n",
              "      <th>year_built</th>\n",
              "      <th>floor_count</th>\n",
              "      <th>air_temperature</th>\n",
              "      <th>cloud_coverage</th>\n",
              "      <th>dew_temperature</th>\n",
              "      <th>precip_depth_1_hr</th>\n",
              "      <th>sea_level_pressure</th>\n",
              "      <th>wind_direction</th>\n",
              "      <th>wind_speed</th>\n",
              "    </tr>\n",
              "  </thead>\n",
              "  <tbody>\n",
              "    <tr>\n",
              "      <th>count</th>\n",
              "      <td>2.021610e+07</td>\n",
              "      <td>2.021610e+07</td>\n",
              "      <td>2.021610e+07</td>\n",
              "      <td>8.088455e+06</td>\n",
              "      <td>3.506933e+06</td>\n",
              "      <td>2.011944e+07</td>\n",
              "      <td>1.139074e+07</td>\n",
              "      <td>2.011596e+07</td>\n",
              "      <td>1.646708e+07</td>\n",
              "      <td>1.898443e+07</td>\n",
              "      <td>1.876705e+07</td>\n",
              "      <td>2.007242e+07</td>\n",
              "    </tr>\n",
              "    <tr>\n",
              "      <th>mean</th>\n",
              "      <td>6.624412e-01</td>\n",
              "      <td>2.117121e+03</td>\n",
              "      <td>1.077830e+05</td>\n",
              "      <td>1.968277e+03</td>\n",
              "      <td>4.184848e+00</td>\n",
              "      <td>1.598795e+01</td>\n",
              "      <td>1.900423e+00</td>\n",
              "      <td>7.747429e+00</td>\n",
              "      <td>7.964155e-01</td>\n",
              "      <td>1.016085e+03</td>\n",
              "      <td>1.730151e+02</td>\n",
              "      <td>3.377525e+00</td>\n",
              "    </tr>\n",
              "    <tr>\n",
              "      <th>std</th>\n",
              "      <td>9.309921e-01</td>\n",
              "      <td>1.532356e+05</td>\n",
              "      <td>1.171424e+05</td>\n",
              "      <td>3.020815e+01</td>\n",
              "      <td>4.008277e+00</td>\n",
              "      <td>1.094729e+01</td>\n",
              "      <td>2.402909e+00</td>\n",
              "      <td>1.017867e+01</td>\n",
              "      <td>7.468997e+00</td>\n",
              "      <td>7.060539e+00</td>\n",
              "      <td>1.140574e+02</td>\n",
              "      <td>2.265694e+00</td>\n",
              "    </tr>\n",
              "    <tr>\n",
              "      <th>min</th>\n",
              "      <td>0.000000e+00</td>\n",
              "      <td>0.000000e+00</td>\n",
              "      <td>2.830000e+02</td>\n",
              "      <td>1.900000e+03</td>\n",
              "      <td>1.000000e+00</td>\n",
              "      <td>-2.890000e+01</td>\n",
              "      <td>0.000000e+00</td>\n",
              "      <td>-3.500000e+01</td>\n",
              "      <td>-1.000000e+00</td>\n",
              "      <td>9.682000e+02</td>\n",
              "      <td>0.000000e+00</td>\n",
              "      <td>0.000000e+00</td>\n",
              "    </tr>\n",
              "    <tr>\n",
              "      <th>25%</th>\n",
              "      <td>0.000000e+00</td>\n",
              "      <td>1.830000e+01</td>\n",
              "      <td>3.252700e+04</td>\n",
              "      <td>1.951000e+03</td>\n",
              "      <td>1.000000e+00</td>\n",
              "      <td>8.600000e+00</td>\n",
              "      <td>0.000000e+00</td>\n",
              "      <td>0.000000e+00</td>\n",
              "      <td>0.000000e+00</td>\n",
              "      <td>1.011600e+03</td>\n",
              "      <td>7.000000e+01</td>\n",
              "      <td>2.100000e+00</td>\n",
              "    </tr>\n",
              "    <tr>\n",
              "      <th>50%</th>\n",
              "      <td>0.000000e+00</td>\n",
              "      <td>7.877500e+01</td>\n",
              "      <td>7.270900e+04</td>\n",
              "      <td>1.969000e+03</td>\n",
              "      <td>3.000000e+00</td>\n",
              "      <td>1.670000e+01</td>\n",
              "      <td>0.000000e+00</td>\n",
              "      <td>8.900000e+00</td>\n",
              "      <td>0.000000e+00</td>\n",
              "      <td>1.016000e+03</td>\n",
              "      <td>1.800000e+02</td>\n",
              "      <td>3.100000e+00</td>\n",
              "    </tr>\n",
              "    <tr>\n",
              "      <th>75%</th>\n",
              "      <td>1.000000e+00</td>\n",
              "      <td>2.679840e+02</td>\n",
              "      <td>1.391130e+05</td>\n",
              "      <td>1.993000e+03</td>\n",
              "      <td>6.000000e+00</td>\n",
              "      <td>2.410000e+01</td>\n",
              "      <td>4.000000e+00</td>\n",
              "      <td>1.610000e+01</td>\n",
              "      <td>0.000000e+00</td>\n",
              "      <td>1.020500e+03</td>\n",
              "      <td>2.800000e+02</td>\n",
              "      <td>4.600000e+00</td>\n",
              "    </tr>\n",
              "    <tr>\n",
              "      <th>max</th>\n",
              "      <td>3.000000e+00</td>\n",
              "      <td>2.190470e+07</td>\n",
              "      <td>8.750000e+05</td>\n",
              "      <td>2.017000e+03</td>\n",
              "      <td>2.600000e+01</td>\n",
              "      <td>4.720000e+01</td>\n",
              "      <td>9.000000e+00</td>\n",
              "      <td>2.610000e+01</td>\n",
              "      <td>3.430000e+02</td>\n",
              "      <td>1.045500e+03</td>\n",
              "      <td>3.600000e+02</td>\n",
              "      <td>1.900000e+01</td>\n",
              "    </tr>\n",
              "  </tbody>\n",
              "</table>\n",
              "</div>"
            ],
            "text/plain": [
              "              meter  meter_reading  ...  wind_direction    wind_speed\n",
              "count  2.021610e+07   2.021610e+07  ...    1.876705e+07  2.007242e+07\n",
              "mean   6.624412e-01   2.117121e+03  ...    1.730151e+02  3.377525e+00\n",
              "std    9.309921e-01   1.532356e+05  ...    1.140574e+02  2.265694e+00\n",
              "min    0.000000e+00   0.000000e+00  ...    0.000000e+00  0.000000e+00\n",
              "25%    0.000000e+00   1.830000e+01  ...    7.000000e+01  2.100000e+00\n",
              "50%    0.000000e+00   7.877500e+01  ...    1.800000e+02  3.100000e+00\n",
              "75%    1.000000e+00   2.679840e+02  ...    2.800000e+02  4.600000e+00\n",
              "max    3.000000e+00   2.190470e+07  ...    3.600000e+02  1.900000e+01\n",
              "\n",
              "[8 rows x 12 columns]"
            ]
          },
          "metadata": {
            "tags": []
          },
          "execution_count": 12
        }
      ]
    },
    {
      "cell_type": "markdown",
      "metadata": {
        "id": "Wjtz8GlBHFqz"
      },
      "source": [
        "## Analyse de la table alltrain"
      ]
    },
    {
      "cell_type": "code",
      "metadata": {
        "id": "J9qnpxT-HFqz",
        "colab": {
          "base_uri": "https://localhost:8080/",
          "height": 395
        },
        "outputId": "d8b310a4-f504-4738-c9c9-2f7a1ccaffde"
      },
      "source": [
        "alltrain.head()"
      ],
      "execution_count": null,
      "outputs": [
        {
          "output_type": "execute_result",
          "data": {
            "text/html": [
              "<div>\n",
              "<style scoped>\n",
              "    .dataframe tbody tr th:only-of-type {\n",
              "        vertical-align: middle;\n",
              "    }\n",
              "\n",
              "    .dataframe tbody tr th {\n",
              "        vertical-align: top;\n",
              "    }\n",
              "\n",
              "    .dataframe thead th {\n",
              "        text-align: right;\n",
              "    }\n",
              "</style>\n",
              "<table border=\"1\" class=\"dataframe\">\n",
              "  <thead>\n",
              "    <tr style=\"text-align: right;\">\n",
              "      <th></th>\n",
              "      <th>building_id</th>\n",
              "      <th>meter</th>\n",
              "      <th>timestamp</th>\n",
              "      <th>meter_reading</th>\n",
              "      <th>site_id</th>\n",
              "      <th>primary_use</th>\n",
              "      <th>square_feet</th>\n",
              "      <th>year_built</th>\n",
              "      <th>floor_count</th>\n",
              "      <th>air_temperature</th>\n",
              "      <th>cloud_coverage</th>\n",
              "      <th>dew_temperature</th>\n",
              "      <th>precip_depth_1_hr</th>\n",
              "      <th>sea_level_pressure</th>\n",
              "      <th>wind_direction</th>\n",
              "      <th>wind_speed</th>\n",
              "    </tr>\n",
              "  </thead>\n",
              "  <tbody>\n",
              "    <tr>\n",
              "      <th>0</th>\n",
              "      <td>0</td>\n",
              "      <td>0</td>\n",
              "      <td>2016-01-01 00:00:00</td>\n",
              "      <td>0.0</td>\n",
              "      <td>0</td>\n",
              "      <td>Education</td>\n",
              "      <td>7432</td>\n",
              "      <td>2008.0</td>\n",
              "      <td>NaN</td>\n",
              "      <td>25.0</td>\n",
              "      <td>6.0</td>\n",
              "      <td>20.0</td>\n",
              "      <td>NaN</td>\n",
              "      <td>1019.7</td>\n",
              "      <td>0.0</td>\n",
              "      <td>0.0</td>\n",
              "    </tr>\n",
              "    <tr>\n",
              "      <th>1</th>\n",
              "      <td>1</td>\n",
              "      <td>0</td>\n",
              "      <td>2016-01-01 00:00:00</td>\n",
              "      <td>0.0</td>\n",
              "      <td>0</td>\n",
              "      <td>Education</td>\n",
              "      <td>2720</td>\n",
              "      <td>2004.0</td>\n",
              "      <td>NaN</td>\n",
              "      <td>25.0</td>\n",
              "      <td>6.0</td>\n",
              "      <td>20.0</td>\n",
              "      <td>NaN</td>\n",
              "      <td>1019.7</td>\n",
              "      <td>0.0</td>\n",
              "      <td>0.0</td>\n",
              "    </tr>\n",
              "    <tr>\n",
              "      <th>2</th>\n",
              "      <td>2</td>\n",
              "      <td>0</td>\n",
              "      <td>2016-01-01 00:00:00</td>\n",
              "      <td>0.0</td>\n",
              "      <td>0</td>\n",
              "      <td>Education</td>\n",
              "      <td>5376</td>\n",
              "      <td>1991.0</td>\n",
              "      <td>NaN</td>\n",
              "      <td>25.0</td>\n",
              "      <td>6.0</td>\n",
              "      <td>20.0</td>\n",
              "      <td>NaN</td>\n",
              "      <td>1019.7</td>\n",
              "      <td>0.0</td>\n",
              "      <td>0.0</td>\n",
              "    </tr>\n",
              "    <tr>\n",
              "      <th>3</th>\n",
              "      <td>3</td>\n",
              "      <td>0</td>\n",
              "      <td>2016-01-01 00:00:00</td>\n",
              "      <td>0.0</td>\n",
              "      <td>0</td>\n",
              "      <td>Education</td>\n",
              "      <td>23685</td>\n",
              "      <td>2002.0</td>\n",
              "      <td>NaN</td>\n",
              "      <td>25.0</td>\n",
              "      <td>6.0</td>\n",
              "      <td>20.0</td>\n",
              "      <td>NaN</td>\n",
              "      <td>1019.7</td>\n",
              "      <td>0.0</td>\n",
              "      <td>0.0</td>\n",
              "    </tr>\n",
              "    <tr>\n",
              "      <th>4</th>\n",
              "      <td>4</td>\n",
              "      <td>0</td>\n",
              "      <td>2016-01-01 00:00:00</td>\n",
              "      <td>0.0</td>\n",
              "      <td>0</td>\n",
              "      <td>Education</td>\n",
              "      <td>116607</td>\n",
              "      <td>1975.0</td>\n",
              "      <td>NaN</td>\n",
              "      <td>25.0</td>\n",
              "      <td>6.0</td>\n",
              "      <td>20.0</td>\n",
              "      <td>NaN</td>\n",
              "      <td>1019.7</td>\n",
              "      <td>0.0</td>\n",
              "      <td>0.0</td>\n",
              "    </tr>\n",
              "  </tbody>\n",
              "</table>\n",
              "</div>"
            ],
            "text/plain": [
              "   building_id  meter  ... wind_direction  wind_speed\n",
              "0            0      0  ...            0.0         0.0\n",
              "1            1      0  ...            0.0         0.0\n",
              "2            2      0  ...            0.0         0.0\n",
              "3            3      0  ...            0.0         0.0\n",
              "4            4      0  ...            0.0         0.0\n",
              "\n",
              "[5 rows x 16 columns]"
            ]
          },
          "metadata": {
            "tags": []
          },
          "execution_count": 6
        }
      ]
    },
    {
      "cell_type": "code",
      "metadata": {
        "id": "io0Gw_UtHFq1",
        "outputId": "07e7996d-6166-44ba-8c6e-7fd7fb386fa1"
      },
      "source": [
        "alltrain.info()"
      ],
      "execution_count": null,
      "outputs": [
        {
          "output_type": "stream",
          "text": [
            "<class 'pandas.core.frame.DataFrame'>\n",
            "Int64Index: 20216100 entries, 0 to 20216099\n",
            "Data columns (total 16 columns):\n",
            " #   Column              Dtype  \n",
            "---  ------              -----  \n",
            " 0   building_id         int64  \n",
            " 1   meter               int64  \n",
            " 2   timestamp           object \n",
            " 3   meter_reading       float64\n",
            " 4   site_id             int64  \n",
            " 5   primary_use         object \n",
            " 6   square_feet         int64  \n",
            " 7   year_built          float64\n",
            " 8   floor_count         float64\n",
            " 9   air_temperature     float64\n",
            " 10  cloud_coverage      float64\n",
            " 11  dew_temperature     float64\n",
            " 12  precip_depth_1_hr   float64\n",
            " 13  sea_level_pressure  float64\n",
            " 14  wind_direction      float64\n",
            " 15  wind_speed          float64\n",
            "dtypes: float64(10), int64(4), object(2)\n",
            "memory usage: 2.6+ GB\n"
          ],
          "name": "stdout"
        }
      ]
    },
    {
      "cell_type": "markdown",
      "metadata": {
        "id": "myxrPYD8HFq2"
      },
      "source": [
        "**mauvaise compréhension des variables: building_id, timestamp, site_id et meter**  \n",
        "## Changement des types de variables"
      ]
    },
    {
      "cell_type": "code",
      "metadata": {
        "id": "jndSLEwgHFq2"
      },
      "source": [
        "alltrain.timestamp=pd.to_datetime(alltrain['timestamp'])"
      ],
      "execution_count": null,
      "outputs": []
    },
    {
      "cell_type": "code",
      "metadata": {
        "id": "kqB1chNyHFq3"
      },
      "source": [
        "varia=['building_id','site_id', 'meter']\n",
        "\n",
        "for col in varia:\n",
        "    \n",
        "    alltrain[col]=alltrain[col].astype('object')\n",
        "    "
      ],
      "execution_count": null,
      "outputs": []
    },
    {
      "cell_type": "code",
      "metadata": {
        "id": "E6Ia95saHFq3",
        "outputId": "c284b832-8db3-40f5-d1ae-5adaeec84570"
      },
      "source": [
        "alltrain.info()"
      ],
      "execution_count": null,
      "outputs": [
        {
          "output_type": "stream",
          "text": [
            "<class 'pandas.core.frame.DataFrame'>\n",
            "Int64Index: 20216100 entries, 0 to 20216099\n",
            "Data columns (total 16 columns):\n",
            " #   Column              Dtype         \n",
            "---  ------              -----         \n",
            " 0   building_id         object        \n",
            " 1   meter               object        \n",
            " 2   timestamp           datetime64[ns]\n",
            " 3   meter_reading       float64       \n",
            " 4   site_id             object        \n",
            " 5   primary_use         object        \n",
            " 6   square_feet         int64         \n",
            " 7   year_built          float64       \n",
            " 8   floor_count         float64       \n",
            " 9   air_temperature     float64       \n",
            " 10  cloud_coverage      float64       \n",
            " 11  dew_temperature     float64       \n",
            " 12  precip_depth_1_hr   float64       \n",
            " 13  sea_level_pressure  float64       \n",
            " 14  wind_direction      float64       \n",
            " 15  wind_speed          float64       \n",
            "dtypes: datetime64[ns](1), float64(10), int64(1), object(4)\n",
            "memory usage: 2.6+ GB\n"
          ],
          "name": "stdout"
        }
      ]
    },
    {
      "cell_type": "code",
      "metadata": {
        "id": "oQK0ZB8PHFq3"
      },
      "source": [
        "alltrain['meter'] = pd.Categorical(alltrain['meter']).rename_categories({0: 'electricity', \n",
        "                                                                   1: 'chilledwater',\n",
        "                                                                   2: 'steam', \n",
        "                                                                   3: 'hotwater'})"
      ],
      "execution_count": null,
      "outputs": []
    },
    {
      "cell_type": "markdown",
      "metadata": {
        "id": "IxeAhWZOHFq3"
      },
      "source": [
        "## Occurence des modalités de chaque variable quali"
      ]
    },
    {
      "cell_type": "code",
      "metadata": {
        "id": "P-j1m_jcHFq4",
        "outputId": "d5309175-d716-456e-e88b-857a3b40b496"
      },
      "source": [
        " for col in alltrain.select_dtypes(object).columns:\n",
        "    print (f'{col :-<30} {len(alltrain[col].value_counts())}')"
      ],
      "execution_count": null,
      "outputs": [
        {
          "output_type": "stream",
          "text": [
            "building_id------------------- 1449\n",
            "site_id----------------------- 16\n",
            "primary_use------------------- 16\n"
          ],
          "name": "stdout"
        }
      ]
    },
    {
      "cell_type": "markdown",
      "metadata": {
        "id": "1xZGVNHzHFq4"
      },
      "source": [
        "## Analyse des valeurs manquantes"
      ]
    },
    {
      "cell_type": "code",
      "metadata": {
        "id": "mVzJUTOGHFq4",
        "outputId": "ea67155a-677e-4118-ea7a-bbee2dbd025a"
      },
      "source": [
        "(alltrain.isna().sum()/alltrain.shape[0]).sort_values(ascending=False)"
      ],
      "execution_count": null,
      "outputs": [
        {
          "output_type": "execute_result",
          "data": {
            "text/plain": [
              "floor_count           0.826528\n",
              "year_built            0.599900\n",
              "cloud_coverage        0.436551\n",
              "precip_depth_1_hr     0.185447\n",
              "wind_direction        0.071678\n",
              "sea_level_pressure    0.060925\n",
              "wind_speed            0.007107\n",
              "dew_temperature       0.004953\n",
              "air_temperature       0.004781\n",
              "square_feet           0.000000\n",
              "primary_use           0.000000\n",
              "site_id               0.000000\n",
              "meter_reading         0.000000\n",
              "timestamp             0.000000\n",
              "meter                 0.000000\n",
              "building_id           0.000000\n",
              "dtype: float64"
            ]
          },
          "metadata": {
            "tags": []
          },
          "execution_count": 8
        }
      ]
    },
    {
      "cell_type": "markdown",
      "metadata": {
        "id": "03BuFfkYWYr4"
      },
      "source": [
        "## Encodage de la variable primary_use"
      ]
    },
    {
      "cell_type": "code",
      "metadata": {
        "id": "qGUlrwYwHFq5",
        "outputId": "18b55dee-ca33-49bf-c2e5-49f57bafb3fc"
      },
      "source": [
        "alltrain.primary_use.unique()"
      ],
      "execution_count": null,
      "outputs": [
        {
          "output_type": "execute_result",
          "data": {
            "text/plain": [
              "array(['Education', 'Lodging/residential', 'Office',\n",
              "       'Entertainment/public assembly', 'Other', 'Retail', 'Parking',\n",
              "       'Public services', 'Warehouse/storage', 'Food sales and service',\n",
              "       'Religious worship', 'Healthcare', 'Utility', 'Technology/science',\n",
              "       'Manufacturing/industrial', 'Services'], dtype=object)"
            ]
          },
          "metadata": {
            "tags": []
          },
          "execution_count": 35
        }
      ]
    },
    {
      "cell_type": "code",
      "metadata": {
        "id": "LbPUPvySHFq5"
      },
      "source": [
        "alltrainEncod=pd.concat([alltrain, pd.get_dummies(alltrain[\"primary_use\"], \n",
        "                                            dtype=int) ], axis=1)"
      ],
      "execution_count": null,
      "outputs": []
    },
    {
      "cell_type": "code",
      "metadata": {
        "id": "GoLzzuyxHFq5",
        "outputId": "d404853e-fada-4674-92e4-33c1a55ef787"
      },
      "source": [
        "alltrainEncod"
      ],
      "execution_count": null,
      "outputs": [
        {
          "output_type": "execute_result",
          "data": {
            "text/html": [
              "<div>\n",
              "<style scoped>\n",
              "    .dataframe tbody tr th:only-of-type {\n",
              "        vertical-align: middle;\n",
              "    }\n",
              "\n",
              "    .dataframe tbody tr th {\n",
              "        vertical-align: top;\n",
              "    }\n",
              "\n",
              "    .dataframe thead th {\n",
              "        text-align: right;\n",
              "    }\n",
              "</style>\n",
              "<table border=\"1\" class=\"dataframe\">\n",
              "  <thead>\n",
              "    <tr style=\"text-align: right;\">\n",
              "      <th></th>\n",
              "      <th>building_id</th>\n",
              "      <th>meter</th>\n",
              "      <th>timestamp</th>\n",
              "      <th>meter_reading</th>\n",
              "      <th>site_id</th>\n",
              "      <th>primary_use</th>\n",
              "      <th>square_feet</th>\n",
              "      <th>year_built</th>\n",
              "      <th>floor_count</th>\n",
              "      <th>air_temperature</th>\n",
              "      <th>...</th>\n",
              "      <th>Office</th>\n",
              "      <th>Other</th>\n",
              "      <th>Parking</th>\n",
              "      <th>Public services</th>\n",
              "      <th>Religious worship</th>\n",
              "      <th>Retail</th>\n",
              "      <th>Services</th>\n",
              "      <th>Technology/science</th>\n",
              "      <th>Utility</th>\n",
              "      <th>Warehouse/storage</th>\n",
              "    </tr>\n",
              "  </thead>\n",
              "  <tbody>\n",
              "    <tr>\n",
              "      <th>0</th>\n",
              "      <td>0</td>\n",
              "      <td>electricity</td>\n",
              "      <td>2016-01-01 00:00:00</td>\n",
              "      <td>0.000</td>\n",
              "      <td>0</td>\n",
              "      <td>Education</td>\n",
              "      <td>7432</td>\n",
              "      <td>2008.0</td>\n",
              "      <td>NaN</td>\n",
              "      <td>25.0</td>\n",
              "      <td>...</td>\n",
              "      <td>0</td>\n",
              "      <td>0</td>\n",
              "      <td>0</td>\n",
              "      <td>0</td>\n",
              "      <td>0</td>\n",
              "      <td>0</td>\n",
              "      <td>0</td>\n",
              "      <td>0</td>\n",
              "      <td>0</td>\n",
              "      <td>0</td>\n",
              "    </tr>\n",
              "    <tr>\n",
              "      <th>1</th>\n",
              "      <td>1</td>\n",
              "      <td>electricity</td>\n",
              "      <td>2016-01-01 00:00:00</td>\n",
              "      <td>0.000</td>\n",
              "      <td>0</td>\n",
              "      <td>Education</td>\n",
              "      <td>2720</td>\n",
              "      <td>2004.0</td>\n",
              "      <td>NaN</td>\n",
              "      <td>25.0</td>\n",
              "      <td>...</td>\n",
              "      <td>0</td>\n",
              "      <td>0</td>\n",
              "      <td>0</td>\n",
              "      <td>0</td>\n",
              "      <td>0</td>\n",
              "      <td>0</td>\n",
              "      <td>0</td>\n",
              "      <td>0</td>\n",
              "      <td>0</td>\n",
              "      <td>0</td>\n",
              "    </tr>\n",
              "    <tr>\n",
              "      <th>2</th>\n",
              "      <td>2</td>\n",
              "      <td>electricity</td>\n",
              "      <td>2016-01-01 00:00:00</td>\n",
              "      <td>0.000</td>\n",
              "      <td>0</td>\n",
              "      <td>Education</td>\n",
              "      <td>5376</td>\n",
              "      <td>1991.0</td>\n",
              "      <td>NaN</td>\n",
              "      <td>25.0</td>\n",
              "      <td>...</td>\n",
              "      <td>0</td>\n",
              "      <td>0</td>\n",
              "      <td>0</td>\n",
              "      <td>0</td>\n",
              "      <td>0</td>\n",
              "      <td>0</td>\n",
              "      <td>0</td>\n",
              "      <td>0</td>\n",
              "      <td>0</td>\n",
              "      <td>0</td>\n",
              "    </tr>\n",
              "    <tr>\n",
              "      <th>3</th>\n",
              "      <td>3</td>\n",
              "      <td>electricity</td>\n",
              "      <td>2016-01-01 00:00:00</td>\n",
              "      <td>0.000</td>\n",
              "      <td>0</td>\n",
              "      <td>Education</td>\n",
              "      <td>23685</td>\n",
              "      <td>2002.0</td>\n",
              "      <td>NaN</td>\n",
              "      <td>25.0</td>\n",
              "      <td>...</td>\n",
              "      <td>0</td>\n",
              "      <td>0</td>\n",
              "      <td>0</td>\n",
              "      <td>0</td>\n",
              "      <td>0</td>\n",
              "      <td>0</td>\n",
              "      <td>0</td>\n",
              "      <td>0</td>\n",
              "      <td>0</td>\n",
              "      <td>0</td>\n",
              "    </tr>\n",
              "    <tr>\n",
              "      <th>4</th>\n",
              "      <td>4</td>\n",
              "      <td>electricity</td>\n",
              "      <td>2016-01-01 00:00:00</td>\n",
              "      <td>0.000</td>\n",
              "      <td>0</td>\n",
              "      <td>Education</td>\n",
              "      <td>116607</td>\n",
              "      <td>1975.0</td>\n",
              "      <td>NaN</td>\n",
              "      <td>25.0</td>\n",
              "      <td>...</td>\n",
              "      <td>0</td>\n",
              "      <td>0</td>\n",
              "      <td>0</td>\n",
              "      <td>0</td>\n",
              "      <td>0</td>\n",
              "      <td>0</td>\n",
              "      <td>0</td>\n",
              "      <td>0</td>\n",
              "      <td>0</td>\n",
              "      <td>0</td>\n",
              "    </tr>\n",
              "    <tr>\n",
              "      <th>...</th>\n",
              "      <td>...</td>\n",
              "      <td>...</td>\n",
              "      <td>...</td>\n",
              "      <td>...</td>\n",
              "      <td>...</td>\n",
              "      <td>...</td>\n",
              "      <td>...</td>\n",
              "      <td>...</td>\n",
              "      <td>...</td>\n",
              "      <td>...</td>\n",
              "      <td>...</td>\n",
              "      <td>...</td>\n",
              "      <td>...</td>\n",
              "      <td>...</td>\n",
              "      <td>...</td>\n",
              "      <td>...</td>\n",
              "      <td>...</td>\n",
              "      <td>...</td>\n",
              "      <td>...</td>\n",
              "      <td>...</td>\n",
              "      <td>...</td>\n",
              "    </tr>\n",
              "    <tr>\n",
              "      <th>20216095</th>\n",
              "      <td>1444</td>\n",
              "      <td>electricity</td>\n",
              "      <td>2016-12-31 23:00:00</td>\n",
              "      <td>8.750</td>\n",
              "      <td>15</td>\n",
              "      <td>Entertainment/public assembly</td>\n",
              "      <td>19619</td>\n",
              "      <td>1914.0</td>\n",
              "      <td>NaN</td>\n",
              "      <td>1.7</td>\n",
              "      <td>...</td>\n",
              "      <td>0</td>\n",
              "      <td>0</td>\n",
              "      <td>0</td>\n",
              "      <td>0</td>\n",
              "      <td>0</td>\n",
              "      <td>0</td>\n",
              "      <td>0</td>\n",
              "      <td>0</td>\n",
              "      <td>0</td>\n",
              "      <td>0</td>\n",
              "    </tr>\n",
              "    <tr>\n",
              "      <th>20216096</th>\n",
              "      <td>1445</td>\n",
              "      <td>electricity</td>\n",
              "      <td>2016-12-31 23:00:00</td>\n",
              "      <td>4.825</td>\n",
              "      <td>15</td>\n",
              "      <td>Education</td>\n",
              "      <td>4298</td>\n",
              "      <td>NaN</td>\n",
              "      <td>NaN</td>\n",
              "      <td>1.7</td>\n",
              "      <td>...</td>\n",
              "      <td>0</td>\n",
              "      <td>0</td>\n",
              "      <td>0</td>\n",
              "      <td>0</td>\n",
              "      <td>0</td>\n",
              "      <td>0</td>\n",
              "      <td>0</td>\n",
              "      <td>0</td>\n",
              "      <td>0</td>\n",
              "      <td>0</td>\n",
              "    </tr>\n",
              "    <tr>\n",
              "      <th>20216097</th>\n",
              "      <td>1446</td>\n",
              "      <td>electricity</td>\n",
              "      <td>2016-12-31 23:00:00</td>\n",
              "      <td>0.000</td>\n",
              "      <td>15</td>\n",
              "      <td>Entertainment/public assembly</td>\n",
              "      <td>11265</td>\n",
              "      <td>1997.0</td>\n",
              "      <td>NaN</td>\n",
              "      <td>1.7</td>\n",
              "      <td>...</td>\n",
              "      <td>0</td>\n",
              "      <td>0</td>\n",
              "      <td>0</td>\n",
              "      <td>0</td>\n",
              "      <td>0</td>\n",
              "      <td>0</td>\n",
              "      <td>0</td>\n",
              "      <td>0</td>\n",
              "      <td>0</td>\n",
              "      <td>0</td>\n",
              "    </tr>\n",
              "    <tr>\n",
              "      <th>20216098</th>\n",
              "      <td>1447</td>\n",
              "      <td>electricity</td>\n",
              "      <td>2016-12-31 23:00:00</td>\n",
              "      <td>159.575</td>\n",
              "      <td>15</td>\n",
              "      <td>Lodging/residential</td>\n",
              "      <td>29775</td>\n",
              "      <td>2001.0</td>\n",
              "      <td>NaN</td>\n",
              "      <td>1.7</td>\n",
              "      <td>...</td>\n",
              "      <td>0</td>\n",
              "      <td>0</td>\n",
              "      <td>0</td>\n",
              "      <td>0</td>\n",
              "      <td>0</td>\n",
              "      <td>0</td>\n",
              "      <td>0</td>\n",
              "      <td>0</td>\n",
              "      <td>0</td>\n",
              "      <td>0</td>\n",
              "    </tr>\n",
              "    <tr>\n",
              "      <th>20216099</th>\n",
              "      <td>1448</td>\n",
              "      <td>electricity</td>\n",
              "      <td>2016-12-31 23:00:00</td>\n",
              "      <td>2.850</td>\n",
              "      <td>15</td>\n",
              "      <td>Office</td>\n",
              "      <td>92271</td>\n",
              "      <td>2001.0</td>\n",
              "      <td>NaN</td>\n",
              "      <td>1.7</td>\n",
              "      <td>...</td>\n",
              "      <td>1</td>\n",
              "      <td>0</td>\n",
              "      <td>0</td>\n",
              "      <td>0</td>\n",
              "      <td>0</td>\n",
              "      <td>0</td>\n",
              "      <td>0</td>\n",
              "      <td>0</td>\n",
              "      <td>0</td>\n",
              "      <td>0</td>\n",
              "    </tr>\n",
              "  </tbody>\n",
              "</table>\n",
              "<p>20216100 rows × 32 columns</p>\n",
              "</div>"
            ],
            "text/plain": [
              "         building_id        meter           timestamp  meter_reading site_id  \\\n",
              "0                  0  electricity 2016-01-01 00:00:00          0.000       0   \n",
              "1                  1  electricity 2016-01-01 00:00:00          0.000       0   \n",
              "2                  2  electricity 2016-01-01 00:00:00          0.000       0   \n",
              "3                  3  electricity 2016-01-01 00:00:00          0.000       0   \n",
              "4                  4  electricity 2016-01-01 00:00:00          0.000       0   \n",
              "...              ...          ...                 ...            ...     ...   \n",
              "20216095        1444  electricity 2016-12-31 23:00:00          8.750      15   \n",
              "20216096        1445  electricity 2016-12-31 23:00:00          4.825      15   \n",
              "20216097        1446  electricity 2016-12-31 23:00:00          0.000      15   \n",
              "20216098        1447  electricity 2016-12-31 23:00:00        159.575      15   \n",
              "20216099        1448  electricity 2016-12-31 23:00:00          2.850      15   \n",
              "\n",
              "                            primary_use  square_feet  year_built  floor_count  \\\n",
              "0                             Education         7432      2008.0          NaN   \n",
              "1                             Education         2720      2004.0          NaN   \n",
              "2                             Education         5376      1991.0          NaN   \n",
              "3                             Education        23685      2002.0          NaN   \n",
              "4                             Education       116607      1975.0          NaN   \n",
              "...                                 ...          ...         ...          ...   \n",
              "20216095  Entertainment/public assembly        19619      1914.0          NaN   \n",
              "20216096                      Education         4298         NaN          NaN   \n",
              "20216097  Entertainment/public assembly        11265      1997.0          NaN   \n",
              "20216098            Lodging/residential        29775      2001.0          NaN   \n",
              "20216099                         Office        92271      2001.0          NaN   \n",
              "\n",
              "          air_temperature  ...  Office  Other  Parking  Public services  \\\n",
              "0                    25.0  ...       0      0        0                0   \n",
              "1                    25.0  ...       0      0        0                0   \n",
              "2                    25.0  ...       0      0        0                0   \n",
              "3                    25.0  ...       0      0        0                0   \n",
              "4                    25.0  ...       0      0        0                0   \n",
              "...                   ...  ...     ...    ...      ...              ...   \n",
              "20216095              1.7  ...       0      0        0                0   \n",
              "20216096              1.7  ...       0      0        0                0   \n",
              "20216097              1.7  ...       0      0        0                0   \n",
              "20216098              1.7  ...       0      0        0                0   \n",
              "20216099              1.7  ...       1      0        0                0   \n",
              "\n",
              "          Religious worship  Retail  Services  Technology/science  Utility  \\\n",
              "0                         0       0         0                   0        0   \n",
              "1                         0       0         0                   0        0   \n",
              "2                         0       0         0                   0        0   \n",
              "3                         0       0         0                   0        0   \n",
              "4                         0       0         0                   0        0   \n",
              "...                     ...     ...       ...                 ...      ...   \n",
              "20216095                  0       0         0                   0        0   \n",
              "20216096                  0       0         0                   0        0   \n",
              "20216097                  0       0         0                   0        0   \n",
              "20216098                  0       0         0                   0        0   \n",
              "20216099                  0       0         0                   0        0   \n",
              "\n",
              "          Warehouse/storage  \n",
              "0                         0  \n",
              "1                         0  \n",
              "2                         0  \n",
              "3                         0  \n",
              "4                         0  \n",
              "...                     ...  \n",
              "20216095                  0  \n",
              "20216096                  0  \n",
              "20216097                  0  \n",
              "20216098                  0  \n",
              "20216099                  0  \n",
              "\n",
              "[20216100 rows x 32 columns]"
            ]
          },
          "metadata": {
            "tags": []
          },
          "execution_count": 37
        }
      ]
    },
    {
      "cell_type": "code",
      "metadata": {
        "id": "gmTRdBjOHFq6"
      },
      "source": [
        ""
      ],
      "execution_count": null,
      "outputs": []
    }
  ]
}