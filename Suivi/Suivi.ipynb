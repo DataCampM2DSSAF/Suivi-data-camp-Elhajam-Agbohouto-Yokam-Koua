{
 "cells": [
  {
   "cell_type": "markdown",
   "metadata": {},
   "source": [
    "## Suivi projet Data camp"
   ]
  },
  {
   "cell_type": "markdown",
   "metadata": {},
   "source": [
    "### Suivi 1 :\n",
    "- Choix de la team\n",
    "- Choix du sujet : compréhension et analyse des deux sujets.\n",
    "- Objectif de la semaine suivante : améliorer la compréhension du sujet choisi\n"
   ]
  },
  {
   "cell_type": "markdown",
   "metadata": {},
   "source": [
    "### Suivi 2 :\n",
    "- Discussion autour du sujet pour comparer nos compréhension \n",
    "- Repartition des données pour effectuer statistiques descriptives : données train et test pour Muriel, données Building_metadata pour Nawal et données weather pour Jean et Olivier\n",
    "- Objectif de la semaine suivante : effectuer statistique descriptique pour chaque base de données."
   ]
  },
  {
   "cell_type": "markdown",
   "metadata": {},
   "source": [
    "### Suivi 3 : 07/02\n",
    "- Présentation des travaux individuels effectués\n",
    "- Discussion autour des questions liés au  travail individuel \n",
    "- Problèmes rencontrés : interprétation pour meter_reading = 0 : le compteurs est absent ou que la consommation est nulle ?\n",
    "- Objectif de la semaine suivante : interpréter les boxplots, ajouter des commentaires à nos notebooks\n",
    "\n"
   ]
  },
  {
   "cell_type": "markdown",
   "metadata": {},
   "source": [
    "### Suivi 4 : 15/02\n",
    "- Discussion autour des valeurs aberrantes et manquantes : Comment les gérer ? Travailler avec ou sans ? \n",
    "- Discussion sur la variable perth_deth qui semblait étrange avec un min = -1 et max = 343\n",
    "- Debut de discussion autour du fusionnement des bases de données\n",
    "- Objectif de la semaine suivante : chercher comment merger nos bases de données\n"
   ]
  },
  {
   "cell_type": "markdown",
   "metadata": {},
   "source": [
    "### Suivi 5 :  18/02\n",
    "- Confirmation sur la manière de fusionner les bases de données \n",
    "- Discussion autour des varibales qualitatives sur la création d'une fonction pour créer de nouvelles variables pour chaque modalités des variables quantitatives\n",
    "- S'intéresser de plus près au liens entre les variables qualitatives et la target\n",
    "- Discussion autour de la division de la variable 'timestamp' en plusieurs nouvelles variables\n",
    "- Problèmes rencontrés : discussion pour savoir si la variable 'meter_reading' correspond à la consommation énergétique avant ou après avoir effectués les rénovations.\n",
    "- Objectif de la semaine suivante : recherche autour des discussions afin d'apporter des améliorations."
   ]
  },
  {
   "cell_type": "markdown",
   "metadata": {},
   "source": [
    "### Suivi 6 :  23/02\n",
    "- Présentation des recherches de chacun afin d'avancer sur notre code\n",
    "- Objectif de la semaine suivante : s'intéresser aux modèles possibles "
   ]
  },
  {
   "cell_type": "markdown",
   "metadata": {},
   "source": [
    "### Suivi 7 :  24/02\n",
    "- Discussion autour des modèles sélectionnés \n",
    "- Interêt pour l'extraction de features à partir de données longitudinales (cf librairie tsfresh)\n",
    "- Objectif de la semaine suivante : lancer au moins un modèle chacun, se renseigner sur l'extraction de features avec la librairie tsfresh."
   ]
  },
  {
   "cell_type": "markdown",
   "metadata": {},
   "source": [
    "### Suivi 8 :  28/02\n",
    "- Discussion autour de l'utilisation de la librairie tsfresh : comment réussir à prédire par heure si l’extraction avec tsfresh va réduire nos lignes à une ligne par bâtiments nos prédictions ne seront plus par heure et cela risque de poser problème.\n",
    "- Discussion autour des scores obtenues après soumissions de chacun des modèles avec les paramètres par défault."
   ]
  },
  {
   "cell_type": "markdown",
   "metadata": {},
   "source": [
    "### Travail effectuer pendant le mois de mars :\n",
    "- Amélioration  de nos modèles \n",
    "- Rédaction du rapport latex  \n"
   ]
  },
  {
   "cell_type": "code",
   "execution_count": null,
   "metadata": {
    "collapsed": true
   },
   "outputs": [],
   "source": []
  }
 ],
 "metadata": {
  "kernelspec": {
   "display_name": "Python 3",
   "language": "python",
   "name": "python3"
  },
  "language_info": {
   "codemirror_mode": {
    "name": "ipython",
    "version": 3
   },
   "file_extension": ".py",
   "mimetype": "text/x-python",
   "name": "python",
   "nbconvert_exporter": "python",
   "pygments_lexer": "ipython3",
   "version": "3.6.2"
  }
 },
 "nbformat": 4,
 "nbformat_minor": 2
}
