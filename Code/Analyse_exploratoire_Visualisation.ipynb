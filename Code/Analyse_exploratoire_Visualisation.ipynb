{
  "nbformat": 4,
  "nbformat_minor": 0,
  "metadata": {
    "colab": {
      "name": "Analyse_exploratoire_Visualisation.ipynb",
      "provenance": []
    },
    "kernelspec": {
      "name": "python3",
      "display_name": "Python 3"
    },
    "language_info": {
      "name": "python"
    }
  },
  "cells": [
    {
      "cell_type": "markdown",
      "metadata": {
        "id": "T-bYUWjORZqV"
      },
      "source": [
        "## ASHRAE Energy Predictions"
      ]
    },
    {
      "cell_type": "code",
      "metadata": {
        "id": "gsFUXY5I6gqp",
        "colab": {
          "base_uri": "https://localhost:8080/"
        },
        "outputId": "0ef7718d-bb78-4d32-a941-ee0b1c4f587f"
      },
      "source": [
        "from google.colab import drive\n",
        "drive.mount('/content/drive')"
      ],
      "execution_count": null,
      "outputs": [
        {
          "output_type": "stream",
          "text": [
            "Drive already mounted at /content/drive; to attempt to forcibly remount, call drive.mount(\"/content/drive\", force_remount=True).\n"
          ],
          "name": "stdout"
        }
      ]
    },
    {
      "cell_type": "markdown",
      "metadata": {
        "id": "Ab8_YYLhTkhI"
      },
      "source": [
        "# Problématique et but du projet\n",
        "De nos jours, de plus en plus d'investissements sont réalisés dans le domaine de l'immobilier dans le but de réduire les consommations d'énergie des bâtiments et d'améliorer l'impact environnemental.\n",
        "\n",
        "Ainsi, les propriétaires d'immeubles peuvent bénéficier de financements basés sur la différence entre la consommation d'énergie réelle du bâtiment et celle qu'il aurait utilisée sans aucuns travaux d'aménagement. Toutefois, les données sur la consommation d'énergie des bâtiments au cas où il n'aurait pas de rénovation ne sont pas disponibles.\n",
        "\n",
        "Pour résoudre ce problème, des modèles contrefactuels sont développés afin de modéliser la consommation d'énergie d'un bâtiment sans travaux de rénovation.\n",
        "\n",
        "Le but de ce TP est de construire ces modèles contrefactuels pour les quatre types d'énergie que sont la consommation d'eau froide, d'électricité, d'eau chaude et de vapeur en se basant sur les taux d'utilisation historiques et les conditions météorologiques observées. Il s'agira concrètement de prédire les valeurs de la variable meter_reading pour 1449 bâtiments."
      ]
    },
    {
      "cell_type": "markdown",
      "metadata": {
        "id": "XXZbPPknTtTi"
      },
      "source": [
        "# Chapitre 1: Analyse exploratoire des données"
      ]
    },
    {
      "cell_type": "markdown",
      "metadata": {
        "id": "pyVeGa-CT28d"
      },
      "source": [
        "## I- Importation des données"
      ]
    },
    {
      "cell_type": "code",
      "metadata": {
        "id": "ERqdtTv9RZqY"
      },
      "source": [
        "import pandas as pd\n",
        "import numpy as np\n",
        "import matplotlib.pyplot as plt\n",
        "import seaborn as sns\n",
        "import pickle\n",
        "import scipy.stats\n",
        "import gc\n",
        "from sklearn.preprocessing import LabelEncoder\n",
        "le = LabelEncoder()\n",
        "    "
      ],
      "execution_count": null,
      "outputs": []
    },
    {
      "cell_type": "code",
      "metadata": {
        "id": "0GMYzw1ERZqa"
      },
      "source": [
        "train = pd.read_csv('/content/drive/MyDrive/Kaggle/train.csv')\n",
        "weather_train = pd.read_csv('/content/drive/MyDrive/Kaggle/weather_train.csv')\n",
        "building_metadata = pd.read_csv('/content/drive/MyDrive/Kaggle/building_metadata.csv')"
      ],
      "execution_count": null,
      "outputs": []
    },
    {
      "cell_type": "markdown",
      "metadata": {
        "id": "Yc2ewG21UOF9"
      },
      "source": [
        "## II- Description des données\n",
        "L'ensemble de données comprend trois années de relevés de compteurs horaires de plus de mille bâtiments sur plusieurs sites différents à travers le monde. Les données sont regroupées en deux types: les données météorologiques et les données individuelles. Les données météorologiques sont communes à tous les bâtiments d'un même site et les données individuelles sont propres à chacun des bâtiments.\n",
        "\n",
        "Les données météorologiques sont contenues dans la base weather_train/test.csv et concernent les données de températures, de niveau de précipitation, de vitesse et de direction du vent.\n",
        "\n",
        "Les données individuelles sont contenues dans les bases building_meta.csv et concernent les données sur l'utilisation primaire du bâtiment, la surface brute du bâtiment, le nombre d'étages des immeubles ou encore l'année d'ouverture du bâtiment.\n",
        "\n",
        "Les données train.csv décrivent quant à elles contiennent les données sur les quatre différents types de compteur (eau chaude et froide, gaz et électricité) et les consommations de ces énergies de chaque bâtiment."
      ]
    },
    {
      "cell_type": "markdown",
      "metadata": {
        "id": "Hu8R3AOIVNRd"
      },
      "source": [
        "## III- Etude de chaque table de données"
      ]
    },
    {
      "cell_type": "markdown",
      "metadata": {
        "id": "bZAHRRzdRZqb"
      },
      "source": [
        "### A- Analyse de la base de données train"
      ]
    },
    {
      "cell_type": "markdown",
      "metadata": {
        "id": "ZnJQJK3cRZqc"
      },
      "source": [
        "Cette base de données contient les 4 variables sivantes:\n",
        "\n",
        "- building_id: identifie chaque batiment\n",
        "- meter: le type de compteur. Il y en a 4, electricity, chilled water, hot water et steam\n",
        "- timestamp: les dates et heures de lecture de compteur; toutes les heures du 01/01/2016 à 00:00:00 au 31/12/2016 à 23:00:00\n",
        "- meter_reading: les consommations d'énergie rélévées "
      ]
    },
    {
      "cell_type": "code",
      "metadata": {
        "id": "Zqh0sGw3RZqc"
      },
      "source": [
        "train.info()"
      ],
      "execution_count": null,
      "outputs": []
    },
    {
      "cell_type": "markdown",
      "metadata": {
        "id": "QJX-quQuRZqd"
      },
      "source": [
        "Pour avoir une idée de la distribution de la variable d'intérêt qui est la consommation d'énergie (meter_reading), nous faisons un histogramme"
      ]
    },
    {
      "cell_type": "code",
      "metadata": {
        "id": "QFJdj7CKRZqd"
      },
      "source": [
        "plt.hist(train['meter_reading'])"
      ],
      "execution_count": null,
      "outputs": []
    },
    {
      "cell_type": "markdown",
      "metadata": {
        "id": "PwJ4VKLCRZqf"
      },
      "source": [
        "Nous constatons qu'il y a plein de zéros pour cette variable. Toute fois, l'histogramme ne nous permet pas de bien voir la distribution de cette variable pour les valeurs différentes de zéro. Nous allons étudier les données pour des meter reading égale à zéro séparément des autres dans un premier temps."
      ]
    },
    {
      "cell_type": "code",
      "metadata": {
        "id": "ksNDfgfhRZqg"
      },
      "source": [
        "train['meter_reading'].describe()"
      ],
      "execution_count": null,
      "outputs": []
    },
    {
      "cell_type": "markdown",
      "metadata": {
        "id": "qf2Aw_UcRZqh"
      },
      "source": [
        "En regardant la descrirption de cette variable, la moyenne est loin de zéro. On s'intéresse donc maintenant au pourcentage de valeurs qui sont égales à zéro."
      ]
    },
    {
      "cell_type": "code",
      "metadata": {
        "id": "uO0e7kNnRZqh"
      },
      "source": [
        "train[train['meter_reading']==0].shape[0] / train.shape[0]"
      ],
      "execution_count": null,
      "outputs": []
    },
    {
      "cell_type": "markdown",
      "metadata": {
        "id": "51dzTlxhRZqi"
      },
      "source": [
        "Environ 9.3% des valeurs des compteurs sont égales à zéro. Nous ne pouvons pas dire exactement à quoi attribuer ce phénomène. Il se pourrait que certains de ces valeurs sont égaleas à zéro parcequ'il n'y avait pas de consommation d'énergie, ou par exemple pour le dû au fait qu'en hiver on n'a pas besoin d'eau glacée."
      ]
    },
    {
      "cell_type": "code",
      "metadata": {
        "id": "xcMKgcadRZqj"
      },
      "source": [
        "len(train['meter'])"
      ],
      "execution_count": null,
      "outputs": []
    },
    {
      "cell_type": "code",
      "metadata": {
        "id": "YcJ56IDLRZqk"
      },
      "source": [
        "train['meter'].replace({0:\"electricity\",1:\"chilledwater\",2:\"steam\",3:\"hotwater\"},inplace=True)"
      ],
      "execution_count": null,
      "outputs": []
    },
    {
      "cell_type": "code",
      "metadata": {
        "id": "0jzi1FgsRZql"
      },
      "source": [
        "meter_dict = {}\n",
        "for i in train['meter'].unique():\n",
        "    percent = round(train[train['meter_reading']== 0]['meter'].value_counts()[i] / train['meter'].value_counts()[i],2)\n",
        "    meter_dict[i] = percent\n",
        "zero_meter = pd.Series(meter_dict)\n",
        "sns.barplot(x=zero_meter.index, y= zero_meter)\n",
        "plt.title(\"Meters percentage having zero readings\")\n",
        "plt.show()"
      ],
      "execution_count": null,
      "outputs": []
    },
    {
      "cell_type": "markdown",
      "metadata": {
        "id": "jTw_RVP2RZql"
      },
      "source": [
        "D'après le graphique ci-dessus, on constate que le compteur d'eau chaude a plus de zéros que les autres compteurs. Mais nous avons à faire au données temporelles, et donc ce n'est peut être pas la meilleur façon de regarder cette variable. Dans ce qui suit, nous allons faire des études plus détaillées."
      ]
    },
    {
      "cell_type": "markdown",
      "metadata": {
        "id": "fN0vImK9RZqm"
      },
      "source": [
        "Nous convertissons tout d'abord la variable timestamp en objet de date et temps, et ensuite attribuons le mois correspondant à chaque date pour pouvoir étudier les tendences mensuelles de meter_reading."
      ]
    },
    {
      "cell_type": "code",
      "metadata": {
        "id": "lPcOD3x3RZqm"
      },
      "source": [
        "train['meter'].unique()\n",
        "\n",
        "train['timestamp2'] = pd.to_datetime(train[\"timestamp\"])\n",
        "train['month'] = train.timestamp2.dt.month"
      ],
      "execution_count": null,
      "outputs": []
    },
    {
      "cell_type": "markdown",
      "metadata": {
        "id": "Vz1mHn3BRZqn"
      },
      "source": [
        "On représente ensuite séparément pour chaque compteur les valeurs de meter_reading par mois pour voir à quel moment on a ces valeurs sur l'année."
      ]
    },
    {
      "cell_type": "code",
      "metadata": {
        "id": "yhWOqa4pRZqo"
      },
      "source": [
        "fig, axs = plt.subplots(2,2, sharey=True, tight_layout=True,figsize=(10,6))\n",
        "\n",
        "axs[0][0].hist(x =\"month\",data =train[(train.meter_reading == 0) & (train.meter==\"electricity\")],bins =12,color = \"navajowhite\")\n",
        "axs[0][0].set_title(\"For electricity\")\n",
        "\n",
        "axs[0][1].hist(x =\"month\",data =train[(train.meter_reading == 0) & (train.meter==\"chilledwater\")],bins =12,color = \"skyblue\")\n",
        "axs[0][1].set_title(\"For chilled water\")\n",
        "\n",
        "axs[1][0].hist(x =\"month\",data =train[(train.meter_reading == 0) & (train.meter==\"steam\")],bins =12,color = \"slategrey\")\n",
        "axs[1][0].set_title(\"For steam\")\n",
        "\n",
        "axs[1][1].hist(x =\"month\",data =train[(train.meter_reading == 0) & (train.meter==\"hotwater\")],bins =12,color = \"lightcoral\")\n",
        "axs[1][1].set_title(\"For hot water\")"
      ],
      "execution_count": null,
      "outputs": []
    },
    {
      "cell_type": "markdown",
      "metadata": {
        "id": "pKsPoOoYRZqp"
      },
      "source": [
        "Comme on peut le voir sur les graphes, et comme attendu, les consommation de 0 change d'un mois à l'autre sur l'année en fonction du type de compteur aussi. Pour le compteur d'électricité, on a des consommation de 0 plutôt au début de l'année jusqu'en mai environ. A partir de juin les consommation de 0 baisse. Les consommations à 0 de \"steam\" et d'eau chaude ont à peu près la même tendance sur l'année. Les consommations à 0 d'eau glacée sont saisonnières aussi."
      ]
    },
    {
      "cell_type": "markdown",
      "metadata": {
        "id": "13AgW1RARZqq"
      },
      "source": [
        "En ne séparant pas les consommations à 0 du reste des consommations comme dans les graphiques ci-dessous, on n'arrive pas à voir l'effet des consommations à 0."
      ]
    },
    {
      "cell_type": "code",
      "metadata": {
        "id": "dtFI3jt1RZqq"
      },
      "source": [
        "fig, axs = plt.subplots(2,2, sharey=True, tight_layout=True,figsize=(10,6))\n",
        "\n",
        "axs[0][0].hist(x =\"month\",data =train[(train.meter==\"electricity\")],bins =12,color = \"navajowhite\")\n",
        "axs[0][0].set_title(\"For electricity\")\n",
        "\n",
        "axs[0][1].hist(x =\"month\",data =train[(train.meter==\"chilledwater\")],bins =12,color = \"skyblue\")\n",
        "axs[0][1].set_title(\"For chilled water\")\n",
        "\n",
        "axs[1][0].hist(x =\"month\",data =train[(train.meter==\"steam\")],bins =12,color = \"slategrey\")\n",
        "axs[1][0].set_title(\"For steam\")\n",
        "\n",
        "axs[1][1].hist(x =\"month\",data =train[(train.meter==\"hotwater\")],bins =12,color = \"lightcoral\")\n",
        "axs[1][1].set_title(\"For hot water\")"
      ],
      "execution_count": null,
      "outputs": []
    },
    {
      "cell_type": "markdown",
      "metadata": {
        "id": "Bxh1yVovRZqr"
      },
      "source": [
        "Les consommations différentes de 0 ont une tendance plutôt uniforme, comme ci-dessous."
      ]
    },
    {
      "cell_type": "code",
      "metadata": {
        "id": "ZbYY6qIERZqs"
      },
      "source": [
        "fig, axs = plt.subplots(2,2, sharey=True, tight_layout=True,figsize=(10,6))\n",
        "\n",
        "axs[0][0].hist(x =\"month\",data =train[(train.meter_reading != 0) & (train.meter==\"electricity\")],bins =12,color = \"navajowhite\")\n",
        "axs[0][0].set_title(\"For electricity\")\n",
        "\n",
        "axs[0][1].hist(x =\"month\",data =train[(train.meter_reading != 0) & (train.meter==\"chilledwater\")],bins =12,color = \"skyblue\")\n",
        "axs[0][1].set_title(\"For chilled water\")\n",
        "\n",
        "axs[1][0].hist(x =\"month\",data =train[(train.meter_reading != 0) & (train.meter==\"steam\")],bins =12,color = \"slategrey\")\n",
        "axs[1][0].set_title(\"For steam\")\n",
        "\n",
        "axs[1][1].hist(x =\"month\",data =train[(train.meter_reading != 0) & (train.meter==\"hotwater\")],bins =12,color = \"lightcoral\")\n",
        "axs[1][1].set_title(\"For hot water\")"
      ],
      "execution_count": null,
      "outputs": []
    },
    {
      "cell_type": "code",
      "metadata": {
        "id": "04hMe58PRZqt"
      },
      "source": [
        "sns.kdeplot(train.loc[(train['meter']=='electricity'), \n",
        "            'meter_reading'], color='yellow', shade=False, Label='electricity')\n",
        "\n",
        "sns.kdeplot(train.loc[(train['meter']=='chilledwater'), \n",
        "            'meter_reading'], color='b', shade=False, Label='chilledwater')\n",
        "\n",
        "sns.kdeplot(train.loc[(train['meter']=='steam'), \n",
        "            'meter_reading'], color='gray', shade=False, Label='steam')\n",
        "\n",
        "sns.kdeplot(train.loc[(train['meter']=='hotwater'), \n",
        "            'meter_reading'], color='r', shade=False, Label='hotwater')\n",
        "\n",
        "plt.xlabel('meter_reading') \n",
        "plt.ylabel('Probability Density') "
      ],
      "execution_count": null,
      "outputs": []
    },
    {
      "cell_type": "markdown",
      "metadata": {
        "id": "jGkal4zyRZqt"
      },
      "source": [
        "Nous faisons une log transformation sur la variable meter_reading pour avoir des données plus normalisées et une bonne représentation de la densité."
      ]
    },
    {
      "cell_type": "code",
      "metadata": {
        "id": "UWrRL7wtRZqv"
      },
      "source": [
        "train['meter_reading_log'] = np.log1p(train['meter_reading'])"
      ],
      "execution_count": null,
      "outputs": []
    },
    {
      "cell_type": "code",
      "metadata": {
        "id": "Z1i1BmH-RZqw"
      },
      "source": [
        "sns.kdeplot(train.loc[(train['meter']=='electricity'), \n",
        "            \"meter_reading_log\"], color='yellow', shade=False, Label='electricity')\n",
        "\n",
        "sns.kdeplot(train.loc[(train['meter']=='chilledwater'), \n",
        "            \"meter_reading_log\"], color='b', shade=False, Label='chilledwater')\n",
        "\n",
        "sns.kdeplot(train.loc[(train['meter']=='steam'), \n",
        "            \"meter_reading_log\"], color='gray', shade=False, Label='steam')\n",
        "\n",
        "sns.kdeplot(train.loc[(train['meter']=='hotwater'), \n",
        "            \"meter_reading_log\"], color='r', shade=False, Label='hotwater')\n",
        "\n",
        "plt.xlabel('meter_reading_log') \n",
        "plt.ylabel('Probability Density') "
      ],
      "execution_count": null,
      "outputs": []
    },
    {
      "cell_type": "code",
      "metadata": {
        "id": "ziOAtNX-RZqy"
      },
      "source": [
        "len(set(train['building_id']))"
      ],
      "execution_count": null,
      "outputs": []
    },
    {
      "cell_type": "markdown",
      "metadata": {
        "id": "0hFaBZVwRZqy"
      },
      "source": [
        "### B- Analyse des données building"
      ]
    },
    {
      "cell_type": "markdown",
      "metadata": {
        "id": "RG3zO0LfRZqz"
      },
      "source": [
        "Les données building_meta.csv sont composé de 6 variables définies par :\n",
        "\n",
        "- site_id : Clé étrangère pour les fichiers météo.\n",
        "- building_id : Clé étrangère pour train.csv\n",
        "- primary_use : Indicateur de la catégorie principale d'activités pour le bâtiment basé sur les définitions de type de propriété EnergyStar\n",
        "- square_feet : Surface de plancher brute du bâtiment\n",
        "- year_built : Année d'ouverture du bâtiment\n",
        "- floor_count : Nombre d'étages du bâtiment"
      ]
    },
    {
      "cell_type": "code",
      "metadata": {
        "id": "ThENnZEIRZq0"
      },
      "source": [
        "building_metadata.shape"
      ],
      "execution_count": null,
      "outputs": []
    },
    {
      "cell_type": "code",
      "metadata": {
        "id": "pvdfFAxERZq0"
      },
      "source": [
        "building_metadata.head()"
      ],
      "execution_count": null,
      "outputs": []
    },
    {
      "cell_type": "code",
      "metadata": {
        "id": "H-9LkQwCRZq0"
      },
      "source": [
        "building_metadata.describe()"
      ],
      "execution_count": null,
      "outputs": []
    },
    {
      "cell_type": "code",
      "metadata": {
        "id": "h0XZfeoGRZq1"
      },
      "source": [
        "building_metadata.info()"
      ],
      "execution_count": null,
      "outputs": []
    },
    {
      "cell_type": "markdown",
      "metadata": {
        "id": "kG4rlefMRZq1"
      },
      "source": [
        "les variables years_built et floor_count ont beaucoup de valeurs manquantes ( 774 pour years_built  et 1094 pour floor_count)"
      ]
    },
    {
      "cell_type": "markdown",
      "metadata": {
        "id": "yKnhA_snRZq3"
      },
      "source": [
        "#### Variable primary_use"
      ]
    },
    {
      "cell_type": "code",
      "metadata": {
        "id": "SPFaeYmrRZq3"
      },
      "source": [
        "building_metadata.primary_use.unique()"
      ],
      "execution_count": null,
      "outputs": []
    },
    {
      "cell_type": "markdown",
      "metadata": {
        "id": "IykBdxqIRZq4"
      },
      "source": [
        "16 types de catégorie principale d'activités pour le bâtiment, la variable primary_use peut être pris comme une varibles catégorielle.\n"
      ]
    },
    {
      "cell_type": "code",
      "metadata": {
        "id": "HuHyc8d-RZq4"
      },
      "source": [
        "sns.countplot(y=\"primary_use\",data=building_metadata ,color=\"salmon\")"
      ],
      "execution_count": null,
      "outputs": []
    },
    {
      "cell_type": "markdown",
      "metadata": {
        "id": "rXP6SHCCRZq5"
      },
      "source": [
        "On remarque que la majorité des acitivités des bâtiments est lié à l'éducation, et la minorité est lié a des lieux de culte religieux.  "
      ]
    },
    {
      "cell_type": "markdown",
      "metadata": {
        "id": "VERfoXsLRZq5"
      },
      "source": [
        "#### Variable site_id"
      ]
    },
    {
      "cell_type": "code",
      "metadata": {
        "id": "-xdqANTSRZq5"
      },
      "source": [
        "site_build = building_metadata.groupby('site_id').building_id.size()\n",
        "sns.barplot(x=site_build.index , y= site_build,color=\"blue\")\n",
        "plt.ylabel(\"Number of building\")\n",
        "del site_build"
      ],
      "execution_count": null,
      "outputs": []
    },
    {
      "cell_type": "markdown",
      "metadata": {
        "id": "vtBZzHZDRZq6"
      },
      "source": [
        "On remarque le site 3 a le plus grand nombre de batiments, et le site 11 en a le moins."
      ]
    },
    {
      "cell_type": "markdown",
      "metadata": {
        "id": "ybJktk62RZq6"
      },
      "source": [
        "#### Variable square_feet, years_built et floor_count"
      ]
    },
    {
      "cell_type": "code",
      "metadata": {
        "id": "hec3mF30RZq6"
      },
      "source": [
        "fig, axes = plt.subplots(3,1,figsize=(10,10)) \n",
        "columns = building_metadata.drop([\"primary_use\",\"site_id\",\"building_id\"],axis=1).columns\n",
        "for i,col in enumerate(list(columns)):\n",
        "    plot = building_metadata.boxplot(col, by=\"site_id\", ax=axes.flatten()[i])\n",
        "\n",
        "plt.tight_layout() \n",
        "\n",
        "plt.show()"
      ],
      "execution_count": null,
      "outputs": []
    },
    {
      "cell_type": "markdown",
      "metadata": {
        "id": "K40SlvbCRZq7"
      },
      "source": [
        "On remarque que le site 0 est un site avec des bâtiments récents, et le site 4 qu'en a lui a des baitments assez anciens. Par rapport au nombres d'étages, le site 8 ne possède pas beaucoup d'étages contrairement au site 7 qui a des bâtiments avec plus d'étages."
      ]
    },
    {
      "cell_type": "code",
      "metadata": {
        "id": "xkPAieYCRZq7"
      },
      "source": [
        "building_metadata.hist(column =\"year_built\",bins=40)"
      ],
      "execution_count": null,
      "outputs": []
    },
    {
      "cell_type": "markdown",
      "metadata": {
        "id": "oRtLhsYvRZq8"
      },
      "source": [
        "Beaucoup de batiments datent des années 1975."
      ]
    },
    {
      "cell_type": "code",
      "metadata": {
        "id": "uT_yQ3vFRZq8"
      },
      "source": [
        "building_metadata['year_built'].describe()"
      ],
      "execution_count": null,
      "outputs": []
    },
    {
      "cell_type": "markdown",
      "metadata": {
        "id": "CWwr89aFR-Mk"
      },
      "source": [
        "### C- Analyse des données méteorologiques (weather_data)"
      ]
    },
    {
      "cell_type": "code",
      "metadata": {
        "id": "foqa96UFSMDw"
      },
      "source": [
        "weather_train.shape"
      ],
      "execution_count": null,
      "outputs": []
    },
    {
      "cell_type": "markdown",
      "metadata": {
        "id": "xcqu2JCASPZU"
      },
      "source": [
        "La base d'apprentissage des données météorologiques comportent au total 139773 observations évaluées sur 8 variables que sont: la température de l'air, la couverture en nuage, la température de la rosée, le niveau des pluies, la pression du niveau de mer, la direction et la vitesse du vent. Chaque observation (ligne) corresponds au relevé météorologique par heure de chaque site. Ainsi, chaque site a 24 lignes pour les 8 données méteo recueillies."
      ]
    },
    {
      "cell_type": "code",
      "metadata": {
        "id": "PuR3BpdKSSsH"
      },
      "source": [
        "weather_train.info()"
      ],
      "execution_count": null,
      "outputs": []
    },
    {
      "cell_type": "markdown",
      "metadata": {
        "id": "AXvDiuXdSXvT"
      },
      "source": [
        "Toutes les données de cette base n'ont pas pu être recueillies. Il y a des valeurs manquantes pour toutes les variables mesurées sauf évidemment les heures de recueil. Les heures de recueil **timestamp** seront transformées en format date."
      ]
    },
    {
      "cell_type": "code",
      "metadata": {
        "id": "w9F6yxWTSXOf"
      },
      "source": [
        "weather_train.describe()"
      ],
      "execution_count": null,
      "outputs": []
    },
    {
      "cell_type": "markdown",
      "metadata": {
        "id": "uxmUyJUjSdBR"
      },
      "source": [
        "En analysant les statistiques descriptives des variables de la table weather on peut soupçonner la présence de variables abérrantes. En effet, lorsque nous prenons les valeurs de températures, nous avons des valeurs extrêmes (min et max) très éloignées avec de fortes dispersions (std=10,62 et 9,79).\n",
        "La variable precip_depth_1_hr contient à priori des variables abbérantes car la valeur minimum est de -1 alors que la valeur maximale est de 343 avec une valeur moyenne de 0.98 et des quartiles nulles.\n",
        "De même, les variables de mesure du vent (wind_direction et wind_speed) présentent des caractéristiques similaires aux précédentes.\n",
        "Nous pouvons vérifier la présence de valeurs abbérantes grâce au box-plot ci-dessous."
      ]
    },
    {
      "cell_type": "code",
      "metadata": {
        "id": "N74NYTHkSPIA"
      },
      "source": [
        "fig, axes = plt.subplots(7,1,figsize=(10,30)) \n",
        "columns = weather_train.drop([\"site_id\",\"timestamp\"],axis=1).columns\n",
        "for i,col in enumerate(list(columns)):\n",
        "\n",
        "    plot = weather_train.boxplot(col, by=\"site_id\", ax=axes.flatten()[i])\n",
        "\n",
        "plt.tight_layout() \n",
        "\n",
        "plt.show()"
      ],
      "execution_count": null,
      "outputs": []
    },
    {
      "cell_type": "markdown",
      "metadata": {
        "id": "xyrC22aVSion"
      },
      "source": [
        "La représentation des box-plot confirme bien la présence de valeurs abbérantes pour toutes les variables d'étude de la table sauf la variable wind_direction.\n",
        "Aussi, en général les données météorologiques varient en fonction des sites étudiés.\n",
        "Par exemple, les sites 0, 8 et 9 ont en moyenne des températures (ambiante et de la rosée) élevées contrairement aux sites 7 et 11 avec des températures (ambiante et de la rosée) basses.\n",
        "Par ailleurs, on peut également noter que nous avons très peu de données pour les variables precip_depth_1_hr et cloud_coverage. Sur le site 11, nous n'avons pas de données pour la variable cloud_coverage et sur les sites 1, 5 et 12 nous n'avons pas de données pour la variable precip_depth_1_hr."
      ]
    },
    {
      "cell_type": "markdown",
      "metadata": {
        "id": "wqiVmQFwTeKS"
      },
      "source": [
        "Etudions la corrélation entre les différentes variables de la base weather_train"
      ]
    },
    {
      "cell_type": "code",
      "metadata": {
        "id": "i2RgxOW_SM_9"
      },
      "source": [
        "sns.heatmap(weather_train.corr(),linewidths=.5,annot=True)"
      ],
      "execution_count": null,
      "outputs": []
    },
    {
      "cell_type": "markdown",
      "metadata": {
        "id": "qL5WA2fVS_oI"
      },
      "source": [
        "On obtient ci-dessus une matrice des valeurs de corrélation représentée par des couleurs. On remarque essentiellement qu'il y a une forte corrélation entre les variables **dew_temperature** et **air_température**"
      ]
    }
  ]
}