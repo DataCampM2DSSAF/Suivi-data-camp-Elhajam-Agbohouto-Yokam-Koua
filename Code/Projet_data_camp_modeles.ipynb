{
 "cells": [
  {
   "cell_type": "markdown",
   "metadata": {
    "id": "T-bYUWjORZqV"
   },
   "source": [
    "## ASHRAE Energy Predictions"
   ]
  },
  {
   "cell_type": "markdown",
   "metadata": {
    "id": "XXZbPPknTtTi"
   },
   "source": [
    "## Entrainement"
   ]
  },
  {
   "cell_type": "markdown",
   "metadata": {
    "id": "pyVeGa-CT28d"
   },
   "source": [
    "## Importation des données"
   ]
  },
  {
   "cell_type": "code",
   "execution_count": 1,
   "metadata": {
    "id": "ERqdtTv9RZqY"
   },
   "outputs": [],
   "source": [
    "import pandas as pd\n",
    "import numpy as np\n",
    "import matplotlib.pyplot as plt\n",
    "import seaborn as sns\n",
    "import pickle\n",
    "import scipy.stats\n",
    "import gc\n",
    "from tqdm import tqdm\n",
    "from sklearn.preprocessing import LabelEncoder\n",
    "le = LabelEncoder()\n",
    "    "
   ]
  },
  {
   "cell_type": "code",
   "execution_count": 2,
   "metadata": {
    "id": "0GMYzw1ERZqa",
    "outputId": "19cd3217-6363-4373-9cce-cf1737806e80"
   },
   "outputs": [],
   "source": [
    "train = pd.read_csv('train.csv')\n",
    "weather_train = pd.read_csv('weather_train.csv')\n",
    "building_metadata = pd.read_csv('building_metadata.csv')"
   ]
  },
  {
   "cell_type": "markdown",
   "metadata": {
    "id": "eCVuxLMgVrKu"
   },
   "source": [
    "# Fusion des différentes tables de données"
   ]
  },
  {
   "cell_type": "code",
   "execution_count": 10,
   "metadata": {
    "id": "XKiNrDaCV4ZS"
   },
   "outputs": [
    {
     "data": {
      "text/plain": [
       "85"
      ]
     },
     "execution_count": 10,
     "metadata": {},
     "output_type": "execute_result"
    }
   ],
   "source": [
    "train = train.merge(building_metadata, on='building_id', how='left')\n",
    "alltrain = train.merge(weather_train, on=['site_id','timestamp'], how='left')\n",
    "del building_metadata,weather_train,train\n",
    "gc.collect()"
   ]
  },
  {
   "cell_type": "markdown",
   "metadata": {
    "id": "4eEUtRO5WBBr"
   },
  
  },
  {
   "cell_type": "markdown",
   "metadata": {},
   "source": [
    "**mauvaise compréhension des variables: building_id, timestamp, site_id et meter**  \n",
    "## Changement des types de variables"
   ]
  },
  {
   "cell_type": "code",
   "execution_count": 11,
   "metadata": {},
   "outputs": [],
   "source": [
    "alltrain.timestamp=pd.to_datetime(alltrain['timestamp'])"
   ]
  },
  {
   "cell_type": "code",
   "execution_count": 12,
   "metadata": {},
   "outputs": [],
   "source": [
    "varia=['building_id','site_id', 'meter']\n",
    "\n",
    "for col in varia:\n",
    "    \n",
    "    alltrain[col]=alltrain[col].astype('object')\n",
    "    "
   ]
  },
  {
   "cell_type": "code",
   "execution_count": 13,
   "metadata": {},
   "outputs": [
    {
     "name": "stdout",
     "output_type": "stream",
     "text": [
      "<class 'pandas.core.frame.DataFrame'>\n",
      "Int64Index: 20216100 entries, 0 to 20216099\n",
      "Data columns (total 16 columns):\n",
      " #   Column              Dtype         \n",
      "---  ------              -----         \n",
      " 0   building_id         object        \n",
      " 1   meter               object        \n",
      " 2   timestamp           datetime64[ns]\n",
      " 3   meter_reading       float64       \n",
      " 4   site_id             object        \n",
      " 5   primary_use         object        \n",
      " 6   square_feet         int64         \n",
      " 7   year_built          float64       \n",
      " 8   floor_count         float64       \n",
      " 9   air_temperature     float64       \n",
      " 10  cloud_coverage      float64       \n",
      " 11  dew_temperature     float64       \n",
      " 12  precip_depth_1_hr   float64       \n",
      " 13  sea_level_pressure  float64       \n",
      " 14  wind_direction      float64       \n",
      " 15  wind_speed          float64       \n",
      "dtypes: datetime64[ns](1), float64(10), int64(1), object(4)\n",
      "memory usage: 2.6+ GB\n"
     ]
    }
   ],
   "source": [
    "alltrain.info()"
   ]
  },
  {
   "cell_type": "code",
   "execution_count": 14,
   "metadata": {},
   "outputs": [],
   "source": [
    "alltrain['meter'] = pd.Categorical(alltrain['meter']).rename_categories({0: 'electricity', \n",
    "                                                                   1: 'chilledwater',\n",
    "                                                                   2: 'steam', \n",
    "                                                                   3: 'hotwater'})"
   ]
  },
  {
   "cell_type": "markdown",
   "metadata": {},
   "source": [
    "## Occurence des modalités de chaque variable quali"
   ]
  },
  {
   "cell_type": "code",
   "execution_count": 15,
   "metadata": {},
   "outputs": [
    {
     "name": "stdout",
     "output_type": "stream",
     "text": [
      "building_id------------------- 1449\n",
      "site_id----------------------- 16\n",
      "primary_use------------------- 16\n"
     ]
    }
   ],
   "source": [
    " for col in alltrain.select_dtypes(object).columns:\n",
    "    print (f'{col :-<30} {len(alltrain[col].value_counts())}')"
   ]
  },
  {
   "cell_type": "markdown",
   "metadata": {},
   "source": [
    "## Analyse des valeurs manquantes"
   ]
  },
  {
   "cell_type": "code",
   "execution_count": 9,
   "metadata": {},
   "outputs": [
    {
     "data": {
      "text/plain": [
       "floor_count           0.826528\n",
       "year_built            0.599900\n",
       "cloud_coverage        0.436551\n",
       "precip_depth_1_hr     0.185447\n",
       "wind_direction        0.071678\n",
       "sea_level_pressure    0.060925\n",
       "wind_speed            0.007107\n",
       "dew_temperature       0.004953\n",
       "air_temperature       0.004781\n",
       "square_feet           0.000000\n",
       "primary_use           0.000000\n",
       "site_id               0.000000\n",
       "meter_reading         0.000000\n",
       "timestamp             0.000000\n",
       "meter                 0.000000\n",
       "building_id           0.000000\n",
       "dtype: float64"
      ]
     },
     "execution_count": 9,
     "metadata": {},
     "output_type": "execute_result"
    }
   ],
   "source": [
    "(alltrain.isna().sum()/alltrain.shape[0]).sort_values(ascending=False)"
   ]
  },
  {
   "cell_type": "code",
   "execution_count": 54,
   "metadata": {},
   "outputs": [
    {
     "data": {
      "text/html": [
       "<div>\n",
       "<style scoped>\n",
       "    .dataframe tbody tr th:only-of-type {\n",
       "        vertical-align: middle;\n",
       "    }\n",
       "\n",
       "    .dataframe tbody tr th {\n",
       "        vertical-align: top;\n",
       "    }\n",
       "\n",
       "    .dataframe thead th {\n",
       "        text-align: right;\n",
       "    }\n",
       "</style>\n",
       "<table border=\"1\" class=\"dataframe\">\n",
       "  <thead>\n",
       "    <tr style=\"text-align: right;\">\n",
       "      <th></th>\n",
       "      <th>building_id</th>\n",
       "      <th>meter</th>\n",
       "      <th>timestamp</th>\n",
       "      <th>meter_reading</th>\n",
       "      <th>site_id</th>\n",
       "      <th>primary_use</th>\n",
       "      <th>square_feet</th>\n",
       "      <th>year_built</th>\n",
       "      <th>floor_count</th>\n",
       "      <th>air_temperature</th>\n",
       "      <th>cloud_coverage</th>\n",
       "      <th>dew_temperature</th>\n",
       "      <th>precip_depth_1_hr</th>\n",
       "      <th>sea_level_pressure</th>\n",
       "      <th>wind_direction</th>\n",
       "      <th>wind_speed</th>\n",
       "    </tr>\n",
       "  </thead>\n",
       "  <tbody>\n",
       "    <tr>\n",
       "      <th>0</th>\n",
       "      <td>0</td>\n",
       "      <td>electricity</td>\n",
       "      <td>2016-01-01</td>\n",
       "      <td>0.0</td>\n",
       "      <td>0</td>\n",
       "      <td>Education</td>\n",
       "      <td>7432</td>\n",
       "      <td>2008.0</td>\n",
       "      <td>NaN</td>\n",
       "      <td>25.0</td>\n",
       "      <td>6.0</td>\n",
       "      <td>20.0</td>\n",
       "      <td>NaN</td>\n",
       "      <td>1019.7</td>\n",
       "      <td>0.0</td>\n",
       "      <td>0.0</td>\n",
       "    </tr>\n",
       "    <tr>\n",
       "      <th>1</th>\n",
       "      <td>1</td>\n",
       "      <td>electricity</td>\n",
       "      <td>2016-01-01</td>\n",
       "      <td>0.0</td>\n",
       "      <td>0</td>\n",
       "      <td>Education</td>\n",
       "      <td>2720</td>\n",
       "      <td>2004.0</td>\n",
       "      <td>NaN</td>\n",
       "      <td>25.0</td>\n",
       "      <td>6.0</td>\n",
       "      <td>20.0</td>\n",
       "      <td>NaN</td>\n",
       "      <td>1019.7</td>\n",
       "      <td>0.0</td>\n",
       "      <td>0.0</td>\n",
       "    </tr>\n",
       "    <tr>\n",
       "      <th>2</th>\n",
       "      <td>2</td>\n",
       "      <td>electricity</td>\n",
       "      <td>2016-01-01</td>\n",
       "      <td>0.0</td>\n",
       "      <td>0</td>\n",
       "      <td>Education</td>\n",
       "      <td>5376</td>\n",
       "      <td>1991.0</td>\n",
       "      <td>NaN</td>\n",
       "      <td>25.0</td>\n",
       "      <td>6.0</td>\n",
       "      <td>20.0</td>\n",
       "      <td>NaN</td>\n",
       "      <td>1019.7</td>\n",
       "      <td>0.0</td>\n",
       "      <td>0.0</td>\n",
       "    </tr>\n",
       "    <tr>\n",
       "      <th>3</th>\n",
       "      <td>3</td>\n",
       "      <td>electricity</td>\n",
       "      <td>2016-01-01</td>\n",
       "      <td>0.0</td>\n",
       "      <td>0</td>\n",
       "      <td>Education</td>\n",
       "      <td>23685</td>\n",
       "      <td>2002.0</td>\n",
       "      <td>NaN</td>\n",
       "      <td>25.0</td>\n",
       "      <td>6.0</td>\n",
       "      <td>20.0</td>\n",
       "      <td>NaN</td>\n",
       "      <td>1019.7</td>\n",
       "      <td>0.0</td>\n",
       "      <td>0.0</td>\n",
       "    </tr>\n",
       "    <tr>\n",
       "      <th>4</th>\n",
       "      <td>4</td>\n",
       "      <td>electricity</td>\n",
       "      <td>2016-01-01</td>\n",
       "      <td>0.0</td>\n",
       "      <td>0</td>\n",
       "      <td>Education</td>\n",
       "      <td>116607</td>\n",
       "      <td>1975.0</td>\n",
       "      <td>NaN</td>\n",
       "      <td>25.0</td>\n",
       "      <td>6.0</td>\n",
       "      <td>20.0</td>\n",
       "      <td>NaN</td>\n",
       "      <td>1019.7</td>\n",
       "      <td>0.0</td>\n",
       "      <td>0.0</td>\n",
       "    </tr>\n",
       "  </tbody>\n",
       "</table>\n",
       "</div>"
      ],
      "text/plain": [
       "  building_id        meter  timestamp  meter_reading site_id primary_use  \\\n",
       "0           0  electricity 2016-01-01            0.0       0   Education   \n",
       "1           1  electricity 2016-01-01            0.0       0   Education   \n",
       "2           2  electricity 2016-01-01            0.0       0   Education   \n",
       "3           3  electricity 2016-01-01            0.0       0   Education   \n",
       "4           4  electricity 2016-01-01            0.0       0   Education   \n",
       "\n",
       "   square_feet  year_built  floor_count  air_temperature  cloud_coverage  \\\n",
       "0         7432      2008.0          NaN             25.0             6.0   \n",
       "1         2720      2004.0          NaN             25.0             6.0   \n",
       "2         5376      1991.0          NaN             25.0             6.0   \n",
       "3        23685      2002.0          NaN             25.0             6.0   \n",
       "4       116607      1975.0          NaN             25.0             6.0   \n",
       "\n",
       "   dew_temperature  precip_depth_1_hr  sea_level_pressure  wind_direction  \\\n",
       "0             20.0                NaN              1019.7             0.0   \n",
       "1             20.0                NaN              1019.7             0.0   \n",
       "2             20.0                NaN              1019.7             0.0   \n",
       "3             20.0                NaN              1019.7             0.0   \n",
       "4             20.0                NaN              1019.7             0.0   \n",
       "\n",
       "   wind_speed  \n",
       "0         0.0  \n",
       "1         0.0  \n",
       "2         0.0  \n",
       "3         0.0  \n",
       "4         0.0  "
      ]
     },
     "execution_count": 54,
     "metadata": {},
     "output_type": "execute_result"
    }
   ],
   "source": [
    "alltrain.head()"
   ]
  },
  {
   "cell_type": "markdown",
   "metadata": {},
   "source": [
    "## Extraction de features"
   ]
  },
  {
   "cell_type": "code",
   "execution_count": 2,
   "metadata": {},
   "outputs": [],
   "source": [
    "def rec_heur(x):\n",
    "    \n",
    "    if x in np.arange(6, 19):\n",
    "        return 'journee'\n",
    "    \n",
    "    if x in np.arange(19, 23):\n",
    "        return 'nuit'\n",
    "    \n",
    "    if x in [23, 0, 1, 2, 3, 4, 5]:\n",
    "        return 'tard'"
   ]
  },
  {
   "cell_type": "code",
   "execution_count": 17,
   "metadata": {},
   "outputs": [
    {
     "data": {
      "text/plain": [
       "count    8.088455e+06\n",
       "mean     1.968277e+03\n",
       "std      3.020815e+01\n",
       "min      1.900000e+03\n",
       "25%      1.951000e+03\n",
       "50%      1.969000e+03\n",
       "75%      1.993000e+03\n",
       "max      2.017000e+03\n",
       "Name: year_built, dtype: float64"
      ]
     },
     "execution_count": 17,
     "metadata": {},
     "output_type": "execute_result"
    }
   ],
   "source": [
    "alltrain['year_built'].describe()"
   ]
  },
  {
   "cell_type": "code",
   "execution_count": 3,
   "metadata": {},
   "outputs": [],
   "source": [
    "def discredit_var(x):\n",
    "   \n",
    "    \n",
    "    if x <= 1951:\n",
    "        return 'yearB_q1'\n",
    "    \n",
    "    if  1951 < x <= 1969:\n",
    "        return 'yearB_q2'\n",
    "    \n",
    "    if 1969 < x <= 1993:\n",
    "        return 'yearB_q3'\n",
    "    \n",
    "    if  1993 < x:\n",
    "        return 'yearB_q4'\n",
    "    "
   ]
  },
  {
   "cell_type": "code",
   "execution_count": 4,
   "metadata": {},
   "outputs": [],
   "source": [
    "def preProcecing_df(df_):\n",
    "    \n",
    "    df=df_.copy()\n",
    "    \n",
    "    \n",
    "    saison={3: 'printent',4:'printent',5:'printent',\n",
    "          6: 'ete', 7: 'ete',8: 'ete', \n",
    "          9: 'automne', 10: 'automne', 11: 'automne', \n",
    "          1: 'hiver', 12: 'hiver', 2: 'hiver'}\n",
    "    \n",
    "    \n",
    "    \n",
    "    \n",
    "    df['mois'] = df.timestamp.dt.month\n",
    "    df['day'] = df.timestamp.dt.day\n",
    "    df['heure'] = df.timestamp.dt.hour\n",
    "    \n",
    "    df['heureDiscredite'] = df['heure'].apply(rec_heur)\n",
    "    \n",
    "    df['week_end'] = [1 if x in [5,6] else 0 for x in df.day]\n",
    "    df['saison'] = df['mois'].apply(lambda x: saison.get(x))\n",
    "    \n",
    "    \n",
    "    median_group = df.groupby(['site_id'])['year_built'].transform('median')\n",
    "    df['year_built'].fillna(median_group,inplace = True)\n",
    "    df['year_built'].fillna(df['year_built'].median(), inplace=True)\n",
    "    \n",
    "    df['year_built'] = df['year_built'].apply(discredit_var) \n",
    "    \n",
    "    df.floor_count.fillna(0,inplace = True)\n",
    "    \n",
    "    colonneAsNum=['air_temperature', 'dew_temperature','wind_direction']\n",
    "    \n",
    "    \n",
    "    \n",
    "    for col in colonneAsNum:\n",
    "        median_group = df.groupby(['site_id', 'saison', 'week_end', 'primary_use'])[col].transform('median')\n",
    "        df[col].fillna(median_group,inplace = True)\n",
    "                \n",
    "    \n",
    "    \n",
    "                    \n",
    "    for col in [ 'day', 'heure', 'timestamp', \n",
    "                \"precip_depth_1_hr\", \"wind_speed\", \"sea_level_pressure\", \"cloud_coverage\", \"mois\"]:\n",
    "        del df[col]\n",
    "    \n",
    "    return df\n",
    "\n"
   ]
  },
  {
   "cell_type": "code",
   "execution_count": 20,
   "metadata": {},
   "outputs": [],
   "source": [
    "X = preProcecing_df(alltrain)\n",
    "X =  X[X['meter_reading']!= np.float(0)]\n",
    "X['meter_reading']=np.log1p(X['meter_reading'])"
   ]
  },
  {
   "cell_type": "code",
   "execution_count": 21,
   "metadata": {},
   "outputs": [
    {
     "data": {
      "text/plain": [
       "saison             0.0\n",
       "week_end           0.0\n",
       "heureDiscredite    0.0\n",
       "wind_direction     0.0\n",
       "dew_temperature    0.0\n",
       "air_temperature    0.0\n",
       "floor_count        0.0\n",
       "year_built         0.0\n",
       "square_feet        0.0\n",
       "primary_use        0.0\n",
       "site_id            0.0\n",
       "meter_reading      0.0\n",
       "meter              0.0\n",
       "building_id        0.0\n",
       "dtype: float64"
      ]
     },
     "execution_count": 21,
     "metadata": {},
     "output_type": "execute_result"
    }
   ],
   "source": [
    "(X.isna().sum()/X.shape[0]).sort_values(ascending=False)"
   ]
  },
  {
   "cell_type": "code",
   "execution_count": 22,
   "metadata": {},
   "outputs": [
    {
     "data": {
      "text/plain": [
       "(18342124, 14)"
      ]
     },
     "execution_count": 22,
     "metadata": {},
     "output_type": "execute_result"
    }
   ],
   "source": [
    "X.shape"
   ]
  },
  {
   "cell_type": "code",
   "execution_count": 23,
   "metadata": {},
   "outputs": [
    {
     "data": {
      "text/html": [
       "<div>\n",
       "<style scoped>\n",
       "    .dataframe tbody tr th:only-of-type {\n",
       "        vertical-align: middle;\n",
       "    }\n",
       "\n",
       "    .dataframe tbody tr th {\n",
       "        vertical-align: top;\n",
       "    }\n",
       "\n",
       "    .dataframe thead th {\n",
       "        text-align: right;\n",
       "    }\n",
       "</style>\n",
       "<table border=\"1\" class=\"dataframe\">\n",
       "  <thead>\n",
       "    <tr style=\"text-align: right;\">\n",
       "      <th></th>\n",
       "      <th>building_id</th>\n",
       "      <th>meter</th>\n",
       "      <th>meter_reading</th>\n",
       "      <th>site_id</th>\n",
       "      <th>primary_use</th>\n",
       "      <th>square_feet</th>\n",
       "      <th>year_built</th>\n",
       "      <th>floor_count</th>\n",
       "      <th>air_temperature</th>\n",
       "      <th>dew_temperature</th>\n",
       "      <th>wind_direction</th>\n",
       "      <th>heureDiscredite</th>\n",
       "      <th>week_end</th>\n",
       "      <th>saison</th>\n",
       "    </tr>\n",
       "  </thead>\n",
       "  <tbody>\n",
       "    <tr>\n",
       "      <th>45</th>\n",
       "      <td>46</td>\n",
       "      <td>electricity</td>\n",
       "      <td>3.993413</td>\n",
       "      <td>0</td>\n",
       "      <td>Retail</td>\n",
       "      <td>9045</td>\n",
       "      <td>yearB_q4</td>\n",
       "      <td>0.0</td>\n",
       "      <td>25.0</td>\n",
       "      <td>20.0</td>\n",
       "      <td>0.0</td>\n",
       "      <td>tard</td>\n",
       "      <td>0</td>\n",
       "      <td>hiver</td>\n",
       "    </tr>\n",
       "    <tr>\n",
       "      <th>72</th>\n",
       "      <td>74</td>\n",
       "      <td>electricity</td>\n",
       "      <td>3.784219</td>\n",
       "      <td>0</td>\n",
       "      <td>Parking</td>\n",
       "      <td>387638</td>\n",
       "      <td>yearB_q4</td>\n",
       "      <td>0.0</td>\n",
       "      <td>25.0</td>\n",
       "      <td>20.0</td>\n",
       "      <td>0.0</td>\n",
       "      <td>tard</td>\n",
       "      <td>0</td>\n",
       "      <td>hiver</td>\n",
       "    </tr>\n",
       "    <tr>\n",
       "      <th>91</th>\n",
       "      <td>93</td>\n",
       "      <td>electricity</td>\n",
       "      <td>3.978196</td>\n",
       "      <td>0</td>\n",
       "      <td>Office</td>\n",
       "      <td>33370</td>\n",
       "      <td>yearB_q3</td>\n",
       "      <td>0.0</td>\n",
       "      <td>25.0</td>\n",
       "      <td>20.0</td>\n",
       "      <td>0.0</td>\n",
       "      <td>tard</td>\n",
       "      <td>0</td>\n",
       "      <td>hiver</td>\n",
       "    </tr>\n",
       "    <tr>\n",
       "      <th>103</th>\n",
       "      <td>105</td>\n",
       "      <td>electricity</td>\n",
       "      <td>3.190624</td>\n",
       "      <td>1</td>\n",
       "      <td>Education</td>\n",
       "      <td>50623</td>\n",
       "      <td>yearB_q2</td>\n",
       "      <td>5.0</td>\n",
       "      <td>3.8</td>\n",
       "      <td>2.4</td>\n",
       "      <td>240.0</td>\n",
       "      <td>tard</td>\n",
       "      <td>0</td>\n",
       "      <td>hiver</td>\n",
       "    </tr>\n",
       "    <tr>\n",
       "      <th>104</th>\n",
       "      <td>106</td>\n",
       "      <td>electricity</td>\n",
       "      <td>0.318163</td>\n",
       "      <td>1</td>\n",
       "      <td>Education</td>\n",
       "      <td>5374</td>\n",
       "      <td>yearB_q2</td>\n",
       "      <td>4.0</td>\n",
       "      <td>3.8</td>\n",
       "      <td>2.4</td>\n",
       "      <td>240.0</td>\n",
       "      <td>tard</td>\n",
       "      <td>0</td>\n",
       "      <td>hiver</td>\n",
       "    </tr>\n",
       "  </tbody>\n",
       "</table>\n",
       "</div>"
      ],
      "text/plain": [
       "    building_id        meter  meter_reading site_id primary_use  square_feet  \\\n",
       "45           46  electricity       3.993413       0      Retail         9045   \n",
       "72           74  electricity       3.784219       0     Parking       387638   \n",
       "91           93  electricity       3.978196       0      Office        33370   \n",
       "103         105  electricity       3.190624       1   Education        50623   \n",
       "104         106  electricity       0.318163       1   Education         5374   \n",
       "\n",
       "    year_built  floor_count  air_temperature  dew_temperature  wind_direction  \\\n",
       "45    yearB_q4          0.0             25.0             20.0             0.0   \n",
       "72    yearB_q4          0.0             25.0             20.0             0.0   \n",
       "91    yearB_q3          0.0             25.0             20.0             0.0   \n",
       "103   yearB_q2          5.0              3.8              2.4           240.0   \n",
       "104   yearB_q2          4.0              3.8              2.4           240.0   \n",
       "\n",
       "    heureDiscredite  week_end saison  \n",
       "45             tard         0  hiver  \n",
       "72             tard         0  hiver  \n",
       "91             tard         0  hiver  \n",
       "103            tard         0  hiver  \n",
       "104            tard         0  hiver  "
      ]
     },
     "execution_count": 23,
     "metadata": {},
     "output_type": "execute_result"
    }
   ],
   "source": [
    "del data\n",
    "X.head()"
   ]
  },
  {
   "cell_type": "markdown",
   "metadata": {},
   "source": [
    "## conversion type"
   ]
  },
  {
   "cell_type": "code",
   "execution_count": 24,
   "metadata": {},
   "outputs": [],
   "source": [
    "X[\"building_id\"] = X[\"building_id\"].astype('category')\n",
    "X[\"site_id\"] = X[\"site_id\"].astype('category')\n",
    "X[\"primary_use\"] = X[\"primary_use\"].astype('category')\n",
    "X[\"saison\"] = X[\"saison\"].astype('category')\n",
    "X[\"heureDiscredite\"] = X[\"heureDiscredite\"].astype('category')\n",
    "X[\"year_built\"] = X[\"year_built\"].astype('category')"
   ]
  },
  {
   "cell_type": "markdown",
   "metadata": {},
   "source": [
    "## Encodeur One Hot"
   ]
  },
  {
   "cell_type": "code",
   "execution_count": 5,
   "metadata": {},
   "outputs": [],
   "source": [
    "def encodeur(df): \n",
    "    X_Encod=pd.concat([df, pd.get_dummies(df[\"primary_use\"], dtype=int) ], axis=1)\n",
    "\n",
    "    X_Encod=pd.concat([X_Encod, pd.get_dummies(df[\"saison\"], dtype=int) ], axis=1)\n",
    "\n",
    "    X_Encod=pd.concat([X_Encod, pd.get_dummies(df[\"heureDiscredite\"], dtype=int) ], axis=1)\n",
    "    X_Encod=pd.concat([X_Encod, pd.get_dummies(df[\"meter\"], dtype=int) ], axis=1)\n",
    "    X_Encod=pd.concat([X_Encod, pd.get_dummies(df[\"year_built\"], dtype=int) ], axis=1)\n",
    "\n",
    "    for col in [\"primary_use\",'year_built', 'yearB_q4', \"saison\", \"heureDiscredite\", \n",
    "                'Office', \"printent\", \"journee\", 'meter', 'hotwater' ]:\n",
    "        del X_Encod[col]\n",
    "\n",
    "\n",
    "    return X_Encod"
   ]
  },
  {
   "cell_type": "code",
   "execution_count": null,
   "metadata": {},
   "outputs": [],
   "source": [
    "X_Encod = encodeur(X)"
   ]
  },
  {
   "cell_type": "code",
   "execution_count": 27,
   "metadata": {},
   "outputs": [
    {
     "name": "stdout",
     "output_type": "stream",
     "text": [
      "<class 'pandas.core.frame.DataFrame'>\n",
      "Int64Index: 18342124 entries, 45 to 20216099\n",
      "Data columns (total 35 columns):\n",
      " #   Column                         Dtype   \n",
      "---  ------                         -----   \n",
      " 0   building_id                    category\n",
      " 1   meter_reading                  float64 \n",
      " 2   site_id                        category\n",
      " 3   square_feet                    int64   \n",
      " 4   floor_count                    float64 \n",
      " 5   air_temperature                float64 \n",
      " 6   dew_temperature                float64 \n",
      " 7   wind_direction                 float64 \n",
      " 8   week_end                       int64   \n",
      " 9   Education                      int64   \n",
      " 10  Entertainment/public assembly  int64   \n",
      " 11  Food sales and service         int64   \n",
      " 12  Healthcare                     int64   \n",
      " 13  Lodging/residential            int64   \n",
      " 14  Manufacturing/industrial       int64   \n",
      " 15  Other                          int64   \n",
      " 16  Parking                        int64   \n",
      " 17  Public services                int64   \n",
      " 18  Religious worship              int64   \n",
      " 19  Retail                         int64   \n",
      " 20  Services                       int64   \n",
      " 21  Technology/science             int64   \n",
      " 22  Utility                        int64   \n",
      " 23  Warehouse/storage              int64   \n",
      " 24  automne                        int64   \n",
      " 25  ete                            int64   \n",
      " 26  hiver                          int64   \n",
      " 27  nuit                           int64   \n",
      " 28  tard                           int64   \n",
      " 29  electricity                    int64   \n",
      " 30  chilledwater                   int64   \n",
      " 31  steam                          int64   \n",
      " 32  yearB_q1                       int64   \n",
      " 33  yearB_q2                       int64   \n",
      " 34  yearB_q3                       int64   \n",
      "dtypes: category(2), float64(5), int64(28)\n",
      "memory usage: 4.7 GB\n"
     ]
    }
   ],
   "source": [
    "X_Encod.info()"
   ]
  },
  {
   "cell_type": "markdown",
   "metadata": {},
   "source": [
    "## Train test split"
   ]
  },
  {
   "cell_type": "code",
   "execution_count": 28,
   "metadata": {},
   "outputs": [],
   "source": [
    "from sklearn.model_selection import ShuffleSplit\n",
    "\n",
    "def trainAndTest(DF):\n",
    "    df= DF.copy()\n",
    "    \n",
    "    uniqueSite=list(pd.unique(df[\"site_id\"]))\n",
    "    rs = ShuffleSplit(n_splits=1, test_size=.3, random_state=0)\n",
    "    for train_index, test_index in rs.split(uniqueSite):\n",
    "\n",
    "        df['trainIndex'] = [1 if x in train_index else 0 for x in df.site_id]\n",
    "        x_train = df[df['trainIndex']==1]\n",
    "        y_train = x_train['meter_reading']\n",
    "\n",
    "        x_test = df[df['trainIndex']==0]\n",
    "        y_test = x_test['meter_reading']\n",
    "\n",
    "    del x_train['trainIndex'] \n",
    "    del x_train['meter_reading'] \n",
    "\n",
    "    del x_test['trainIndex']\n",
    "    del x_test['meter_reading']\n",
    "    \n",
    "    return x_train, y_train, x_test, y_test\n"
   ]
  },
  {
   "cell_type": "code",
   "execution_count": 29,
   "metadata": {},
   "outputs": [],
   "source": [
    " X_train, Y_train, X_test, Y_test = trainAndTest(X_Encod)"
   ]
  },
  {
   "cell_type": "markdown",
   "metadata": {},
   "source": [
    "## MinMaxScaler"
   ]
  },
  {
   "cell_type": "code",
   "execution_count": 6,
   "metadata": {},
   "outputs": [],
   "source": [
    "from sklearn.preprocessing import MinMaxScaler\n",
    "scaler = MinMaxScaler()"
   ]
  },
  {
   "cell_type": "code",
   "execution_count": 7,
   "metadata": {},
   "outputs": [],
   "source": [
    "def minMax(DF, listColumns, scaler):\n",
    "    df=DF.copy()\n",
    "    for col in listColumns:\n",
    "        df[col]=scaler.fit_transform(df[[col]])\n",
    "        \n",
    "    return df"
   ]
  },
  {
   "cell_type": "code",
   "execution_count": 32,
   "metadata": {},
   "outputs": [],
   "source": [
    "listColumns= [ 'wind_direction',  'dew_temperature',\n",
    "              'air_temperature', 'floor_count', 'square_feet']\n",
    "\n",
    "\n",
    "X_train = minMax(X_train, listColumns, scaler)\n",
    "X_test = minMax(X_test, listColumns, scaler)"
   ]
  },
  {
   "cell_type": "markdown",
   "metadata": {},
   "source": [
    "# Modele"
   ]
  },
  {
   "cell_type": "code",
   "execution_count": 33,
   "metadata": {},
   "outputs": [],
   "source": [
    "from sklearn.metrics import mean_squared_error\n",
    "\n",
    "def modelTrain(x_train, y_train, x_test, y_test, modEl):\n",
    "    \n",
    "    \n",
    "    modEl.fit(x_train, y_train)\n",
    "    \n",
    "    y_pred = modEl.predict(x_test)\n",
    "    scOre = np.sqrt(mean_squared_error(y_test, y_pred) )\n",
    "    \n",
    "    return scOre, modEl\n",
    "                    "
   ]
  },
  {
   "cell_type": "code",
   "execution_count": 34,
   "metadata": {},
   "outputs": [],
   "source": [
    "from sklearn.ensemble import GradientBoostingRegressor\n",
    "gbr = GradientBoostingRegressor(random_state=0, min_samples_split=.2,\n",
    "                               n_estimators=40, max_features='log2')"
   ]
  },
  {
   "cell_type": "code",
   "execution_count": 8,
   "metadata": {},
   "outputs": [],
   "source": [
    "import pickle"
   ]
  },
  {
   "cell_type": "code",
   "execution_count": 35,
   "metadata": {},
   "outputs": [
    {
     "data": {
      "text/plain": [
       "1.4777213706583519"
      ]
     },
     "execution_count": 35,
     "metadata": {},
     "output_type": "execute_result"
    }
   ],
   "source": [
    "scOre, gbr = modelTrain(X_train, Y_train, X_test, Y_test, gbr)\n",
    "pickle.dump(gbr, open(\"pima.pickle.dat\", \"wb\"))\n",
    "scOre "
   ]
  },
  {
   "cell_type": "markdown",
   "metadata": {},
   "source": [
    "## Soumission"
   ]
  },
  {
   "cell_type": "code",
   "execution_count": 9,
   "metadata": {},
   "outputs": [
    {
     "data": {
      "text/plain": [
       "0"
      ]
     },
     "execution_count": 9,
     "metadata": {},
     "output_type": "execute_result"
    }
   ],
   "source": [
    "test = pd.read_csv('test.csv')\n",
    "weather_test = pd.read_csv('weather_test.csv')\n",
    "building_metadata = pd.read_csv('building_metadata.csv')\n",
    "test =test.merge(building_metadata, on='building_id', how='left')\n",
    "alltest= test.merge(weather_test, on=['site_id', 'timestamp'], how='left')\n",
    "del test, weather_test,building_metadata\n",
    "gc.collect()"
   ]
  },
  {
   "cell_type": "code",
   "execution_count": 10,
   "metadata": {},
   "outputs": [],
   "source": [
    "alltest.timestamp=pd.to_datetime(alltest['timestamp'])"
   ]
  },
  {
   "cell_type": "code",
   "execution_count": 38,
   "metadata": {},
   "outputs": [
    {
     "data": {
      "text/plain": [
       "floor_count           0.826050\n",
       "year_built            0.589916\n",
       "cloud_coverage        0.468664\n",
       "precip_depth_1_hr     0.187099\n",
       "wind_direction        0.071435\n",
       "sea_level_pressure    0.060359\n",
       "wind_speed            0.007245\n",
       "dew_temperature       0.006255\n",
       "air_temperature       0.005322\n",
       "square_feet           0.000000\n",
       "primary_use           0.000000\n",
       "site_id               0.000000\n",
       "timestamp             0.000000\n",
       "meter                 0.000000\n",
       "building_id           0.000000\n",
       "row_id                0.000000\n",
       "dtype: float64"
      ]
     },
     "execution_count": 38,
     "metadata": {},
     "output_type": "execute_result"
    }
   ],
   "source": [
    "(alltest.isna().sum()/alltest.shape[0]).sort_values(ascending=False)"
   ]
  },
  {
   "cell_type": "code",
   "execution_count": 11,
   "metadata": {},
   "outputs": [],
   "source": [
    "data_test = preProcecing_df(alltest)"
   ]
  },
  {
   "cell_type": "code",
   "execution_count": 12,
   "metadata": {},
   "outputs": [],
   "source": [
    "data_test['meter'] = pd.Categorical(data_test['meter']).rename_categories({0: 'electricity', \n",
    "                                                                   1: 'chilledwater',\n",
    "                                                                   2: 'steam', \n",
    "                                                                   3: 'hotwater'})"
   ]
  },
  {
   "cell_type": "code",
   "execution_count": 13,
   "metadata": {},
   "outputs": [],
   "source": [
    "data_test[\"building_id\"] = data_test[\"building_id\"].astype('category')\n",
    "data_test[\"site_id\"] = data_test[\"site_id\"].astype('category')\n",
    "data_test[\"primary_use\"] = data_test[\"primary_use\"].astype('category')\n",
    "data_test[\"saison\"] = data_test[\"saison\"].astype('category')\n",
    "data_test[\"heureDiscredite\"] = data_test[\"heureDiscredite\"].astype('category')\n",
    "data_test[\"year_built\"] = data_test[\"year_built\"].astype('category')"
   ]
  },
  {
   "cell_type": "code",
   "execution_count": 15,
   "metadata": {},
   "outputs": [
    {
     "data": {
      "text/plain": [
       "40"
      ]
     },
     "execution_count": 15,
     "metadata": {},
     "output_type": "execute_result"
    }
   ],
   "source": [
    "listColumns= [ 'wind_direction',  'dew_temperature',\n",
    "              'air_temperature', 'floor_count', 'square_feet']\n",
    "\n",
    "gc.collect()"
   ]
  },
  {
   "cell_type": "code",
   "execution_count": 16,
   "metadata": {},
   "outputs": [],
   "source": [
    "X_final = encodeur(data_test)"
   ]
  },
  {
   "cell_type": "code",
   "execution_count": 17,
   "metadata": {},
   "outputs": [],
   "source": [
    "X_final = minMax(X_final, listColumns, scaler)\n",
    "del data_test"
   ]
  },
  {
   "cell_type": "code",
   "execution_count": 18,
   "metadata": {},
   "outputs": [],
   "source": [
    "X_final = X_final.drop([\"row_id\"],axis=1)"
   ]
  },
  {
   "cell_type": "code",
   "execution_count": 21,
   "metadata": {},
   "outputs": [],
   "source": [
    "loaded_model = pickle.load(open(\"pima.pickle.dat\", \"rb\"))\n",
    "\n",
    "y_pred_final = loaded_model.predict(X_final)\n"
   ]
  },
  {
   "cell_type": "code",
   "execution_count": 22,
   "metadata": {},
   "outputs": [],
   "source": [
    "Ypred_finaldf = pd.DataFrame(data=y_pred_final)\n",
    "Ypred_finaldf.to_csv('mypred.csv', index=False)"
   ]
  },
  {
   "cell_type": "code",
   "execution_count": 23,
   "metadata": {},
   "outputs": [],
   "source": [
    "submission  = pd.read_csv('sample_submission.csv')\n",
    "submission['meter_reading'] = np.exp(y_pred_final)\n",
    "submission.loc[submission['meter_reading']<0, 'meter_reading'] = 0\n",
    "submission.to_csv('mysubmission.csv', index=False)"
   ]
  },
  {
   "cell_type": "code",
   "execution_count": 28,
   "metadata": {},
   "outputs": [
    {
     "data": {
      "text/html": [
       "<div>\n",
       "<style scoped>\n",
       "    .dataframe tbody tr th:only-of-type {\n",
       "        vertical-align: middle;\n",
       "    }\n",
       "\n",
       "    .dataframe tbody tr th {\n",
       "        vertical-align: top;\n",
       "    }\n",
       "\n",
       "    .dataframe thead th {\n",
       "        text-align: right;\n",
       "    }\n",
       "</style>\n",
       "<table border=\"1\" class=\"dataframe\">\n",
       "  <thead>\n",
       "    <tr style=\"text-align: right;\">\n",
       "      <th></th>\n",
       "      <th>row_id</th>\n",
       "      <th>meter_reading</th>\n",
       "    </tr>\n",
       "  </thead>\n",
       "  <tbody>\n",
       "    <tr>\n",
       "      <th>0</th>\n",
       "      <td>0</td>\n",
       "      <td>72.325889</td>\n",
       "    </tr>\n",
       "    <tr>\n",
       "      <th>1</th>\n",
       "      <td>1</td>\n",
       "      <td>72.325889</td>\n",
       "    </tr>\n",
       "    <tr>\n",
       "      <th>2</th>\n",
       "      <td>2</td>\n",
       "      <td>72.325889</td>\n",
       "    </tr>\n",
       "    <tr>\n",
       "      <th>3</th>\n",
       "      <td>3</td>\n",
       "      <td>95.950483</td>\n",
       "    </tr>\n",
       "    <tr>\n",
       "      <th>4</th>\n",
       "      <td>4</td>\n",
       "      <td>197.184983</td>\n",
       "    </tr>\n",
       "    <tr>\n",
       "      <th>...</th>\n",
       "      <td>...</td>\n",
       "      <td>...</td>\n",
       "    </tr>\n",
       "    <tr>\n",
       "      <th>41697595</th>\n",
       "      <td>41697595</td>\n",
       "      <td>28.944739</td>\n",
       "    </tr>\n",
       "    <tr>\n",
       "      <th>41697596</th>\n",
       "      <td>41697596</td>\n",
       "      <td>32.600900</td>\n",
       "    </tr>\n",
       "    <tr>\n",
       "      <th>41697597</th>\n",
       "      <td>41697597</td>\n",
       "      <td>31.704678</td>\n",
       "    </tr>\n",
       "    <tr>\n",
       "      <th>41697598</th>\n",
       "      <td>41697598</td>\n",
       "      <td>41.033636</td>\n",
       "    </tr>\n",
       "    <tr>\n",
       "      <th>41697599</th>\n",
       "      <td>41697599</td>\n",
       "      <td>85.043375</td>\n",
       "    </tr>\n",
       "  </tbody>\n",
       "</table>\n",
       "<p>41697600 rows × 2 columns</p>\n",
       "</div>"
      ],
      "text/plain": [
       "            row_id  meter_reading\n",
       "0                0      72.325889\n",
       "1                1      72.325889\n",
       "2                2      72.325889\n",
       "3                3      95.950483\n",
       "4                4     197.184983\n",
       "...            ...            ...\n",
       "41697595  41697595      28.944739\n",
       "41697596  41697596      32.600900\n",
       "41697597  41697597      31.704678\n",
       "41697598  41697598      41.033636\n",
       "41697599  41697599      85.043375\n",
       "\n",
       "[41697600 rows x 2 columns]"
      ]
     },
     "execution_count": 28,
     "metadata": {},
     "output_type": "execute_result"
    }
   ],
   "source": [
    "submission"
   ]
  }
 ],
 "metadata": {
  "colab": {
   "name": "Projet data camp (1).ipynb",
   "provenance": []
  },
  "kernelspec": {
   "display_name": "Python 3",
   "language": "python",
   "name": "python3"
  },
  "language_info": {
   "codemirror_mode": {
    "name": "ipython",
    "version": 3
   },
   "file_extension": ".py",
   "mimetype": "text/x-python",
   "name": "python",
   "nbconvert_exporter": "python",
   "pygments_lexer": "ipython3",
   "version": "3.7.6"
  }
 },
 "nbformat": 4,
 "nbformat_minor": 1
}
