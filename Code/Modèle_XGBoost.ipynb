{
  "nbformat": 4,
  "nbformat_minor": 0,
  "metadata": {
    "colab": {
      "name": "Modèle XGBoost.ipynb",
      "provenance": []
    },
    "kernelspec": {
      "name": "python3",
      "display_name": "Python 3"
    },
    "language_info": {
      "name": "python"
    }
  },
  "cells": [
    {
      "cell_type": "markdown",
      "metadata": {
        "id": "G00prMyThz4b"
      },
      "source": [
        "## Modèle Xgboost"
      ]
    },
    {
      "cell_type": "markdown",
      "metadata": {
        "id": "6MY08aHuvGcq"
      },
      "source": [
        "### Entrainement"
      ]
    },
    {
      "cell_type": "code",
      "metadata": {
        "id": "pIRWQUr_ZUy3"
      },
      "source": [
        "X_train1=X_train.copy()\n",
        "del X_train1['building_id']"
      ],
      "execution_count": null,
      "outputs": []
    },
    {
      "cell_type": "code",
      "metadata": {
        "id": "yP9Teue-aIcD"
      },
      "source": [
        "X_test1=X_test.copy()\n",
        "del X_test1['building_id']"
      ],
      "execution_count": null,
      "outputs": []
    },
    {
      "cell_type": "code",
      "metadata": {
        "id": "2buih0omfZrA"
      },
      "source": [
        "X_train1.to_csv (r'/content/drive/MyDrive/Kaggle/X_train1.csv', index = False, header=True)\n",
        "X_test1.to_csv (r'/content/drive/MyDrive/Kaggle/X_test1.csv', index = False, header=True)\n",
        "Y_train.to_csv (r'/content/drive/MyDrive/Kaggle/Y_train.csv', index = False, header=True)\n",
        "Y_test.to_csv (r'/content/drive/MyDrive/Kaggle/Y_test.csv', index = False, header=True)"
      ],
      "execution_count": null,
      "outputs": []
    },
    {
      "cell_type": "code",
      "metadata": {
        "id": "pn8dwG8vnIjI"
      },
      "source": [
        "import pandas as pd\n",
        "import numpy as np\n",
        "import matplotlib.pyplot as plt\n",
        "import seaborn as sns\n",
        "import pickle\n",
        "import scipy.stats\n",
        "import gc\n",
        "from sklearn.preprocessing import LabelEncoder\n",
        "le = LabelEncoder()"
      ],
      "execution_count": null,
      "outputs": []
    },
    {
      "cell_type": "code",
      "metadata": {
        "id": "hYBkt-xKviSC"
      },
      "source": [
        "X_train1 = pd.read_csv('/content/drive/MyDrive/Kaggle/X_train1.csv')#chemin Olivier"
      ],
      "execution_count": null,
      "outputs": []
    },
    {
      "cell_type": "code",
      "metadata": {
        "id": "VdyCoVuHviSf"
      },
      "source": [
        "X_test1 = pd.read_csv('/content/drive/MyDrive/Kaggle/X_test1.csv') #cHemin Olivier"
      ],
      "execution_count": null,
      "outputs": []
    },
    {
      "cell_type": "code",
      "metadata": {
        "id": "k2ZEZCIGviSg"
      },
      "source": [
        "Y_train = pd.read_csv('/content/drive/MyDrive/Kaggle/Y_train.csv')#chemin Olivier"
      ],
      "execution_count": null,
      "outputs": []
    },
    {
      "cell_type": "code",
      "metadata": {
        "id": "mRLakjcbviSg"
      },
      "source": [
        "Y_test = pd.read_csv('/content/drive/MyDrive/Kaggle/Y_test.csv')#chemin Olivier"
      ],
      "execution_count": null,
      "outputs": []
    },
    {
      "cell_type": "code",
      "metadata": {
        "id": "cwOJx38GobRn"
      },
      "source": [
        "def reduce_mem_usage(df, verbose=True):\n",
        "    numerics = ['int16', 'int32', 'int64', 'float16', 'float32', 'float64']\n",
        "    start_mem = df.memory_usage().sum() / 1024**2\n",
        "    for col in df.columns:\n",
        "        col_type = df[col].dtypes\n",
        "        if col_type in numerics:\n",
        "            c_min = df[col].min()\n",
        "            c_max = df[col].max()\n",
        "            if str(col_type)[:3] == 'int':\n",
        "                if c_min > np.iinfo(np.int8).min and c_max < np.iinfo(np.int8).max:\n",
        "                    df[col] = df[col].astype(np.int8)\n",
        "                elif c_min > np.iinfo(np.int16).min and c_max < np.iinfo(np.int16).max:\n",
        "                    df[col] = df[col].astype(np.int16)\n",
        "                elif c_min > np.iinfo(np.int32).min and c_max < np.iinfo(np.int32).max:\n",
        "                    df[col] = df[col].astype(np.int32)\n",
        "                elif c_min > np.iinfo(np.int64).min and c_max < np.iinfo(np.int64).max:\n",
        "                    df[col] = df[col].astype(np.int64)\n",
        "            else:\n",
        "                if c_min > np.finfo(np.float16).min and c_max < np.finfo(np.float16).max:\n",
        "                    df[col] = df[col].astype(np.float16)\n",
        "                elif c_min > np.finfo(np.float32).min and c_max < np.finfo(np.float32).max:\n",
        "                    df[col] = df[col].astype(np.float32)\n",
        "                else:\n",
        "                    df[col] = df[col].astype(np.float64)\n",
        "\n",
        "    end_mem = df.memory_usage().sum() / 1024**2\n",
        "    print('Memory usage after optimization is: {:.2f} MB'.format(end_mem))\n",
        "    print('Decreased by {:.1f}%'.format(100 * (start_mem - end_mem) / start_mem))\n",
        "\n",
        "    return df"
      ],
      "execution_count": null,
      "outputs": []
    },
    {
      "cell_type": "code",
      "metadata": {
        "colab": {
          "base_uri": "https://localhost:8080/"
        },
        "id": "4M1UixnNYw-x",
        "outputId": "702302ca-ce9e-4efe-cd9f-274ee61b5d67"
      },
      "source": [
        "X_train1=reduce_mem_usage(X_train1)\n",
        "X_test1=reduce_mem_usage(X_test1)"
      ],
      "execution_count": null,
      "outputs": [
        {
          "output_type": "stream",
          "text": [
            "Memory usage after optimization is: 429.32 MB\n",
            "Decreased by 85.6%\n",
            "Memory usage after optimization is: 235.39 MB\n",
            "Decreased by 85.6%\n"
          ],
          "name": "stdout"
        }
      ]
    },
    {
      "cell_type": "code",
      "metadata": {
        "colab": {
          "base_uri": "https://localhost:8080/"
        },
        "id": "VNCGR8l3apXd",
        "outputId": "aa6994ec-8fd9-4b07-8004-54b12513d854"
      },
      "source": [
        "Y_train=reduce_mem_usage(Y_train)\n",
        "Y_test1=reduce_mem_usage(Y_test)"
      ],
      "execution_count": null,
      "outputs": [
        {
          "output_type": "stream",
          "text": [
            "Memory usage after optimization is: 22.60 MB\n",
            "Decreased by 75.0%\n",
            "Memory usage after optimization is: 12.39 MB\n",
            "Decreased by 75.0%\n"
          ],
          "name": "stdout"
        }
      ]
    },
    {
      "cell_type": "code",
      "metadata": {
        "colab": {
          "base_uri": "https://localhost:8080/"
        },
        "id": "csGLVDwBfTxJ",
        "outputId": "e030c4af-2cb9-4907-d8c0-0a70dc2885cc"
      },
      "source": [
        "! sudo pip install xgboost"
      ],
      "execution_count": null,
      "outputs": [
        {
          "output_type": "stream",
          "text": [
            "Requirement already satisfied: xgboost in /usr/local/lib/python3.7/dist-packages (0.90)\n",
            "Requirement already satisfied: numpy in /usr/local/lib/python3.7/dist-packages (from xgboost) (1.19.5)\n",
            "Requirement already satisfied: scipy in /usr/local/lib/python3.7/dist-packages (from xgboost) (1.4.1)\n"
          ],
          "name": "stdout"
        }
      ]
    },
    {
      "cell_type": "code",
      "metadata": {
        "id": "Ct41wzgZhQGj"
      },
      "source": [
        "from xgboost import XGBRegressor as XGB"
      ],
      "execution_count": null,
      "outputs": []
    },
    {
      "cell_type": "code",
      "metadata": {
        "id": "Iphp9Y44nQzP"
      },
      "source": [
        "X_train1.info()"
      ],
      "execution_count": null,
      "outputs": []
    },
    {
      "cell_type": "code",
      "metadata": {
        "id": "Yh_BOL4LnTtt"
      },
      "source": [
        "Y_train.info()"
      ],
      "execution_count": null,
      "outputs": []
    },
    {
      "cell_type": "code",
      "metadata": {
        "id": "PORSNURdglXA"
      },
      "source": [
        "params = {\n",
        "    \"objective\": \"reg:squarederror\",\n",
        "    \"metric\": \"rmse\",\n",
        "}"
      ],
      "execution_count": null,
      "outputs": []
    },
    {
      "cell_type": "code",
      "metadata": {
        "id": "_yIHRYhrjDLY"
      },
      "source": [
        "XGB = XGB(**params)"
      ],
      "execution_count": null,
      "outputs": []
    },
    {
      "cell_type": "code",
      "metadata": {
        "id": "FtEh-MP9gekG"
      },
      "source": [
        "XGB_Reg=XGB.fit(X_train1, Y_train,\n",
        "        eval_set=[(X_test1, Y_test)],\n",
        "        eval_metric='rmse',\n",
        "        verbose=True)"
      ],
      "execution_count": null,
      "outputs": []
    },
    {
      "cell_type": "code",
      "metadata": {
        "id": "-pGZZIYGgk_O"
      },
      "source": [
        "Y_pred=XGB_Reg.predict(X_test1,ntree_limit=XGB_Reg.best_iteration)"
      ],
      "execution_count": null,
      "outputs": []
    },
    {
      "cell_type": "code",
      "metadata": {
        "id": "g5-L5JWInciw"
      },
      "source": [
        "print(Y_pred[300:320]);print(Y_test[300:320])"
      ],
      "execution_count": null,
      "outputs": []
    },
    {
      "cell_type": "code",
      "metadata": {
        "colab": {
          "base_uri": "https://localhost:8080/"
        },
        "id": "AKgUz1S3obml",
        "outputId": "c23f2b21-6057-43ca-8690-a0e1b1002243"
      },
      "source": [
        "mse_XGB = mean_squared_error(Y_test, Y_pred)**0.5\n",
        "print(\"The mean squared error (MSE) of XGB Model on test set: {:.4f}\".format(mse_XGB))"
      ],
      "execution_count": null,
      "outputs": [
        {
          "output_type": "stream",
          "text": [
            "The mean squared error (MSE) of XGB Model on test set: 1.3659\n"
          ],
          "name": "stdout"
        }
      ]
    },
    {
      "cell_type": "code",
      "metadata": {
        "id": "EQnzesASrAhc"
      },
      "source": [
        "XGB_Reg.save_model('/content/drive/MyDrive/Kaggle/XGB_Reg.txt') "
      ],
      "execution_count": null,
      "outputs": []
    },
    {
      "cell_type": "code",
      "metadata": {
        "id": "17qD1tKEEHZU"
      },
      "source": [
        "pickle.dump(XGB_Reg, open(\"pima.pickle.dat\", \"wb\"))"
      ],
      "execution_count": null,
      "outputs": []
    },
    {
      "cell_type": "code",
      "metadata": {
        "id": "IaMgcsH9lsUR"
      },
      "source": [
        "del XGB_Reg"
      ],
      "execution_count": null,
      "outputs": []
    },
    {
      "cell_type": "markdown",
      "metadata": {
        "id": "ugKNpzSqvqNc"
      },
      "source": [
        "### Prediction et soumission"
      ]
    },
    {
      "cell_type": "code",
      "metadata": {
        "id": "MTu9nlUnVuD9",
        "colab": {
          "base_uri": "https://localhost:8080/"
        },
        "outputId": "ee00642a-a900-4f53-d5a3-0c08fbc56a32"
      },
      "source": [
        "! mkdir ~/.kaggle/"
      ],
      "execution_count": null,
      "outputs": [
        {
          "output_type": "stream",
          "text": [
            "mkdir: cannot create directory ‘/root/.kaggle/’: File exists\n"
          ],
          "name": "stdout"
        }
      ]
    },
    {
      "cell_type": "code",
      "metadata": {
        "id": "Myx1csZ2VoiF"
      },
      "source": [
        "! cp '/content/drive/MyDrive/Kaggle/kaggle.json' ~/.kaggle/"
      ],
      "execution_count": null,
      "outputs": []
    },
    {
      "cell_type": "code",
      "metadata": {
        "id": "DL8XP6bWVyHM"
      },
      "source": [
        "! chmod 600 ~/.kaggle/kaggle.json"
      ],
      "execution_count": null,
      "outputs": []
    },
    {
      "cell_type": "code",
      "metadata": {
        "id": "ytepqi98V2IV",
        "colab": {
          "base_uri": "https://localhost:8080/",
          "height": 346
        },
        "outputId": "24f75eae-8bc3-4cc6-d61b-66ac89556795"
      },
      "source": [
        "! kaggle competitions download -c ashrae-energy-prediction"
      ],
      "execution_count": null,
      "outputs": [
        {
          "output_type": "error",
          "ename": "KeyboardInterrupt",
          "evalue": "ignored",
          "traceback": [
            "\u001b[0;31m---------------------------------------------------------------------------\u001b[0m",
            "\u001b[0;31mKeyboardInterrupt\u001b[0m                         Traceback (most recent call last)",
            "\u001b[0;32m<ipython-input-102-71fbd2e5cc04>\u001b[0m in \u001b[0;36m<module>\u001b[0;34m()\u001b[0m\n\u001b[0;32m----> 1\u001b[0;31m \u001b[0mget_ipython\u001b[0m\u001b[0;34m(\u001b[0m\u001b[0;34m)\u001b[0m\u001b[0;34m.\u001b[0m\u001b[0msystem\u001b[0m\u001b[0;34m(\u001b[0m\u001b[0;34m' kaggle competitions download -c ashrae-energy-prediction'\u001b[0m\u001b[0;34m)\u001b[0m\u001b[0;34m\u001b[0m\u001b[0;34m\u001b[0m\u001b[0m\n\u001b[0m",
            "\u001b[0;32m/usr/local/lib/python3.7/dist-packages/google/colab/_shell.py\u001b[0m in \u001b[0;36msystem\u001b[0;34m(self, *args, **kwargs)\u001b[0m\n\u001b[1;32m    100\u001b[0m       \u001b[0mkwargs\u001b[0m\u001b[0;34m.\u001b[0m\u001b[0mupdate\u001b[0m\u001b[0;34m(\u001b[0m\u001b[0;34m{\u001b[0m\u001b[0;34m'also_return_output'\u001b[0m\u001b[0;34m:\u001b[0m \u001b[0;32mTrue\u001b[0m\u001b[0;34m}\u001b[0m\u001b[0;34m)\u001b[0m\u001b[0;34m\u001b[0m\u001b[0;34m\u001b[0m\u001b[0m\n\u001b[1;32m    101\u001b[0m \u001b[0;34m\u001b[0m\u001b[0m\n\u001b[0;32m--> 102\u001b[0;31m     \u001b[0moutput\u001b[0m \u001b[0;34m=\u001b[0m \u001b[0m_system_commands\u001b[0m\u001b[0;34m.\u001b[0m\u001b[0m_system_compat\u001b[0m\u001b[0;34m(\u001b[0m\u001b[0mself\u001b[0m\u001b[0;34m,\u001b[0m \u001b[0;34m*\u001b[0m\u001b[0margs\u001b[0m\u001b[0;34m,\u001b[0m \u001b[0;34m**\u001b[0m\u001b[0mkwargs\u001b[0m\u001b[0;34m)\u001b[0m  \u001b[0;31m# pylint:disable=protected-access\u001b[0m\u001b[0;34m\u001b[0m\u001b[0;34m\u001b[0m\u001b[0m\n\u001b[0m\u001b[1;32m    103\u001b[0m \u001b[0;34m\u001b[0m\u001b[0m\n\u001b[1;32m    104\u001b[0m     \u001b[0;32mif\u001b[0m \u001b[0mpip_warn\u001b[0m\u001b[0;34m:\u001b[0m\u001b[0;34m\u001b[0m\u001b[0;34m\u001b[0m\u001b[0m\n",
            "\u001b[0;32m/usr/local/lib/python3.7/dist-packages/google/colab/_system_commands.py\u001b[0m in \u001b[0;36m_system_compat\u001b[0;34m(shell, cmd, also_return_output)\u001b[0m\n\u001b[1;32m    445\u001b[0m   \u001b[0;31m# stack.\u001b[0m\u001b[0;34m\u001b[0m\u001b[0;34m\u001b[0m\u001b[0;34m\u001b[0m\u001b[0m\n\u001b[1;32m    446\u001b[0m   result = _run_command(\n\u001b[0;32m--> 447\u001b[0;31m       shell.var_expand(cmd, depth=2), clear_streamed_output=False)\n\u001b[0m\u001b[1;32m    448\u001b[0m   \u001b[0mshell\u001b[0m\u001b[0;34m.\u001b[0m\u001b[0muser_ns\u001b[0m\u001b[0;34m[\u001b[0m\u001b[0;34m'_exit_code'\u001b[0m\u001b[0;34m]\u001b[0m \u001b[0;34m=\u001b[0m \u001b[0mresult\u001b[0m\u001b[0;34m.\u001b[0m\u001b[0mreturncode\u001b[0m\u001b[0;34m\u001b[0m\u001b[0;34m\u001b[0m\u001b[0m\n\u001b[1;32m    449\u001b[0m   \u001b[0;32mif\u001b[0m \u001b[0;34m-\u001b[0m\u001b[0mresult\u001b[0m\u001b[0;34m.\u001b[0m\u001b[0mreturncode\u001b[0m \u001b[0;32min\u001b[0m \u001b[0m_INTERRUPTED_SIGNALS\u001b[0m\u001b[0;34m:\u001b[0m\u001b[0;34m\u001b[0m\u001b[0;34m\u001b[0m\u001b[0m\n",
            "\u001b[0;32m/usr/local/lib/python3.7/dist-packages/google/colab/_system_commands.py\u001b[0m in \u001b[0;36m_run_command\u001b[0;34m(cmd, clear_streamed_output)\u001b[0m\n\u001b[1;32m    193\u001b[0m           \u001b[0mstdin\u001b[0m\u001b[0;34m=\u001b[0m\u001b[0mstdin\u001b[0m\u001b[0;34m,\u001b[0m\u001b[0;34m\u001b[0m\u001b[0;34m\u001b[0m\u001b[0m\n\u001b[1;32m    194\u001b[0m           \u001b[0mstderr\u001b[0m\u001b[0;34m=\u001b[0m\u001b[0mchild_pty\u001b[0m\u001b[0;34m,\u001b[0m\u001b[0;34m\u001b[0m\u001b[0;34m\u001b[0m\u001b[0m\n\u001b[0;32m--> 195\u001b[0;31m           close_fds=True)\n\u001b[0m\u001b[1;32m    196\u001b[0m       \u001b[0;31m# The child PTY is only needed by the spawned process.\u001b[0m\u001b[0;34m\u001b[0m\u001b[0;34m\u001b[0m\u001b[0;34m\u001b[0m\u001b[0m\n\u001b[1;32m    197\u001b[0m       \u001b[0mos\u001b[0m\u001b[0;34m.\u001b[0m\u001b[0mclose\u001b[0m\u001b[0;34m(\u001b[0m\u001b[0mchild_pty\u001b[0m\u001b[0;34m)\u001b[0m\u001b[0;34m\u001b[0m\u001b[0;34m\u001b[0m\u001b[0m\n",
            "\u001b[0;32m/usr/lib/python3.7/subprocess.py\u001b[0m in \u001b[0;36m__init__\u001b[0;34m(self, args, bufsize, executable, stdin, stdout, stderr, preexec_fn, close_fds, shell, cwd, env, universal_newlines, startupinfo, creationflags, restore_signals, start_new_session, pass_fds, encoding, errors, text)\u001b[0m\n\u001b[1;32m    798\u001b[0m                                 \u001b[0mc2pread\u001b[0m\u001b[0;34m,\u001b[0m \u001b[0mc2pwrite\u001b[0m\u001b[0;34m,\u001b[0m\u001b[0;34m\u001b[0m\u001b[0;34m\u001b[0m\u001b[0m\n\u001b[1;32m    799\u001b[0m                                 \u001b[0merrread\u001b[0m\u001b[0;34m,\u001b[0m \u001b[0merrwrite\u001b[0m\u001b[0;34m,\u001b[0m\u001b[0;34m\u001b[0m\u001b[0;34m\u001b[0m\u001b[0m\n\u001b[0;32m--> 800\u001b[0;31m                                 restore_signals, start_new_session)\n\u001b[0m\u001b[1;32m    801\u001b[0m         \u001b[0;32mexcept\u001b[0m\u001b[0;34m:\u001b[0m\u001b[0;34m\u001b[0m\u001b[0;34m\u001b[0m\u001b[0m\n\u001b[1;32m    802\u001b[0m             \u001b[0;31m# Cleanup if the child failed starting.\u001b[0m\u001b[0;34m\u001b[0m\u001b[0;34m\u001b[0m\u001b[0;34m\u001b[0m\u001b[0m\n",
            "\u001b[0;32m/usr/lib/python3.7/subprocess.py\u001b[0m in \u001b[0;36m_execute_child\u001b[0;34m(self, args, executable, preexec_fn, close_fds, pass_fds, cwd, env, startupinfo, creationflags, shell, p2cread, p2cwrite, c2pread, c2pwrite, errread, errwrite, restore_signals, start_new_session)\u001b[0m\n\u001b[1;32m   1480\u001b[0m                             \u001b[0merrread\u001b[0m\u001b[0;34m,\u001b[0m \u001b[0merrwrite\u001b[0m\u001b[0;34m,\u001b[0m\u001b[0;34m\u001b[0m\u001b[0;34m\u001b[0m\u001b[0m\n\u001b[1;32m   1481\u001b[0m                             \u001b[0merrpipe_read\u001b[0m\u001b[0;34m,\u001b[0m \u001b[0merrpipe_write\u001b[0m\u001b[0;34m,\u001b[0m\u001b[0;34m\u001b[0m\u001b[0;34m\u001b[0m\u001b[0m\n\u001b[0;32m-> 1482\u001b[0;31m                             restore_signals, start_new_session, preexec_fn)\n\u001b[0m\u001b[1;32m   1483\u001b[0m                     \u001b[0mself\u001b[0m\u001b[0;34m.\u001b[0m\u001b[0m_child_created\u001b[0m \u001b[0;34m=\u001b[0m \u001b[0;32mTrue\u001b[0m\u001b[0;34m\u001b[0m\u001b[0;34m\u001b[0m\u001b[0m\n\u001b[1;32m   1484\u001b[0m                 \u001b[0;32mfinally\u001b[0m\u001b[0;34m:\u001b[0m\u001b[0;34m\u001b[0m\u001b[0;34m\u001b[0m\u001b[0m\n",
            "\u001b[0;31mKeyboardInterrupt\u001b[0m: "
          ]
        }
      ]
    },
    {
      "cell_type": "code",
      "metadata": {
        "id": "lj2rdz4EV7iz"
      },
      "source": [
        "! unzip '/content/test.csv.zip' -d test\n",
        "! unzip '/content/weather_test.csv.zip' -d weather_test"
      ],
      "execution_count": null,
      "outputs": []
    },
    {
      "cell_type": "code",
      "metadata": {
        "id": "Z-1Pce8O0iXJ"
      },
      "source": [
        "\n",
        "building_metadata = pd.read_csv('/content/drive/MyDrive/Kaggle/building_metadata.csv')\n"
      ],
      "execution_count": null,
      "outputs": []
    },
    {
      "cell_type": "code",
      "metadata": {
        "id": "jnVWV46XahJA"
      },
      "source": [
        "def reduce_mem_usage(df, verbose=True):\n",
        "    numerics = ['int16', 'int32', 'int64', 'float16', 'float32', 'float64']\n",
        "    start_mem = df.memory_usage().sum() / 1024**3\n",
        "    for col in df.columns:\n",
        "        col_type = df[col].dtypes\n",
        "        if col_type in numerics:\n",
        "            c_min = df[col].min()\n",
        "            c_max = df[col].max()\n",
        "            if str(col_type)[:3] == 'int':\n",
        "                if c_min > np.iinfo(np.int8).min and c_max < np.iinfo(np.int8).max:\n",
        "                    df[col] = df[col].astype(np.int8)\n",
        "                elif c_min > np.iinfo(np.int16).min and c_max < np.iinfo(np.int16).max:\n",
        "                    df[col] = df[col].astype(np.int16)\n",
        "                elif c_min > np.iinfo(np.int32).min and c_max < np.iinfo(np.int32).max:\n",
        "                    df[col] = df[col].astype(np.int32)\n",
        "                elif c_min > np.iinfo(np.int64).min and c_max < np.iinfo(np.int64).max:\n",
        "                    df[col] = df[col].astype(np.int64)\n",
        "            else:\n",
        "                if c_min > np.finfo(np.float16).min and c_max < np.finfo(np.float16).max:\n",
        "                    df[col] = df[col].astype(np.float16)\n",
        "                elif c_min > np.finfo(np.float32).min and c_max < np.finfo(np.float32).max:\n",
        "                    df[col] = df[col].astype(np.float32)\n",
        "                else:\n",
        "                    df[col] = df[col].astype(np.float64)\n",
        "\n",
        "    end_mem = df.memory_usage().sum() / 1024**3\n",
        "    print('Memory usage after optimization is: {:.2f} MB'.format(end_mem))\n",
        "    print('Decreased by {:.1f}%'.format(100 * (start_mem - end_mem) / start_mem))\n",
        "\n",
        "    return df"
      ],
      "execution_count": null,
      "outputs": []
    },
    {
      "cell_type": "code",
      "metadata": {
        "id": "jIF7qNFl0zHL"
      },
      "source": [
        "test = reduce_mem_usage(test)"
      ],
      "execution_count": null,
      "outputs": []
    },
    {
      "cell_type": "code",
      "metadata": {
        "id": "k99Uy4Hq03rN"
      },
      "source": [
        "weather_test = reduce_mem_usage(weather_test)"
      ],
      "execution_count": null,
      "outputs": []
    },
    {
      "cell_type": "code",
      "metadata": {
        "id": "0zjWi7Rl07x9"
      },
      "source": [
        "building_metadata = reduce_mem_usage(building_metadata)"
      ],
      "execution_count": null,
      "outputs": []
    },
    {
      "cell_type": "code",
      "metadata": {
        "id": "TY3BV3b301LE"
      },
      "source": [
        "test =test.merge(building_metadata, on='building_id', how='left')\n",
        "alltest= test.merge(weather_test, on=['site_id', 'timestamp'], how='left')\n",
        "del test, weather_test,building_metadata\n",
        "gc.collect()"
      ],
      "execution_count": null,
      "outputs": []
    },
    {
      "cell_type": "code",
      "metadata": {
        "id": "DJ7Wk_B-1Rel"
      },
      "source": [
        "alltest = reduce_mem_usage(alltest)"
      ],
      "execution_count": null,
      "outputs": []
    },
    {
      "cell_type": "code",
      "metadata": {
        "id": "1m0XSaVx0iXX"
      },
      "source": [
        "alltest.timestamp=pd.to_datetime(alltest['timestamp'])"
      ],
      "execution_count": null,
      "outputs": []
    },
    {
      "cell_type": "code",
      "metadata": {
        "id": "pu6AXAei0iXY"
      },
      "source": [
        "(alltest.isna().sum()/alltest.shape[0]).sort_values(ascending=False)"
      ],
      "execution_count": null,
      "outputs": []
    },
    {
      "cell_type": "code",
      "metadata": {
        "id": "KvNLqf3pc2Hy"
      },
      "source": [
        "alltest.to_csv (r'/content/drive/MyDrive/Kaggle/alltest.csv', index = False, header=True)"
      ],
      "execution_count": null,
      "outputs": []
    },
    {
      "cell_type": "code",
      "metadata": {
        "id": "01H0doVL0iXZ"
      },
      "source": [
        "data_test = preProcecing_df(alltest)"
      ],
      "execution_count": null,
      "outputs": []
    },
    {
      "cell_type": "code",
      "metadata": {
        "id": "k8RrjL3a0iXZ"
      },
      "source": [
        "data_test['meter'] = pd.Categorical(data_test['meter']).rename_categories({0: 'electricity', \n",
        "                                                                   1: 'chilledwater',\n",
        "                                                                   2: 'steam', \n",
        "                                                                   3: 'hotwater'})"
      ],
      "execution_count": null,
      "outputs": []
    },
    {
      "cell_type": "code",
      "metadata": {
        "id": "Rt33UP9-YYh8"
      },
      "source": [
        "reduce_mem_usage(data_test)"
      ],
      "execution_count": null,
      "outputs": []
    },
    {
      "cell_type": "code",
      "metadata": {
        "id": "1uEbiN3j0iXa"
      },
      "source": [
        "data_test[\"building_id\"] = data_test[\"building_id\"].astype('category')\n",
        "data_test[\"site_id\"] = data_test[\"site_id\"].astype('category')\n",
        "data_test[\"primary_use\"] = data_test[\"primary_use\"].astype('category')\n",
        "data_test[\"saison\"] = data_test[\"saison\"].astype('category')\n",
        "data_test[\"heureDiscredite\"] = data_test[\"heureDiscredite\"].astype('category')\n",
        "data_test[\"year_built\"] = data_test[\"year_built\"].astype('category')"
      ],
      "execution_count": null,
      "outputs": []
    },
    {
      "cell_type": "code",
      "metadata": {
        "id": "zsn3diYj8kvu"
      },
      "source": [
        "data_test.to_csv (r'/content/drive/MyDrive/Kaggle/data_test.csv', index = False, header=True)"
      ],
      "execution_count": null,
      "outputs": []
    },
    {
      "cell_type": "code",
      "metadata": {
        "id": "3yRsZrdH0iXb"
      },
      "source": [
        "listColumns= [ 'wind_direction',  'dew_temperature',\n",
        "              'air_temperature', 'floor_count', 'square_feet']\n",
        "\n",
        "gc.collect()"
      ],
      "execution_count": null,
      "outputs": []
    },
    {
      "cell_type": "code",
      "metadata": {
        "id": "rKA9YVRUYvBD"
      },
      "source": [
        "def encodeur(df): \n",
        "    X_Encod=pd.concat([df, pd.get_dummies(df[\"primary_use\"], dtype=int) ], axis=1)\n",
        "    reduce_mem_usage(X_Encod)\n",
        "    X_Encod=pd.concat([X_Encod, pd.get_dummies(df[\"saison\"], dtype=int) ], axis=1)\n",
        "    reduce_mem_usage(X_Encod)\n",
        "    X_Encod=pd.concat([X_Encod, pd.get_dummies(df[\"heureDiscredite\"], dtype=int) ], axis=1)\n",
        "    reduce_mem_usage(X_Encod)\n",
        "    X_Encod=pd.concat([X_Encod, pd.get_dummies(df[\"meter\"], dtype=int) ], axis=1)\n",
        "    reduce_mem_usage(X_Encod)\n",
        "    X_Encod=pd.concat([X_Encod, pd.get_dummies(df[\"year_built\"], dtype=int) ], axis=1)\n",
        "    reduce_mem_usage(X_Encod)\n",
        "\n",
        "    for col in [\"primary_use\",'year_built', \"saison\", \"heureDiscredite\", 'meter']:\n",
        "        del X_Encod[col]\n",
        "\n",
        "\n",
        "    return X_Encod"
      ],
      "execution_count": null,
      "outputs": []
    },
    {
      "cell_type": "code",
      "metadata": {
        "id": "sP1Y70W50iXb"
      },
      "source": [
        "X_final = encodeur(data_test)"
      ],
      "execution_count": null,
      "outputs": []
    },
    {
      "cell_type": "code",
      "metadata": {
        "id": "2SB0l9Qi0iXc"
      },
      "source": [
        "X_final = minMax(X_final, listColumns, scaler)\n",
        "del data_test"
      ],
      "execution_count": null,
      "outputs": []
    },
    {
      "cell_type": "code",
      "metadata": {
        "id": "sBe0IGWd0iXd"
      },
      "source": [
        "X_final = X_final.drop([\"row_id\"],axis=1)"
      ],
      "execution_count": null,
      "outputs": []
    },
    {
      "cell_type": "code",
      "metadata": {
        "id": "jRAFFeoO6Yqb"
      },
      "source": [
        "del X_final['building_id']"
      ],
      "execution_count": null,
      "outputs": []
    },
    {
      "cell_type": "code",
      "metadata": {
        "id": "6_4baXQ9cUPl"
      },
      "source": [
        "X_final[\"site_id\"] = X_final[\"site_id\"].astype('int')"
      ],
      "execution_count": null,
      "outputs": []
    },
    {
      "cell_type": "code",
      "metadata": {
        "id": "_y8m52Op6NPh"
      },
      "source": [
        "X_final.to_csv (r'/content/drive/MyDrive/Kaggle/X_final.csv', index = False, header=True)"
      ],
      "execution_count": null,
      "outputs": []
    },
    {
      "cell_type": "code",
      "metadata": {
        "id": "bST-OwDRclM-"
      },
      "source": [
        "X_final  = pd.read_csv('/content/drive/MyDrive/Kaggle/X_final.csv')"
      ],
      "execution_count": null,
      "outputs": []
    },
    {
      "cell_type": "code",
      "metadata": {
        "id": "cQKfpiZ-js6Q"
      },
      "source": [
        "reduce_mem_usage(X_final)"
      ],
      "execution_count": null,
      "outputs": []
    },
    {
      "cell_type": "code",
      "metadata": {
        "id": "kCjJ8qiqbl9e"
      },
      "source": [
        "X_final.info()"
      ],
      "execution_count": null,
      "outputs": []
    },
    {
      "cell_type": "code",
      "metadata": {
        "id": "-6cTKPrHjpVw"
      },
      "source": [
        "cols = list(X_final.columns.values)"
      ],
      "execution_count": null,
      "outputs": []
    },
    {
      "cell_type": "code",
      "metadata": {
        "id": "kn86Uai1nKwn"
      },
      "source": [
        "cols=[ 'site_id', 'square_feet', 'floor_count', 'air_temperature', 'dew_temperature', 'wind_direction', 'week_end', 'Education', 'Entertainment/public assembly', 'Food sales and service', 'Healthcare', 'Lodging/residential', 'Manufacturing/industrial', 'Other', 'Parking', 'Public services', 'Religious worship', 'Retail', 'Services', 'Technology/science', 'Utility', 'Warehouse/storage', 'automne', 'ete', 'hiver', 'nuit', 'tard', 'chilledwater','electricity', 'steam', 'yearB_q1', 'yearB_q2', 'yearB_q3']"
      ],
      "execution_count": null,
      "outputs": []
    },
    {
      "cell_type": "code",
      "metadata": {
        "id": "x001DWHWoOC8"
      },
      "source": [
        "X_final=X_final[cols]"
      ],
      "execution_count": null,
      "outputs": []
    },
    {
      "cell_type": "code",
      "metadata": {
        "id": "Bt5cQ6g8TE96"
      },
      "source": [
        "loaded_model = pickle.load(open(\"pima.pickle.dat\", \"rb\"))"
      ],
      "execution_count": null,
      "outputs": []
    },
    {
      "cell_type": "code",
      "metadata": {
        "id": "7aXV_BzwWPHV"
      },
      "source": [
        "X_final.info()"
      ],
      "execution_count": null,
      "outputs": []
    },
    {
      "cell_type": "code",
      "metadata": {
        "id": "KUvpk3v4MmyH"
      },
      "source": [
        "X_final1=X_final.iloc[0:8000000,0:33]\n",
        "reduce_mem_usage(X_final1)"
      ],
      "execution_count": null,
      "outputs": []
    },
    {
      "cell_type": "code",
      "metadata": {
        "id": "Wr2xa4IrMmif"
      },
      "source": [
        "Y_pred_final1 = loaded_model.predict(X_final1,ntree_limit= loaded_model.get_booster().best_ntree_limit)"
      ],
      "execution_count": null,
      "outputs": []
    },
    {
      "cell_type": "code",
      "metadata": {
        "id": "Jjng_TDyMmSv"
      },
      "source": [
        "Y_pred_final1 = pd.DataFrame(data=Y_pred_final1)\n",
        "Y_pred_final1=Y_pred_final1.to_csv('/content/Y_pred_final1.csv', index=False)"
      ],
      "execution_count": null,
      "outputs": []
    },
    {
      "cell_type": "code",
      "metadata": {
        "id": "cRxqZz_6M5K6"
      },
      "source": [
        "del X_final1\n",
        "del Y_pred_final1"
      ],
      "execution_count": null,
      "outputs": []
    },
    {
      "cell_type": "code",
      "metadata": {
        "id": "3Z7_Y2CgSJEc"
      },
      "source": [
        "X_final2=X_final.iloc[8000000:16000000,0:33]\n",
        "reduce_mem_usage(X_final2)"
      ],
      "execution_count": null,
      "outputs": []
    },
    {
      "cell_type": "code",
      "metadata": {
        "id": "QVulT7pvTq_x"
      },
      "source": [
        "Y_pred_final2 = loaded_model.predict(X_final2,ntree_limit= loaded_model.get_booster().best_ntree_limit)"
      ],
      "execution_count": null,
      "outputs": []
    },
    {
      "cell_type": "code",
      "metadata": {
        "id": "mEM7KeAJTq_0"
      },
      "source": [
        "Y_pred_final2 = pd.DataFrame(data=Y_pred_final2)\n",
        "Y_pred_final2 = Y_pred_final2.to_csv('/content/Y_pred_final2.csv', index=False)"
      ],
      "execution_count": null,
      "outputs": []
    },
    {
      "cell_type": "code",
      "metadata": {
        "id": "Fa7LEHb-Tq_1"
      },
      "source": [
        "del X_final2\n",
        "del Y_pred_final2"
      ],
      "execution_count": null,
      "outputs": []
    },
    {
      "cell_type": "code",
      "metadata": {
        "id": "gvF5CJPssvfZ"
      },
      "source": [
        "X_final3=X_final.iloc[16000000:24000000,0:33]\n",
        "reduce_mem_usage(X_final3)"
      ],
      "execution_count": null,
      "outputs": []
    },
    {
      "cell_type": "code",
      "metadata": {
        "id": "BYB7vXpKUa-X"
      },
      "source": [
        "Y_pred_final3 = loaded_model.predict(X_final3,ntree_limit= loaded_model.get_booster().best_ntree_limit)"
      ],
      "execution_count": null,
      "outputs": []
    },
    {
      "cell_type": "code",
      "metadata": {
        "id": "sK0HhvMtUa-Y"
      },
      "source": [
        "Y_pred_final3 = pd.DataFrame(data=Y_pred_final3)\n",
        "Y_pred_final3 = Y_pred_final3.to_csv('/content/Y_pred_final3.csv', index=False)"
      ],
      "execution_count": null,
      "outputs": []
    },
    {
      "cell_type": "code",
      "metadata": {
        "id": "SgtV_fj3Ua-Y"
      },
      "source": [
        "del X_final3\n",
        "del Y_pred_final3"
      ],
      "execution_count": null,
      "outputs": []
    },
    {
      "cell_type": "code",
      "metadata": {
        "id": "PFXxwvLQUQ3-"
      },
      "source": [
        "X_final4=X_final.iloc[24000000:32000000,0:33]\n",
        "reduce_mem_usage(X_final4)"
      ],
      "execution_count": null,
      "outputs": []
    },
    {
      "cell_type": "code",
      "metadata": {
        "id": "bz3zSppjUyrO"
      },
      "source": [
        "Y_pred_final4 = loaded_model.predict(X_final4,ntree_limit= loaded_model.get_booster().best_ntree_limit)"
      ],
      "execution_count": null,
      "outputs": []
    },
    {
      "cell_type": "code",
      "metadata": {
        "id": "qlEC4s2WUyrP"
      },
      "source": [
        "Y_pred_final4 = pd.DataFrame(data=Y_pred_final4)\n",
        "Y_pred_final4 = Y_pred_final4.to_csv('/content/Y_pred_final4.csv', index=False)"
      ],
      "execution_count": null,
      "outputs": []
    },
    {
      "cell_type": "code",
      "metadata": {
        "id": "4wk-Mu8DUyrQ"
      },
      "source": [
        "del X_final4\n",
        "del Y_pred_final4"
      ],
      "execution_count": null,
      "outputs": []
    },
    {
      "cell_type": "code",
      "metadata": {
        "id": "uzfOPpSPUyrR"
      },
      "source": [
        "X_final5=X_final.iloc[32000000:41697601,0:33]\n",
        "reduce_mem_usage(X_final5)"
      ],
      "execution_count": null,
      "outputs": []
    },
    {
      "cell_type": "code",
      "metadata": {
        "id": "F8zj4djpVOlk"
      },
      "source": [
        "Y_pred_final5 = loaded_model.predict(X_final5,ntree_limit= loaded_model.get_booster().best_ntree_limit)"
      ],
      "execution_count": null,
      "outputs": []
    },
    {
      "cell_type": "code",
      "metadata": {
        "id": "aDxwYy1XVOl7"
      },
      "source": [
        "Y_pred_final5 = pd.DataFrame(data=Y_pred_final5)\n",
        "Y_pred_final5 = Y_pred_final5.to_csv('/content/Y_pred_final5.csv', index=False)"
      ],
      "execution_count": null,
      "outputs": []
    },
    {
      "cell_type": "code",
      "metadata": {
        "id": "9LZ2weZdVOl8"
      },
      "source": [
        "del X_final5\n",
        "del Y_pred_final5"
      ],
      "execution_count": null,
      "outputs": []
    },
    {
      "cell_type": "code",
      "metadata": {
        "id": "qEN3tzM3NmNK"
      },
      "source": [
        "Y_pred_final1 = pd.read_csv('/content/Y_pred_final1.csv')"
      ],
      "execution_count": null,
      "outputs": []
    },
    {
      "cell_type": "code",
      "metadata": {
        "id": "lTg1PoXTNx0x"
      },
      "source": [
        "Y_pred_final2 = pd.read_csv('/content/Y_pred_final2.csv')"
      ],
      "execution_count": null,
      "outputs": []
    },
    {
      "cell_type": "code",
      "metadata": {
        "id": "zeRAQiwVOSu3"
      },
      "source": [
        "reduce_mem_usage(Y_pred_final1)"
      ],
      "execution_count": null,
      "outputs": []
    },
    {
      "cell_type": "code",
      "metadata": {
        "id": "eRxMEcwdOafo"
      },
      "source": [
        "reduce_mem_usage(Y_pred_final2)"
      ],
      "execution_count": null,
      "outputs": []
    },
    {
      "cell_type": "code",
      "metadata": {
        "id": "O9g57EcPNxrZ"
      },
      "source": [
        "Y_pred_final3 = pd.read_csv('/content/Y_pred_final3.csv')"
      ],
      "execution_count": null,
      "outputs": []
    },
    {
      "cell_type": "code",
      "metadata": {
        "id": "ysKb0YUhOhdO"
      },
      "source": [
        "reduce_mem_usage(Y_pred_final3)"
      ],
      "execution_count": null,
      "outputs": []
    },
    {
      "cell_type": "code",
      "metadata": {
        "id": "hqSwRacEN3HH"
      },
      "source": [
        "Y_pred_final4 = pd.read_csv('/content/Y_pred_final4.csv')"
      ],
      "execution_count": null,
      "outputs": []
    },
    {
      "cell_type": "code",
      "metadata": {
        "id": "hM4kYrO0OrK7"
      },
      "source": [
        "reduce_mem_usage(Y_pred_final4)"
      ],
      "execution_count": null,
      "outputs": []
    },
    {
      "cell_type": "code",
      "metadata": {
        "id": "lheRgAhONxfX"
      },
      "source": [
        "Y_pred_final5 = pd.read_csv('/content/Y_pred_final5.csv')"
      ],
      "execution_count": null,
      "outputs": []
    },
    {
      "cell_type": "code",
      "metadata": {
        "id": "jUJLaIFoO8hH"
      },
      "source": [
        "reduce_mem_usage(Y_pred_final5)"
      ],
      "execution_count": null,
      "outputs": []
    },
    {
      "cell_type": "code",
      "metadata": {
        "id": "n2T93aHRPB74"
      },
      "source": [
        "del X_final"
      ],
      "execution_count": null,
      "outputs": []
    },
    {
      "cell_type": "code",
      "metadata": {
        "id": "A24lKV0AwnKA"
      },
      "source": [
        "Y_pred_finalXGB_df = pd.concat([Y_pred_final1, Y_pred_final2,Y_pred_final3,Y_pred_final4,Y_pred_final5])"
      ],
      "execution_count": null,
      "outputs": []
    },
    {
      "cell_type": "code",
      "metadata": {
        "id": "yiNIM3odQWNf"
      },
      "source": [
        "Y_pred_finalXGB_df.info()"
      ],
      "execution_count": null,
      "outputs": []
    },
    {
      "cell_type": "code",
      "metadata": {
        "id": "ZPd8peiwnU9M"
      },
      "source": [
        "Y_pred_finalXGB_df.to_csv (r'/content/drive/MyDrive/Kaggle/Y_pred_finalXGB_df.csv', index = False, header=True)"
      ],
      "execution_count": null,
      "outputs": []
    },
    {
      "cell_type": "code",
      "metadata": {
        "id": "Fzch7s4GqV_5"
      },
      "source": [
        "del Y_pred_finalXGB_df"
      ],
      "execution_count": null,
      "outputs": []
    },
    {
      "cell_type": "code",
      "metadata": {
        "id": "yzt8LZSLcuXk"
      },
      "source": [
        "Y_pred_finalXGB=pd.read_csv('/content/drive/MyDrive/Kaggle/Y_pred_finalXGB_df.csv')"
      ],
      "execution_count": null,
      "outputs": []
    },
    {
      "cell_type": "code",
      "metadata": {
        "id": "Kp-UwQoNdIdB"
      },
      "source": [
        "reduce_mem_usage(Y_pred_finalXGB)"
      ],
      "execution_count": null,
      "outputs": []
    },
    {
      "cell_type": "code",
      "metadata": {
        "id": "YjDyWynrnU9P"
      },
      "source": [
        "submission  = pd.read_csv('/content/drive/MyDrive/Kaggle/sample_submission.csv')\n",
        "submission['meter_reading'] = np.exp(Y_pred_finalXGB)\n",
        "submission.loc[submission['meter_reading']<0, 'meter_reading'] = 0\n",
        "submission.to_csv('/content/drive/MyDrive/Kaggle/submission.csv', index=False)"
      ],
      "execution_count": null,
      "outputs": []
    },
    {
      "cell_type": "code",
      "metadata": {
        "id": "d7OV7YbEnU9Q"
      },
      "source": [
        "! kaggle competitions submit -c ashrae-energy-prediction -f '/content/drive/MyDrive/Kaggle/submission.csv' -m \"Second submission using Xgboost algorithm\""
      ],
      "execution_count": null,
      "outputs": []
    }
  ]
}