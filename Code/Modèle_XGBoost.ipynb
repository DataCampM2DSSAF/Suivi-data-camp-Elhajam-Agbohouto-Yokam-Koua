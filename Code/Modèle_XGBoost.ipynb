{
  "nbformat": 4,
  "nbformat_minor": 0,
  "metadata": {
    "colab": {
      "name": "Modèle XGBoost.ipynb",
      "provenance": []
    },
    "kernelspec": {
      "name": "python3",
      "display_name": "Python 3"
    },
    "language_info": {
      "name": "python"
    }
  },
  "cells": [
    {
      "cell_type": "markdown",
      "metadata": {
        "id": "G00prMyThz4b"
      },
      "source": [
        "## Modèle Xgboost"
      ]
    },
    {
      "cell_type": "markdown",
      "metadata": {
        "id": "6MY08aHuvGcq"
      },
      "source": [
        "### Entrainement"
      ]
    },
    {
      "cell_type": "code",
      "metadata": {
        "id": "pIRWQUr_ZUy3"
      },
      "source": [
        "X_train1=X_train.copy()\n",
        "del X_train1['building_id']"
      ],
      "execution_count": null,
      "outputs": []
    },
    {
      "cell_type": "code",
      "metadata": {
        "id": "yP9Teue-aIcD"
      },
      "source": [
        "X_test1=X_test.copy()\n",
        "del X_test1['building_id']"
      ],
      "execution_count": null,
      "outputs": []
    },
    {
      "cell_type": "code",
      "metadata": {
        "id": "2buih0omfZrA"
      },
      "source": [
        "X_train1.to_csv (r'/content/drive/MyDrive/Kaggle/X_train1.csv', index = False, header=True)\n",
        "X_test1.to_csv (r'/content/drive/MyDrive/Kaggle/X_test1.csv', index = False, header=True)\n",
        "Y_train.to_csv (r'/content/drive/MyDrive/Kaggle/Y_train.csv', index = False, header=True)\n",
        "Y_test.to_csv (r'/content/drive/MyDrive/Kaggle/Y_test.csv', index = False, header=True)"
      ],
      "execution_count": null,
      "outputs": []
    },
    {
      "cell_type": "code",
      "metadata": {
        "id": "pn8dwG8vnIjI"
      },
      "source": [
        "import pandas as pd\n",
        "import numpy as np\n",
        "import matplotlib.pyplot as plt\n",
        "import seaborn as sns\n",
        "import pickle\n",
        "import scipy.stats\n",
        "import gc\n",
        "from sklearn.preprocessing import LabelEncoder\n",
        "le = LabelEncoder()"
      ],
      "execution_count": null,
      "outputs": []
    },
    {
      "cell_type": "code",
      "metadata": {
        "id": "hYBkt-xKviSC"
      },
      "source": [
        "X_train1 = pd.read_csv('/content/drive/MyDrive/Kaggle/X_train1.csv')#chemin Olivier"
      ],
      "execution_count": null,
      "outputs": []
    },
    {
      "cell_type": "code",
      "metadata": {
        "id": "VdyCoVuHviSf"
      },
      "source": [
        "X_test1 = pd.read_csv('/content/drive/MyDrive/Kaggle/X_test1.csv') #cHemin Olivier"
      ],
      "execution_count": null,
      "outputs": []
    },
    {
      "cell_type": "code",
      "metadata": {
        "id": "k2ZEZCIGviSg"
      },
      "source": [
        "Y_train = pd.read_csv('/content/drive/MyDrive/Kaggle/Y_train.csv')#chemin Olivier"
      ],
      "execution_count": null,
      "outputs": []
    },
    {
      "cell_type": "code",
      "metadata": {
        "id": "mRLakjcbviSg"
      },
      "source": [
        "Y_test = pd.read_csv('/content/drive/MyDrive/Kaggle/Y_test.csv')#chemin Olivier"
      ],
      "execution_count": null,
      "outputs": []
    },
    {
      "cell_type": "code",
      "metadata": {
        "id": "cwOJx38GobRn"
      },
      "source": [
        "def reduce_mem_usage(df, verbose=True):\n",
        "    numerics = ['int16', 'int32', 'int64', 'float16', 'float32', 'float64']\n",
        "    start_mem = df.memory_usage().sum() / 1024**2\n",
        "    for col in df.columns:\n",
        "        col_type = df[col].dtypes\n",
        "        if col_type in numerics:\n",
        "            c_min = df[col].min()\n",
        "            c_max = df[col].max()\n",
        "            if str(col_type)[:3] == 'int':\n",
        "                if c_min > np.iinfo(np.int8).min and c_max < np.iinfo(np.int8).max:\n",
        "                    df[col] = df[col].astype(np.int8)\n",
        "                elif c_min > np.iinfo(np.int16).min and c_max < np.iinfo(np.int16).max:\n",
        "                    df[col] = df[col].astype(np.int16)\n",
        "                elif c_min > np.iinfo(np.int32).min and c_max < np.iinfo(np.int32).max:\n",
        "                    df[col] = df[col].astype(np.int32)\n",
        "                elif c_min > np.iinfo(np.int64).min and c_max < np.iinfo(np.int64).max:\n",
        "                    df[col] = df[col].astype(np.int64)\n",
        "            else:\n",
        "                if c_min > np.finfo(np.float16).min and c_max < np.finfo(np.float16).max:\n",
        "                    df[col] = df[col].astype(np.float16)\n",
        "                elif c_min > np.finfo(np.float32).min and c_max < np.finfo(np.float32).max:\n",
        "                    df[col] = df[col].astype(np.float32)\n",
        "                else:\n",
        "                    df[col] = df[col].astype(np.float64)\n",
        "\n",
        "    end_mem = df.memory_usage().sum() / 1024**2\n",
        "    print('Memory usage after optimization is: {:.2f} MB'.format(end_mem))\n",
        "    print('Decreased by {:.1f}%'.format(100 * (start_mem - end_mem) / start_mem))\n",
        "\n",
        "    return df"
      ],
      "execution_count": null,
      "outputs": []
    },
    {
      "cell_type": "code",
      "metadata": {
        "colab": {
          "base_uri": "https://localhost:8080/"
        },
        "id": "4M1UixnNYw-x",
        "outputId": "cebe4f05-3b2c-497d-c6ca-f4830fb965c7"
      },
      "source": [
        "X_train1=reduce_mem_usage(X_train1)\n",
        "X_test1=reduce_mem_usage(X_test1)"
      ],
      "execution_count": null,
      "outputs": [
        {
          "output_type": "stream",
          "text": [
            "Memory usage after optimization is: 534.56 MB\n",
            "Decreased by 85.9%\n",
            "Memory usage after optimization is: 294.46 MB\n",
            "Decreased by 85.9%\n"
          ],
          "name": "stdout"
        }
      ]
    },
    {
      "cell_type": "code",
      "metadata": {
        "colab": {
          "base_uri": "https://localhost:8080/"
        },
        "id": "VNCGR8l3apXd",
        "outputId": "cb2eaae0-91a7-4a3f-c67f-17896fb4439e"
      },
      "source": [
        "Y_train=reduce_mem_usage(Y_train)\n",
        "Y_test1=reduce_mem_usage(Y_test)"
      ],
      "execution_count": null,
      "outputs": [
        {
          "output_type": "stream",
          "text": [
            "Memory usage after optimization is: 24.86 MB\n",
            "Decreased by 75.0%\n",
            "Memory usage after optimization is: 13.70 MB\n",
            "Decreased by 75.0%\n"
          ],
          "name": "stdout"
        }
      ]
    },
    {
      "cell_type": "code",
      "metadata": {
        "id": "csGLVDwBfTxJ"
      },
      "source": [
        "! sudo pip install xgboost"
      ],
      "execution_count": null,
      "outputs": []
    },
    {
      "cell_type": "code",
      "metadata": {
        "id": "Ct41wzgZhQGj"
      },
      "source": [
        "import xgboost as XGB"
      ],
      "execution_count": null,
      "outputs": []
    },
    {
      "cell_type": "code",
      "metadata": {
        "id": "PORSNURdglXA"
      },
      "source": [
        "params = {\n",
        "    \"learning_rate\": 0.05,\n",
        "    \"objective\": \"reg:squarederror\",\n",
        "    \"metric\": \"rmse\",\n",
        "    \"reg_lambda\": 2\n",
        "    \"tree_method\": \"approx\"\n",
        "}"
      ],
      "execution_count": null,
      "outputs": []
    },
    {
      "cell_type": "code",
      "metadata": {
        "id": "_yIHRYhrjDLY"
      },
      "source": [
        "XGB = XGB(**params)"
      ],
      "execution_count": null,
      "outputs": []
    },
    {
      "cell_type": "code",
      "metadata": {
        "id": "aaRLtYA034vA"
      },
      "source": [
        "train = XGB.DMatrix(data=X_train1,label=Y_train)\n",
        "valid = XGB.DMatrix(data=X_test1,label=Y_test)"
      ],
      "execution_count": null,
      "outputs": []
    },
    {
      "cell_type": "code",
      "metadata": {
        "id": "efdaddN969MJ"
      },
      "source": [
        "eval_list = [(valid, 'eval')]"
      ],
      "execution_count": null,
      "outputs": []
    },
    {
      "cell_type": "code",
      "metadata": {
        "id": "FtEh-MP9gekG"
      },
      "source": [
        "XGB_Reg=XGB.train(train\n",
        "        eval_set=eval_list,\n",
        "        eval_metric='rmse',\n",
        "        verbose=True)"
      ],
      "execution_count": null,
      "outputs": []
    },
    {
      "cell_type": "code",
      "metadata": {
        "id": "EQnzesASrAhc"
      },
      "source": [
        "XGB_Reg.save_model('/content/drive/MyDrive/Kaggle/XGB_Reg.txt') "
      ],
      "execution_count": null,
      "outputs": []
    },
    {
      "cell_type": "code",
      "metadata": {
        "id": "17qD1tKEEHZU"
      },
      "source": [
        "pickle.dump(XGB_Reg, open(\"pima.pickle.dat\", \"wb\"))"
      ],
      "execution_count": null,
      "outputs": []
    },
    {
      "cell_type": "markdown",
      "metadata": {
        "id": "ugKNpzSqvqNc"
      },
      "source": [
        "### Prediction et soumission"
      ]
    },
    {
      "cell_type": "code",
      "metadata": {
        "colab": {
          "base_uri": "https://localhost:8080/"
        },
        "id": "MTu9nlUnVuD9",
        "outputId": "ac66ac31-e3c4-4ae4-ff31-a719993c0fbb"
      },
      "source": [
        "! mkdir ~/.kaggle/"
      ],
      "execution_count": null,
      "outputs": [
        {
          "output_type": "stream",
          "text": [
            "mkdir: cannot create directory ‘/root/.kaggle/’: File exists\n"
          ],
          "name": "stdout"
        }
      ]
    },
    {
      "cell_type": "code",
      "metadata": {
        "id": "Myx1csZ2VoiF"
      },
      "source": [
        "! cp '/content/drive/MyDrive/Kaggle/kaggle.json' ~/.kaggle/"
      ],
      "execution_count": null,
      "outputs": []
    },
    {
      "cell_type": "code",
      "metadata": {
        "id": "DL8XP6bWVyHM"
      },
      "source": [
        "! chmod 600 ~/.kaggle/kaggle.json"
      ],
      "execution_count": null,
      "outputs": []
    },
    {
      "cell_type": "code",
      "metadata": {
        "id": "lj2rdz4EV7iz"
      },
      "source": [
        "! unzip '/content/test.csv.zip' -d test\n",
        "! unzip '/content/weather_test.csv.zip' -d weather_test"
      ],
      "execution_count": null,
      "outputs": []
    },
    {
      "cell_type": "code",
      "metadata": {
        "id": "jnVWV46XahJA"
      },
      "source": [
        "def reduce_mem_usage(df, verbose=True):\n",
        "    numerics = ['int16', 'int32', 'int64', 'float16', 'float32', 'float64']\n",
        "    start_mem = df.memory_usage().sum() / 1024**3\n",
        "    for col in df.columns:\n",
        "        col_type = df[col].dtypes\n",
        "        if col_type in numerics:\n",
        "            c_min = df[col].min()\n",
        "            c_max = df[col].max()\n",
        "            if str(col_type)[:3] == 'int':\n",
        "                if c_min > np.iinfo(np.int8).min and c_max < np.iinfo(np.int8).max:\n",
        "                    df[col] = df[col].astype(np.int8)\n",
        "                elif c_min > np.iinfo(np.int16).min and c_max < np.iinfo(np.int16).max:\n",
        "                    df[col] = df[col].astype(np.int16)\n",
        "                elif c_min > np.iinfo(np.int32).min and c_max < np.iinfo(np.int32).max:\n",
        "                    df[col] = df[col].astype(np.int32)\n",
        "                elif c_min > np.iinfo(np.int64).min and c_max < np.iinfo(np.int64).max:\n",
        "                    df[col] = df[col].astype(np.int64)\n",
        "            else:\n",
        "                if c_min > np.finfo(np.float16).min and c_max < np.finfo(np.float16).max:\n",
        "                    df[col] = df[col].astype(np.float16)\n",
        "                elif c_min > np.finfo(np.float32).min and c_max < np.finfo(np.float32).max:\n",
        "                    df[col] = df[col].astype(np.float32)\n",
        "                else:\n",
        "                    df[col] = df[col].astype(np.float64)\n",
        "\n",
        "    end_mem = df.memory_usage().sum() / 1024**3\n",
        "    print('Memory usage after optimization is: {:.2f} MB'.format(end_mem))\n",
        "    print('Decreased by {:.1f}%'.format(100 * (start_mem - end_mem) / start_mem))\n",
        "\n",
        "    return df"
      ],
      "execution_count": null,
      "outputs": []
    },
    {
      "cell_type": "code",
      "metadata": {
        "id": "jIF7qNFl0zHL"
      },
      "source": [
        "test = reduce_mem_usage(test)"
      ],
      "execution_count": null,
      "outputs": []
    },
    {
      "cell_type": "code",
      "metadata": {
        "id": "k99Uy4Hq03rN"
      },
      "source": [
        "weather_test = reduce_mem_usage(weather_test)"
      ],
      "execution_count": null,
      "outputs": []
    },
    {
      "cell_type": "code",
      "metadata": {
        "id": "0zjWi7Rl07x9"
      },
      "source": [
        "building_metadata = reduce_mem_usage(building_metadata)"
      ],
      "execution_count": null,
      "outputs": []
    },
    {
      "cell_type": "code",
      "metadata": {
        "id": "TY3BV3b301LE"
      },
      "source": [
        "test =test.merge(building_metadata, on='building_id', how='left')\n",
        "alltest= test.merge(weather_test, on=['site_id', 'timestamp'], how='left')\n",
        "del test, weather_test,building_metadata\n",
        "gc.collect()"
      ],
      "execution_count": null,
      "outputs": []
    },
    {
      "cell_type": "code",
      "metadata": {
        "id": "DJ7Wk_B-1Rel"
      },
      "source": [
        "alltest = reduce_mem_usage(alltest)"
      ],
      "execution_count": null,
      "outputs": []
    },
    {
      "cell_type": "code",
      "metadata": {
        "id": "1m0XSaVx0iXX"
      },
      "source": [
        "alltest.timestamp=pd.to_datetime(alltest['timestamp'])"
      ],
      "execution_count": null,
      "outputs": []
    },
    {
      "cell_type": "code",
      "metadata": {
        "id": "pu6AXAei0iXY"
      },
      "source": [
        "(alltest.isna().sum()/alltest.shape[0]).sort_values(ascending=False)"
      ],
      "execution_count": null,
      "outputs": []
    },
    {
      "cell_type": "code",
      "metadata": {
        "id": "KvNLqf3pc2Hy"
      },
      "source": [
        "alltest.to_csv (r'/content/drive/MyDrive/Kaggle/alltest.csv', index = False, header=True)"
      ],
      "execution_count": null,
      "outputs": []
    },
    {
      "cell_type": "code",
      "metadata": {
        "id": "01H0doVL0iXZ"
      },
      "source": [
        "data_test = preProcecing_df(alltest)"
      ],
      "execution_count": null,
      "outputs": []
    },
    {
      "cell_type": "code",
      "metadata": {
        "id": "k8RrjL3a0iXZ"
      },
      "source": [
        "data_test['meter'] = pd.Categorical(data_test['meter']).rename_categories({0: 'electricity', \n",
        "                                                                   1: 'chilledwater',\n",
        "                                                                   2: 'steam', \n",
        "                                                                   3: 'hotwater'})"
      ],
      "execution_count": null,
      "outputs": []
    },
    {
      "cell_type": "code",
      "metadata": {
        "id": "Rt33UP9-YYh8"
      },
      "source": [
        "reduce_mem_usage(data_test)"
      ],
      "execution_count": null,
      "outputs": []
    },
    {
      "cell_type": "code",
      "metadata": {
        "id": "1uEbiN3j0iXa"
      },
      "source": [
        "data_test[\"building_id\"] = data_test[\"building_id\"].astype('category')\n",
        "data_test[\"site_id\"] = data_test[\"site_id\"].astype('category')\n",
        "data_test[\"primary_use\"] = data_test[\"primary_use\"].astype('category')\n",
        "data_test[\"saison\"] = data_test[\"saison\"].astype('category')\n",
        "data_test[\"heureDiscredite\"] = data_test[\"heureDiscredite\"].astype('category')\n",
        "data_test[\"year_built\"] = data_test[\"year_built\"].astype('category')"
      ],
      "execution_count": null,
      "outputs": []
    },
    {
      "cell_type": "code",
      "metadata": {
        "id": "zsn3diYj8kvu"
      },
      "source": [
        "data_test.to_csv (r'/content/drive/MyDrive/Kaggle/data_test.csv', index = False, header=True)"
      ],
      "execution_count": null,
      "outputs": []
    },
    {
      "cell_type": "code",
      "metadata": {
        "id": "3yRsZrdH0iXb"
      },
      "source": [
        "listColumns= [ 'wind_direction',  'dew_temperature',\n",
        "              'air_temperature', 'floor_count', 'square_feet']\n",
        "\n",
        "gc.collect()"
      ],
      "execution_count": null,
      "outputs": []
    },
    {
      "cell_type": "code",
      "metadata": {
        "id": "rKA9YVRUYvBD"
      },
      "source": [
        "def encodeur(df): \n",
        "    X_Encod=pd.concat([df, pd.get_dummies(df[\"primary_use\"], dtype=int) ], axis=1)\n",
        "    reduce_mem_usage(X_Encod)\n",
        "    X_Encod=pd.concat([X_Encod, pd.get_dummies(df[\"saison\"], dtype=int) ], axis=1)\n",
        "    reduce_mem_usage(X_Encod)\n",
        "    X_Encod=pd.concat([X_Encod, pd.get_dummies(df[\"heureDiscredite\"], dtype=int) ], axis=1)\n",
        "    reduce_mem_usage(X_Encod)\n",
        "    X_Encod=pd.concat([X_Encod, pd.get_dummies(df[\"meter\"], dtype=int) ], axis=1)\n",
        "    reduce_mem_usage(X_Encod)\n",
        "    X_Encod=pd.concat([X_Encod, pd.get_dummies(df[\"year_built\"], dtype=int) ], axis=1)\n",
        "    reduce_mem_usage(X_Encod)\n",
        "\n",
        "    for col in [\"primary_use\",'year_built', \"saison\", \"heureDiscredite\", 'meter']:\n",
        "        del X_Encod[col]\n",
        "\n",
        "\n",
        "    return X_Encod"
      ],
      "execution_count": null,
      "outputs": []
    },
    {
      "cell_type": "code",
      "metadata": {
        "id": "sP1Y70W50iXb"
      },
      "source": [
        "X_final = encodeur(data_test)"
      ],
      "execution_count": null,
      "outputs": []
    },
    {
      "cell_type": "code",
      "metadata": {
        "id": "2SB0l9Qi0iXc"
      },
      "source": [
        "X_final = minMax(X_final, listColumns, scaler)\n",
        "del data_test"
      ],
      "execution_count": null,
      "outputs": []
    },
    {
      "cell_type": "code",
      "metadata": {
        "id": "sBe0IGWd0iXd"
      },
      "source": [
        "X_final = X_final.drop([\"row_id\"],axis=1)"
      ],
      "execution_count": null,
      "outputs": []
    },
    {
      "cell_type": "code",
      "metadata": {
        "id": "jRAFFeoO6Yqb"
      },
      "source": [
        "del X_final['building_id']"
      ],
      "execution_count": null,
      "outputs": []
    },
    {
      "cell_type": "code",
      "metadata": {
        "id": "6_4baXQ9cUPl"
      },
      "source": [
        "X_final[\"site_id\"] = X_final[\"site_id\"].astype('int')"
      ],
      "execution_count": null,
      "outputs": []
    },
    {
      "cell_type": "code",
      "metadata": {
        "id": "_y8m52Op6NPh"
      },
      "source": [
        "X_final.to_csv (r'/content/drive/MyDrive/Kaggle/X_final.csv', index = False, header=True)"
      ],
      "execution_count": null,
      "outputs": []
    },
    {
      "cell_type": "code",
      "metadata": {
        "id": "bST-OwDRclM-"
      },
      "source": [
        "X_final  = pd.read_csv('/content/drive/MyDrive/Kaggle/X_final.csv')"
      ],
      "execution_count": null,
      "outputs": []
    },
    {
      "cell_type": "code",
      "metadata": {
        "id": "cQKfpiZ-js6Q"
      },
      "source": [
        "reduce_mem_usage(X_final)"
      ],
      "execution_count": null,
      "outputs": []
    },
    {
      "cell_type": "code",
      "metadata": {
        "id": "kCjJ8qiqbl9e"
      },
      "source": [
        "X_final.info()"
      ],
      "execution_count": null,
      "outputs": []
    },
    {
      "cell_type": "code",
      "metadata": {
        "id": "-6cTKPrHjpVw"
      },
      "source": [
        "#cols = list(X_final.columns.values)"
      ],
      "execution_count": null,
      "outputs": []
    },
    {
      "cell_type": "code",
      "metadata": {
        "id": "kn86Uai1nKwn"
      },
      "source": [
        "#cols=[ 'site_id', 'square_feet', 'floor_count', 'air_temperature', 'dew_temperature', 'wind_direction', 'week_end', 'Education', 'Entertainment/public assembly', 'Food sales and service', 'Healthcare', 'Lodging/residential', 'Manufacturing/industrial', 'Other', 'Parking', 'Public services', 'Religious worship', 'Retail', 'Services', 'Technology/science', 'Utility', 'Warehouse/storage', 'automne', 'ete', 'hiver', 'nuit', 'tard', 'chilledwater','electricity', 'steam', 'yearB_q1', 'yearB_q2', 'yearB_q3']"
      ],
      "execution_count": null,
      "outputs": []
    },
    {
      "cell_type": "code",
      "metadata": {
        "id": "x001DWHWoOC8"
      },
      "source": [
        "#X_final=X_final[cols]"
      ],
      "execution_count": null,
      "outputs": []
    },
    {
      "cell_type": "code",
      "metadata": {
        "id": "Bt5cQ6g8TE96"
      },
      "source": [
        "loaded_model = pickle.load(open(\"pima.pickle.dat\", \"rb\"))"
      ],
      "execution_count": null,
      "outputs": []
    },
    {
      "cell_type": "code",
      "metadata": {
        "id": "7aXV_BzwWPHV"
      },
      "source": [
        "X_final.info()"
      ],
      "execution_count": null,
      "outputs": []
    },
    {
      "cell_type": "code",
      "metadata": {
        "id": "KUvpk3v4MmyH"
      },
      "source": [
        "X_final1=X_final.iloc[0:8000000,0:38]\n",
        "reduce_mem_usage(X_final1)\n",
        "X_final1 = XGB.DMatrix(data=X_final1)"
      ],
      "execution_count": null,
      "outputs": []
    },
    {
      "cell_type": "code",
      "metadata": {
        "id": "Wr2xa4IrMmif"
      },
      "source": [
        "Y_pred_final1 = loaded_model.predict(X_final1,ntree_limit= loaded_model.best_ntree_limit)"
      ],
      "execution_count": null,
      "outputs": []
    },
    {
      "cell_type": "code",
      "metadata": {
        "id": "Jjng_TDyMmSv"
      },
      "source": [
        "Y_pred_final1 = pd.DataFrame(data=Y_pred_final1)\n",
        "Y_pred_final1=Y_pred_final1.to_csv('/content/Y_pred_final1.csv', index=False)"
      ],
      "execution_count": null,
      "outputs": []
    },
    {
      "cell_type": "code",
      "metadata": {
        "id": "cRxqZz_6M5K6"
      },
      "source": [
        "del X_final1\n",
        "del Y_pred_final1"
      ],
      "execution_count": null,
      "outputs": []
    },
    {
      "cell_type": "code",
      "metadata": {
        "id": "3Z7_Y2CgSJEc"
      },
      "source": [
        "X_final2=X_final.iloc[8000000:16000000,0:38]\n",
        "reduce_mem_usage(X_final2)\n",
        "X_final2 = XGB.DMatrix(data=X_final2)"
      ],
      "execution_count": null,
      "outputs": []
    },
    {
      "cell_type": "code",
      "metadata": {
        "colab": {
          "base_uri": "https://localhost:8080/"
        },
        "id": "IVXiM-9FLJxC",
        "outputId": "fd218e6d-4bfd-464c-8c0d-a95399d02cf8"
      },
      "source": [
        "loaded_model.best_ntree_limit"
      ],
      "execution_count": null,
      "outputs": [
        {
          "output_type": "execute_result",
          "data": {
            "text/plain": [
              "200"
            ]
          },
          "metadata": {
            "tags": []
          },
          "execution_count": 13
        }
      ]
    },
    {
      "cell_type": "code",
      "metadata": {
        "id": "QVulT7pvTq_x"
      },
      "source": [
        "Y_pred_final2 = loaded_model.predict(X_final2,ntree_limit=loaded_model.best_ntree_limit)"
      ],
      "execution_count": null,
      "outputs": []
    },
    {
      "cell_type": "code",
      "metadata": {
        "id": "mEM7KeAJTq_0"
      },
      "source": [
        "Y_pred_final2 = pd.DataFrame(data=Y_pred_final2)\n",
        "Y_pred_final2 = Y_pred_final2.to_csv('/content/Y_pred_final2.csv', index=False)"
      ],
      "execution_count": null,
      "outputs": []
    },
    {
      "cell_type": "code",
      "metadata": {
        "id": "Fa7LEHb-Tq_1"
      },
      "source": [
        "del X_final2\n",
        "del Y_pred_final2"
      ],
      "execution_count": null,
      "outputs": []
    },
    {
      "cell_type": "code",
      "metadata": {
        "id": "gvF5CJPssvfZ",
        "colab": {
          "base_uri": "https://localhost:8080/"
        },
        "outputId": "a9a9123f-64e0-4295-801c-53bec0322d15"
      },
      "source": [
        "X_final3=X_final.iloc[16000000:24000000,0:38]\n",
        "reduce_mem_usage(X_final3)\n",
        "X_final3 = XGB.DMatrix(data=X_final3)"
      ],
      "execution_count": null,
      "outputs": [
        {
          "output_type": "stream",
          "text": [
            "Memory usage after optimization is: 0.32 MB\n",
            "Decreased by 0.0%\n"
          ],
          "name": "stdout"
        }
      ]
    },
    {
      "cell_type": "code",
      "metadata": {
        "id": "BYB7vXpKUa-X"
      },
      "source": [
        "Y_pred_final3 = loaded_model.predict(X_final3,ntree_limit= loaded_model.best_ntree_limit)"
      ],
      "execution_count": null,
      "outputs": []
    },
    {
      "cell_type": "code",
      "metadata": {
        "id": "sK0HhvMtUa-Y"
      },
      "source": [
        "Y_pred_final3 = pd.DataFrame(data=Y_pred_final3)\n",
        "Y_pred_final3 = Y_pred_final3.to_csv('/content/Y_pred_final3.csv', index=False)"
      ],
      "execution_count": null,
      "outputs": []
    },
    {
      "cell_type": "code",
      "metadata": {
        "id": "SgtV_fj3Ua-Y"
      },
      "source": [
        "del X_final3\n",
        "del Y_pred_final3"
      ],
      "execution_count": null,
      "outputs": []
    },
    {
      "cell_type": "code",
      "metadata": {
        "id": "PFXxwvLQUQ3-"
      },
      "source": [
        "X_final4=X_final.iloc[24000000:32000000,0:38]\n",
        "reduce_mem_usage(X_final4)\n",
        "X_final4 = XGB.DMatrix(data=X_final4)"
      ],
      "execution_count": null,
      "outputs": []
    },
    {
      "cell_type": "code",
      "metadata": {
        "id": "bz3zSppjUyrO"
      },
      "source": [
        "Y_pred_final4 = loaded_model.predict(X_final4,ntree_limit= loaded_model.best_ntree_limit)"
      ],
      "execution_count": null,
      "outputs": []
    },
    {
      "cell_type": "code",
      "metadata": {
        "id": "qlEC4s2WUyrP"
      },
      "source": [
        "Y_pred_final4 = pd.DataFrame(data=Y_pred_final4)\n",
        "Y_pred_final4 = Y_pred_final4.to_csv('/content/Y_pred_final4.csv', index=False)"
      ],
      "execution_count": null,
      "outputs": []
    },
    {
      "cell_type": "code",
      "metadata": {
        "id": "4wk-Mu8DUyrQ"
      },
      "source": [
        "del X_final4\n",
        "del Y_pred_final4"
      ],
      "execution_count": null,
      "outputs": []
    },
    {
      "cell_type": "code",
      "metadata": {
        "id": "uzfOPpSPUyrR"
      },
      "source": [
        "X_final5=X_final.iloc[32000000:41697601,0:38]\n",
        "reduce_mem_usage(X_final5)\n",
        "X_final5 = XGB.DMatrix(data=X_final5)"
      ],
      "execution_count": null,
      "outputs": []
    },
    {
      "cell_type": "code",
      "metadata": {
        "id": "F8zj4djpVOlk"
      },
      "source": [
        "Y_pred_final5 = loaded_model.predict(X_final5,ntree_limit= loaded_model.best_ntree_limit)"
      ],
      "execution_count": null,
      "outputs": []
    },
    {
      "cell_type": "code",
      "metadata": {
        "id": "aDxwYy1XVOl7"
      },
      "source": [
        "Y_pred_final5 = pd.DataFrame(data=Y_pred_final5)\n",
        "Y_pred_final5 = Y_pred_final5.to_csv('/content/Y_pred_final5.csv', index=False)"
      ],
      "execution_count": null,
      "outputs": []
    },
    {
      "cell_type": "code",
      "metadata": {
        "id": "9LZ2weZdVOl8"
      },
      "source": [
        "del X_final5\n",
        "del Y_pred_final5"
      ],
      "execution_count": null,
      "outputs": []
    },
    {
      "cell_type": "code",
      "metadata": {
        "id": "qEN3tzM3NmNK"
      },
      "source": [
        "Y_pred_final1 = pd.read_csv('/content/Y_pred_final1.csv')"
      ],
      "execution_count": null,
      "outputs": []
    },
    {
      "cell_type": "code",
      "metadata": {
        "id": "lTg1PoXTNx0x"
      },
      "source": [
        "Y_pred_final2 = pd.read_csv('/content/Y_pred_final2.csv')"
      ],
      "execution_count": null,
      "outputs": []
    },
    {
      "cell_type": "code",
      "metadata": {
        "id": "zeRAQiwVOSu3"
      },
      "source": [
        "reduce_mem_usage(Y_pred_final1)"
      ],
      "execution_count": null,
      "outputs": []
    },
    {
      "cell_type": "code",
      "metadata": {
        "id": "eRxMEcwdOafo"
      },
      "source": [
        "reduce_mem_usage(Y_pred_final2)"
      ],
      "execution_count": null,
      "outputs": []
    },
    {
      "cell_type": "code",
      "metadata": {
        "id": "O9g57EcPNxrZ"
      },
      "source": [
        "Y_pred_final3 = pd.read_csv('/content/Y_pred_final3.csv')"
      ],
      "execution_count": null,
      "outputs": []
    },
    {
      "cell_type": "code",
      "metadata": {
        "id": "ysKb0YUhOhdO"
      },
      "source": [
        "reduce_mem_usage(Y_pred_final3)"
      ],
      "execution_count": null,
      "outputs": []
    },
    {
      "cell_type": "code",
      "metadata": {
        "id": "hqSwRacEN3HH"
      },
      "source": [
        "Y_pred_final4 = pd.read_csv('/content/Y_pred_final4.csv')"
      ],
      "execution_count": null,
      "outputs": []
    },
    {
      "cell_type": "code",
      "metadata": {
        "id": "hM4kYrO0OrK7"
      },
      "source": [
        "reduce_mem_usage(Y_pred_final4)"
      ],
      "execution_count": null,
      "outputs": []
    },
    {
      "cell_type": "code",
      "metadata": {
        "id": "lheRgAhONxfX"
      },
      "source": [
        "Y_pred_final5 = pd.read_csv('/content/Y_pred_final5.csv')"
      ],
      "execution_count": null,
      "outputs": []
    },
    {
      "cell_type": "code",
      "metadata": {
        "id": "jUJLaIFoO8hH"
      },
      "source": [
        "reduce_mem_usage(Y_pred_final5)"
      ],
      "execution_count": null,
      "outputs": []
    },
    {
      "cell_type": "code",
      "metadata": {
        "id": "n2T93aHRPB74"
      },
      "source": [
        "del X_final"
      ],
      "execution_count": null,
      "outputs": []
    },
    {
      "cell_type": "code",
      "metadata": {
        "id": "A24lKV0AwnKA"
      },
      "source": [
        "Y_pred_finalXGB_df = pd.concat([Y_pred_final1, Y_pred_final2,Y_pred_final3,Y_pred_final4,Y_pred_final5])"
      ],
      "execution_count": null,
      "outputs": []
    },
    {
      "cell_type": "code",
      "metadata": {
        "id": "yiNIM3odQWNf"
      },
      "source": [
        "Y_pred_finalXGB_df.info()"
      ],
      "execution_count": null,
      "outputs": []
    },
    {
      "cell_type": "code",
      "metadata": {
        "id": "ZPd8peiwnU9M"
      },
      "source": [
        "Y_pred_finalXGB_df.to_csv (r'/content/drive/MyDrive/Kaggle/Y_pred_finalXGB_df.csv', index = False, header=True)"
      ],
      "execution_count": null,
      "outputs": []
    },
    {
      "cell_type": "code",
      "metadata": {
        "id": "Fzch7s4GqV_5"
      },
      "source": [
        "del Y_pred_finalXGB_df"
      ],
      "execution_count": null,
      "outputs": []
    },
    {
      "cell_type": "code",
      "metadata": {
        "id": "yzt8LZSLcuXk"
      },
      "source": [
        "Y_pred_finalXGB=pd.read_csv('/content/drive/MyDrive/Kaggle/Y_pred_finalXGB_df.csv')"
      ],
      "execution_count": null,
      "outputs": []
    },
    {
      "cell_type": "code",
      "metadata": {
        "id": "Kp-UwQoNdIdB"
      },
      "source": [
        "reduce_mem_usage(Y_pred_finalXGB)"
      ],
      "execution_count": null,
      "outputs": []
    },
    {
      "cell_type": "code",
      "metadata": {
        "id": "DZ77ResIault"
      },
      "source": [
        "Y_pred_finalXGB=np.exp(Y_pred_finalXGB)"
      ],
      "execution_count": null,
      "outputs": []
    },
    {
      "cell_type": "code",
      "metadata": {
        "id": "XvLCxLVGboaY"
      },
      "source": [
        "Y_pred_finalXGB.loc[ (X_final.site_id==0)&(X_final.electricity==1) ] /=0.2931"
      ],
      "execution_count": null,
      "outputs": []
    },
    {
      "cell_type": "code",
      "metadata": {
        "id": "YjDyWynrnU9P"
      },
      "source": [
        "submission  = pd.read_csv('/content/drive/MyDrive/Kaggle/sample_submission.csv')\n",
        "submission['meter_reading'] = Y_pred_finalXGB\n",
        "submission.loc[submission['meter_reading']<0, 'meter_reading'] = 0\n",
        "submission.to_csv('/content/drive/MyDrive/Kaggle/submission.csv', index=False)"
      ],
      "execution_count": null,
      "outputs": []
    },
    {
      "cell_type": "code",
      "metadata": {
        "colab": {
          "base_uri": "https://localhost:8080/"
        },
        "id": "d7OV7YbEnU9Q",
        "outputId": "061878dc-ed4b-4c8b-be47-70e5d1afb6e1"
      },
      "source": [
        "! kaggle competitions submit -c ashrae-energy-prediction -f '/content/drive/MyDrive/Kaggle/submission.csv' -m \"Third submission using Xgboost algorithm\""
      ],
      "execution_count": null,
      "outputs": [
        {
          "output_type": "stream",
          "text": [
            "Warning: Looks like you're using an outdated API Version, please consider updating (server 1.5.12 / client 1.5.4)\n",
            "100% 579M/579M [00:22<00:00, 26.7MB/s]\n",
            "Successfully submitted to ASHRAE - Great Energy Predictor III"
          ],
          "name": "stdout"
        }
      ]
    }
  ]
}