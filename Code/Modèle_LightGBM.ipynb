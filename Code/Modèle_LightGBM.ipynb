{
  "nbformat": 4,
  "nbformat_minor": 0,
  "metadata": {
    "colab": {
      "name": "Modèle_LightGBM.ipynb",
      "provenance": [],
      "collapsed_sections": []
    },
    "kernelspec": {
      "name": "python3",
      "display_name": "Python 3"
    },
    "language_info": {
      "name": "python"
    }
  },
  "cells": [
    {
      "cell_type": "markdown",
      "metadata": {
        "id": "86G9GWU8thP3"
      },
      "source": [
        "## Modèle LightGBM"
      ]
    },
    {
      "cell_type": "markdown",
      "metadata": {
        "id": "Mi2ym4d8C_BJ"
      },
      "source": [
        "### Entrainement"
      ]
    },
    {
      "cell_type": "code",
      "metadata": {
        "id": "w0nAIF2qDR97"
      },
      "source": [
        "import lightgbm as lgb\n",
        "from sklearn.metrics import mean_squared_error"
      ],
      "execution_count": null,
      "outputs": []
    },
    {
      "cell_type": "code",
      "metadata": {
        "id": "MDBA0bGDDYn0"
      },
      "source": [
        "params = {\n",
        "    \"objective\": \"regression\",\n",
        "    \"boosting\": \"gbdt\",\n",
        "    \"num_leaves\": 40,\n",
        "    \"learning_rate\": 0.05,\n",
        "    \"feature_fraction\": 0.85,\n",
        "    \"reg_lambda\": 2,\n",
        "    \"metric\": \"rmse\",\n",
        "    \"num_boost_round\": 500, \n",
        "    \"early_stopping_rounds\": 200,\n",
        "}"
      ],
      "execution_count": null,
      "outputs": []
    },
    {
      "cell_type": "code",
      "metadata": {
        "id": "wh92NX_MEGA2"
      },
      "source": [
        "import pandas as pd\n",
        "import numpy as np\n",
        "import matplotlib.pyplot as plt\n",
        "import seaborn as sns\n",
        "import pickle\n",
        "import scipy.stats\n",
        "import gc\n",
        "from sklearn.preprocessing import LabelEncoder\n",
        "le = LabelEncoder()"
      ],
      "execution_count": null,
      "outputs": []
    },
    {
      "cell_type": "code",
      "metadata": {
        "id": "pAM5nxwIDpxl"
      },
      "source": [
        "X_train1 = pd.read_csv('/content/drive/MyDrive/Kaggle/X_train1.csv')#chemin Olivier"
      ],
      "execution_count": null,
      "outputs": []
    },
    {
      "cell_type": "code",
      "metadata": {
        "id": "MOa6oORFDpxn"
      },
      "source": [
        "X_test1 = pd.read_csv('/content/drive/MyDrive/Kaggle/X_test1.csv') #cHemin Olivier"
      ],
      "execution_count": null,
      "outputs": []
    },
    {
      "cell_type": "code",
      "metadata": {
        "id": "XET79FfUDpxo"
      },
      "source": [
        "Y_train = pd.read_csv('/content/drive/MyDrive/Kaggle/Y_train.csv')#chemin Olivier"
      ],
      "execution_count": null,
      "outputs": []
    },
    {
      "cell_type": "code",
      "metadata": {
        "id": "N91ec207Dpxp"
      },
      "source": [
        "Y_test = pd.read_csv('/content/drive/MyDrive/Kaggle/Y_test.csv')#chemin Olivier"
      ],
      "execution_count": null,
      "outputs": []
    },
    {
      "cell_type": "code",
      "metadata": {
        "id": "S-v4eW8aDpxq"
      },
      "source": [
        "def reduce_mem_usage(df, verbose=True):\n",
        "    numerics = ['int16', 'int32', 'int64', 'float16', 'float32', 'float64']\n",
        "    start_mem = df.memory_usage().sum() / 1024**2\n",
        "    for col in df.columns:\n",
        "        col_type = df[col].dtypes\n",
        "        if col_type in numerics:\n",
        "            c_min = df[col].min()\n",
        "            c_max = df[col].max()\n",
        "            if str(col_type)[:3] == 'int':\n",
        "                if c_min > np.iinfo(np.int8).min and c_max < np.iinfo(np.int8).max:\n",
        "                    df[col] = df[col].astype(np.int8)\n",
        "                elif c_min > np.iinfo(np.int16).min and c_max < np.iinfo(np.int16).max:\n",
        "                    df[col] = df[col].astype(np.int16)\n",
        "                elif c_min > np.iinfo(np.int32).min and c_max < np.iinfo(np.int32).max:\n",
        "                    df[col] = df[col].astype(np.int32)\n",
        "                elif c_min > np.iinfo(np.int64).min and c_max < np.iinfo(np.int64).max:\n",
        "                    df[col] = df[col].astype(np.int64)\n",
        "            else:\n",
        "                if c_min > np.finfo(np.float16).min and c_max < np.finfo(np.float16).max:\n",
        "                    df[col] = df[col].astype(np.float16)\n",
        "                elif c_min > np.finfo(np.float32).min and c_max < np.finfo(np.float32).max:\n",
        "                    df[col] = df[col].astype(np.float32)\n",
        "                else:\n",
        "                    df[col] = df[col].astype(np.float64)\n",
        "\n",
        "    end_mem = df.memory_usage().sum() / 1024**2\n",
        "    print('Memory usage after optimization is: {:.2f} MB'.format(end_mem))\n",
        "    print('Decreased by {:.1f}%'.format(100 * (start_mem - end_mem) / start_mem))\n",
        "\n",
        "    return df"
      ],
      "execution_count": null,
      "outputs": []
    },
    {
      "cell_type": "code",
      "metadata": {
        "colab": {
          "base_uri": "https://localhost:8080/"
        },
        "id": "CJ4UBkQLDpxr",
        "outputId": "cd80700a-1e24-46f7-a656-781ccaf4ed5e"
      },
      "source": [
        "X_train1=reduce_mem_usage(X_train1)\n",
        "X_test1=reduce_mem_usage(X_test1)"
      ],
      "execution_count": null,
      "outputs": [
        {
          "output_type": "stream",
          "text": [
            "Memory usage after optimization is: 0.52 MB\n",
            "Decreased by 85.9%\n",
            "Memory usage after optimization is: 0.29 MB\n",
            "Decreased by 85.9%\n"
          ],
          "name": "stdout"
        }
      ]
    },
    {
      "cell_type": "code",
      "metadata": {
        "id": "n0YdjbGZEqJY"
      },
      "source": [
        "LGB = lgb.LGBMRegressor(**params)"
      ],
      "execution_count": null,
      "outputs": []
    },
    {
      "cell_type": "code",
      "metadata": {
        "colab": {
          "base_uri": "https://localhost:8080/"
        },
        "id": "32Sr7rc3EqJ5",
        "outputId": "fca58023-168d-4d78-e382-fdee7c4b1279"
      },
      "source": [
        "LGB_Reg=LGB.fit(X_train1, Y_train,\n",
        "        eval_set=[(X_test1, Y_test)],\n",
        "        eval_metric='rmse')"
      ],
      "execution_count": null,
      "outputs": [
        {
          "output_type": "stream",
          "text": [
            "/usr/local/lib/python3.7/dist-packages/lightgbm/engine.py:118: UserWarning: Found `num_boost_round` in params. Will use it instead of argument\n",
            "  warnings.warn(\"Found `{}` in params. Will use it instead of argument\".format(alias))\n",
            "/usr/local/lib/python3.7/dist-packages/lightgbm/engine.py:123: UserWarning: Found `early_stopping_rounds` in params. Will use it instead of argument\n",
            "  warnings.warn(\"Found `{}` in params. Will use it instead of argument\".format(alias))\n"
          ],
          "name": "stderr"
        },
        {
          "output_type": "stream",
          "text": [
            "[1]\tvalid_0's rmse: 2.22042\n",
            "Training until validation scores don't improve for 200 rounds.\n",
            "[2]\tvalid_0's rmse: 2.19639\n",
            "[3]\tvalid_0's rmse: 2.16433\n",
            "[4]\tvalid_0's rmse: 2.13465\n",
            "[5]\tvalid_0's rmse: 2.11033\n",
            "[6]\tvalid_0's rmse: 2.09943\n",
            "[7]\tvalid_0's rmse: 2.07672\n",
            "[8]\tvalid_0's rmse: 2.05404\n",
            "[9]\tvalid_0's rmse: 2.04116\n",
            "[10]\tvalid_0's rmse: 2.02213\n",
            "[11]\tvalid_0's rmse: 2.00851\n",
            "[12]\tvalid_0's rmse: 2.00897\n",
            "[13]\tvalid_0's rmse: 2.00271\n",
            "[14]\tvalid_0's rmse: 1.99259\n",
            "[15]\tvalid_0's rmse: 1.99139\n",
            "[16]\tvalid_0's rmse: 1.98233\n",
            "[17]\tvalid_0's rmse: 1.97337\n",
            "[18]\tvalid_0's rmse: 1.96649\n",
            "[19]\tvalid_0's rmse: 1.96082\n",
            "[20]\tvalid_0's rmse: 1.96036\n",
            "[21]\tvalid_0's rmse: 1.95349\n",
            "[22]\tvalid_0's rmse: 1.94814\n",
            "[23]\tvalid_0's rmse: 1.94935\n",
            "[24]\tvalid_0's rmse: 1.94018\n",
            "[25]\tvalid_0's rmse: 1.93048\n",
            "[26]\tvalid_0's rmse: 1.93155\n",
            "[27]\tvalid_0's rmse: 1.92788\n",
            "[28]\tvalid_0's rmse: 1.91987\n",
            "[29]\tvalid_0's rmse: 1.9206\n",
            "[30]\tvalid_0's rmse: 1.9162\n",
            "[31]\tvalid_0's rmse: 1.90885\n",
            "[32]\tvalid_0's rmse: 1.90329\n",
            "[33]\tvalid_0's rmse: 1.89982\n",
            "[34]\tvalid_0's rmse: 1.89743\n",
            "[35]\tvalid_0's rmse: 1.88934\n",
            "[36]\tvalid_0's rmse: 1.88767\n",
            "[37]\tvalid_0's rmse: 1.88426\n",
            "[38]\tvalid_0's rmse: 1.88178\n",
            "[39]\tvalid_0's rmse: 1.88659\n",
            "[40]\tvalid_0's rmse: 1.88132\n",
            "[41]\tvalid_0's rmse: 1.8777\n",
            "[42]\tvalid_0's rmse: 1.87641\n",
            "[43]\tvalid_0's rmse: 1.87446\n",
            "[44]\tvalid_0's rmse: 1.87336\n",
            "[45]\tvalid_0's rmse: 1.87038\n",
            "[46]\tvalid_0's rmse: 1.86996\n",
            "[47]\tvalid_0's rmse: 1.87317\n",
            "[48]\tvalid_0's rmse: 1.8713\n",
            "[49]\tvalid_0's rmse: 1.86939\n",
            "[50]\tvalid_0's rmse: 1.86565\n",
            "[51]\tvalid_0's rmse: 1.86305\n",
            "[52]\tvalid_0's rmse: 1.86075\n",
            "[53]\tvalid_0's rmse: 1.8586\n",
            "[54]\tvalid_0's rmse: 1.85374\n",
            "[55]\tvalid_0's rmse: 1.85357\n",
            "[56]\tvalid_0's rmse: 1.85165\n",
            "[57]\tvalid_0's rmse: 1.84781\n",
            "[58]\tvalid_0's rmse: 1.84682\n",
            "[59]\tvalid_0's rmse: 1.8454\n",
            "[60]\tvalid_0's rmse: 1.84301\n",
            "[61]\tvalid_0's rmse: 1.8432\n",
            "[62]\tvalid_0's rmse: 1.84029\n",
            "[63]\tvalid_0's rmse: 1.83901\n",
            "[64]\tvalid_0's rmse: 1.8382\n",
            "[65]\tvalid_0's rmse: 1.83722\n",
            "[66]\tvalid_0's rmse: 1.83595\n",
            "[67]\tvalid_0's rmse: 1.83274\n",
            "[68]\tvalid_0's rmse: 1.83156\n",
            "[69]\tvalid_0's rmse: 1.82964\n",
            "[70]\tvalid_0's rmse: 1.82948\n",
            "[71]\tvalid_0's rmse: 1.82953\n",
            "[72]\tvalid_0's rmse: 1.82819\n",
            "[73]\tvalid_0's rmse: 1.82694\n",
            "[74]\tvalid_0's rmse: 1.82609\n",
            "[75]\tvalid_0's rmse: 1.82576\n",
            "[76]\tvalid_0's rmse: 1.82428\n",
            "[77]\tvalid_0's rmse: 1.82364\n",
            "[78]\tvalid_0's rmse: 1.82479\n",
            "[79]\tvalid_0's rmse: 1.82455\n",
            "[80]\tvalid_0's rmse: 1.8233\n",
            "[81]\tvalid_0's rmse: 1.82277\n",
            "[82]\tvalid_0's rmse: 1.8229\n",
            "[83]\tvalid_0's rmse: 1.82101\n",
            "[84]\tvalid_0's rmse: 1.82\n",
            "[85]\tvalid_0's rmse: 1.82008\n",
            "[86]\tvalid_0's rmse: 1.81889\n",
            "[87]\tvalid_0's rmse: 1.81732\n",
            "[88]\tvalid_0's rmse: 1.81716\n",
            "[89]\tvalid_0's rmse: 1.81784\n",
            "[90]\tvalid_0's rmse: 1.81629\n",
            "[91]\tvalid_0's rmse: 1.81505\n",
            "[92]\tvalid_0's rmse: 1.81506\n",
            "[93]\tvalid_0's rmse: 1.81566\n",
            "[94]\tvalid_0's rmse: 1.81475\n",
            "[95]\tvalid_0's rmse: 1.81334\n",
            "[96]\tvalid_0's rmse: 1.81328\n",
            "[97]\tvalid_0's rmse: 1.81299\n",
            "[98]\tvalid_0's rmse: 1.81184\n",
            "[99]\tvalid_0's rmse: 1.81123\n",
            "[100]\tvalid_0's rmse: 1.81109\n",
            "[101]\tvalid_0's rmse: 1.81126\n",
            "[102]\tvalid_0's rmse: 1.81101\n",
            "[103]\tvalid_0's rmse: 1.81081\n",
            "[104]\tvalid_0's rmse: 1.81043\n",
            "[105]\tvalid_0's rmse: 1.80982\n",
            "[106]\tvalid_0's rmse: 1.80889\n",
            "[107]\tvalid_0's rmse: 1.80879\n",
            "[108]\tvalid_0's rmse: 1.80902\n",
            "[109]\tvalid_0's rmse: 1.80739\n",
            "[110]\tvalid_0's rmse: 1.80792\n",
            "[111]\tvalid_0's rmse: 1.80775\n",
            "[112]\tvalid_0's rmse: 1.80711\n",
            "[113]\tvalid_0's rmse: 1.80614\n",
            "[114]\tvalid_0's rmse: 1.80548\n",
            "[115]\tvalid_0's rmse: 1.80445\n",
            "[116]\tvalid_0's rmse: 1.80431\n",
            "[117]\tvalid_0's rmse: 1.80547\n",
            "[118]\tvalid_0's rmse: 1.80529\n",
            "[119]\tvalid_0's rmse: 1.80552\n",
            "[120]\tvalid_0's rmse: 1.80449\n",
            "[121]\tvalid_0's rmse: 1.80344\n",
            "[122]\tvalid_0's rmse: 1.80351\n",
            "[123]\tvalid_0's rmse: 1.80355\n",
            "[124]\tvalid_0's rmse: 1.80358\n",
            "[125]\tvalid_0's rmse: 1.8031\n",
            "[126]\tvalid_0's rmse: 1.80301\n",
            "[127]\tvalid_0's rmse: 1.8021\n",
            "[128]\tvalid_0's rmse: 1.80145\n",
            "[129]\tvalid_0's rmse: 1.80109\n",
            "[130]\tvalid_0's rmse: 1.80176\n",
            "[131]\tvalid_0's rmse: 1.80169\n",
            "[132]\tvalid_0's rmse: 1.80156\n",
            "[133]\tvalid_0's rmse: 1.80158\n",
            "[134]\tvalid_0's rmse: 1.80187\n",
            "[135]\tvalid_0's rmse: 1.80153\n",
            "[136]\tvalid_0's rmse: 1.80254\n",
            "[137]\tvalid_0's rmse: 1.8037\n",
            "[138]\tvalid_0's rmse: 1.80309\n",
            "[139]\tvalid_0's rmse: 1.80274\n",
            "[140]\tvalid_0's rmse: 1.80259\n",
            "[141]\tvalid_0's rmse: 1.80228\n",
            "[142]\tvalid_0's rmse: 1.80232\n",
            "[143]\tvalid_0's rmse: 1.80236\n",
            "[144]\tvalid_0's rmse: 1.80257\n",
            "[145]\tvalid_0's rmse: 1.80251\n",
            "[146]\tvalid_0's rmse: 1.80214\n",
            "[147]\tvalid_0's rmse: 1.8023\n",
            "[148]\tvalid_0's rmse: 1.80181\n",
            "[149]\tvalid_0's rmse: 1.8015\n",
            "[150]\tvalid_0's rmse: 1.80135\n",
            "[151]\tvalid_0's rmse: 1.80143\n",
            "[152]\tvalid_0's rmse: 1.80206\n",
            "[153]\tvalid_0's rmse: 1.80189\n",
            "[154]\tvalid_0's rmse: 1.80149\n",
            "[155]\tvalid_0's rmse: 1.8014\n",
            "[156]\tvalid_0's rmse: 1.80168\n",
            "[157]\tvalid_0's rmse: 1.80143\n",
            "[158]\tvalid_0's rmse: 1.80151\n",
            "[159]\tvalid_0's rmse: 1.80056\n",
            "[160]\tvalid_0's rmse: 1.8003\n",
            "[161]\tvalid_0's rmse: 1.80029\n",
            "[162]\tvalid_0's rmse: 1.80016\n",
            "[163]\tvalid_0's rmse: 1.79997\n",
            "[164]\tvalid_0's rmse: 1.79957\n",
            "[165]\tvalid_0's rmse: 1.7996\n",
            "[166]\tvalid_0's rmse: 1.79958\n",
            "[167]\tvalid_0's rmse: 1.79961\n",
            "[168]\tvalid_0's rmse: 1.7996\n",
            "[169]\tvalid_0's rmse: 1.79968\n",
            "[170]\tvalid_0's rmse: 1.80001\n",
            "[171]\tvalid_0's rmse: 1.80052\n",
            "[172]\tvalid_0's rmse: 1.80043\n",
            "[173]\tvalid_0's rmse: 1.79977\n",
            "[174]\tvalid_0's rmse: 1.79948\n",
            "[175]\tvalid_0's rmse: 1.80026\n",
            "[176]\tvalid_0's rmse: 1.80028\n",
            "[177]\tvalid_0's rmse: 1.80112\n",
            "[178]\tvalid_0's rmse: 1.80114\n",
            "[179]\tvalid_0's rmse: 1.8009\n",
            "[180]\tvalid_0's rmse: 1.80131\n",
            "[181]\tvalid_0's rmse: 1.80137\n",
            "[182]\tvalid_0's rmse: 1.80138\n",
            "[183]\tvalid_0's rmse: 1.80137\n",
            "[184]\tvalid_0's rmse: 1.80139\n",
            "[185]\tvalid_0's rmse: 1.80109\n",
            "[186]\tvalid_0's rmse: 1.80119\n",
            "[187]\tvalid_0's rmse: 1.80117\n",
            "[188]\tvalid_0's rmse: 1.80003\n",
            "[189]\tvalid_0's rmse: 1.8\n",
            "[190]\tvalid_0's rmse: 1.79993\n",
            "[191]\tvalid_0's rmse: 1.79992\n",
            "[192]\tvalid_0's rmse: 1.80023\n",
            "[193]\tvalid_0's rmse: 1.80063\n",
            "[194]\tvalid_0's rmse: 1.80059\n",
            "[195]\tvalid_0's rmse: 1.80079\n",
            "[196]\tvalid_0's rmse: 1.80116\n",
            "[197]\tvalid_0's rmse: 1.80078\n",
            "[198]\tvalid_0's rmse: 1.80103\n",
            "[199]\tvalid_0's rmse: 1.80101\n",
            "[200]\tvalid_0's rmse: 1.8013\n",
            "[201]\tvalid_0's rmse: 1.80114\n",
            "[202]\tvalid_0's rmse: 1.80105\n",
            "[203]\tvalid_0's rmse: 1.80098\n",
            "[204]\tvalid_0's rmse: 1.80097\n",
            "[205]\tvalid_0's rmse: 1.80101\n",
            "[206]\tvalid_0's rmse: 1.80114\n",
            "[207]\tvalid_0's rmse: 1.80168\n",
            "[208]\tvalid_0's rmse: 1.80141\n",
            "[209]\tvalid_0's rmse: 1.80156\n",
            "[210]\tvalid_0's rmse: 1.80156\n",
            "[211]\tvalid_0's rmse: 1.8015\n",
            "[212]\tvalid_0's rmse: 1.80104\n",
            "[213]\tvalid_0's rmse: 1.80098\n",
            "[214]\tvalid_0's rmse: 1.80099\n",
            "[215]\tvalid_0's rmse: 1.8009\n",
            "[216]\tvalid_0's rmse: 1.80094\n",
            "[217]\tvalid_0's rmse: 1.80099\n",
            "[218]\tvalid_0's rmse: 1.80097\n",
            "[219]\tvalid_0's rmse: 1.80105\n",
            "[220]\tvalid_0's rmse: 1.80104\n",
            "[221]\tvalid_0's rmse: 1.80121\n",
            "[222]\tvalid_0's rmse: 1.80122\n",
            "[223]\tvalid_0's rmse: 1.80126\n",
            "[224]\tvalid_0's rmse: 1.80154\n",
            "[225]\tvalid_0's rmse: 1.80134\n",
            "[226]\tvalid_0's rmse: 1.80158\n",
            "[227]\tvalid_0's rmse: 1.80148\n",
            "[228]\tvalid_0's rmse: 1.80139\n",
            "[229]\tvalid_0's rmse: 1.80165\n",
            "[230]\tvalid_0's rmse: 1.80213\n",
            "[231]\tvalid_0's rmse: 1.80233\n",
            "[232]\tvalid_0's rmse: 1.80265\n",
            "[233]\tvalid_0's rmse: 1.80223\n",
            "[234]\tvalid_0's rmse: 1.80222\n",
            "[235]\tvalid_0's rmse: 1.80226\n",
            "[236]\tvalid_0's rmse: 1.80256\n",
            "[237]\tvalid_0's rmse: 1.80276\n",
            "[238]\tvalid_0's rmse: 1.80275\n",
            "[239]\tvalid_0's rmse: 1.80285\n",
            "[240]\tvalid_0's rmse: 1.80291\n",
            "[241]\tvalid_0's rmse: 1.8029\n",
            "[242]\tvalid_0's rmse: 1.80315\n",
            "[243]\tvalid_0's rmse: 1.80335\n",
            "[244]\tvalid_0's rmse: 1.80403\n",
            "[245]\tvalid_0's rmse: 1.80397\n",
            "[246]\tvalid_0's rmse: 1.80409\n",
            "[247]\tvalid_0's rmse: 1.80403\n",
            "[248]\tvalid_0's rmse: 1.80409\n",
            "[249]\tvalid_0's rmse: 1.80372\n",
            "[250]\tvalid_0's rmse: 1.80488\n",
            "[251]\tvalid_0's rmse: 1.80468\n",
            "[252]\tvalid_0's rmse: 1.80464\n",
            "[253]\tvalid_0's rmse: 1.80433\n",
            "[254]\tvalid_0's rmse: 1.80461\n",
            "[255]\tvalid_0's rmse: 1.8046\n",
            "[256]\tvalid_0's rmse: 1.80478\n",
            "[257]\tvalid_0's rmse: 1.80482\n",
            "[258]\tvalid_0's rmse: 1.80521\n",
            "[259]\tvalid_0's rmse: 1.80539\n",
            "[260]\tvalid_0's rmse: 1.8056\n",
            "[261]\tvalid_0's rmse: 1.80599\n",
            "[262]\tvalid_0's rmse: 1.80601\n",
            "[263]\tvalid_0's rmse: 1.80611\n",
            "[264]\tvalid_0's rmse: 1.80606\n",
            "[265]\tvalid_0's rmse: 1.80657\n",
            "[266]\tvalid_0's rmse: 1.80611\n",
            "[267]\tvalid_0's rmse: 1.80595\n",
            "[268]\tvalid_0's rmse: 1.80494\n",
            "[269]\tvalid_0's rmse: 1.80473\n",
            "[270]\tvalid_0's rmse: 1.80501\n",
            "[271]\tvalid_0's rmse: 1.80533\n",
            "[272]\tvalid_0's rmse: 1.80534\n",
            "[273]\tvalid_0's rmse: 1.80583\n",
            "[274]\tvalid_0's rmse: 1.80582\n",
            "[275]\tvalid_0's rmse: 1.80585\n",
            "[276]\tvalid_0's rmse: 1.80576\n",
            "[277]\tvalid_0's rmse: 1.80571\n",
            "[278]\tvalid_0's rmse: 1.80586\n",
            "[279]\tvalid_0's rmse: 1.80622\n",
            "[280]\tvalid_0's rmse: 1.80602\n",
            "[281]\tvalid_0's rmse: 1.80628\n",
            "[282]\tvalid_0's rmse: 1.80628\n",
            "[283]\tvalid_0's rmse: 1.80642\n",
            "[284]\tvalid_0's rmse: 1.80652\n",
            "[285]\tvalid_0's rmse: 1.80598\n",
            "[286]\tvalid_0's rmse: 1.80575\n",
            "[287]\tvalid_0's rmse: 1.80574\n",
            "[288]\tvalid_0's rmse: 1.80576\n",
            "[289]\tvalid_0's rmse: 1.80594\n",
            "[290]\tvalid_0's rmse: 1.80594\n",
            "[291]\tvalid_0's rmse: 1.80697\n",
            "[292]\tvalid_0's rmse: 1.80696\n",
            "[293]\tvalid_0's rmse: 1.80697\n",
            "[294]\tvalid_0's rmse: 1.80678\n",
            "[295]\tvalid_0's rmse: 1.80674\n",
            "[296]\tvalid_0's rmse: 1.80716\n",
            "[297]\tvalid_0's rmse: 1.8072\n",
            "[298]\tvalid_0's rmse: 1.80717\n",
            "[299]\tvalid_0's rmse: 1.80721\n",
            "[300]\tvalid_0's rmse: 1.80769\n",
            "[301]\tvalid_0's rmse: 1.8077\n",
            "[302]\tvalid_0's rmse: 1.80771\n",
            "[303]\tvalid_0's rmse: 1.80835\n",
            "[304]\tvalid_0's rmse: 1.80886\n",
            "[305]\tvalid_0's rmse: 1.80865\n",
            "[306]\tvalid_0's rmse: 1.80869\n",
            "[307]\tvalid_0's rmse: 1.80851\n",
            "[308]\tvalid_0's rmse: 1.80849\n",
            "[309]\tvalid_0's rmse: 1.80851\n",
            "[310]\tvalid_0's rmse: 1.80899\n",
            "[311]\tvalid_0's rmse: 1.80924\n",
            "[312]\tvalid_0's rmse: 1.80949\n",
            "[313]\tvalid_0's rmse: 1.80947\n",
            "[314]\tvalid_0's rmse: 1.8094\n",
            "[315]\tvalid_0's rmse: 1.80927\n",
            "[316]\tvalid_0's rmse: 1.80927\n",
            "[317]\tvalid_0's rmse: 1.80941\n",
            "[318]\tvalid_0's rmse: 1.80965\n",
            "[319]\tvalid_0's rmse: 1.80896\n",
            "[320]\tvalid_0's rmse: 1.80887\n",
            "[321]\tvalid_0's rmse: 1.80907\n",
            "[322]\tvalid_0's rmse: 1.80919\n",
            "[323]\tvalid_0's rmse: 1.80909\n",
            "[324]\tvalid_0's rmse: 1.80928\n",
            "[325]\tvalid_0's rmse: 1.80931\n",
            "[326]\tvalid_0's rmse: 1.80942\n",
            "[327]\tvalid_0's rmse: 1.80941\n",
            "[328]\tvalid_0's rmse: 1.80974\n",
            "[329]\tvalid_0's rmse: 1.80968\n",
            "[330]\tvalid_0's rmse: 1.80946\n",
            "[331]\tvalid_0's rmse: 1.80941\n",
            "[332]\tvalid_0's rmse: 1.80961\n",
            "[333]\tvalid_0's rmse: 1.80963\n",
            "[334]\tvalid_0's rmse: 1.80989\n",
            "[335]\tvalid_0's rmse: 1.81011\n",
            "[336]\tvalid_0's rmse: 1.81006\n",
            "[337]\tvalid_0's rmse: 1.81005\n",
            "[338]\tvalid_0's rmse: 1.81003\n",
            "[339]\tvalid_0's rmse: 1.8101\n",
            "[340]\tvalid_0's rmse: 1.80989\n",
            "[341]\tvalid_0's rmse: 1.81021\n",
            "[342]\tvalid_0's rmse: 1.81043\n",
            "[343]\tvalid_0's rmse: 1.81044\n",
            "[344]\tvalid_0's rmse: 1.81062\n",
            "[345]\tvalid_0's rmse: 1.81049\n",
            "[346]\tvalid_0's rmse: 1.8105\n",
            "[347]\tvalid_0's rmse: 1.81071\n",
            "[348]\tvalid_0's rmse: 1.81093\n",
            "[349]\tvalid_0's rmse: 1.81122\n",
            "[350]\tvalid_0's rmse: 1.81153\n",
            "[351]\tvalid_0's rmse: 1.8108\n",
            "[352]\tvalid_0's rmse: 1.81079\n",
            "[353]\tvalid_0's rmse: 1.81086\n",
            "[354]\tvalid_0's rmse: 1.81096\n",
            "[355]\tvalid_0's rmse: 1.81113\n",
            "[356]\tvalid_0's rmse: 1.81113\n",
            "[357]\tvalid_0's rmse: 1.81124\n",
            "[358]\tvalid_0's rmse: 1.81132\n",
            "[359]\tvalid_0's rmse: 1.81128\n",
            "[360]\tvalid_0's rmse: 1.81142\n",
            "[361]\tvalid_0's rmse: 1.8115\n",
            "[362]\tvalid_0's rmse: 1.8119\n",
            "[363]\tvalid_0's rmse: 1.81194\n",
            "[364]\tvalid_0's rmse: 1.81209\n",
            "[365]\tvalid_0's rmse: 1.8121\n",
            "[366]\tvalid_0's rmse: 1.81208\n",
            "[367]\tvalid_0's rmse: 1.81226\n",
            "[368]\tvalid_0's rmse: 1.81218\n",
            "[369]\tvalid_0's rmse: 1.81218\n",
            "[370]\tvalid_0's rmse: 1.81231\n",
            "[371]\tvalid_0's rmse: 1.81287\n",
            "[372]\tvalid_0's rmse: 1.81311\n",
            "[373]\tvalid_0's rmse: 1.81399\n",
            "[374]\tvalid_0's rmse: 1.814\n",
            "Early stopping, best iteration is:\n",
            "[174]\tvalid_0's rmse: 1.79948\n"
          ],
          "name": "stdout"
        }
      ]
    },
    {
      "cell_type": "code",
      "metadata": {
        "id": "29FkWyMSPh6t"
      },
      "source": [
        "X_train1.info()"
      ],
      "execution_count": null,
      "outputs": []
    },
    {
      "cell_type": "code",
      "metadata": {
        "id": "UjAkpLIuGYFM"
      },
      "source": [
        "pickle.dump(LGB_Reg, open(\"lgb.pickle.dat\", \"wb\"))"
      ],
      "execution_count": null,
      "outputs": []
    },
    {
      "cell_type": "markdown",
      "metadata": {
        "id": "D5QoSJ1FDDuj"
      },
      "source": [
        "### Prediction et soumission"
      ]
    },
    {
      "cell_type": "code",
      "metadata": {
        "id": "klDuw1zFFWq-"
      },
      "source": [
        "X_final = pd.read_csv('/content/drive/MyDrive/Kaggle/X_final.csv')"
      ],
      "execution_count": null,
      "outputs": []
    },
    {
      "cell_type": "code",
      "metadata": {
        "id": "_hG1RyvRFWrA"
      },
      "source": [
        "reduce_mem_usage(X_final)"
      ],
      "execution_count": null,
      "outputs": []
    },
    {
      "cell_type": "code",
      "metadata": {
        "id": "pM3WjmbgL3j_"
      },
      "source": [
        "X_final1=X_final.iloc[0:20000000,0:38]\n",
        "reduce_mem_usage(X_final1)"
      ],
      "execution_count": null,
      "outputs": []
    },
    {
      "cell_type": "code",
      "metadata": {
        "id": "OaewMkT8OGBC"
      },
      "source": [
        "loaded_model = pickle.load(open(\"lgb.pickle.dat\", \"rb\"))"
      ],
      "execution_count": null,
      "outputs": []
    },
    {
      "cell_type": "code",
      "metadata": {
        "id": "uJkhfPkfOMst"
      },
      "source": [
        "X_final1.info()"
      ],
      "execution_count": null,
      "outputs": []
    },
    {
      "cell_type": "code",
      "metadata": {
        "id": "GQeNhqHYL3kB"
      },
      "source": [
        "Y_pred_final1 = LGB_Reg.predict(X_final1,num_iteration=LGB_Reg.best_iteration_)"
      ],
      "execution_count": null,
      "outputs": []
    },
    {
      "cell_type": "code",
      "metadata": {
        "id": "U1Mm1BbsL3kE"
      },
      "source": [
        "Y_pred_final1 = pd.DataFrame(data=Y_pred_final1)\n",
        "Y_pred_final1=Y_pred_final1.to_csv('/content/Y_pred_final1.csv', index=False)"
      ],
      "execution_count": null,
      "outputs": []
    },
    {
      "cell_type": "code",
      "metadata": {
        "id": "lNZCOgTLL3kG"
      },
      "source": [
        "del X_final1\n",
        "del Y_pred_final1"
      ],
      "execution_count": null,
      "outputs": []
    },
    {
      "cell_type": "code",
      "metadata": {
        "id": "8H66oaYWRNG6"
      },
      "source": [
        "X_final.info()"
      ],
      "execution_count": null,
      "outputs": []
    },
    {
      "cell_type": "code",
      "metadata": {
        "id": "NM5ArJ5QQ--W"
      },
      "source": [
        "X_final2=X_final.iloc[20000000:41697601,0:38]\n",
        "reduce_mem_usage(X_final2)"
      ],
      "execution_count": null,
      "outputs": []
    },
    {
      "cell_type": "code",
      "metadata": {
        "id": "LU2VGi26Q_TB"
      },
      "source": [
        "Y_pred_final2 = LGB_Reg.predict(X_final2,num_iteration=LGB_Reg.best_iteration_)"
      ],
      "execution_count": null,
      "outputs": []
    },
    {
      "cell_type": "code",
      "metadata": {
        "id": "rQanEAG3Q_TB"
      },
      "source": [
        "Y_pred_final2 = pd.DataFrame(data=Y_pred_final2)\n",
        "Y_pred_final2=Y_pred_final2.to_csv('/content/Y_pred_final2.csv', index=False)"
      ],
      "execution_count": null,
      "outputs": []
    },
    {
      "cell_type": "code",
      "metadata": {
        "id": "s7slKF3sQ_TC"
      },
      "source": [
        "del X_final2\n",
        "del Y_pred_final2"
      ],
      "execution_count": null,
      "outputs": []
    },
    {
      "cell_type": "code",
      "metadata": {
        "id": "Qm0g_4WCSOMC"
      },
      "source": [
        "Y_pred_final1 = pd.read_csv('/content/Y_pred_final1.csv')"
      ],
      "execution_count": null,
      "outputs": []
    },
    {
      "cell_type": "code",
      "metadata": {
        "id": "DZAoewyOSOMC"
      },
      "source": [
        "Y_pred_final2 = pd.read_csv('/content/Y_pred_final2.csv')"
      ],
      "execution_count": null,
      "outputs": []
    },
    {
      "cell_type": "code",
      "metadata": {
        "id": "1C63LVhgRxEP"
      },
      "source": [
        "Y_pred_finalLGB_df = pd.concat([Y_pred_final1, Y_pred_final2])"
      ],
      "execution_count": null,
      "outputs": []
    },
    {
      "cell_type": "code",
      "metadata": {
        "id": "wC22X9-rSS90"
      },
      "source": [
        "reduce_mem_usage(Y_pred_finalLGB_df)"
      ],
      "execution_count": null,
      "outputs": []
    },
    {
      "cell_type": "code",
      "metadata": {
        "id": "z91ufbWVRxc6"
      },
      "source": [
        "Y_pred_finalLGB_df.info()"
      ],
      "execution_count": null,
      "outputs": []
    },
    {
      "cell_type": "code",
      "metadata": {
        "id": "XRmmrWHxRxc6"
      },
      "source": [
        "Y_pred_finalLGB_df.to_csv (r'/content/drive/MyDrive/Kaggle/Y_pred_finalLGB_df.csv', index = False, header=True)"
      ],
      "execution_count": null,
      "outputs": []
    },
    {
      "cell_type": "code",
      "metadata": {
        "id": "3BhoFtbvRxc7"
      },
      "source": [
        "del Y_pred_finalLGB_df"
      ],
      "execution_count": null,
      "outputs": []
    },
    {
      "cell_type": "code",
      "metadata": {
        "id": "HYCcdAAFRxc8"
      },
      "source": [
        "Y_pred_finalLGB=pd.read_csv('/content/drive/MyDrive/Kaggle/Y_pred_finalLGB_df.csv')"
      ],
      "execution_count": null,
      "outputs": []
    },
    {
      "cell_type": "code",
      "metadata": {
        "id": "LEbcdGqKRxc8"
      },
      "source": [
        "reduce_mem_usage(Y_pred_finalLGB)"
      ],
      "execution_count": null,
      "outputs": []
    },
    {
      "cell_type": "code",
      "metadata": {
        "id": "DZ77ResIault"
      },
      "source": [
        "Y_pred_finalLGB=np.exp(Y_pred_finalLGB)\n"
      ],
      "execution_count": null,
      "outputs": []
    },
    {
      "cell_type": "code",
      "metadata": {
        "id": "XvLCxLVGboaY"
      },
      "source": [
        "Y_pred_finalLGB.loc[ (X_final.site_id==0)&(X_final.electricity==1) ] /=0.2931"
      ],
      "execution_count": null,
      "outputs": []
    },
    {
      "cell_type": "code",
      "metadata": {
        "id": "UFcdJiwKRxc8"
      },
      "source": [
        "submission  = pd.read_csv('/content/drive/MyDrive/Kaggle/sample_submission.csv')\n",
        "submission['meter_reading'] = Y_pred_finalLGB\n",
        "submission.loc[submission['meter_reading']<0, 'meter_reading'] = 0\n",
        "submission.to_csv('/content/drive/MyDrive/Kaggle/submission.csv', index=False)"
      ],
      "execution_count": null,
      "outputs": []
    },
    {
      "cell_type": "code",
      "metadata": {
        "id": "2EhMF2yyphGC"
      },
      "source": [
        "reduce_mem_usage(Y_pred_finalLGB_df)"
      ],
      "execution_count": null,
      "outputs": []
    },
    {
      "cell_type": "code",
      "metadata": {
        "colab": {
          "base_uri": "https://localhost:8080/"
        },
        "id": "23ltkAxgFlTJ",
        "outputId": "49ed055f-3944-4d2e-a995-abc9a26c865e"
      },
      "source": [
        "! kaggle competitions submit -c ashrae-energy-prediction -f '/content/drive/MyDrive/Kaggle/submission.csv' -m \"Third submission using Light GBM algorithm\""
      ],
      "execution_count": null,
      "outputs": [
        {
          "output_type": "stream",
          "text": [
            "Warning: Looks like you're using an outdated API Version, please consider updating (server 1.5.12 / client 1.5.4)\n",
            "100% 579M/579M [00:11<00:00, 53.7MB/s]\n",
            "Successfully submitted to ASHRAE - Great Energy Predictor III"
          ],
          "name": "stdout"
        }
      ]
    }
  ]
}