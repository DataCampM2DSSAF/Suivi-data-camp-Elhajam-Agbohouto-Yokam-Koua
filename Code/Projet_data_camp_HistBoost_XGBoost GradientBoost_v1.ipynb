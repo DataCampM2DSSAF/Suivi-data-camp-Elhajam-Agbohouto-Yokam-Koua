{
  "nbformat": 4,
  "nbformat_minor": 0,
  "metadata": {
    "accelerator": "GPU",
    "colab": {
      "name": "Projet_data_camp_Olivier.ipynb",
      "provenance": [],
      "collapsed_sections": [
        "XXZbPPknTtTi",
        "Hu8R3AOIVNRd",
        "0hFaBZVwRZqy",
        "yKnhA_snRZq3",
        "VERfoXsLRZq5",
        "ybJktk62RZq6",
        "CWwr89aFR-Mk",
        "eCVuxLMgVrKu",
        "tmPR2dqDbm7Y",
        "VjgUIzCKbm7t",
        "ZRJqSo_3bm7v",
        "l0JNif6Sbm73",
        "6MY08aHuvGcq",
        "ugKNpzSqvqNc",
        "5wYFkpJlvvEn",
        "Zxw5fTnZvzIJ"
      ],
      "machine_shape": "hm"
    },
    "kernelspec": {
      "display_name": "Python 3",
      "language": "python",
      "name": "python3"
    },
    "language_info": {
      "codemirror_mode": {
        "name": "ipython",
        "version": 3
      },
      "file_extension": ".py",
      "mimetype": "text/x-python",
      "name": "python",
      "nbconvert_exporter": "python",
      "pygments_lexer": "ipython3",
      "version": "3.8.5"
    }
  },
  "cells": [
    {
      "cell_type": "markdown",
      "metadata": {
        "id": "T-bYUWjORZqV"
      },
      "source": [
        "## ASHRAE Energy Predictions"
      ]
    },
    {
      "cell_type": "code",
      "metadata": {
        "colab": {
          "base_uri": "https://localhost:8080/"
        },
        "id": "gsFUXY5I6gqp",
        "outputId": "da9419ec-d62d-4c6b-f21d-34d993870bd2"
      },
      "source": [
        "from google.colab import drive\n",
        "drive.mount('/content/drive')"
      ],
      "execution_count": null,
      "outputs": [
        {
          "output_type": "stream",
          "text": [
            "Mounted at /content/drive\n"
          ],
          "name": "stdout"
        }
      ]
    },
    {
      "cell_type": "markdown",
      "metadata": {
        "id": "Ab8_YYLhTkhI"
      },
      "source": [
        "# Problématique et but du projet\n",
        "De nos jours, de plus en plus d'investissements sont réalisés dans le domaine de l'immobilier dans le but de réduire les consommations d'énergie des bâtiments et d'améliorer l'impact environnemental.\n",
        "\n",
        "Ainsi, les propriétaires d'immeubles peuvent bénéficier de financements basés sur la différence entre la consommation d'énergie réelle du bâtiment et celle qu'il aurait utilisée sans aucuns travaux d'aménagement. Toutefois, les données sur la consommation d'énergie des bâtiments au cas où il n'aurait pas de rénovation ne sont pas disponibles.\n",
        "\n",
        "Pour résoudre ce problème, des modèles contrefactuels sont développés afin de modéliser la consommation d'énergie d'un bâtiment sans travaux de rénovation.\n",
        "\n",
        "Le but de ce TP est de construire ces modèles contrefactuels pour les quatre types d'énergie que sont la consommation d'eau froide, d'électricité, d'eau chaude et de vapeur en se basant sur les taux d'utilisation historiques et les conditions météorologiques observées. Il s'agira concrètement de prédire les valeurs de la variable meter_reading pour 1449 bâtiments."
      ]
    },
    {
      "cell_type": "markdown",
      "metadata": {
        "id": "XXZbPPknTtTi"
      },
      "source": [
        "# Analyse exploratoire des données"
      ]
    },
    {
      "cell_type": "markdown",
      "metadata": {
        "id": "pyVeGa-CT28d"
      },
      "source": [
        "## Importation des données"
      ]
    },
    {
      "cell_type": "code",
      "metadata": {
        "id": "ERqdtTv9RZqY"
      },
      "source": [
        "import pandas as pd\n",
        "import numpy as np\n",
        "import matplotlib.pyplot as plt\n",
        "import seaborn as sns\n",
        "import pickle\n",
        "import scipy.stats\n",
        "import gc\n",
        "from sklearn.preprocessing import LabelEncoder\n",
        "le = LabelEncoder()\n",
        "    "
      ],
      "execution_count": null,
      "outputs": []
    },
    {
      "cell_type": "code",
      "metadata": {
        "id": "0GMYzw1ERZqa"
      },
      "source": [
        "train = pd.read_csv('/content/drive/MyDrive/Kaggle/train.csv')\n",
        "weather_train = pd.read_csv('/content/drive/MyDrive/Kaggle/weather_train.csv')\n",
        "building_metadata = pd.read_csv('/content/drive/MyDrive/Kaggle/building_metadata.csv')"
      ],
      "execution_count": null,
      "outputs": []
    },
    {
      "cell_type": "markdown",
      "metadata": {
        "id": "Yc2ewG21UOF9"
      },
      "source": [
        "## Description des données\n",
        "L'ensemble de données comprend trois années de relevés de compteurs horaires de plus de mille bâtiments sur plusieurs sites différents à travers le monde. Les données sont regroupées en deux types: les données météorologiques et les données individuelles. Les données météorologiques sont communes à tous les bâtiments d'un même site et les données individuelles sont propres à chacun des bâtiments.\n",
        "\n",
        "Les données météorologiques sont contenues dans la base weather_train/test.csv et concernent les données de températures, de niveau de précipitation, de vitesse et de direction du vent.\n",
        "\n",
        "Les données individuelles sont contenues dans les bases building_meta.csv et concernent les données sur l'utilisation primaire du bâtiment, la surface brute du bâtiment, le nombre d'étages des immeubles ou encore l'année d'ouverture du bâtiment.\n",
        "\n",
        "Les données train.csv décrivent quant à elles contiennent les données sur les quatre différents types de compteur (eau chaude et froide, gaz et électricité) et les consommations de ces énergies de chaque bâtiment."
      ]
    },
    {
      "cell_type": "markdown",
      "metadata": {
        "id": "Hu8R3AOIVNRd"
      },
      "source": [
        "## Etude de chaque table de données"
      ]
    },
    {
      "cell_type": "markdown",
      "metadata": {
        "id": "bZAHRRzdRZqb"
      },
      "source": [
        "\n",
        "\n",
        "### Analyse de la base de données train"
      ]
    },
    {
      "cell_type": "markdown",
      "metadata": {
        "id": "ZnJQJK3cRZqc"
      },
      "source": [
        "Cette base de données contient les 4 variables sivantes:\n",
        "\n",
        "- building_id: identifie chaque batiment\n",
        "- meter: le type de compteur. Il y en a 4, electricity, chilled water, hot water et steam\n",
        "- timestamp: les dates et heures de lecture de compteur; toutes les heures du 01/01/2016 à 00:00:00 au 31/12/2016 à 23:00:00\n",
        "- meter_reading: les consommations d'énergie rélévées "
      ]
    },
    {
      "cell_type": "code",
      "metadata": {
        "id": "Zqh0sGw3RZqc"
      },
      "source": [
        "train.info()"
      ],
      "execution_count": null,
      "outputs": []
    },
    {
      "cell_type": "markdown",
      "metadata": {
        "id": "QJX-quQuRZqd"
      },
      "source": [
        "Pour avoir une idée de la distribution de la variable d'intérêt qui est la consommation d'énergie (meter_reading), nous faisons un histogramme"
      ]
    },
    {
      "cell_type": "code",
      "metadata": {
        "id": "QFJdj7CKRZqd"
      },
      "source": [
        "plt.hist(train['meter_reading'])"
      ],
      "execution_count": null,
      "outputs": []
    },
    {
      "cell_type": "markdown",
      "metadata": {
        "id": "PwJ4VKLCRZqf"
      },
      "source": [
        "Nous constatons qu'il y a plein de zéros pour cette variable. Toute fois, l'histogramme ne nous permet pas de bien voir la distribution de cette variable pour les valeurs différentes de zéro. Nous allons étudier les données pour des meter reading égale à zéro séparément des autres dans un premier temps."
      ]
    },
    {
      "cell_type": "code",
      "metadata": {
        "id": "ksNDfgfhRZqg"
      },
      "source": [
        "train['meter_reading'].describe()"
      ],
      "execution_count": null,
      "outputs": []
    },
    {
      "cell_type": "markdown",
      "metadata": {
        "id": "qf2Aw_UcRZqh"
      },
      "source": [
        "En regardant la descrirption de cette variable, la moyenne est loin de zéro. On s'intéresse donc maintenant au pourcentage de valeurs qui sont égales à zéro."
      ]
    },
    {
      "cell_type": "code",
      "metadata": {
        "id": "uO0e7kNnRZqh"
      },
      "source": [
        "train[train['meter_reading']==0].shape[0] / train.shape[0]"
      ],
      "execution_count": null,
      "outputs": []
    },
    {
      "cell_type": "markdown",
      "metadata": {
        "id": "51dzTlxhRZqi"
      },
      "source": [
        "Environ 9.3% des valeurs des compteurs sont égales à zéro. Nous ne pouvons pas dire exactement à quoi attribuer ce phénomène. Il se pourrait que certains de ces valeurs sont égaleas à zéro parcequ'il n'y avait pas de consommation d'énergie, ou par exemple pour le dû au fait qu'en hiver on n'a pas besoin d'eau glacée."
      ]
    },
    {
      "cell_type": "code",
      "metadata": {
        "id": "xcMKgcadRZqj"
      },
      "source": [
        "len(train['meter'])"
      ],
      "execution_count": null,
      "outputs": []
    },
    {
      "cell_type": "code",
      "metadata": {
        "id": "YcJ56IDLRZqk"
      },
      "source": [
        "train['meter'].replace({0:\"electricity\",1:\"chilledwater\",2:\"steam\",3:\"hotwater\"},inplace=True)"
      ],
      "execution_count": null,
      "outputs": []
    },
    {
      "cell_type": "code",
      "metadata": {
        "id": "0jzi1FgsRZql"
      },
      "source": [
        "meter_dict = {}\n",
        "for i in train['meter'].unique():\n",
        "    percent = round(train[train['meter_reading']== 0]['meter'].value_counts()[i] / train['meter'].value_counts()[i],2)\n",
        "    meter_dict[i] = percent\n",
        "zero_meter = pd.Series(meter_dict)\n",
        "sns.barplot(x=zero_meter.index, y= zero_meter)\n",
        "plt.title(\"Meters percentage having zero readings\")\n",
        "plt.show()"
      ],
      "execution_count": null,
      "outputs": []
    },
    {
      "cell_type": "markdown",
      "metadata": {
        "id": "jTw_RVP2RZql"
      },
      "source": [
        "D'après le graphique ci-dessus, on constate que le compteur d'eau chaude a plus de zéros que les autres compteurs. Mais nous avons à faire au données temporelles, et donc ce n'est peut être pas la meilleur façon de regarder cette variable. Dans ce qui suit, nous allons faire des études plus détaillées."
      ]
    },
    {
      "cell_type": "markdown",
      "metadata": {
        "id": "fN0vImK9RZqm"
      },
      "source": [
        "Nous convertissons tout d'abord la variable timestamp en objet de date et temps, et ensuite attribuons le mois correspondant à chaque date pour pouvoir étudier les tendences mensuelles de meter_reading."
      ]
    },
    {
      "cell_type": "code",
      "metadata": {
        "id": "lPcOD3x3RZqm"
      },
      "source": [
        "train['meter'].unique()\n",
        "\n",
        "train['timestamp2'] = pd.to_datetime(train[\"timestamp\"])\n",
        "train['month'] = train.timestamp2.dt.month"
      ],
      "execution_count": null,
      "outputs": []
    },
    {
      "cell_type": "markdown",
      "metadata": {
        "id": "Vz1mHn3BRZqn"
      },
      "source": [
        "On représente ensuite séparément pour chaque compteur les valeurs de meter_reading par mois pour voir à quel moment on a ces valeurs sur l'année."
      ]
    },
    {
      "cell_type": "code",
      "metadata": {
        "id": "yhWOqa4pRZqo"
      },
      "source": [
        "fig, axs = plt.subplots(2,2, sharey=True, tight_layout=True,figsize=(10,6))\n",
        "\n",
        "axs[0][0].hist(x =\"month\",data =train[(train.meter_reading == 0) & (train.meter==\"electricity\")],bins =12,color = \"navajowhite\")\n",
        "axs[0][0].set_title(\"For electricity\")\n",
        "\n",
        "axs[0][1].hist(x =\"month\",data =train[(train.meter_reading == 0) & (train.meter==\"chilledwater\")],bins =12,color = \"skyblue\")\n",
        "axs[0][1].set_title(\"For chilled water\")\n",
        "\n",
        "axs[1][0].hist(x =\"month\",data =train[(train.meter_reading == 0) & (train.meter==\"steam\")],bins =12,color = \"slategrey\")\n",
        "axs[1][0].set_title(\"For steam\")\n",
        "\n",
        "axs[1][1].hist(x =\"month\",data =train[(train.meter_reading == 0) & (train.meter==\"hotwater\")],bins =12,color = \"lightcoral\")\n",
        "axs[1][1].set_title(\"For hot water\")"
      ],
      "execution_count": null,
      "outputs": []
    },
    {
      "cell_type": "markdown",
      "metadata": {
        "id": "pKsPoOoYRZqp"
      },
      "source": [
        "Comme on peut le voir sur les graphes, et comme attendu, les consommation de 0 change d'un mois à l'autre sur l'année en fonction du type de compteur aussi. Pour le compteur d'électricité, on a des consommation de 0 plutôt au début de l'année jusqu'en mai environ. A partir de juin les consommation de 0 baisse. Les consommations à 0 de \"steam\" et d'eau chaude ont à peu près la même tendance sur l'année. Les consommations à 0 d'eau glacée sont saisonnières aussi."
      ]
    },
    {
      "cell_type": "markdown",
      "metadata": {
        "id": "13AgW1RARZqq"
      },
      "source": [
        "En ne séparant pas les consommations à 0 du reste des consommations comme dans les graphiques ci-dessous, on n'arrive pas à voir l'effet des consommations à 0."
      ]
    },
    {
      "cell_type": "code",
      "metadata": {
        "id": "dtFI3jt1RZqq"
      },
      "source": [
        "fig, axs = plt.subplots(2,2, sharey=True, tight_layout=True,figsize=(10,6))\n",
        "\n",
        "axs[0][0].hist(x =\"month\",data =train[(train.meter==\"electricity\")],bins =12,color = \"navajowhite\")\n",
        "axs[0][0].set_title(\"For electricity\")\n",
        "\n",
        "axs[0][1].hist(x =\"month\",data =train[(train.meter==\"chilledwater\")],bins =12,color = \"skyblue\")\n",
        "axs[0][1].set_title(\"For chilled water\")\n",
        "\n",
        "axs[1][0].hist(x =\"month\",data =train[(train.meter==\"steam\")],bins =12,color = \"slategrey\")\n",
        "axs[1][0].set_title(\"For steam\")\n",
        "\n",
        "axs[1][1].hist(x =\"month\",data =train[(train.meter==\"hotwater\")],bins =12,color = \"lightcoral\")\n",
        "axs[1][1].set_title(\"For hot water\")"
      ],
      "execution_count": null,
      "outputs": []
    },
    {
      "cell_type": "markdown",
      "metadata": {
        "id": "Bxh1yVovRZqr"
      },
      "source": [
        "Les consommations différentes de 0 ont une tendance plutôt uniforme, comme ci-dessous."
      ]
    },
    {
      "cell_type": "code",
      "metadata": {
        "id": "ZbYY6qIERZqs"
      },
      "source": [
        "fig, axs = plt.subplots(2,2, sharey=True, tight_layout=True,figsize=(10,6))\n",
        "\n",
        "axs[0][0].hist(x =\"month\",data =train[(train.meter_reading != 0) & (train.meter==\"electricity\")],bins =12,color = \"navajowhite\")\n",
        "axs[0][0].set_title(\"For electricity\")\n",
        "\n",
        "axs[0][1].hist(x =\"month\",data =train[(train.meter_reading != 0) & (train.meter==\"chilledwater\")],bins =12,color = \"skyblue\")\n",
        "axs[0][1].set_title(\"For chilled water\")\n",
        "\n",
        "axs[1][0].hist(x =\"month\",data =train[(train.meter_reading != 0) & (train.meter==\"steam\")],bins =12,color = \"slategrey\")\n",
        "axs[1][0].set_title(\"For steam\")\n",
        "\n",
        "axs[1][1].hist(x =\"month\",data =train[(train.meter_reading != 0) & (train.meter==\"hotwater\")],bins =12,color = \"lightcoral\")\n",
        "axs[1][1].set_title(\"For hot water\")"
      ],
      "execution_count": null,
      "outputs": []
    },
    {
      "cell_type": "code",
      "metadata": {
        "id": "04hMe58PRZqt"
      },
      "source": [
        "sns.kdeplot(train.loc[(train['meter']=='electricity'), \n",
        "            'meter_reading'], color='yellow', shade=False, Label='electricity')\n",
        "\n",
        "sns.kdeplot(train.loc[(train['meter']=='chilledwater'), \n",
        "            'meter_reading'], color='b', shade=False, Label='chilledwater')\n",
        "\n",
        "sns.kdeplot(train.loc[(train['meter']=='steam'), \n",
        "            'meter_reading'], color='gray', shade=False, Label='steam')\n",
        "\n",
        "sns.kdeplot(train.loc[(train['meter']=='hotwater'), \n",
        "            'meter_reading'], color='r', shade=False, Label='hotwater')\n",
        "\n",
        "plt.xlabel('meter_reading') \n",
        "plt.ylabel('Probability Density') "
      ],
      "execution_count": null,
      "outputs": []
    },
    {
      "cell_type": "markdown",
      "metadata": {
        "id": "jGkal4zyRZqt"
      },
      "source": [
        "Nous faisons une log transformation sur la variable meter_reading pour avoir des données plus normalisées et une bonne représentation de la densité."
      ]
    },
    {
      "cell_type": "code",
      "metadata": {
        "id": "UWrRL7wtRZqv"
      },
      "source": [
        "train['meter_reading_log'] = np.log1p(train['meter_reading'])"
      ],
      "execution_count": null,
      "outputs": []
    },
    {
      "cell_type": "code",
      "metadata": {
        "id": "Z1i1BmH-RZqw"
      },
      "source": [
        "sns.kdeplot(train.loc[(train['meter']=='electricity'), \n",
        "            \"meter_reading_log\"], color='yellow', shade=False, Label='electricity')\n",
        "\n",
        "sns.kdeplot(train.loc[(train['meter']=='chilledwater'), \n",
        "            \"meter_reading_log\"], color='b', shade=False, Label='chilledwater')\n",
        "\n",
        "sns.kdeplot(train.loc[(train['meter']=='steam'), \n",
        "            \"meter_reading_log\"], color='gray', shade=False, Label='steam')\n",
        "\n",
        "sns.kdeplot(train.loc[(train['meter']=='hotwater'), \n",
        "            \"meter_reading_log\"], color='r', shade=False, Label='hotwater')\n",
        "\n",
        "plt.xlabel('meter_reading_log') \n",
        "plt.ylabel('Probability Density') "
      ],
      "execution_count": null,
      "outputs": []
    },
    {
      "cell_type": "code",
      "metadata": {
        "id": "ziOAtNX-RZqy"
      },
      "source": [
        "len(set(train['building_id']))"
      ],
      "execution_count": null,
      "outputs": []
    },
    {
      "cell_type": "markdown",
      "metadata": {
        "id": "0hFaBZVwRZqy"
      },
      "source": [
        "### Analyse des données building"
      ]
    },
    {
      "cell_type": "markdown",
      "metadata": {
        "id": "RG3zO0LfRZqz"
      },
      "source": [
        "Les données building_meta.csv sont composé de 6 variables définies par :\n",
        "\n",
        "- site_id : Clé étrangère pour les fichiers météo.\n",
        "- building_id : Clé étrangère pour train.csv\n",
        "- primary_use : Indicateur de la catégorie principale d'activités pour le bâtiment basé sur les définitions de type de propriété EnergyStar\n",
        "- square_feet : Surface de plancher brute du bâtiment\n",
        "- year_built : Année d'ouverture du bâtiment\n",
        "- floor_count : Nombre d'étages du bâtiment"
      ]
    },
    {
      "cell_type": "code",
      "metadata": {
        "id": "ThENnZEIRZq0"
      },
      "source": [
        "building_metadata.shape"
      ],
      "execution_count": null,
      "outputs": []
    },
    {
      "cell_type": "code",
      "metadata": {
        "id": "pvdfFAxERZq0"
      },
      "source": [
        "building_metadata.head()"
      ],
      "execution_count": null,
      "outputs": []
    },
    {
      "cell_type": "code",
      "metadata": {
        "id": "H-9LkQwCRZq0"
      },
      "source": [
        "building_metadata.describe()"
      ],
      "execution_count": null,
      "outputs": []
    },
    {
      "cell_type": "code",
      "metadata": {
        "id": "h0XZfeoGRZq1"
      },
      "source": [
        "building_metadata.info()"
      ],
      "execution_count": null,
      "outputs": []
    },
    {
      "cell_type": "markdown",
      "metadata": {
        "id": "kG4rlefMRZq1"
      },
      "source": [
        "les variables years_built et floor_count ont beaucoup de valeurs manquantes ( 774 pour years_built  et 1094 pour floor_count)"
      ]
    },
    {
      "cell_type": "markdown",
      "metadata": {
        "id": "yKnhA_snRZq3"
      },
      "source": [
        "#### Variable primary_use"
      ]
    },
    {
      "cell_type": "code",
      "metadata": {
        "id": "SPFaeYmrRZq3"
      },
      "source": [
        "building_metadata.primary_use.unique()"
      ],
      "execution_count": null,
      "outputs": []
    },
    {
      "cell_type": "markdown",
      "metadata": {
        "id": "IykBdxqIRZq4"
      },
      "source": [
        "16 types de catégorie principale d'activités pour le bâtiment, la variable primary_use peut être pris comme une varibles catégorielle.\n"
      ]
    },
    {
      "cell_type": "code",
      "metadata": {
        "id": "HuHyc8d-RZq4"
      },
      "source": [
        "sns.countplot(y=\"primary_use\",data=building_metadata ,color=\"salmon\")"
      ],
      "execution_count": null,
      "outputs": []
    },
    {
      "cell_type": "markdown",
      "metadata": {
        "id": "rXP6SHCCRZq5"
      },
      "source": [
        "On remarque que la majorité des acitivités des bâtiments est lié à l'éducation, et la minorité est lié a des lieux de culte religieux.  "
      ]
    },
    {
      "cell_type": "markdown",
      "metadata": {
        "id": "VERfoXsLRZq5"
      },
      "source": [
        "#### Variable site_id"
      ]
    },
    {
      "cell_type": "code",
      "metadata": {
        "id": "-xdqANTSRZq5"
      },
      "source": [
        "site_build = building_metadata.groupby('site_id').building_id.size()\n",
        "sns.barplot(x=site_build.index , y= site_build,color=\"blue\")\n",
        "plt.ylabel(\"Number of building\")\n",
        "del site_build"
      ],
      "execution_count": null,
      "outputs": []
    },
    {
      "cell_type": "markdown",
      "metadata": {
        "id": "vtBZzHZDRZq6"
      },
      "source": [
        "On remarque le site 3 a le plus grand nombre de batiments, et le site 11 en a le moins."
      ]
    },
    {
      "cell_type": "markdown",
      "metadata": {
        "id": "ybJktk62RZq6"
      },
      "source": [
        "#### Variable square_feet, years_built et floor_count"
      ]
    },
    {
      "cell_type": "code",
      "metadata": {
        "id": "hec3mF30RZq6"
      },
      "source": [
        "fig, axes = plt.subplots(3,1,figsize=(10,10)) \n",
        "columns = building_metadata.drop([\"primary_use\",\"site_id\",\"building_id\"],axis=1).columns\n",
        "for i,col in enumerate(list(columns)):\n",
        "    plot = building_metadata.boxplot(col, by=\"site_id\", ax=axes.flatten()[i])\n",
        "\n",
        "plt.tight_layout() \n",
        "\n",
        "plt.show()"
      ],
      "execution_count": null,
      "outputs": []
    },
    {
      "cell_type": "markdown",
      "metadata": {
        "id": "K40SlvbCRZq7"
      },
      "source": [
        "On remarque que le site 0 est un site avec des bâtiments récents, et le site 4 qu'en a lui a des baitments assez anciens. Par rapport au nombres d'étages, le site 8 ne possède pas beaucoup d'étages contrairement au site 7 qui a des bâtiments avec plus d'étages."
      ]
    },
    {
      "cell_type": "code",
      "metadata": {
        "id": "xkPAieYCRZq7"
      },
      "source": [
        "building_metadata.hist(column =\"year_built\",bins=40)"
      ],
      "execution_count": null,
      "outputs": []
    },
    {
      "cell_type": "markdown",
      "metadata": {
        "id": "oRtLhsYvRZq8"
      },
      "source": [
        "Beaucoup de batiments datent des années 1975."
      ]
    },
    {
      "cell_type": "code",
      "metadata": {
        "id": "uT_yQ3vFRZq8"
      },
      "source": [
        "building_metadata['year_built'].describe()"
      ],
      "execution_count": null,
      "outputs": []
    },
    {
      "cell_type": "markdown",
      "metadata": {
        "id": "CWwr89aFR-Mk"
      },
      "source": [
        "### Analyse des données méteorologiques (weather_data)"
      ]
    },
    {
      "cell_type": "code",
      "metadata": {
        "id": "foqa96UFSMDw"
      },
      "source": [
        "weather_train.shape"
      ],
      "execution_count": null,
      "outputs": []
    },
    {
      "cell_type": "markdown",
      "metadata": {
        "id": "xcqu2JCASPZU"
      },
      "source": [
        "La base d'apprentissage des données météorologiques comportent au total 139773 observations évaluées sur 8 variables que sont: la température de l'air, la couverture en nuage, la température de la rosée, le niveau des pluies, la pression du niveau de mer, la direction et la vitesse du vent. Chaque observation (ligne) corresponds au relevé météorologique par heure de chaque site. Ainsi, chaque site a 24 lignes pour les 8 données méteo recueillies."
      ]
    },
    {
      "cell_type": "code",
      "metadata": {
        "id": "PuR3BpdKSSsH"
      },
      "source": [
        "weather_train.info()"
      ],
      "execution_count": null,
      "outputs": []
    },
    {
      "cell_type": "markdown",
      "metadata": {
        "id": "AXvDiuXdSXvT"
      },
      "source": [
        "Toutes les données de cette base n'ont pas pu être recueillies. Il y a des valeurs manquantes pour toutes les variables mesurées sauf évidemment les heures de recueil. Les heures de recueil **timestamp** seront transformées en format date."
      ]
    },
    {
      "cell_type": "code",
      "metadata": {
        "id": "w9F6yxWTSXOf"
      },
      "source": [
        "weather_train.describe()"
      ],
      "execution_count": null,
      "outputs": []
    },
    {
      "cell_type": "markdown",
      "metadata": {
        "id": "uxmUyJUjSdBR"
      },
      "source": [
        "En analysant les statistiques descriptives des variables de la table weather on peut soupçonner la présence de variables abérrantes. En effet, lorsque nous prenons les valeurs de températures, nous avons des valeurs extrêmes (min et max) très éloignées avec de fortes dispersions (std=10,62 et 9,79).\n",
        "La variable precip_depth_1_hr contient à priori des variables abbérantes car la valeur minimum est de -1 alors que la valeur maximale est de 343 avec une valeur moyenne de 0.98 et des quartiles nulles.\n",
        "De même, les variables de mesure du vent (wind_direction et wind_speed) présentent des caractéristiques similaires aux précédentes.\n",
        "Nous pouvons vérifier la présence de valeurs abbérantes grâce au box-plot ci-dessous."
      ]
    },
    {
      "cell_type": "code",
      "metadata": {
        "id": "N74NYTHkSPIA"
      },
      "source": [
        "fig, axes = plt.subplots(7,1,figsize=(10,30)) \n",
        "columns = weather_train.drop([\"site_id\",\"timestamp\"],axis=1).columns\n",
        "for i,col in enumerate(list(columns)):\n",
        "\n",
        "    plot = weather_train.boxplot(col, by=\"site_id\", ax=axes.flatten()[i])\n",
        "\n",
        "plt.tight_layout() \n",
        "\n",
        "plt.show()"
      ],
      "execution_count": null,
      "outputs": []
    },
    {
      "cell_type": "markdown",
      "metadata": {
        "id": "xyrC22aVSion"
      },
      "source": [
        "La représentation des box-plot confirme bien la présence de valeurs abbérantes pour toutes les variables d'étude de la table sauf la variable wind_direction.\n",
        "Aussi, en général les données météorologiques varient en fonction des sites étudiés.\n",
        "Par exemple, les sites 0, 8 et 9 ont en moyenne des températures (ambiante et de la rosée) élevées contrairement aux sites 7 et 11 avec des températures (ambiante et de la rosée) basses.\n",
        "Par ailleurs, on peut également noter que nous avons très peu de données pour les variables precip_depth_1_hr et cloud_coverage. Sur le site 11, nous n'avons pas de données pour la variable cloud_coverage et sur les sites 1, 5 et 12 nous n'avons pas de données pour la variable precip_depth_1_hr."
      ]
    },
    {
      "cell_type": "markdown",
      "metadata": {
        "id": "wqiVmQFwTeKS"
      },
      "source": [
        "Etudions la corrélation entre les différentes variables de la base weather_train"
      ]
    },
    {
      "cell_type": "code",
      "metadata": {
        "id": "i2RgxOW_SM_9"
      },
      "source": [
        "sns.heatmap(weather_train.corr(),linewidths=.5,annot=True)"
      ],
      "execution_count": null,
      "outputs": []
    },
    {
      "cell_type": "markdown",
      "metadata": {
        "id": "qL5WA2fVS_oI"
      },
      "source": [
        "On obtient ci-dessus une matrice des valeurs de corrélation représentée par des couleurs. On remarque essentiellement qu'il y a une forte corrélation entre les variables **dew_temperature** et **air_température**"
      ]
    },
    {
      "cell_type": "markdown",
      "metadata": {
        "id": "eCVuxLMgVrKu"
      },
      "source": [
        "# Fusion des différentes tables de données"
      ]
    },
    {
      "cell_type": "markdown",
      "metadata": {
        "id": "s4j4tWG-Wap5"
      },
      "source": [
        "Nous avons à cette étape fusinner toutes les tables afin d'avoir une grande base de données contenant toutes les informations. Chaque table contient une clé qui permets de les référencer et donc de les fusionner entre elles."
      ]
    },
    {
      "cell_type": "code",
      "metadata": {
        "colab": {
          "base_uri": "https://localhost:8080/"
        },
        "id": "XKiNrDaCV4ZS",
        "outputId": "80ea94e6-8fff-4692-fac8-c664733c72cf"
      },
      "source": [
        "train = train.merge(building_metadata, on='building_id', how='left')\n",
        "alltrain = train.merge(weather_train, on=['site_id','timestamp'], how='left')\n",
        "del building_metadata,weather_train,train\n",
        "gc.collect()"
      ],
      "execution_count": null,
      "outputs": [
        {
          "output_type": "execute_result",
          "data": {
            "text/plain": [
              "154"
            ]
          },
          "metadata": {
            "tags": []
          },
          "execution_count": 22
        }
      ]
    },
    {
      "cell_type": "code",
      "metadata": {
        "id": "2vFZFbI6QHBZ"
      },
      "source": [
        "alltrain.to_csv (r'/content/drive/MyDrive/Kaggle/alltrain.csv', index = False, header=True)"
      ],
      "execution_count": null,
      "outputs": []
    },
    {
      "cell_type": "code",
      "metadata": {
        "colab": {
          "base_uri": "https://localhost:8080/"
        },
        "id": "D2bcAjnrQTeV",
        "outputId": "c137a52f-06c9-4163-f0e9-fad647752205"
      },
      "source": [
        "np.shape(alltrain)"
      ],
      "execution_count": null,
      "outputs": [
        {
          "output_type": "execute_result",
          "data": {
            "text/plain": [
              "(20216100, 16)"
            ]
          },
          "metadata": {
            "tags": []
          },
          "execution_count": 24
        }
      ]
    },
    {
      "cell_type": "markdown",
      "metadata": {
        "id": "4eEUtRO5WBBr"
      },
      "source": [
        "La base de données complète contient au total 20216100 individus et 16 variables."
      ]
    },
    {
      "cell_type": "markdown",
      "metadata": {
        "id": "g4Cs0AuDbm7O"
      },
      "source": [
        "## Analyse de la table alltrain"
      ]
    },
    {
      "cell_type": "code",
      "metadata": {
        "id": "c4STHcEmbm7O",
        "outputId": "3460c8cd-c518-4f46-c084-005f4b354e28"
      },
      "source": [
        "alltrain.head()"
      ],
      "execution_count": null,
      "outputs": [
        {
          "output_type": "execute_result",
          "data": {
            "text/html": [
              "<div>\n",
              "<style scoped>\n",
              "    .dataframe tbody tr th:only-of-type {\n",
              "        vertical-align: middle;\n",
              "    }\n",
              "\n",
              "    .dataframe tbody tr th {\n",
              "        vertical-align: top;\n",
              "    }\n",
              "\n",
              "    .dataframe thead th {\n",
              "        text-align: right;\n",
              "    }\n",
              "</style>\n",
              "<table border=\"1\" class=\"dataframe\">\n",
              "  <thead>\n",
              "    <tr style=\"text-align: right;\">\n",
              "      <th></th>\n",
              "      <th>building_id</th>\n",
              "      <th>meter</th>\n",
              "      <th>timestamp</th>\n",
              "      <th>meter_reading</th>\n",
              "      <th>site_id</th>\n",
              "      <th>primary_use</th>\n",
              "      <th>square_feet</th>\n",
              "      <th>year_built</th>\n",
              "      <th>floor_count</th>\n",
              "      <th>air_temperature</th>\n",
              "      <th>cloud_coverage</th>\n",
              "      <th>dew_temperature</th>\n",
              "      <th>precip_depth_1_hr</th>\n",
              "      <th>sea_level_pressure</th>\n",
              "      <th>wind_direction</th>\n",
              "      <th>wind_speed</th>\n",
              "    </tr>\n",
              "  </thead>\n",
              "  <tbody>\n",
              "    <tr>\n",
              "      <th>0</th>\n",
              "      <td>0</td>\n",
              "      <td>0</td>\n",
              "      <td>2016-01-01 00:00:00</td>\n",
              "      <td>0.0</td>\n",
              "      <td>0</td>\n",
              "      <td>Education</td>\n",
              "      <td>7432</td>\n",
              "      <td>2008.0</td>\n",
              "      <td>NaN</td>\n",
              "      <td>25.0</td>\n",
              "      <td>6.0</td>\n",
              "      <td>20.0</td>\n",
              "      <td>NaN</td>\n",
              "      <td>1019.7</td>\n",
              "      <td>0.0</td>\n",
              "      <td>0.0</td>\n",
              "    </tr>\n",
              "    <tr>\n",
              "      <th>1</th>\n",
              "      <td>1</td>\n",
              "      <td>0</td>\n",
              "      <td>2016-01-01 00:00:00</td>\n",
              "      <td>0.0</td>\n",
              "      <td>0</td>\n",
              "      <td>Education</td>\n",
              "      <td>2720</td>\n",
              "      <td>2004.0</td>\n",
              "      <td>NaN</td>\n",
              "      <td>25.0</td>\n",
              "      <td>6.0</td>\n",
              "      <td>20.0</td>\n",
              "      <td>NaN</td>\n",
              "      <td>1019.7</td>\n",
              "      <td>0.0</td>\n",
              "      <td>0.0</td>\n",
              "    </tr>\n",
              "    <tr>\n",
              "      <th>2</th>\n",
              "      <td>2</td>\n",
              "      <td>0</td>\n",
              "      <td>2016-01-01 00:00:00</td>\n",
              "      <td>0.0</td>\n",
              "      <td>0</td>\n",
              "      <td>Education</td>\n",
              "      <td>5376</td>\n",
              "      <td>1991.0</td>\n",
              "      <td>NaN</td>\n",
              "      <td>25.0</td>\n",
              "      <td>6.0</td>\n",
              "      <td>20.0</td>\n",
              "      <td>NaN</td>\n",
              "      <td>1019.7</td>\n",
              "      <td>0.0</td>\n",
              "      <td>0.0</td>\n",
              "    </tr>\n",
              "    <tr>\n",
              "      <th>3</th>\n",
              "      <td>3</td>\n",
              "      <td>0</td>\n",
              "      <td>2016-01-01 00:00:00</td>\n",
              "      <td>0.0</td>\n",
              "      <td>0</td>\n",
              "      <td>Education</td>\n",
              "      <td>23685</td>\n",
              "      <td>2002.0</td>\n",
              "      <td>NaN</td>\n",
              "      <td>25.0</td>\n",
              "      <td>6.0</td>\n",
              "      <td>20.0</td>\n",
              "      <td>NaN</td>\n",
              "      <td>1019.7</td>\n",
              "      <td>0.0</td>\n",
              "      <td>0.0</td>\n",
              "    </tr>\n",
              "    <tr>\n",
              "      <th>4</th>\n",
              "      <td>4</td>\n",
              "      <td>0</td>\n",
              "      <td>2016-01-01 00:00:00</td>\n",
              "      <td>0.0</td>\n",
              "      <td>0</td>\n",
              "      <td>Education</td>\n",
              "      <td>116607</td>\n",
              "      <td>1975.0</td>\n",
              "      <td>NaN</td>\n",
              "      <td>25.0</td>\n",
              "      <td>6.0</td>\n",
              "      <td>20.0</td>\n",
              "      <td>NaN</td>\n",
              "      <td>1019.7</td>\n",
              "      <td>0.0</td>\n",
              "      <td>0.0</td>\n",
              "    </tr>\n",
              "  </tbody>\n",
              "</table>\n",
              "</div>"
            ],
            "text/plain": [
              "   building_id  meter            timestamp  meter_reading  site_id  \\\n",
              "0            0      0  2016-01-01 00:00:00            0.0        0   \n",
              "1            1      0  2016-01-01 00:00:00            0.0        0   \n",
              "2            2      0  2016-01-01 00:00:00            0.0        0   \n",
              "3            3      0  2016-01-01 00:00:00            0.0        0   \n",
              "4            4      0  2016-01-01 00:00:00            0.0        0   \n",
              "\n",
              "  primary_use  square_feet  year_built  floor_count  air_temperature  \\\n",
              "0   Education         7432      2008.0          NaN             25.0   \n",
              "1   Education         2720      2004.0          NaN             25.0   \n",
              "2   Education         5376      1991.0          NaN             25.0   \n",
              "3   Education        23685      2002.0          NaN             25.0   \n",
              "4   Education       116607      1975.0          NaN             25.0   \n",
              "\n",
              "   cloud_coverage  dew_temperature  precip_depth_1_hr  sea_level_pressure  \\\n",
              "0             6.0             20.0                NaN              1019.7   \n",
              "1             6.0             20.0                NaN              1019.7   \n",
              "2             6.0             20.0                NaN              1019.7   \n",
              "3             6.0             20.0                NaN              1019.7   \n",
              "4             6.0             20.0                NaN              1019.7   \n",
              "\n",
              "   wind_direction  wind_speed  \n",
              "0             0.0         0.0  \n",
              "1             0.0         0.0  \n",
              "2             0.0         0.0  \n",
              "3             0.0         0.0  \n",
              "4             0.0         0.0  "
            ]
          },
          "metadata": {
            "tags": []
          },
          "execution_count": 7
        }
      ]
    },
    {
      "cell_type": "code",
      "metadata": {
        "id": "JRAnb027V93T",
        "outputId": "f779e3e5-ae98-492e-bbcd-a0e882bdb454"
      },
      "source": [
        "alltrain.shape"
      ],
      "execution_count": null,
      "outputs": [
        {
          "output_type": "execute_result",
          "data": {
            "text/plain": [
              "(20216100, 16)"
            ]
          },
          "metadata": {
            "tags": []
          },
          "execution_count": 7
        }
      ]
    },
    {
      "cell_type": "code",
      "metadata": {
        "id": "MBoG9B_Zbm7P",
        "outputId": "bb62b69d-5354-43e9-8343-05248393fdb7"
      },
      "source": [
        "alltrain.describe()"
      ],
      "execution_count": null,
      "outputs": [
        {
          "output_type": "execute_result",
          "data": {
            "text/html": [
              "<div>\n",
              "<style scoped>\n",
              "    .dataframe tbody tr th:only-of-type {\n",
              "        vertical-align: middle;\n",
              "    }\n",
              "\n",
              "    .dataframe tbody tr th {\n",
              "        vertical-align: top;\n",
              "    }\n",
              "\n",
              "    .dataframe thead th {\n",
              "        text-align: right;\n",
              "    }\n",
              "</style>\n",
              "<table border=\"1\" class=\"dataframe\">\n",
              "  <thead>\n",
              "    <tr style=\"text-align: right;\">\n",
              "      <th></th>\n",
              "      <th>building_id</th>\n",
              "      <th>meter</th>\n",
              "      <th>meter_reading</th>\n",
              "      <th>site_id</th>\n",
              "      <th>square_feet</th>\n",
              "      <th>year_built</th>\n",
              "      <th>floor_count</th>\n",
              "      <th>air_temperature</th>\n",
              "      <th>cloud_coverage</th>\n",
              "      <th>dew_temperature</th>\n",
              "      <th>precip_depth_1_hr</th>\n",
              "      <th>sea_level_pressure</th>\n",
              "      <th>wind_direction</th>\n",
              "      <th>wind_speed</th>\n",
              "    </tr>\n",
              "  </thead>\n",
              "  <tbody>\n",
              "    <tr>\n",
              "      <th>count</th>\n",
              "      <td>2.021610e+07</td>\n",
              "      <td>2.021610e+07</td>\n",
              "      <td>2.021610e+07</td>\n",
              "      <td>2.021610e+07</td>\n",
              "      <td>2.021610e+07</td>\n",
              "      <td>8.088455e+06</td>\n",
              "      <td>3.506933e+06</td>\n",
              "      <td>2.011944e+07</td>\n",
              "      <td>1.139074e+07</td>\n",
              "      <td>2.011596e+07</td>\n",
              "      <td>1.646708e+07</td>\n",
              "      <td>1.898443e+07</td>\n",
              "      <td>1.876705e+07</td>\n",
              "      <td>2.007242e+07</td>\n",
              "    </tr>\n",
              "    <tr>\n",
              "      <th>mean</th>\n",
              "      <td>7.992780e+02</td>\n",
              "      <td>6.624412e-01</td>\n",
              "      <td>2.117121e+03</td>\n",
              "      <td>7.992232e+00</td>\n",
              "      <td>1.077830e+05</td>\n",
              "      <td>1.968277e+03</td>\n",
              "      <td>4.184848e+00</td>\n",
              "      <td>1.598795e+01</td>\n",
              "      <td>1.900423e+00</td>\n",
              "      <td>7.747429e+00</td>\n",
              "      <td>7.964155e-01</td>\n",
              "      <td>1.016085e+03</td>\n",
              "      <td>1.730151e+02</td>\n",
              "      <td>3.377525e+00</td>\n",
              "    </tr>\n",
              "    <tr>\n",
              "      <th>std</th>\n",
              "      <td>4.269133e+02</td>\n",
              "      <td>9.309921e-01</td>\n",
              "      <td>1.532356e+05</td>\n",
              "      <td>5.099060e+00</td>\n",
              "      <td>1.171424e+05</td>\n",
              "      <td>3.020815e+01</td>\n",
              "      <td>4.008277e+00</td>\n",
              "      <td>1.094729e+01</td>\n",
              "      <td>2.402909e+00</td>\n",
              "      <td>1.017867e+01</td>\n",
              "      <td>7.468997e+00</td>\n",
              "      <td>7.060539e+00</td>\n",
              "      <td>1.140574e+02</td>\n",
              "      <td>2.265694e+00</td>\n",
              "    </tr>\n",
              "    <tr>\n",
              "      <th>min</th>\n",
              "      <td>0.000000e+00</td>\n",
              "      <td>0.000000e+00</td>\n",
              "      <td>0.000000e+00</td>\n",
              "      <td>0.000000e+00</td>\n",
              "      <td>2.830000e+02</td>\n",
              "      <td>1.900000e+03</td>\n",
              "      <td>1.000000e+00</td>\n",
              "      <td>-2.890000e+01</td>\n",
              "      <td>0.000000e+00</td>\n",
              "      <td>-3.500000e+01</td>\n",
              "      <td>-1.000000e+00</td>\n",
              "      <td>9.682000e+02</td>\n",
              "      <td>0.000000e+00</td>\n",
              "      <td>0.000000e+00</td>\n",
              "    </tr>\n",
              "    <tr>\n",
              "      <th>25%</th>\n",
              "      <td>3.930000e+02</td>\n",
              "      <td>0.000000e+00</td>\n",
              "      <td>1.830000e+01</td>\n",
              "      <td>3.000000e+00</td>\n",
              "      <td>3.252700e+04</td>\n",
              "      <td>1.951000e+03</td>\n",
              "      <td>1.000000e+00</td>\n",
              "      <td>8.600000e+00</td>\n",
              "      <td>0.000000e+00</td>\n",
              "      <td>0.000000e+00</td>\n",
              "      <td>0.000000e+00</td>\n",
              "      <td>1.011600e+03</td>\n",
              "      <td>7.000000e+01</td>\n",
              "      <td>2.100000e+00</td>\n",
              "    </tr>\n",
              "    <tr>\n",
              "      <th>50%</th>\n",
              "      <td>8.950000e+02</td>\n",
              "      <td>0.000000e+00</td>\n",
              "      <td>7.877500e+01</td>\n",
              "      <td>9.000000e+00</td>\n",
              "      <td>7.270900e+04</td>\n",
              "      <td>1.969000e+03</td>\n",
              "      <td>3.000000e+00</td>\n",
              "      <td>1.670000e+01</td>\n",
              "      <td>0.000000e+00</td>\n",
              "      <td>8.900000e+00</td>\n",
              "      <td>0.000000e+00</td>\n",
              "      <td>1.016000e+03</td>\n",
              "      <td>1.800000e+02</td>\n",
              "      <td>3.100000e+00</td>\n",
              "    </tr>\n",
              "    <tr>\n",
              "      <th>75%</th>\n",
              "      <td>1.179000e+03</td>\n",
              "      <td>1.000000e+00</td>\n",
              "      <td>2.679840e+02</td>\n",
              "      <td>1.300000e+01</td>\n",
              "      <td>1.391130e+05</td>\n",
              "      <td>1.993000e+03</td>\n",
              "      <td>6.000000e+00</td>\n",
              "      <td>2.410000e+01</td>\n",
              "      <td>4.000000e+00</td>\n",
              "      <td>1.610000e+01</td>\n",
              "      <td>0.000000e+00</td>\n",
              "      <td>1.020500e+03</td>\n",
              "      <td>2.800000e+02</td>\n",
              "      <td>4.600000e+00</td>\n",
              "    </tr>\n",
              "    <tr>\n",
              "      <th>max</th>\n",
              "      <td>1.448000e+03</td>\n",
              "      <td>3.000000e+00</td>\n",
              "      <td>2.190470e+07</td>\n",
              "      <td>1.500000e+01</td>\n",
              "      <td>8.750000e+05</td>\n",
              "      <td>2.017000e+03</td>\n",
              "      <td>2.600000e+01</td>\n",
              "      <td>4.720000e+01</td>\n",
              "      <td>9.000000e+00</td>\n",
              "      <td>2.610000e+01</td>\n",
              "      <td>3.430000e+02</td>\n",
              "      <td>1.045500e+03</td>\n",
              "      <td>3.600000e+02</td>\n",
              "      <td>1.900000e+01</td>\n",
              "    </tr>\n",
              "  </tbody>\n",
              "</table>\n",
              "</div>"
            ],
            "text/plain": [
              "        building_id         meter  meter_reading       site_id   square_feet  \\\n",
              "count  2.021610e+07  2.021610e+07   2.021610e+07  2.021610e+07  2.021610e+07   \n",
              "mean   7.992780e+02  6.624412e-01   2.117121e+03  7.992232e+00  1.077830e+05   \n",
              "std    4.269133e+02  9.309921e-01   1.532356e+05  5.099060e+00  1.171424e+05   \n",
              "min    0.000000e+00  0.000000e+00   0.000000e+00  0.000000e+00  2.830000e+02   \n",
              "25%    3.930000e+02  0.000000e+00   1.830000e+01  3.000000e+00  3.252700e+04   \n",
              "50%    8.950000e+02  0.000000e+00   7.877500e+01  9.000000e+00  7.270900e+04   \n",
              "75%    1.179000e+03  1.000000e+00   2.679840e+02  1.300000e+01  1.391130e+05   \n",
              "max    1.448000e+03  3.000000e+00   2.190470e+07  1.500000e+01  8.750000e+05   \n",
              "\n",
              "         year_built   floor_count  air_temperature  cloud_coverage  \\\n",
              "count  8.088455e+06  3.506933e+06     2.011944e+07    1.139074e+07   \n",
              "mean   1.968277e+03  4.184848e+00     1.598795e+01    1.900423e+00   \n",
              "std    3.020815e+01  4.008277e+00     1.094729e+01    2.402909e+00   \n",
              "min    1.900000e+03  1.000000e+00    -2.890000e+01    0.000000e+00   \n",
              "25%    1.951000e+03  1.000000e+00     8.600000e+00    0.000000e+00   \n",
              "50%    1.969000e+03  3.000000e+00     1.670000e+01    0.000000e+00   \n",
              "75%    1.993000e+03  6.000000e+00     2.410000e+01    4.000000e+00   \n",
              "max    2.017000e+03  2.600000e+01     4.720000e+01    9.000000e+00   \n",
              "\n",
              "       dew_temperature  precip_depth_1_hr  sea_level_pressure  wind_direction  \\\n",
              "count     2.011596e+07       1.646708e+07        1.898443e+07    1.876705e+07   \n",
              "mean      7.747429e+00       7.964155e-01        1.016085e+03    1.730151e+02   \n",
              "std       1.017867e+01       7.468997e+00        7.060539e+00    1.140574e+02   \n",
              "min      -3.500000e+01      -1.000000e+00        9.682000e+02    0.000000e+00   \n",
              "25%       0.000000e+00       0.000000e+00        1.011600e+03    7.000000e+01   \n",
              "50%       8.900000e+00       0.000000e+00        1.016000e+03    1.800000e+02   \n",
              "75%       1.610000e+01       0.000000e+00        1.020500e+03    2.800000e+02   \n",
              "max       2.610000e+01       3.430000e+02        1.045500e+03    3.600000e+02   \n",
              "\n",
              "         wind_speed  \n",
              "count  2.007242e+07  \n",
              "mean   3.377525e+00  \n",
              "std    2.265694e+00  \n",
              "min    0.000000e+00  \n",
              "25%    2.100000e+00  \n",
              "50%    3.100000e+00  \n",
              "75%    4.600000e+00  \n",
              "max    1.900000e+01  "
            ]
          },
          "metadata": {
            "tags": []
          },
          "execution_count": 13
        }
      ]
    },
    {
      "cell_type": "code",
      "metadata": {
        "id": "5B4AqKGUbm7P",
        "outputId": "13d01c36-bb1b-4c07-f49e-e18dbcb2ed8d"
      },
      "source": [
        "alltrain.info()"
      ],
      "execution_count": null,
      "outputs": [
        {
          "output_type": "stream",
          "text": [
            "<class 'pandas.core.frame.DataFrame'>\n",
            "Int64Index: 20216100 entries, 0 to 20216099\n",
            "Data columns (total 16 columns):\n",
            " #   Column              Dtype  \n",
            "---  ------              -----  \n",
            " 0   building_id         int64  \n",
            " 1   meter               int64  \n",
            " 2   timestamp           object \n",
            " 3   meter_reading       float64\n",
            " 4   site_id             int64  \n",
            " 5   primary_use         object \n",
            " 6   square_feet         int64  \n",
            " 7   year_built          float64\n",
            " 8   floor_count         float64\n",
            " 9   air_temperature     float64\n",
            " 10  cloud_coverage      float64\n",
            " 11  dew_temperature     float64\n",
            " 12  precip_depth_1_hr   float64\n",
            " 13  sea_level_pressure  float64\n",
            " 14  wind_direction      float64\n",
            " 15  wind_speed          float64\n",
            "dtypes: float64(10), int64(4), object(2)\n",
            "memory usage: 2.6+ GB\n"
          ],
          "name": "stdout"
        }
      ]
    },
    {
      "cell_type": "markdown",
      "metadata": {
        "id": "zmL3JgwMbm7Q"
      },
      "source": [
        " \n",
        "## Changement des types de variables"
      ]
    },
    {
      "cell_type": "code",
      "metadata": {
        "id": "HIIJkeTJbm7Q"
      },
      "source": [
        "alltrain.timestamp=pd.to_datetime(alltrain['timestamp'])"
      ],
      "execution_count": null,
      "outputs": []
    },
    {
      "cell_type": "code",
      "metadata": {
        "id": "LczASt-Xbm7R"
      },
      "source": [
        "varia=['building_id','site_id', 'meter']\n",
        "\n",
        "for col in varia:\n",
        "    \n",
        "    alltrain[col]=alltrain[col].astype('object')\n",
        "    "
      ],
      "execution_count": null,
      "outputs": []
    },
    {
      "cell_type": "code",
      "metadata": {
        "id": "lT_6Jovybm7S",
        "outputId": "fd69f8bc-94a3-4aed-e300-d44f49ccb8c0"
      },
      "source": [
        "alltrain.info()"
      ],
      "execution_count": null,
      "outputs": [
        {
          "output_type": "stream",
          "text": [
            "<class 'pandas.core.frame.DataFrame'>\n",
            "Int64Index: 20216100 entries, 0 to 20216099\n",
            "Data columns (total 16 columns):\n",
            " #   Column              Dtype         \n",
            "---  ------              -----         \n",
            " 0   building_id         object        \n",
            " 1   meter               object        \n",
            " 2   timestamp           datetime64[ns]\n",
            " 3   meter_reading       float64       \n",
            " 4   site_id             object        \n",
            " 5   primary_use         object        \n",
            " 6   square_feet         int64         \n",
            " 7   year_built          float64       \n",
            " 8   floor_count         float64       \n",
            " 9   air_temperature     float64       \n",
            " 10  cloud_coverage      float64       \n",
            " 11  dew_temperature     float64       \n",
            " 12  precip_depth_1_hr   float64       \n",
            " 13  sea_level_pressure  float64       \n",
            " 14  wind_direction      float64       \n",
            " 15  wind_speed          float64       \n",
            "dtypes: datetime64[ns](1), float64(10), int64(1), object(4)\n",
            "memory usage: 2.6+ GB\n"
          ],
          "name": "stdout"
        }
      ]
    },
    {
      "cell_type": "code",
      "metadata": {
        "id": "kLZxJobjbm7S"
      },
      "source": [
        "alltrain['meter'] = pd.Categorical(alltrain['meter']).rename_categories({0: 'electricity', \n",
        "                                                                   1: 'chilledwater',\n",
        "                                                                   2: 'steam', \n",
        "                                                                   3: 'hotwater'})"
      ],
      "execution_count": null,
      "outputs": []
    },
    {
      "cell_type": "markdown",
      "metadata": {
        "id": "ptlkvNDNbm7T"
      },
      "source": [
        "## Occurence des modalités de chaque variable quali"
      ]
    },
    {
      "cell_type": "code",
      "metadata": {
        "id": "Jm007q--bm7V",
        "outputId": "eb6f0180-0cb0-412d-d9c4-ff64b584341a"
      },
      "source": [
        " for col in alltrain.select_dtypes(object).columns:\n",
        "    print (f'{col :-<30} {len(alltrain[col].value_counts())}')"
      ],
      "execution_count": null,
      "outputs": [
        {
          "output_type": "stream",
          "text": [
            "building_id------------------- 1449\n",
            "site_id----------------------- 16\n",
            "primary_use------------------- 16\n"
          ],
          "name": "stdout"
        }
      ]
    },
    {
      "cell_type": "markdown",
      "metadata": {
        "id": "fReXnTrQbm7W"
      },
      "source": [
        "## Analyse des valeurs manquantes"
      ]
    },
    {
      "cell_type": "code",
      "metadata": {
        "id": "iTFT1blWbm7W",
        "outputId": "dc602a5a-0996-4f04-c324-554b0b3bc835"
      },
      "source": [
        "(alltrain.isna().sum()/alltrain.shape[0]).sort_values(ascending=False)"
      ],
      "execution_count": null,
      "outputs": [
        {
          "output_type": "execute_result",
          "data": {
            "text/plain": [
              "floor_count           0.826528\n",
              "year_built            0.599900\n",
              "cloud_coverage        0.436551\n",
              "precip_depth_1_hr     0.185447\n",
              "wind_direction        0.071678\n",
              "sea_level_pressure    0.060925\n",
              "wind_speed            0.007107\n",
              "dew_temperature       0.004953\n",
              "air_temperature       0.004781\n",
              "square_feet           0.000000\n",
              "primary_use           0.000000\n",
              "site_id               0.000000\n",
              "meter_reading         0.000000\n",
              "timestamp             0.000000\n",
              "meter                 0.000000\n",
              "building_id           0.000000\n",
              "dtype: float64"
            ]
          },
          "metadata": {
            "tags": []
          },
          "execution_count": 9
        }
      ]
    },
    {
      "cell_type": "code",
      "metadata": {
        "id": "F9XqZGO-bm7X",
        "outputId": "98e29be1-c825-4ca4-de29-e0aa7f3970f3"
      },
      "source": [
        "alltrain.head()"
      ],
      "execution_count": null,
      "outputs": [
        {
          "output_type": "execute_result",
          "data": {
            "text/html": [
              "<div>\n",
              "<style scoped>\n",
              "    .dataframe tbody tr th:only-of-type {\n",
              "        vertical-align: middle;\n",
              "    }\n",
              "\n",
              "    .dataframe tbody tr th {\n",
              "        vertical-align: top;\n",
              "    }\n",
              "\n",
              "    .dataframe thead th {\n",
              "        text-align: right;\n",
              "    }\n",
              "</style>\n",
              "<table border=\"1\" class=\"dataframe\">\n",
              "  <thead>\n",
              "    <tr style=\"text-align: right;\">\n",
              "      <th></th>\n",
              "      <th>building_id</th>\n",
              "      <th>meter</th>\n",
              "      <th>timestamp</th>\n",
              "      <th>meter_reading</th>\n",
              "      <th>site_id</th>\n",
              "      <th>primary_use</th>\n",
              "      <th>square_feet</th>\n",
              "      <th>year_built</th>\n",
              "      <th>floor_count</th>\n",
              "      <th>air_temperature</th>\n",
              "      <th>cloud_coverage</th>\n",
              "      <th>dew_temperature</th>\n",
              "      <th>precip_depth_1_hr</th>\n",
              "      <th>sea_level_pressure</th>\n",
              "      <th>wind_direction</th>\n",
              "      <th>wind_speed</th>\n",
              "    </tr>\n",
              "  </thead>\n",
              "  <tbody>\n",
              "    <tr>\n",
              "      <th>0</th>\n",
              "      <td>0</td>\n",
              "      <td>electricity</td>\n",
              "      <td>2016-01-01</td>\n",
              "      <td>0.0</td>\n",
              "      <td>0</td>\n",
              "      <td>Education</td>\n",
              "      <td>7432</td>\n",
              "      <td>2008.0</td>\n",
              "      <td>NaN</td>\n",
              "      <td>25.0</td>\n",
              "      <td>6.0</td>\n",
              "      <td>20.0</td>\n",
              "      <td>NaN</td>\n",
              "      <td>1019.7</td>\n",
              "      <td>0.0</td>\n",
              "      <td>0.0</td>\n",
              "    </tr>\n",
              "    <tr>\n",
              "      <th>1</th>\n",
              "      <td>1</td>\n",
              "      <td>electricity</td>\n",
              "      <td>2016-01-01</td>\n",
              "      <td>0.0</td>\n",
              "      <td>0</td>\n",
              "      <td>Education</td>\n",
              "      <td>2720</td>\n",
              "      <td>2004.0</td>\n",
              "      <td>NaN</td>\n",
              "      <td>25.0</td>\n",
              "      <td>6.0</td>\n",
              "      <td>20.0</td>\n",
              "      <td>NaN</td>\n",
              "      <td>1019.7</td>\n",
              "      <td>0.0</td>\n",
              "      <td>0.0</td>\n",
              "    </tr>\n",
              "    <tr>\n",
              "      <th>2</th>\n",
              "      <td>2</td>\n",
              "      <td>electricity</td>\n",
              "      <td>2016-01-01</td>\n",
              "      <td>0.0</td>\n",
              "      <td>0</td>\n",
              "      <td>Education</td>\n",
              "      <td>5376</td>\n",
              "      <td>1991.0</td>\n",
              "      <td>NaN</td>\n",
              "      <td>25.0</td>\n",
              "      <td>6.0</td>\n",
              "      <td>20.0</td>\n",
              "      <td>NaN</td>\n",
              "      <td>1019.7</td>\n",
              "      <td>0.0</td>\n",
              "      <td>0.0</td>\n",
              "    </tr>\n",
              "    <tr>\n",
              "      <th>3</th>\n",
              "      <td>3</td>\n",
              "      <td>electricity</td>\n",
              "      <td>2016-01-01</td>\n",
              "      <td>0.0</td>\n",
              "      <td>0</td>\n",
              "      <td>Education</td>\n",
              "      <td>23685</td>\n",
              "      <td>2002.0</td>\n",
              "      <td>NaN</td>\n",
              "      <td>25.0</td>\n",
              "      <td>6.0</td>\n",
              "      <td>20.0</td>\n",
              "      <td>NaN</td>\n",
              "      <td>1019.7</td>\n",
              "      <td>0.0</td>\n",
              "      <td>0.0</td>\n",
              "    </tr>\n",
              "    <tr>\n",
              "      <th>4</th>\n",
              "      <td>4</td>\n",
              "      <td>electricity</td>\n",
              "      <td>2016-01-01</td>\n",
              "      <td>0.0</td>\n",
              "      <td>0</td>\n",
              "      <td>Education</td>\n",
              "      <td>116607</td>\n",
              "      <td>1975.0</td>\n",
              "      <td>NaN</td>\n",
              "      <td>25.0</td>\n",
              "      <td>6.0</td>\n",
              "      <td>20.0</td>\n",
              "      <td>NaN</td>\n",
              "      <td>1019.7</td>\n",
              "      <td>0.0</td>\n",
              "      <td>0.0</td>\n",
              "    </tr>\n",
              "  </tbody>\n",
              "</table>\n",
              "</div>"
            ],
            "text/plain": [
              "  building_id        meter  timestamp  meter_reading site_id primary_use  \\\n",
              "0           0  electricity 2016-01-01            0.0       0   Education   \n",
              "1           1  electricity 2016-01-01            0.0       0   Education   \n",
              "2           2  electricity 2016-01-01            0.0       0   Education   \n",
              "3           3  electricity 2016-01-01            0.0       0   Education   \n",
              "4           4  electricity 2016-01-01            0.0       0   Education   \n",
              "\n",
              "   square_feet  year_built  floor_count  air_temperature  cloud_coverage  \\\n",
              "0         7432      2008.0          NaN             25.0             6.0   \n",
              "1         2720      2004.0          NaN             25.0             6.0   \n",
              "2         5376      1991.0          NaN             25.0             6.0   \n",
              "3        23685      2002.0          NaN             25.0             6.0   \n",
              "4       116607      1975.0          NaN             25.0             6.0   \n",
              "\n",
              "   dew_temperature  precip_depth_1_hr  sea_level_pressure  wind_direction  \\\n",
              "0             20.0                NaN              1019.7             0.0   \n",
              "1             20.0                NaN              1019.7             0.0   \n",
              "2             20.0                NaN              1019.7             0.0   \n",
              "3             20.0                NaN              1019.7             0.0   \n",
              "4             20.0                NaN              1019.7             0.0   \n",
              "\n",
              "   wind_speed  \n",
              "0         0.0  \n",
              "1         0.0  \n",
              "2         0.0  \n",
              "3         0.0  \n",
              "4         0.0  "
            ]
          },
          "metadata": {
            "tags": []
          },
          "execution_count": 54
        }
      ]
    },
    {
      "cell_type": "markdown",
      "metadata": {
        "id": "tmPR2dqDbm7Y"
      },
      "source": [
        "# Extraction de features"
      ]
    },
    {
      "cell_type": "code",
      "metadata": {
        "id": "rV7Mz8iEbm7Y"
      },
      "source": [
        "def rec_heur(x):\n",
        "    \n",
        "    if x in np.arange(6, 19):\n",
        "        return 'journee'\n",
        "    \n",
        "    if x in np.arange(19, 23):\n",
        "        return 'nuit'\n",
        "    \n",
        "    if x in [23, 0, 1, 2, 3, 4, 5]:\n",
        "        return 'tard'"
      ],
      "execution_count": null,
      "outputs": []
    },
    {
      "cell_type": "code",
      "metadata": {
        "id": "70ETsV9Mbm7b",
        "outputId": "3453a194-9cd6-4f04-dd0b-5821a948f0dc"
      },
      "source": [
        "alltrain['year_built'].describe()"
      ],
      "execution_count": null,
      "outputs": [
        {
          "output_type": "execute_result",
          "data": {
            "text/plain": [
              "count    8.088455e+06\n",
              "mean     1.968277e+03\n",
              "std      3.020815e+01\n",
              "min      1.900000e+03\n",
              "25%      1.951000e+03\n",
              "50%      1.969000e+03\n",
              "75%      1.993000e+03\n",
              "max      2.017000e+03\n",
              "Name: year_built, dtype: float64"
            ]
          },
          "metadata": {
            "tags": []
          },
          "execution_count": 17
        }
      ]
    },
    {
      "cell_type": "code",
      "metadata": {
        "id": "_NASxo80bm7c"
      },
      "source": [
        "def discredit_var(x):\n",
        "   \n",
        "    \n",
        "    if x <= 1951:\n",
        "        return 'yearB_q1'\n",
        "    \n",
        "    if  1951 < x <= 1969:\n",
        "        return 'yearB_q2'\n",
        "    \n",
        "    if 1969 < x <= 1993:\n",
        "        return 'yearB_q3'\n",
        "    \n",
        "    if  1993 < x:\n",
        "        return 'yearB_q4'\n",
        "    "
      ],
      "execution_count": null,
      "outputs": []
    },
    {
      "cell_type": "code",
      "metadata": {
        "id": "Y5BwZEVPbm7n"
      },
      "source": [
        "def preProcecing_df(df_):\n",
        "    \n",
        "    df=df_.copy()\n",
        "    \n",
        "    \n",
        "    saison={3: 'printent',4:'printent',5:'printent',\n",
        "          6: 'ete', 7: 'ete',8: 'ete', \n",
        "          9: 'automne', 10: 'automne', 11: 'automne', \n",
        "          1: 'hiver', 12: 'hiver', 2: 'hiver'}\n",
        "    \n",
        "    \n",
        "    \n",
        "    \n",
        "    df['mois'] = df.timestamp.dt.month\n",
        "    df['day'] = df.timestamp.dt.day\n",
        "    df['heure'] = df.timestamp.dt.hour\n",
        "    \n",
        "    df['heureDiscredite'] = df['heure'].apply(rec_heur)\n",
        "    \n",
        "    df['week_end'] = [1 if x in [5,6] else 0 for x in df.day]\n",
        "    df['saison'] = df['mois'].apply(lambda x: saison.get(x))\n",
        "    \n",
        "    \n",
        "    median_group = df.groupby(['site_id'])['year_built'].transform('median')\n",
        "    df['year_built'].fillna(median_group,inplace = True)\n",
        "    df['year_built'].fillna(df['year_built'].median(), inplace=True)\n",
        "    \n",
        "    df['year_built'] = df['year_built'].apply(discredit_var) \n",
        "    \n",
        "    df.floor_count.fillna(0,inplace = True)\n",
        "    \n",
        "    colonneAsNum=['air_temperature', 'dew_temperature','wind_direction']\n",
        "    \n",
        "    \n",
        "    \n",
        "    for col in colonneAsNum:\n",
        "        median_group = df.groupby(['site_id', 'saison', 'week_end', 'primary_use'])[col].transform('median')\n",
        "        df[col].fillna(median_group,inplace = True)\n",
        "                \n",
        "    \n",
        "    \n",
        "                    \n",
        "    for col in [ 'day', 'heure', 'timestamp', \n",
        "                \"precip_depth_1_hr\", \"wind_speed\", \"sea_level_pressure\", \"cloud_coverage\", \"mois\"]:\n",
        "        del df[col]\n",
        "    \n",
        "    return df\n",
        "\n"
      ],
      "execution_count": null,
      "outputs": []
    },
    {
      "cell_type": "code",
      "metadata": {
        "id": "VAuAbt7xbm7p"
      },
      "source": [
        "X = preProcecing_df(alltrain)\n",
        "X =  X[X['meter_reading']!= np.float(0)]\n",
        "X['meter_reading']=np.log1p(X['meter_reading'])"
      ],
      "execution_count": null,
      "outputs": []
    },
    {
      "cell_type": "code",
      "metadata": {
        "id": "WX9NYhq-bm7p",
        "outputId": "4afedccc-35ca-4864-bbc3-5429f31be67b"
      },
      "source": [
        "(X.isna().sum()/X.shape[0]).sort_values(ascending=False)"
      ],
      "execution_count": null,
      "outputs": [
        {
          "output_type": "execute_result",
          "data": {
            "text/plain": [
              "saison             0.0\n",
              "week_end           0.0\n",
              "heureDiscredite    0.0\n",
              "wind_direction     0.0\n",
              "dew_temperature    0.0\n",
              "air_temperature    0.0\n",
              "floor_count        0.0\n",
              "year_built         0.0\n",
              "square_feet        0.0\n",
              "primary_use        0.0\n",
              "site_id            0.0\n",
              "meter_reading      0.0\n",
              "meter              0.0\n",
              "building_id        0.0\n",
              "dtype: float64"
            ]
          },
          "metadata": {
            "tags": []
          },
          "execution_count": 21
        }
      ]
    },
    {
      "cell_type": "code",
      "metadata": {
        "colab": {
          "base_uri": "https://localhost:8080/"
        },
        "id": "AdZoDYB5bm7q",
        "outputId": "99c03421-1adc-4589-8dcf-886910bd75e8"
      },
      "source": [
        "X.shape"
      ],
      "execution_count": null,
      "outputs": [
        {
          "output_type": "execute_result",
          "data": {
            "text/plain": [
              "(18342124, 14)"
            ]
          },
          "metadata": {
            "tags": []
          },
          "execution_count": 36
        }
      ]
    },
    {
      "cell_type": "code",
      "metadata": {
        "id": "MS3WVfkNS7_x"
      },
      "source": [
        "X.to_csv (r'/content/drive/MyDrive/Kaggle/X.csv', index = False, header=True)"
      ],
      "execution_count": null,
      "outputs": []
    },
    {
      "cell_type": "code",
      "metadata": {
        "id": "h5QSbHyebm7q",
        "outputId": "fa30d3db-436f-48a6-8412-e7178929ef37"
      },
      "source": [
        "del data\n",
        "X.head()"
      ],
      "execution_count": null,
      "outputs": [
        {
          "output_type": "execute_result",
          "data": {
            "text/html": [
              "<div>\n",
              "<style scoped>\n",
              "    .dataframe tbody tr th:only-of-type {\n",
              "        vertical-align: middle;\n",
              "    }\n",
              "\n",
              "    .dataframe tbody tr th {\n",
              "        vertical-align: top;\n",
              "    }\n",
              "\n",
              "    .dataframe thead th {\n",
              "        text-align: right;\n",
              "    }\n",
              "</style>\n",
              "<table border=\"1\" class=\"dataframe\">\n",
              "  <thead>\n",
              "    <tr style=\"text-align: right;\">\n",
              "      <th></th>\n",
              "      <th>building_id</th>\n",
              "      <th>meter</th>\n",
              "      <th>meter_reading</th>\n",
              "      <th>site_id</th>\n",
              "      <th>primary_use</th>\n",
              "      <th>square_feet</th>\n",
              "      <th>year_built</th>\n",
              "      <th>floor_count</th>\n",
              "      <th>air_temperature</th>\n",
              "      <th>dew_temperature</th>\n",
              "      <th>wind_direction</th>\n",
              "      <th>heureDiscredite</th>\n",
              "      <th>week_end</th>\n",
              "      <th>saison</th>\n",
              "    </tr>\n",
              "  </thead>\n",
              "  <tbody>\n",
              "    <tr>\n",
              "      <th>45</th>\n",
              "      <td>46</td>\n",
              "      <td>electricity</td>\n",
              "      <td>3.993413</td>\n",
              "      <td>0</td>\n",
              "      <td>Retail</td>\n",
              "      <td>9045</td>\n",
              "      <td>yearB_q4</td>\n",
              "      <td>0.0</td>\n",
              "      <td>25.0</td>\n",
              "      <td>20.0</td>\n",
              "      <td>0.0</td>\n",
              "      <td>tard</td>\n",
              "      <td>0</td>\n",
              "      <td>hiver</td>\n",
              "    </tr>\n",
              "    <tr>\n",
              "      <th>72</th>\n",
              "      <td>74</td>\n",
              "      <td>electricity</td>\n",
              "      <td>3.784219</td>\n",
              "      <td>0</td>\n",
              "      <td>Parking</td>\n",
              "      <td>387638</td>\n",
              "      <td>yearB_q4</td>\n",
              "      <td>0.0</td>\n",
              "      <td>25.0</td>\n",
              "      <td>20.0</td>\n",
              "      <td>0.0</td>\n",
              "      <td>tard</td>\n",
              "      <td>0</td>\n",
              "      <td>hiver</td>\n",
              "    </tr>\n",
              "    <tr>\n",
              "      <th>91</th>\n",
              "      <td>93</td>\n",
              "      <td>electricity</td>\n",
              "      <td>3.978196</td>\n",
              "      <td>0</td>\n",
              "      <td>Office</td>\n",
              "      <td>33370</td>\n",
              "      <td>yearB_q3</td>\n",
              "      <td>0.0</td>\n",
              "      <td>25.0</td>\n",
              "      <td>20.0</td>\n",
              "      <td>0.0</td>\n",
              "      <td>tard</td>\n",
              "      <td>0</td>\n",
              "      <td>hiver</td>\n",
              "    </tr>\n",
              "    <tr>\n",
              "      <th>103</th>\n",
              "      <td>105</td>\n",
              "      <td>electricity</td>\n",
              "      <td>3.190624</td>\n",
              "      <td>1</td>\n",
              "      <td>Education</td>\n",
              "      <td>50623</td>\n",
              "      <td>yearB_q2</td>\n",
              "      <td>5.0</td>\n",
              "      <td>3.8</td>\n",
              "      <td>2.4</td>\n",
              "      <td>240.0</td>\n",
              "      <td>tard</td>\n",
              "      <td>0</td>\n",
              "      <td>hiver</td>\n",
              "    </tr>\n",
              "    <tr>\n",
              "      <th>104</th>\n",
              "      <td>106</td>\n",
              "      <td>electricity</td>\n",
              "      <td>0.318163</td>\n",
              "      <td>1</td>\n",
              "      <td>Education</td>\n",
              "      <td>5374</td>\n",
              "      <td>yearB_q2</td>\n",
              "      <td>4.0</td>\n",
              "      <td>3.8</td>\n",
              "      <td>2.4</td>\n",
              "      <td>240.0</td>\n",
              "      <td>tard</td>\n",
              "      <td>0</td>\n",
              "      <td>hiver</td>\n",
              "    </tr>\n",
              "  </tbody>\n",
              "</table>\n",
              "</div>"
            ],
            "text/plain": [
              "    building_id        meter  meter_reading site_id primary_use  square_feet  \\\n",
              "45           46  electricity       3.993413       0      Retail         9045   \n",
              "72           74  electricity       3.784219       0     Parking       387638   \n",
              "91           93  electricity       3.978196       0      Office        33370   \n",
              "103         105  electricity       3.190624       1   Education        50623   \n",
              "104         106  electricity       0.318163       1   Education         5374   \n",
              "\n",
              "    year_built  floor_count  air_temperature  dew_temperature  wind_direction  \\\n",
              "45    yearB_q4          0.0             25.0             20.0             0.0   \n",
              "72    yearB_q4          0.0             25.0             20.0             0.0   \n",
              "91    yearB_q3          0.0             25.0             20.0             0.0   \n",
              "103   yearB_q2          5.0              3.8              2.4           240.0   \n",
              "104   yearB_q2          4.0              3.8              2.4           240.0   \n",
              "\n",
              "    heureDiscredite  week_end saison  \n",
              "45             tard         0  hiver  \n",
              "72             tard         0  hiver  \n",
              "91             tard         0  hiver  \n",
              "103            tard         0  hiver  \n",
              "104            tard         0  hiver  "
            ]
          },
          "metadata": {
            "tags": []
          },
          "execution_count": 23
        }
      ]
    },
    {
      "cell_type": "markdown",
      "metadata": {
        "id": "5jLRw0eQbm7r"
      },
      "source": [
        "## conversion type"
      ]
    },
    {
      "cell_type": "code",
      "metadata": {
        "id": "3jd3_uY6bm7s"
      },
      "source": [
        "X[\"building_id\"] = X[\"building_id\"].astype('category')\n",
        "X[\"site_id\"] = X[\"site_id\"].astype('category')\n",
        "X[\"primary_use\"] = X[\"primary_use\"].astype('category')\n",
        "X[\"saison\"] = X[\"saison\"].astype('category')\n",
        "X[\"heureDiscredite\"] = X[\"heureDiscredite\"].astype('category')\n",
        "X[\"year_built\"] = X[\"year_built\"].astype('category')"
      ],
      "execution_count": null,
      "outputs": []
    },
    {
      "cell_type": "markdown",
      "metadata": {
        "id": "VjgUIzCKbm7t"
      },
      "source": [
        "# Encodeur One Hot"
      ]
    },
    {
      "cell_type": "code",
      "metadata": {
        "id": "VjvZb5F0bm7u"
      },
      "source": [
        "def encodeur(df): \n",
        "    X_Encod=pd.concat([df, pd.get_dummies(df[\"primary_use\"], dtype=int) ], axis=1)\n",
        "\n",
        "    X_Encod=pd.concat([X_Encod, pd.get_dummies(df[\"saison\"], dtype=int) ], axis=1)\n",
        "\n",
        "    X_Encod=pd.concat([X_Encod, pd.get_dummies(df[\"heureDiscredite\"], dtype=int) ], axis=1)\n",
        "    X_Encod=pd.concat([X_Encod, pd.get_dummies(df[\"meter\"], dtype=int) ], axis=1)\n",
        "    X_Encod=pd.concat([X_Encod, pd.get_dummies(df[\"year_built\"], dtype=int) ], axis=1)\n",
        "\n",
        "    for col in [\"primary_use\",'year_built', 'yearB_q4', \"saison\", \"heureDiscredite\", \n",
        "                'Office', \"printent\", \"journee\", 'meter', 'hotwater' ]:\n",
        "        del X_Encod[col]\n",
        "\n",
        "\n",
        "    return X_Encod"
      ],
      "execution_count": null,
      "outputs": []
    },
    {
      "cell_type": "code",
      "metadata": {
        "id": "sNB-9qicicl2"
      },
      "source": [
        "def reduce_mem_usage(df, verbose=True):\n",
        "    numerics = ['int16', 'int32', 'int64', 'float16', 'float32', 'float64']\n",
        "    start_mem = df.memory_usage().sum() / 1024**2\n",
        "    for col in df.columns:\n",
        "        col_type = df[col].dtypes\n",
        "        if col_type in numerics:\n",
        "            c_min = df[col].min()\n",
        "            c_max = df[col].max()\n",
        "            if str(col_type)[:3] == 'int':\n",
        "                if c_min > np.iinfo(np.int8).min and c_max < np.iinfo(np.int8).max:\n",
        "                    df[col] = df[col].astype(np.int8)\n",
        "                elif c_min > np.iinfo(np.int16).min and c_max < np.iinfo(np.int16).max:\n",
        "                    df[col] = df[col].astype(np.int16)\n",
        "                elif c_min > np.iinfo(np.int32).min and c_max < np.iinfo(np.int32).max:\n",
        "                    df[col] = df[col].astype(np.int32)\n",
        "                elif c_min > np.iinfo(np.int64).min and c_max < np.iinfo(np.int64).max:\n",
        "                    df[col] = df[col].astype(np.int64)\n",
        "            else:\n",
        "                if c_min > np.finfo(np.float16).min and c_max < np.finfo(np.float16).max:\n",
        "                    df[col] = df[col].astype(np.float16)\n",
        "                elif c_min > np.finfo(np.float32).min and c_max < np.finfo(np.float32).max:\n",
        "                    df[col] = df[col].astype(np.float32)\n",
        "                else:\n",
        "                    df[col] = df[col].astype(np.float64)\n",
        "\n",
        "    end_mem = df.memory_usage().sum() / 1024**2\n",
        "    print('Memory usage after optimization is: {:.2f} MB'.format(end_mem))\n",
        "    print('Decreased by {:.1f}%'.format(100 * (start_mem - end_mem) / start_mem))\n",
        "\n",
        "    return df"
      ],
      "execution_count": null,
      "outputs": []
    },
    {
      "cell_type": "code",
      "metadata": {
        "id": "9ppEV3VmiD4B"
      },
      "source": [
        "X = pd.read_csv('/content/drive/MyDrive/Kaggle/X.csv')"
      ],
      "execution_count": null,
      "outputs": []
    },
    {
      "cell_type": "code",
      "metadata": {
        "id": "Ut3p9toIbm7u"
      },
      "source": [
        "X_Encod = encodeur(X)"
      ],
      "execution_count": null,
      "outputs": []
    },
    {
      "cell_type": "code",
      "metadata": {
        "colab": {
          "base_uri": "https://localhost:8080/"
        },
        "id": "AEPMpJuJbm7v",
        "outputId": "2c5f2f28-4230-4e75-c705-9b9b1fe6b68f"
      },
      "source": [
        "X_Encod.info()"
      ],
      "execution_count": null,
      "outputs": [
        {
          "output_type": "stream",
          "text": [
            "<class 'pandas.core.frame.DataFrame'>\n",
            "RangeIndex: 18342124 entries, 0 to 18342123\n",
            "Data columns (total 35 columns):\n",
            " #   Column                         Dtype  \n",
            "---  ------                         -----  \n",
            " 0   building_id                    int16  \n",
            " 1   meter_reading                  float16\n",
            " 2   site_id                        int8   \n",
            " 3   square_feet                    int32  \n",
            " 4   floor_count                    float16\n",
            " 5   air_temperature                float16\n",
            " 6   dew_temperature                float16\n",
            " 7   wind_direction                 float16\n",
            " 8   week_end                       int8   \n",
            " 9   Education                      int8   \n",
            " 10  Entertainment/public assembly  int8   \n",
            " 11  Food sales and service         int8   \n",
            " 12  Healthcare                     int8   \n",
            " 13  Lodging/residential            int8   \n",
            " 14  Manufacturing/industrial       int8   \n",
            " 15  Other                          int8   \n",
            " 16  Parking                        int8   \n",
            " 17  Public services                int8   \n",
            " 18  Religious worship              int8   \n",
            " 19  Retail                         int8   \n",
            " 20  Services                       int8   \n",
            " 21  Technology/science             int8   \n",
            " 22  Utility                        int8   \n",
            " 23  Warehouse/storage              int8   \n",
            " 24  automne                        int8   \n",
            " 25  ete                            int8   \n",
            " 26  hiver                          int8   \n",
            " 27  nuit                           int8   \n",
            " 28  tard                           int8   \n",
            " 29  chilledwater                   int8   \n",
            " 30  electricity                    int8   \n",
            " 31  steam                          int8   \n",
            " 32  yearB_q1                       int8   \n",
            " 33  yearB_q2                       int8   \n",
            " 34  yearB_q3                       int8   \n",
            "dtypes: float16(5), int16(1), int32(1), int8(28)\n",
            "memory usage: 769.7 MB\n"
          ],
          "name": "stdout"
        }
      ]
    },
    {
      "cell_type": "code",
      "metadata": {
        "id": "MwVfcd3UVnZF"
      },
      "source": [
        "X_Encod.to_csv (r'/content/drive/MyDrive/Kaggle/X_Encod.csv', index = False, header=True)"
      ],
      "execution_count": null,
      "outputs": []
    },
    {
      "cell_type": "markdown",
      "metadata": {
        "id": "ZRJqSo_3bm7v"
      },
      "source": [
        "# Train test split"
      ]
    },
    {
      "cell_type": "code",
      "metadata": {
        "id": "yTKSQXU2bm7w"
      },
      "source": [
        "from sklearn.model_selection import ShuffleSplit\n",
        "\n",
        "def trainAndTest(DF):\n",
        "    df= DF.copy()\n",
        "    \n",
        "    uniqueSite=list(pd.unique(df[\"site_id\"]))\n",
        "    rs = ShuffleSplit(n_splits=1, test_size=.3, random_state=0)\n",
        "    for train_index, test_index in rs.split(uniqueSite):\n",
        "\n",
        "        df['trainIndex'] = [1 if x in train_index else 0 for x in df.site_id]\n",
        "        x_train = df[df['trainIndex']==1]\n",
        "        y_train = x_train['meter_reading']\n",
        "\n",
        "        x_test = df[df['trainIndex']==0]\n",
        "        y_test = x_test['meter_reading']\n",
        "\n",
        "    del x_train['trainIndex'] \n",
        "    del x_train['meter_reading'] \n",
        "\n",
        "    del x_test['trainIndex']\n",
        "    del x_test['meter_reading']\n",
        "    \n",
        "    return x_train, y_train, x_test, y_test\n"
      ],
      "execution_count": null,
      "outputs": []
    },
    {
      "cell_type": "code",
      "metadata": {
        "id": "ZWQink3Mbm7x"
      },
      "source": [
        " X_train, Y_train, X_test, Y_test = trainAndTest(X_Encod)"
      ],
      "execution_count": null,
      "outputs": []
    },
    {
      "cell_type": "code",
      "metadata": {
        "colab": {
          "base_uri": "https://localhost:8080/"
        },
        "id": "wBwQ_SbVWtO1",
        "outputId": "b675747c-06b0-49a6-c8e5-ab528c7f4588"
      },
      "source": [
        "X_train=reduce_mem_usage(X_train)\n",
        "X_test=reduce_mem_usage(X_test)"
      ],
      "execution_count": null,
      "outputs": [
        {
          "output_type": "stream",
          "text": [
            "Memory usage after optimization is: 564.90 MB\n",
            "Decreased by 0.0%\n",
            "Memory usage after optimization is: 309.72 MB\n",
            "Decreased by 0.0%\n"
          ],
          "name": "stdout"
        }
      ]
    },
    {
      "cell_type": "markdown",
      "metadata": {
        "id": "UHqOzXe1bm7x"
      },
      "source": [
        "## MinMaxScaler"
      ]
    },
    {
      "cell_type": "code",
      "metadata": {
        "id": "sSWNI8k2bm72"
      },
      "source": [
        "from sklearn.preprocessing import MinMaxScaler\n",
        "scaler = MinMaxScaler()"
      ],
      "execution_count": null,
      "outputs": []
    },
    {
      "cell_type": "code",
      "metadata": {
        "id": "Q5Nu4TNobm73"
      },
      "source": [
        "def minMax(DF, listColumns, scaler):\n",
        "    df=DF.copy()\n",
        "    for col in listColumns:\n",
        "        df[col]=scaler.fit_transform(df[[col]])\n",
        "        \n",
        "    return df"
      ],
      "execution_count": null,
      "outputs": []
    },
    {
      "cell_type": "code",
      "metadata": {
        "id": "Xn6U791Nbm73"
      },
      "source": [
        "listColumns= [ 'wind_direction',  'dew_temperature',\n",
        "              'air_temperature', 'floor_count', 'square_feet']\n",
        "\n",
        "\n",
        "X_train = minMax(X_train, listColumns, scaler)\n",
        "X_test = minMax(X_test, listColumns, scaler)"
      ],
      "execution_count": null,
      "outputs": []
    },
    {
      "cell_type": "markdown",
      "metadata": {
        "id": "G00prMyThz4b"
      },
      "source": [
        "# Modèle Xgboost"
      ]
    },
    {
      "cell_type": "markdown",
      "metadata": {
        "id": "6MY08aHuvGcq"
      },
      "source": [
        "## Entrainement"
      ]
    },
    {
      "cell_type": "code",
      "metadata": {
        "id": "pIRWQUr_ZUy3"
      },
      "source": [
        "X_train1=X_train.copy()\n",
        "del X_train1['building_id']"
      ],
      "execution_count": null,
      "outputs": []
    },
    {
      "cell_type": "code",
      "metadata": {
        "id": "yP9Teue-aIcD"
      },
      "source": [
        "X_test1=X_test.copy()\n",
        "del X_test1['building_id']"
      ],
      "execution_count": null,
      "outputs": []
    },
    {
      "cell_type": "code",
      "metadata": {
        "id": "pn8dwG8vnIjI"
      },
      "source": [
        "import pandas as pd\n",
        "import numpy as np\n",
        "import matplotlib.pyplot as plt\n",
        "import seaborn as sns\n",
        "import pickle\n",
        "import scipy.stats\n",
        "import gc\n",
        "from sklearn.preprocessing import LabelEncoder\n",
        "le = LabelEncoder()"
      ],
      "execution_count": null,
      "outputs": []
    },
    {
      "cell_type": "code",
      "metadata": {
        "id": "hYBkt-xKviSC"
      },
      "source": [
        "X_train1 = pd.read_csv('/content/drive/MyDrive/Kaggle/X_train1.csv')#chemin Olivier"
      ],
      "execution_count": null,
      "outputs": []
    },
    {
      "cell_type": "code",
      "metadata": {
        "id": "VdyCoVuHviSf"
      },
      "source": [
        "X_test1 = pd.read_csv('/content/drive/MyDrive/Kaggle/X_test1.csv') #cHemin Olivier"
      ],
      "execution_count": null,
      "outputs": []
    },
    {
      "cell_type": "code",
      "metadata": {
        "id": "k2ZEZCIGviSg"
      },
      "source": [
        "Y_train = pd.read_csv('/content/drive/MyDrive/Kaggle/Y_train.csv')#chemin Olivier"
      ],
      "execution_count": null,
      "outputs": []
    },
    {
      "cell_type": "code",
      "metadata": {
        "id": "mRLakjcbviSg"
      },
      "source": [
        "Y_test = pd.read_csv('/content/drive/MyDrive/Kaggle/Y_test.csv')#chemin Olivier"
      ],
      "execution_count": null,
      "outputs": []
    },
    {
      "cell_type": "code",
      "metadata": {
        "id": "cwOJx38GobRn"
      },
      "source": [
        "def reduce_mem_usage(df, verbose=True):\n",
        "    numerics = ['int16', 'int32', 'int64', 'float16', 'float32', 'float64']\n",
        "    start_mem = df.memory_usage().sum() / 1024**2\n",
        "    for col in df.columns:\n",
        "        col_type = df[col].dtypes\n",
        "        if col_type in numerics:\n",
        "            c_min = df[col].min()\n",
        "            c_max = df[col].max()\n",
        "            if str(col_type)[:3] == 'int':\n",
        "                if c_min > np.iinfo(np.int8).min and c_max < np.iinfo(np.int8).max:\n",
        "                    df[col] = df[col].astype(np.int8)\n",
        "                elif c_min > np.iinfo(np.int16).min and c_max < np.iinfo(np.int16).max:\n",
        "                    df[col] = df[col].astype(np.int16)\n",
        "                elif c_min > np.iinfo(np.int32).min and c_max < np.iinfo(np.int32).max:\n",
        "                    df[col] = df[col].astype(np.int32)\n",
        "                elif c_min > np.iinfo(np.int64).min and c_max < np.iinfo(np.int64).max:\n",
        "                    df[col] = df[col].astype(np.int64)\n",
        "            else:\n",
        "                if c_min > np.finfo(np.float16).min and c_max < np.finfo(np.float16).max:\n",
        "                    df[col] = df[col].astype(np.float16)\n",
        "                elif c_min > np.finfo(np.float32).min and c_max < np.finfo(np.float32).max:\n",
        "                    df[col] = df[col].astype(np.float32)\n",
        "                else:\n",
        "                    df[col] = df[col].astype(np.float64)\n",
        "\n",
        "    end_mem = df.memory_usage().sum() / 1024**2\n",
        "    print('Memory usage after optimization is: {:.2f} MB'.format(end_mem))\n",
        "    print('Decreased by {:.1f}%'.format(100 * (start_mem - end_mem) / start_mem))\n",
        "\n",
        "    return df"
      ],
      "execution_count": null,
      "outputs": []
    },
    {
      "cell_type": "code",
      "metadata": {
        "colab": {
          "base_uri": "https://localhost:8080/"
        },
        "id": "4M1UixnNYw-x",
        "outputId": "bc1f43ac-9ae3-43bb-ed78-8af844ba5343"
      },
      "source": [
        "X_train1=reduce_mem_usage(X_train1)\n",
        "X_test1=reduce_mem_usage(X_test1)"
      ],
      "execution_count": null,
      "outputs": [
        {
          "output_type": "stream",
          "text": [
            "Memory usage after optimization is: 0.42 MB\n",
            "Decreased by 85.6%\n",
            "Memory usage after optimization is: 0.23 MB\n",
            "Decreased by 85.6%\n"
          ],
          "name": "stdout"
        }
      ]
    },
    {
      "cell_type": "code",
      "metadata": {
        "colab": {
          "base_uri": "https://localhost:8080/"
        },
        "id": "VNCGR8l3apXd",
        "outputId": "0617b1fd-470a-418e-ac15-c2e12f5fc2b0"
      },
      "source": [
        "Y_train=reduce_mem_usage(Y_train)\n",
        "Y_test1=reduce_mem_usage(Y_test)"
      ],
      "execution_count": null,
      "outputs": [
        {
          "output_type": "stream",
          "text": [
            "Memory usage after optimization is: 0.02 MB\n",
            "Decreased by 75.0%\n",
            "Memory usage after optimization is: 0.01 MB\n",
            "Decreased by 75.0%\n"
          ],
          "name": "stdout"
        }
      ]
    },
    {
      "cell_type": "code",
      "metadata": {
        "colab": {
          "base_uri": "https://localhost:8080/"
        },
        "id": "csGLVDwBfTxJ",
        "outputId": "98ed87c2-d30a-4709-bca3-6039c55025a5"
      },
      "source": [
        "! sudo pip install xgboost"
      ],
      "execution_count": null,
      "outputs": [
        {
          "output_type": "stream",
          "text": [
            "Requirement already satisfied: xgboost in /usr/local/lib/python3.7/dist-packages (0.90)\n",
            "Requirement already satisfied: numpy in /usr/local/lib/python3.7/dist-packages (from xgboost) (1.19.5)\n",
            "Requirement already satisfied: scipy in /usr/local/lib/python3.7/dist-packages (from xgboost) (1.4.1)\n"
          ],
          "name": "stdout"
        }
      ]
    },
    {
      "cell_type": "code",
      "metadata": {
        "id": "Ct41wzgZhQGj"
      },
      "source": [
        "from xgboost import XGBRegressor as XGB"
      ],
      "execution_count": null,
      "outputs": []
    },
    {
      "cell_type": "code",
      "metadata": {
        "id": "Iphp9Y44nQzP",
        "colab": {
          "base_uri": "https://localhost:8080/"
        },
        "outputId": "4ec8dce2-4d22-4f4e-b595-964efe3bc86b"
      },
      "source": [
        "X_train1.info()"
      ],
      "execution_count": null,
      "outputs": [
        {
          "output_type": "stream",
          "text": [
            "<class 'pandas.core.frame.DataFrame'>\n",
            "RangeIndex: 11846809 entries, 0 to 11846808\n",
            "Data columns (total 33 columns):\n",
            " #   Column                         Dtype  \n",
            "---  ------                         -----  \n",
            " 0   site_id                        int8   \n",
            " 1   square_feet                    float16\n",
            " 2   floor_count                    float16\n",
            " 3   air_temperature                float16\n",
            " 4   dew_temperature                float16\n",
            " 5   wind_direction                 float16\n",
            " 6   week_end                       int8   \n",
            " 7   Education                      int8   \n",
            " 8   Entertainment/public assembly  int8   \n",
            " 9   Food sales and service         int8   \n",
            " 10  Healthcare                     int8   \n",
            " 11  Lodging/residential            int8   \n",
            " 12  Manufacturing/industrial       int8   \n",
            " 13  Other                          int8   \n",
            " 14  Parking                        int8   \n",
            " 15  Public services                int8   \n",
            " 16  Religious worship              int8   \n",
            " 17  Retail                         int8   \n",
            " 18  Services                       int8   \n",
            " 19  Technology/science             int8   \n",
            " 20  Utility                        int8   \n",
            " 21  Warehouse/storage              int8   \n",
            " 22  automne                        int8   \n",
            " 23  ete                            int8   \n",
            " 24  hiver                          int8   \n",
            " 25  nuit                           int8   \n",
            " 26  tard                           int8   \n",
            " 27  chilledwater                   int8   \n",
            " 28  electricity                    int8   \n",
            " 29  steam                          int8   \n",
            " 30  yearB_q1                       int8   \n",
            " 31  yearB_q2                       int8   \n",
            " 32  yearB_q3                       int8   \n",
            "dtypes: float16(5), int8(28)\n",
            "memory usage: 429.3 MB\n"
          ],
          "name": "stdout"
        }
      ]
    },
    {
      "cell_type": "code",
      "metadata": {
        "id": "Yh_BOL4LnTtt",
        "colab": {
          "base_uri": "https://localhost:8080/"
        },
        "outputId": "d2e9e645-decc-42fe-d64c-4213f0208e3c"
      },
      "source": [
        "Y_train.info()"
      ],
      "execution_count": null,
      "outputs": [
        {
          "output_type": "stream",
          "text": [
            "<class 'pandas.core.frame.DataFrame'>\n",
            "RangeIndex: 11846809 entries, 0 to 11846808\n",
            "Data columns (total 1 columns):\n",
            " #   Column         Dtype  \n",
            "---  ------         -----  \n",
            " 0   meter_reading  float16\n",
            "dtypes: float16(1)\n",
            "memory usage: 22.6 MB\n"
          ],
          "name": "stdout"
        }
      ]
    },
    {
      "cell_type": "code",
      "metadata": {
        "id": "PORSNURdglXA"
      },
      "source": [
        "params = {\n",
        "    \"objective\": \"reg:squarederror\",\n",
        "    \"metric\": \"rmse\",\n",
        "    \"reg_lambda\": 2,\n",
        "    \"tree_method\": \"approx\",\n",
        "    \"learning_rate\": 0.05\n",
        "}"
      ],
      "execution_count": null,
      "outputs": []
    },
    {
      "cell_type": "code",
      "metadata": {
        "id": "_yIHRYhrjDLY"
      },
      "source": [
        "XGB = XGB(**params)"
      ],
      "execution_count": null,
      "outputs": []
    },
    {
      "cell_type": "code",
      "metadata": {
        "colab": {
          "base_uri": "https://localhost:8080/"
        },
        "id": "FtEh-MP9gekG",
        "outputId": "f831a719-c5b8-4269-8732-7a7b4305c623"
      },
      "source": [
        "XGB_Reg=XGB.fit(X_train1, Y_train,early_stopping_rounds=True,\n",
        "        eval_set=[(X_test1, Y_test)],\n",
        "        eval_metric='rmse',\n",
        "        verbose=True)"
      ],
      "execution_count": null,
      "outputs": [
        {
          "output_type": "stream",
          "text": [
            "[0]\tvalidation_0-rmse:4.41714\n",
            "Will train until validation_0-rmse hasn't improved in True rounds.\n",
            "[1]\tvalidation_0-rmse:4.21481\n",
            "[2]\tvalidation_0-rmse:4.02266\n",
            "[3]\tvalidation_0-rmse:3.84214\n",
            "[4]\tvalidation_0-rmse:3.67004\n",
            "[5]\tvalidation_0-rmse:3.50492\n",
            "[6]\tvalidation_0-rmse:3.3526\n",
            "[7]\tvalidation_0-rmse:3.20395\n",
            "[8]\tvalidation_0-rmse:3.07277\n",
            "[9]\tvalidation_0-rmse:2.94373\n",
            "[10]\tvalidation_0-rmse:2.82426\n",
            "[11]\tvalidation_0-rmse:2.71472\n",
            "[12]\tvalidation_0-rmse:2.60716\n",
            "[13]\tvalidation_0-rmse:2.50971\n",
            "[14]\tvalidation_0-rmse:2.41513\n",
            "[15]\tvalidation_0-rmse:2.32881\n",
            "[16]\tvalidation_0-rmse:2.24948\n",
            "[17]\tvalidation_0-rmse:2.17191\n",
            "[18]\tvalidation_0-rmse:2.10045\n",
            "[19]\tvalidation_0-rmse:2.03629\n",
            "[20]\tvalidation_0-rmse:1.97472\n",
            "[21]\tvalidation_0-rmse:1.91844\n",
            "[22]\tvalidation_0-rmse:1.86755\n",
            "[23]\tvalidation_0-rmse:1.81824\n",
            "[24]\tvalidation_0-rmse:1.77237\n",
            "[25]\tvalidation_0-rmse:1.73031\n",
            "[26]\tvalidation_0-rmse:1.69042\n",
            "[27]\tvalidation_0-rmse:1.65759\n",
            "[28]\tvalidation_0-rmse:1.62654\n",
            "[29]\tvalidation_0-rmse:1.59203\n",
            "[30]\tvalidation_0-rmse:1.56114\n",
            "[31]\tvalidation_0-rmse:1.53561\n",
            "[32]\tvalidation_0-rmse:1.51479\n",
            "[33]\tvalidation_0-rmse:1.49638\n",
            "[34]\tvalidation_0-rmse:1.47778\n",
            "[35]\tvalidation_0-rmse:1.46158\n",
            "[36]\tvalidation_0-rmse:1.4443\n",
            "[37]\tvalidation_0-rmse:1.42976\n",
            "[38]\tvalidation_0-rmse:1.42295\n",
            "[39]\tvalidation_0-rmse:1.40816\n",
            "[40]\tvalidation_0-rmse:1.39983\n",
            "[41]\tvalidation_0-rmse:1.39097\n",
            "[42]\tvalidation_0-rmse:1.38898\n",
            "[43]\tvalidation_0-rmse:1.38571\n",
            "[44]\tvalidation_0-rmse:1.38063\n",
            "[45]\tvalidation_0-rmse:1.37186\n",
            "[46]\tvalidation_0-rmse:1.36796\n",
            "[47]\tvalidation_0-rmse:1.35962\n",
            "[48]\tvalidation_0-rmse:1.35659\n",
            "[49]\tvalidation_0-rmse:1.3558\n",
            "[50]\tvalidation_0-rmse:1.35241\n",
            "[51]\tvalidation_0-rmse:1.35275\n",
            "Stopping. Best iteration:\n",
            "[50]\tvalidation_0-rmse:1.35241\n",
            "\n"
          ],
          "name": "stdout"
        }
      ]
    },
    {
      "cell_type": "code",
      "metadata": {
        "id": "-pGZZIYGgk_O"
      },
      "source": [
        "Y_pred=XGB_Reg.predict(X_test1)"
      ],
      "execution_count": null,
      "outputs": []
    },
    {
      "cell_type": "code",
      "metadata": {
        "id": "g5-L5JWInciw"
      },
      "source": [
        "print(Y_pred[300:320]);print(Y_test[300:320])"
      ],
      "execution_count": null,
      "outputs": []
    },
    {
      "cell_type": "code",
      "metadata": {
        "colab": {
          "base_uri": "https://localhost:8080/"
        },
        "id": "AKgUz1S3obml",
        "outputId": "c23f2b21-6057-43ca-8690-a0e1b1002243"
      },
      "source": [
        "mse_XGB = mean_squared_error(Y_test, Y_pred)**0.5\n",
        "print(\"The mean squared error (MSE) of XGB Model on test set: {:.4f}\".format(mse_XGB))"
      ],
      "execution_count": null,
      "outputs": [
        {
          "output_type": "stream",
          "text": [
            "The mean squared error (MSE) of XGB Model on test set: 1.3659\n"
          ],
          "name": "stdout"
        }
      ]
    },
    {
      "cell_type": "code",
      "metadata": {
        "id": "EQnzesASrAhc"
      },
      "source": [
        "XGB_Reg.save_model('/content/drive/MyDrive/Kaggle/XGB_Reg.txt') "
      ],
      "execution_count": null,
      "outputs": []
    },
    {
      "cell_type": "code",
      "metadata": {
        "id": "17qD1tKEEHZU"
      },
      "source": [
        "pickle.dump(XGB_Reg, open(\"pima.pickle.dat\", \"wb\"))"
      ],
      "execution_count": null,
      "outputs": []
    },
    {
      "cell_type": "markdown",
      "metadata": {
        "id": "ugKNpzSqvqNc"
      },
      "source": [
        "## Prediction et soumission"
      ]
    },
    {
      "cell_type": "code",
      "metadata": {
        "id": "MTu9nlUnVuD9",
        "colab": {
          "base_uri": "https://localhost:8080/"
        },
        "outputId": "c5525287-da07-4aa1-c19c-0bffeaffa459"
      },
      "source": [
        "! mkdir ~/.kaggle/"
      ],
      "execution_count": null,
      "outputs": [
        {
          "output_type": "stream",
          "text": [
            "mkdir: cannot create directory ‘/root/.kaggle/’: File exists\n"
          ],
          "name": "stdout"
        }
      ]
    },
    {
      "cell_type": "code",
      "metadata": {
        "id": "Myx1csZ2VoiF"
      },
      "source": [
        "! cp '/content/drive/MyDrive/Kaggle/kaggle.json' ~/.kaggle/"
      ],
      "execution_count": null,
      "outputs": []
    },
    {
      "cell_type": "code",
      "metadata": {
        "id": "DL8XP6bWVyHM"
      },
      "source": [
        "! chmod 600 ~/.kaggle/kaggle.json"
      ],
      "execution_count": null,
      "outputs": []
    },
    {
      "cell_type": "code",
      "metadata": {
        "id": "ytepqi98V2IV"
      },
      "source": [
        "! kaggle competitions download -c ashrae-energy-prediction"
      ],
      "execution_count": null,
      "outputs": []
    },
    {
      "cell_type": "code",
      "metadata": {
        "colab": {
          "base_uri": "https://localhost:8080/"
        },
        "id": "lj2rdz4EV7iz",
        "outputId": "c586e02c-8378-44e0-9ff3-b74b206bf68c"
      },
      "source": [
        "! unzip '/content/weather_test.csv.zip' -d weather_test\n",
        "! unzip '/content/test.csv.zip' -d test\n"
      ],
      "execution_count": null,
      "outputs": [
        {
          "output_type": "stream",
          "text": [
            "Archive:  /content/weather_test.csv.zip\n",
            "  inflating: weather_test/weather_test.csv  \n",
            "Archive:  /content/test.csv.zip\n",
            "  inflating: test/test.csv           \n"
          ],
          "name": "stdout"
        }
      ]
    },
    {
      "cell_type": "code",
      "metadata": {
        "id": "Z-1Pce8O0iXJ"
      },
      "source": [
        "test = pd.read_csv('/content/drive/MyDrive/Kaggle/test.csv')\n",
        "weather_test = pd.read_csv('/content/drive/MyDrive/Kaggle/weather_test.csv')\n",
        "building_metadata = pd.read_csv('/content/drive/MyDrive/Kaggle/building_metadata.csv')\n"
      ],
      "execution_count": null,
      "outputs": []
    },
    {
      "cell_type": "code",
      "metadata": {
        "id": "jnVWV46XahJA"
      },
      "source": [
        "def reduce_mem_usage(df, verbose=True):\n",
        "    numerics = ['int16', 'int32', 'int64', 'float16', 'float32', 'float64']\n",
        "    start_mem = df.memory_usage().sum() / 1024**3\n",
        "    for col in df.columns:\n",
        "        col_type = df[col].dtypes\n",
        "        if col_type in numerics:\n",
        "            c_min = df[col].min()\n",
        "            c_max = df[col].max()\n",
        "            if str(col_type)[:3] == 'int':\n",
        "                if c_min > np.iinfo(np.int8).min and c_max < np.iinfo(np.int8).max:\n",
        "                    df[col] = df[col].astype(np.int8)\n",
        "                elif c_min > np.iinfo(np.int16).min and c_max < np.iinfo(np.int16).max:\n",
        "                    df[col] = df[col].astype(np.int16)\n",
        "                elif c_min > np.iinfo(np.int32).min and c_max < np.iinfo(np.int32).max:\n",
        "                    df[col] = df[col].astype(np.int32)\n",
        "                elif c_min > np.iinfo(np.int64).min and c_max < np.iinfo(np.int64).max:\n",
        "                    df[col] = df[col].astype(np.int64)\n",
        "            else:\n",
        "                if c_min > np.finfo(np.float16).min and c_max < np.finfo(np.float16).max:\n",
        "                    df[col] = df[col].astype(np.float16)\n",
        "                elif c_min > np.finfo(np.float32).min and c_max < np.finfo(np.float32).max:\n",
        "                    df[col] = df[col].astype(np.float32)\n",
        "                else:\n",
        "                    df[col] = df[col].astype(np.float64)\n",
        "\n",
        "    end_mem = df.memory_usage().sum() / 1024**3\n",
        "    print('Memory usage after optimization is: {:.2f} MB'.format(end_mem))\n",
        "    print('Decreased by {:.1f}%'.format(100 * (start_mem - end_mem) / start_mem))\n",
        "\n",
        "    return df"
      ],
      "execution_count": null,
      "outputs": []
    },
    {
      "cell_type": "code",
      "metadata": {
        "colab": {
          "base_uri": "https://localhost:8080/"
        },
        "id": "jIF7qNFl0zHL",
        "outputId": "ef900e59-81d8-45a0-ab58-415f74518165"
      },
      "source": [
        "test = reduce_mem_usage(test)"
      ],
      "execution_count": null,
      "outputs": [
        {
          "output_type": "stream",
          "text": [
            "Memory usage after optimization is: 0.58 MB\n",
            "Decreased by 53.1%\n"
          ],
          "name": "stdout"
        }
      ]
    },
    {
      "cell_type": "code",
      "metadata": {
        "colab": {
          "base_uri": "https://localhost:8080/"
        },
        "id": "k99Uy4Hq03rN",
        "outputId": "6b4ab095-3c51-46c3-a56d-b964c255bc10"
      },
      "source": [
        "weather_test = reduce_mem_usage(weather_test)"
      ],
      "execution_count": null,
      "outputs": [
        {
          "output_type": "stream",
          "text": [
            "Memory usage after optimization is: 0.01 MB\n",
            "Decreased by 68.1%\n"
          ],
          "name": "stdout"
        }
      ]
    },
    {
      "cell_type": "code",
      "metadata": {
        "colab": {
          "base_uri": "https://localhost:8080/"
        },
        "id": "0zjWi7Rl07x9",
        "outputId": "77335f41-53d4-4763-e60d-ec0eec184ca7"
      },
      "source": [
        "building_metadata = reduce_mem_usage(building_metadata)"
      ],
      "execution_count": null,
      "outputs": [
        {
          "output_type": "stream",
          "text": [
            "Memory usage after optimization is: 0.00 MB\n",
            "Decreased by 60.3%\n"
          ],
          "name": "stdout"
        }
      ]
    },
    {
      "cell_type": "code",
      "metadata": {
        "colab": {
          "base_uri": "https://localhost:8080/"
        },
        "id": "TY3BV3b301LE",
        "outputId": "7e20f4a0-856c-4aba-9424-8f509d0527b4"
      },
      "source": [
        "test =test.merge(building_metadata, on='building_id', how='left')\n",
        "alltest= test.merge(weather_test, on=['site_id', 'timestamp'], how='left')\n",
        "del test, weather_test,building_metadata\n",
        "gc.collect()"
      ],
      "execution_count": null,
      "outputs": [
        {
          "output_type": "execute_result",
          "data": {
            "text/plain": [
              "319"
            ]
          },
          "metadata": {
            "tags": []
          },
          "execution_count": 36
        }
      ]
    },
    {
      "cell_type": "code",
      "metadata": {
        "colab": {
          "base_uri": "https://localhost:8080/"
        },
        "id": "DJ7Wk_B-1Rel",
        "outputId": "75dcadb4-28e8-4f75-dae6-e518a3ed19c2"
      },
      "source": [
        "alltest = reduce_mem_usage(alltest)"
      ],
      "execution_count": null,
      "outputs": [
        {
          "output_type": "stream",
          "text": [
            "Memory usage after optimization is: 2.10 MB\n",
            "Decreased by 0.0%\n"
          ],
          "name": "stdout"
        }
      ]
    },
    {
      "cell_type": "code",
      "metadata": {
        "id": "1m0XSaVx0iXX"
      },
      "source": [
        "alltest.timestamp=pd.to_datetime(alltest['timestamp'])"
      ],
      "execution_count": null,
      "outputs": []
    },
    {
      "cell_type": "code",
      "metadata": {
        "colab": {
          "base_uri": "https://localhost:8080/"
        },
        "id": "pu6AXAei0iXY",
        "outputId": "6253b5b4-74ee-4dde-8c7f-724e29f1344c"
      },
      "source": [
        "(alltest.isna().sum()/alltest.shape[0]).sort_values(ascending=False)"
      ],
      "execution_count": null,
      "outputs": [
        {
          "output_type": "execute_result",
          "data": {
            "text/plain": [
              "floor_count           0.826050\n",
              "year_built            0.589916\n",
              "cloud_coverage        0.468664\n",
              "precip_depth_1_hr     0.187099\n",
              "wind_direction        0.071435\n",
              "sea_level_pressure    0.060359\n",
              "wind_speed            0.007245\n",
              "dew_temperature       0.006255\n",
              "air_temperature       0.005322\n",
              "square_feet           0.000000\n",
              "primary_use           0.000000\n",
              "site_id               0.000000\n",
              "timestamp             0.000000\n",
              "meter                 0.000000\n",
              "building_id           0.000000\n",
              "row_id                0.000000\n",
              "dtype: float64"
            ]
          },
          "metadata": {
            "tags": []
          },
          "execution_count": 39
        }
      ]
    },
    {
      "cell_type": "code",
      "metadata": {
        "id": "KvNLqf3pc2Hy"
      },
      "source": [
        "alltest.to_csv (r'/content/drive/MyDrive/Kaggle/alltest.csv', index = False, header=True)"
      ],
      "execution_count": null,
      "outputs": []
    },
    {
      "cell_type": "code",
      "metadata": {
        "id": "01H0doVL0iXZ"
      },
      "source": [
        "data_test = preProcecing_df(alltest)"
      ],
      "execution_count": null,
      "outputs": []
    },
    {
      "cell_type": "code",
      "metadata": {
        "id": "k8RrjL3a0iXZ"
      },
      "source": [
        "data_test['meter'] = pd.Categorical(data_test['meter']).rename_categories({0: 'electricity', \n",
        "                                                                   1: 'chilledwater',\n",
        "                                                                   2: 'steam', \n",
        "                                                                   3: 'hotwater'})"
      ],
      "execution_count": null,
      "outputs": []
    },
    {
      "cell_type": "code",
      "metadata": {
        "colab": {
          "base_uri": "https://localhost:8080/",
          "height": 505
        },
        "id": "Rt33UP9-YYh8",
        "outputId": "f4ef3294-85ee-4541-ed53-44a78ba5f751"
      },
      "source": [
        "reduce_mem_usage(data_test)"
      ],
      "execution_count": null,
      "outputs": [
        {
          "output_type": "stream",
          "text": [
            "Memory usage after optimization is: 2.37 MB\n",
            "Decreased by 10.3%\n"
          ],
          "name": "stdout"
        },
        {
          "output_type": "execute_result",
          "data": {
            "text/html": [
              "<div>\n",
              "<style scoped>\n",
              "    .dataframe tbody tr th:only-of-type {\n",
              "        vertical-align: middle;\n",
              "    }\n",
              "\n",
              "    .dataframe tbody tr th {\n",
              "        vertical-align: top;\n",
              "    }\n",
              "\n",
              "    .dataframe thead th {\n",
              "        text-align: right;\n",
              "    }\n",
              "</style>\n",
              "<table border=\"1\" class=\"dataframe\">\n",
              "  <thead>\n",
              "    <tr style=\"text-align: right;\">\n",
              "      <th></th>\n",
              "      <th>row_id</th>\n",
              "      <th>building_id</th>\n",
              "      <th>meter</th>\n",
              "      <th>site_id</th>\n",
              "      <th>primary_use</th>\n",
              "      <th>square_feet</th>\n",
              "      <th>year_built</th>\n",
              "      <th>floor_count</th>\n",
              "      <th>air_temperature</th>\n",
              "      <th>dew_temperature</th>\n",
              "      <th>wind_direction</th>\n",
              "      <th>heureDiscredite</th>\n",
              "      <th>week_end</th>\n",
              "      <th>saison</th>\n",
              "    </tr>\n",
              "  </thead>\n",
              "  <tbody>\n",
              "    <tr>\n",
              "      <th>0</th>\n",
              "      <td>0</td>\n",
              "      <td>0</td>\n",
              "      <td>electricity</td>\n",
              "      <td>0</td>\n",
              "      <td>Education</td>\n",
              "      <td>7432</td>\n",
              "      <td>yearB_q4</td>\n",
              "      <td>0.0</td>\n",
              "      <td>17.796875</td>\n",
              "      <td>11.703125</td>\n",
              "      <td>100.0</td>\n",
              "      <td>tard</td>\n",
              "      <td>0</td>\n",
              "      <td>hiver</td>\n",
              "    </tr>\n",
              "    <tr>\n",
              "      <th>1</th>\n",
              "      <td>1</td>\n",
              "      <td>1</td>\n",
              "      <td>electricity</td>\n",
              "      <td>0</td>\n",
              "      <td>Education</td>\n",
              "      <td>2720</td>\n",
              "      <td>yearB_q4</td>\n",
              "      <td>0.0</td>\n",
              "      <td>17.796875</td>\n",
              "      <td>11.703125</td>\n",
              "      <td>100.0</td>\n",
              "      <td>tard</td>\n",
              "      <td>0</td>\n",
              "      <td>hiver</td>\n",
              "    </tr>\n",
              "    <tr>\n",
              "      <th>2</th>\n",
              "      <td>2</td>\n",
              "      <td>2</td>\n",
              "      <td>electricity</td>\n",
              "      <td>0</td>\n",
              "      <td>Education</td>\n",
              "      <td>5376</td>\n",
              "      <td>yearB_q3</td>\n",
              "      <td>0.0</td>\n",
              "      <td>17.796875</td>\n",
              "      <td>11.703125</td>\n",
              "      <td>100.0</td>\n",
              "      <td>tard</td>\n",
              "      <td>0</td>\n",
              "      <td>hiver</td>\n",
              "    </tr>\n",
              "    <tr>\n",
              "      <th>3</th>\n",
              "      <td>3</td>\n",
              "      <td>3</td>\n",
              "      <td>electricity</td>\n",
              "      <td>0</td>\n",
              "      <td>Education</td>\n",
              "      <td>23685</td>\n",
              "      <td>yearB_q4</td>\n",
              "      <td>0.0</td>\n",
              "      <td>17.796875</td>\n",
              "      <td>11.703125</td>\n",
              "      <td>100.0</td>\n",
              "      <td>tard</td>\n",
              "      <td>0</td>\n",
              "      <td>hiver</td>\n",
              "    </tr>\n",
              "    <tr>\n",
              "      <th>4</th>\n",
              "      <td>4</td>\n",
              "      <td>4</td>\n",
              "      <td>electricity</td>\n",
              "      <td>0</td>\n",
              "      <td>Education</td>\n",
              "      <td>116607</td>\n",
              "      <td>yearB_q3</td>\n",
              "      <td>0.0</td>\n",
              "      <td>17.796875</td>\n",
              "      <td>11.703125</td>\n",
              "      <td>100.0</td>\n",
              "      <td>tard</td>\n",
              "      <td>0</td>\n",
              "      <td>hiver</td>\n",
              "    </tr>\n",
              "    <tr>\n",
              "      <th>...</th>\n",
              "      <td>...</td>\n",
              "      <td>...</td>\n",
              "      <td>...</td>\n",
              "      <td>...</td>\n",
              "      <td>...</td>\n",
              "      <td>...</td>\n",
              "      <td>...</td>\n",
              "      <td>...</td>\n",
              "      <td>...</td>\n",
              "      <td>...</td>\n",
              "      <td>...</td>\n",
              "      <td>...</td>\n",
              "      <td>...</td>\n",
              "      <td>...</td>\n",
              "    </tr>\n",
              "    <tr>\n",
              "      <th>41697595</th>\n",
              "      <td>41697595</td>\n",
              "      <td>1444</td>\n",
              "      <td>electricity</td>\n",
              "      <td>15</td>\n",
              "      <td>Entertainment/public assembly</td>\n",
              "      <td>19619</td>\n",
              "      <td>yearB_q1</td>\n",
              "      <td>0.0</td>\n",
              "      <td>6.699219</td>\n",
              "      <td>1.700195</td>\n",
              "      <td>210.0</td>\n",
              "      <td>journee</td>\n",
              "      <td>0</td>\n",
              "      <td>printent</td>\n",
              "    </tr>\n",
              "    <tr>\n",
              "      <th>41697596</th>\n",
              "      <td>41697596</td>\n",
              "      <td>1445</td>\n",
              "      <td>electricity</td>\n",
              "      <td>15</td>\n",
              "      <td>Education</td>\n",
              "      <td>4298</td>\n",
              "      <td>yearB_q2</td>\n",
              "      <td>0.0</td>\n",
              "      <td>6.699219</td>\n",
              "      <td>1.700195</td>\n",
              "      <td>210.0</td>\n",
              "      <td>journee</td>\n",
              "      <td>0</td>\n",
              "      <td>printent</td>\n",
              "    </tr>\n",
              "    <tr>\n",
              "      <th>41697597</th>\n",
              "      <td>41697597</td>\n",
              "      <td>1446</td>\n",
              "      <td>electricity</td>\n",
              "      <td>15</td>\n",
              "      <td>Entertainment/public assembly</td>\n",
              "      <td>11265</td>\n",
              "      <td>yearB_q4</td>\n",
              "      <td>0.0</td>\n",
              "      <td>6.699219</td>\n",
              "      <td>1.700195</td>\n",
              "      <td>210.0</td>\n",
              "      <td>journee</td>\n",
              "      <td>0</td>\n",
              "      <td>printent</td>\n",
              "    </tr>\n",
              "    <tr>\n",
              "      <th>41697598</th>\n",
              "      <td>41697598</td>\n",
              "      <td>1447</td>\n",
              "      <td>electricity</td>\n",
              "      <td>15</td>\n",
              "      <td>Lodging/residential</td>\n",
              "      <td>29775</td>\n",
              "      <td>yearB_q4</td>\n",
              "      <td>0.0</td>\n",
              "      <td>6.699219</td>\n",
              "      <td>1.700195</td>\n",
              "      <td>210.0</td>\n",
              "      <td>journee</td>\n",
              "      <td>0</td>\n",
              "      <td>printent</td>\n",
              "    </tr>\n",
              "    <tr>\n",
              "      <th>41697599</th>\n",
              "      <td>41697599</td>\n",
              "      <td>1448</td>\n",
              "      <td>electricity</td>\n",
              "      <td>15</td>\n",
              "      <td>Office</td>\n",
              "      <td>92271</td>\n",
              "      <td>yearB_q4</td>\n",
              "      <td>0.0</td>\n",
              "      <td>6.699219</td>\n",
              "      <td>1.700195</td>\n",
              "      <td>210.0</td>\n",
              "      <td>journee</td>\n",
              "      <td>0</td>\n",
              "      <td>printent</td>\n",
              "    </tr>\n",
              "  </tbody>\n",
              "</table>\n",
              "<p>41697600 rows × 14 columns</p>\n",
              "</div>"
            ],
            "text/plain": [
              "            row_id  building_id  ... week_end    saison\n",
              "0                0            0  ...        0     hiver\n",
              "1                1            1  ...        0     hiver\n",
              "2                2            2  ...        0     hiver\n",
              "3                3            3  ...        0     hiver\n",
              "4                4            4  ...        0     hiver\n",
              "...            ...          ...  ...      ...       ...\n",
              "41697595  41697595         1444  ...        0  printent\n",
              "41697596  41697596         1445  ...        0  printent\n",
              "41697597  41697597         1446  ...        0  printent\n",
              "41697598  41697598         1447  ...        0  printent\n",
              "41697599  41697599         1448  ...        0  printent\n",
              "\n",
              "[41697600 rows x 14 columns]"
            ]
          },
          "metadata": {
            "tags": []
          },
          "execution_count": 44
        }
      ]
    },
    {
      "cell_type": "code",
      "metadata": {
        "id": "1uEbiN3j0iXa"
      },
      "source": [
        "data_test[\"building_id\"] = data_test[\"building_id\"].astype('category')\n",
        "data_test[\"site_id\"] = data_test[\"site_id\"].astype('category')\n",
        "data_test[\"primary_use\"] = data_test[\"primary_use\"].astype('category')\n",
        "data_test[\"saison\"] = data_test[\"saison\"].astype('category')\n",
        "data_test[\"heureDiscredite\"] = data_test[\"heureDiscredite\"].astype('category')\n",
        "data_test[\"year_built\"] = data_test[\"year_built\"].astype('category')"
      ],
      "execution_count": null,
      "outputs": []
    },
    {
      "cell_type": "code",
      "metadata": {
        "id": "zsn3diYj8kvu"
      },
      "source": [
        "data_test.to_csv (r'/content/drive/MyDrive/Kaggle/data_test.csv', index = False, header=True)"
      ],
      "execution_count": null,
      "outputs": []
    },
    {
      "cell_type": "code",
      "metadata": {
        "colab": {
          "base_uri": "https://localhost:8080/"
        },
        "id": "3yRsZrdH0iXb",
        "outputId": "c517c5ba-89b0-4681-d79a-24e21e3befd8"
      },
      "source": [
        "listColumns= [ 'wind_direction',  'dew_temperature',\n",
        "              'air_temperature', 'floor_count', 'square_feet']\n",
        "\n",
        "gc.collect()"
      ],
      "execution_count": null,
      "outputs": [
        {
          "output_type": "execute_result",
          "data": {
            "text/plain": [
              "386"
            ]
          },
          "metadata": {
            "tags": []
          },
          "execution_count": 46
        }
      ]
    },
    {
      "cell_type": "code",
      "metadata": {
        "id": "rKA9YVRUYvBD"
      },
      "source": [
        "def encodeur(df): \n",
        "    X_Encod=pd.concat([df, pd.get_dummies(df[\"primary_use\"], dtype=int) ], axis=1)\n",
        "    reduce_mem_usage(X_Encod)\n",
        "    X_Encod=pd.concat([X_Encod, pd.get_dummies(df[\"saison\"], dtype=int) ], axis=1)\n",
        "    reduce_mem_usage(X_Encod)\n",
        "    X_Encod=pd.concat([X_Encod, pd.get_dummies(df[\"heureDiscredite\"], dtype=int) ], axis=1)\n",
        "    reduce_mem_usage(X_Encod)\n",
        "    X_Encod=pd.concat([X_Encod, pd.get_dummies(df[\"meter\"], dtype=int) ], axis=1)\n",
        "    reduce_mem_usage(X_Encod)\n",
        "    X_Encod=pd.concat([X_Encod, pd.get_dummies(df[\"year_built\"], dtype=int) ], axis=1)\n",
        "    reduce_mem_usage(X_Encod)\n",
        "\n",
        "    for col in [\"primary_use\",'year_built', 'yearB_q4', \"saison\", \"heureDiscredite\", \n",
        "                'Office', \"printent\", \"journee\", 'meter', 'hotwater' ]:\n",
        "        del X_Encod[col]\n",
        "\n",
        "\n",
        "    return X_Encod"
      ],
      "execution_count": null,
      "outputs": []
    },
    {
      "cell_type": "code",
      "metadata": {
        "colab": {
          "base_uri": "https://localhost:8080/"
        },
        "id": "sP1Y70W50iXb",
        "outputId": "0d90311e-b43d-41eb-c6be-0a2d76e0b571"
      },
      "source": [
        "X_final = encodeur(data_test)"
      ],
      "execution_count": null,
      "outputs": [
        {
          "output_type": "stream",
          "text": [
            "Memory usage after optimization is: 1.90 MB\n",
            "Decreased by 69.6%\n",
            "Memory usage after optimization is: 2.06 MB\n",
            "Decreased by 34.6%\n",
            "Memory usage after optimization is: 2.17 MB\n",
            "Decreased by 27.3%\n",
            "Memory usage after optimization is: 2.33 MB\n",
            "Decreased by 31.8%\n",
            "Memory usage after optimization is: 2.49 MB\n",
            "Decreased by 30.4%\n"
          ],
          "name": "stdout"
        }
      ]
    },
    {
      "cell_type": "code",
      "metadata": {
        "id": "2SB0l9Qi0iXc"
      },
      "source": [
        "X_final = minMax(X_final, listColumns, scaler)\n",
        "del data_test"
      ],
      "execution_count": null,
      "outputs": []
    },
    {
      "cell_type": "code",
      "metadata": {
        "id": "sBe0IGWd0iXd"
      },
      "source": [
        "X_final = X_final.drop([\"row_id\"],axis=1)"
      ],
      "execution_count": null,
      "outputs": []
    },
    {
      "cell_type": "code",
      "metadata": {
        "id": "BMl8F8M7Fj8R"
      },
      "source": [
        "X_train1.info()"
      ],
      "execution_count": null,
      "outputs": []
    },
    {
      "cell_type": "code",
      "metadata": {
        "id": "dHYsEFHUP8cP"
      },
      "source": [
        "X_final.info()"
      ],
      "execution_count": null,
      "outputs": []
    },
    {
      "cell_type": "code",
      "metadata": {
        "id": "RRHabs83Pw6B"
      },
      "source": [
        "del X_final1['building_id']"
      ],
      "execution_count": null,
      "outputs": []
    },
    {
      "cell_type": "code",
      "metadata": {
        "id": "6_4baXQ9cUPl"
      },
      "source": [
        "X_final[\"site_id\"] = X_final[\"site_id\"].astype('int')"
      ],
      "execution_count": null,
      "outputs": []
    },
    {
      "cell_type": "code",
      "metadata": {
        "id": "bST-OwDRclM-"
      },
      "source": [
        "X_final  = pd.read_csv('/content/drive/MyDrive/Kaggle/X_final.csv')"
      ],
      "execution_count": null,
      "outputs": []
    },
    {
      "cell_type": "code",
      "metadata": {
        "id": "5weRmgcCc424"
      },
      "source": [
        "reduce_mem_usage(X_final1)"
      ],
      "execution_count": null,
      "outputs": []
    },
    {
      "cell_type": "code",
      "metadata": {
        "id": "B71LSLSInU9D"
      },
      "source": [
        "X_final = pd.read_csv('/content/drive/MyDrive/Kaggle/X_final.csv')"
      ],
      "execution_count": null,
      "outputs": []
    },
    {
      "cell_type": "code",
      "metadata": {
        "id": "Wy7lKAdEnU9H"
      },
      "source": [
        "reduce_mem_usage(X_final1)"
      ],
      "execution_count": null,
      "outputs": []
    },
    {
      "cell_type": "code",
      "metadata": {
        "id": "AFTYZ063BtZm"
      },
      "source": [
        "X_final.insert(0, 'newColMean', df.mean(1))"
      ],
      "execution_count": null,
      "outputs": []
    },
    {
      "cell_type": "code",
      "metadata": {
        "colab": {
          "base_uri": "https://localhost:8080/",
          "height": 1000
        },
        "id": "gvF5CJPssvfZ",
        "outputId": "0a1a19c2-9076-4edf-c443-32371916fcd3"
      },
      "source": [
        "X_final1=X_final.iloc[1:13899200,:]\n",
        "reduce_mem_usage(X_final1)"
      ],
      "execution_count": null,
      "outputs": [
        {
          "output_type": "stream",
          "text": [
            "/usr/local/lib/python3.7/dist-packages/ipykernel_launcher.py:13: SettingWithCopyWarning: \n",
            "A value is trying to be set on a copy of a slice from a DataFrame.\n",
            "Try using .loc[row_indexer,col_indexer] = value instead\n",
            "\n",
            "See the caveats in the documentation: https://pandas.pydata.org/pandas-docs/stable/user_guide/indexing.html#returning-a-view-versus-a-copy\n",
            "  del sys.path[0]\n",
            "/usr/local/lib/python3.7/dist-packages/ipykernel_launcher.py:11: SettingWithCopyWarning: \n",
            "A value is trying to be set on a copy of a slice from a DataFrame.\n",
            "Try using .loc[row_indexer,col_indexer] = value instead\n",
            "\n",
            "See the caveats in the documentation: https://pandas.pydata.org/pandas-docs/stable/user_guide/indexing.html#returning-a-view-versus-a-copy\n",
            "  # This is added back by InteractiveShellApp.init_path()\n",
            "/usr/local/lib/python3.7/dist-packages/ipykernel_launcher.py:20: SettingWithCopyWarning: \n",
            "A value is trying to be set on a copy of a slice from a DataFrame.\n",
            "Try using .loc[row_indexer,col_indexer] = value instead\n",
            "\n",
            "See the caveats in the documentation: https://pandas.pydata.org/pandas-docs/stable/user_guide/indexing.html#returning-a-view-versus-a-copy\n",
            "/usr/local/lib/python3.7/dist-packages/ipykernel_launcher.py:20: SettingWithCopyWarning: \n",
            "A value is trying to be set on a copy of a slice from a DataFrame.\n",
            "Try using .loc[row_indexer,col_indexer] = value instead\n",
            "\n",
            "See the caveats in the documentation: https://pandas.pydata.org/pandas-docs/stable/user_guide/indexing.html#returning-a-view-versus-a-copy\n",
            "/usr/local/lib/python3.7/dist-packages/ipykernel_launcher.py:20: SettingWithCopyWarning: \n",
            "A value is trying to be set on a copy of a slice from a DataFrame.\n",
            "Try using .loc[row_indexer,col_indexer] = value instead\n",
            "\n",
            "See the caveats in the documentation: https://pandas.pydata.org/pandas-docs/stable/user_guide/indexing.html#returning-a-view-versus-a-copy\n",
            "/usr/local/lib/python3.7/dist-packages/ipykernel_launcher.py:20: SettingWithCopyWarning: \n",
            "A value is trying to be set on a copy of a slice from a DataFrame.\n",
            "Try using .loc[row_indexer,col_indexer] = value instead\n",
            "\n",
            "See the caveats in the documentation: https://pandas.pydata.org/pandas-docs/stable/user_guide/indexing.html#returning-a-view-versus-a-copy\n",
            "/usr/local/lib/python3.7/dist-packages/ipykernel_launcher.py:20: SettingWithCopyWarning: \n",
            "A value is trying to be set on a copy of a slice from a DataFrame.\n",
            "Try using .loc[row_indexer,col_indexer] = value instead\n",
            "\n",
            "See the caveats in the documentation: https://pandas.pydata.org/pandas-docs/stable/user_guide/indexing.html#returning-a-view-versus-a-copy\n"
          ],
          "name": "stderr"
        },
        {
          "output_type": "stream",
          "text": [
            "Memory usage after optimization is: 0.52 MB\n",
            "Decreased by 14.9%\n"
          ],
          "name": "stdout"
        },
        {
          "output_type": "execute_result",
          "data": {
            "text/html": [
              "<div>\n",
              "<style scoped>\n",
              "    .dataframe tbody tr th:only-of-type {\n",
              "        vertical-align: middle;\n",
              "    }\n",
              "\n",
              "    .dataframe tbody tr th {\n",
              "        vertical-align: top;\n",
              "    }\n",
              "\n",
              "    .dataframe thead th {\n",
              "        text-align: right;\n",
              "    }\n",
              "</style>\n",
              "<table border=\"1\" class=\"dataframe\">\n",
              "  <thead>\n",
              "    <tr style=\"text-align: right;\">\n",
              "      <th></th>\n",
              "      <th>building_id</th>\n",
              "      <th>site_id</th>\n",
              "      <th>square_feet</th>\n",
              "      <th>floor_count</th>\n",
              "      <th>air_temperature</th>\n",
              "      <th>dew_temperature</th>\n",
              "      <th>wind_direction</th>\n",
              "      <th>week_end</th>\n",
              "      <th>Education</th>\n",
              "      <th>Entertainment/public assembly</th>\n",
              "      <th>Food sales and service</th>\n",
              "      <th>Healthcare</th>\n",
              "      <th>Lodging/residential</th>\n",
              "      <th>Manufacturing/industrial</th>\n",
              "      <th>Other</th>\n",
              "      <th>Parking</th>\n",
              "      <th>Public services</th>\n",
              "      <th>Religious worship</th>\n",
              "      <th>Retail</th>\n",
              "      <th>Services</th>\n",
              "      <th>Technology/science</th>\n",
              "      <th>Utility</th>\n",
              "      <th>Warehouse/storage</th>\n",
              "      <th>automne</th>\n",
              "      <th>ete</th>\n",
              "      <th>hiver</th>\n",
              "      <th>nuit</th>\n",
              "      <th>tard</th>\n",
              "      <th>electricity</th>\n",
              "      <th>chilledwater</th>\n",
              "      <th>steam</th>\n",
              "      <th>yearB_q1</th>\n",
              "      <th>yearB_q2</th>\n",
              "      <th>yearB_q3</th>\n",
              "    </tr>\n",
              "  </thead>\n",
              "  <tbody>\n",
              "    <tr>\n",
              "      <th>1</th>\n",
              "      <td>1</td>\n",
              "      <td>0</td>\n",
              "      <td>0.002787</td>\n",
              "      <td>0.000000</td>\n",
              "      <td>0.601074</td>\n",
              "      <td>0.742676</td>\n",
              "      <td>0.277832</td>\n",
              "      <td>0</td>\n",
              "      <td>1</td>\n",
              "      <td>0</td>\n",
              "      <td>0</td>\n",
              "      <td>0</td>\n",
              "      <td>0</td>\n",
              "      <td>0</td>\n",
              "      <td>0</td>\n",
              "      <td>0</td>\n",
              "      <td>0</td>\n",
              "      <td>0</td>\n",
              "      <td>0</td>\n",
              "      <td>0</td>\n",
              "      <td>0</td>\n",
              "      <td>0</td>\n",
              "      <td>0</td>\n",
              "      <td>0</td>\n",
              "      <td>0</td>\n",
              "      <td>1</td>\n",
              "      <td>0</td>\n",
              "      <td>1</td>\n",
              "      <td>1</td>\n",
              "      <td>0</td>\n",
              "      <td>0</td>\n",
              "      <td>0</td>\n",
              "      <td>0</td>\n",
              "      <td>0</td>\n",
              "    </tr>\n",
              "    <tr>\n",
              "      <th>2</th>\n",
              "      <td>2</td>\n",
              "      <td>0</td>\n",
              "      <td>0.005821</td>\n",
              "      <td>0.000000</td>\n",
              "      <td>0.601074</td>\n",
              "      <td>0.742676</td>\n",
              "      <td>0.277832</td>\n",
              "      <td>0</td>\n",
              "      <td>1</td>\n",
              "      <td>0</td>\n",
              "      <td>0</td>\n",
              "      <td>0</td>\n",
              "      <td>0</td>\n",
              "      <td>0</td>\n",
              "      <td>0</td>\n",
              "      <td>0</td>\n",
              "      <td>0</td>\n",
              "      <td>0</td>\n",
              "      <td>0</td>\n",
              "      <td>0</td>\n",
              "      <td>0</td>\n",
              "      <td>0</td>\n",
              "      <td>0</td>\n",
              "      <td>0</td>\n",
              "      <td>0</td>\n",
              "      <td>1</td>\n",
              "      <td>0</td>\n",
              "      <td>1</td>\n",
              "      <td>1</td>\n",
              "      <td>0</td>\n",
              "      <td>0</td>\n",
              "      <td>0</td>\n",
              "      <td>0</td>\n",
              "      <td>1</td>\n",
              "    </tr>\n",
              "    <tr>\n",
              "      <th>3</th>\n",
              "      <td>3</td>\n",
              "      <td>0</td>\n",
              "      <td>0.026749</td>\n",
              "      <td>0.000000</td>\n",
              "      <td>0.601074</td>\n",
              "      <td>0.742676</td>\n",
              "      <td>0.277832</td>\n",
              "      <td>0</td>\n",
              "      <td>1</td>\n",
              "      <td>0</td>\n",
              "      <td>0</td>\n",
              "      <td>0</td>\n",
              "      <td>0</td>\n",
              "      <td>0</td>\n",
              "      <td>0</td>\n",
              "      <td>0</td>\n",
              "      <td>0</td>\n",
              "      <td>0</td>\n",
              "      <td>0</td>\n",
              "      <td>0</td>\n",
              "      <td>0</td>\n",
              "      <td>0</td>\n",
              "      <td>0</td>\n",
              "      <td>0</td>\n",
              "      <td>0</td>\n",
              "      <td>1</td>\n",
              "      <td>0</td>\n",
              "      <td>1</td>\n",
              "      <td>1</td>\n",
              "      <td>0</td>\n",
              "      <td>0</td>\n",
              "      <td>0</td>\n",
              "      <td>0</td>\n",
              "      <td>0</td>\n",
              "    </tr>\n",
              "    <tr>\n",
              "      <th>4</th>\n",
              "      <td>4</td>\n",
              "      <td>0</td>\n",
              "      <td>0.132935</td>\n",
              "      <td>0.000000</td>\n",
              "      <td>0.601074</td>\n",
              "      <td>0.742676</td>\n",
              "      <td>0.277832</td>\n",
              "      <td>0</td>\n",
              "      <td>1</td>\n",
              "      <td>0</td>\n",
              "      <td>0</td>\n",
              "      <td>0</td>\n",
              "      <td>0</td>\n",
              "      <td>0</td>\n",
              "      <td>0</td>\n",
              "      <td>0</td>\n",
              "      <td>0</td>\n",
              "      <td>0</td>\n",
              "      <td>0</td>\n",
              "      <td>0</td>\n",
              "      <td>0</td>\n",
              "      <td>0</td>\n",
              "      <td>0</td>\n",
              "      <td>0</td>\n",
              "      <td>0</td>\n",
              "      <td>1</td>\n",
              "      <td>0</td>\n",
              "      <td>1</td>\n",
              "      <td>1</td>\n",
              "      <td>0</td>\n",
              "      <td>0</td>\n",
              "      <td>0</td>\n",
              "      <td>0</td>\n",
              "      <td>1</td>\n",
              "    </tr>\n",
              "    <tr>\n",
              "      <th>5</th>\n",
              "      <td>5</td>\n",
              "      <td>0</td>\n",
              "      <td>0.008820</td>\n",
              "      <td>0.000000</td>\n",
              "      <td>0.601074</td>\n",
              "      <td>0.742676</td>\n",
              "      <td>0.277832</td>\n",
              "      <td>0</td>\n",
              "      <td>1</td>\n",
              "      <td>0</td>\n",
              "      <td>0</td>\n",
              "      <td>0</td>\n",
              "      <td>0</td>\n",
              "      <td>0</td>\n",
              "      <td>0</td>\n",
              "      <td>0</td>\n",
              "      <td>0</td>\n",
              "      <td>0</td>\n",
              "      <td>0</td>\n",
              "      <td>0</td>\n",
              "      <td>0</td>\n",
              "      <td>0</td>\n",
              "      <td>0</td>\n",
              "      <td>0</td>\n",
              "      <td>0</td>\n",
              "      <td>1</td>\n",
              "      <td>0</td>\n",
              "      <td>1</td>\n",
              "      <td>1</td>\n",
              "      <td>0</td>\n",
              "      <td>0</td>\n",
              "      <td>0</td>\n",
              "      <td>0</td>\n",
              "      <td>0</td>\n",
              "    </tr>\n",
              "    <tr>\n",
              "      <th>...</th>\n",
              "      <td>...</td>\n",
              "      <td>...</td>\n",
              "      <td>...</td>\n",
              "      <td>...</td>\n",
              "      <td>...</td>\n",
              "      <td>...</td>\n",
              "      <td>...</td>\n",
              "      <td>...</td>\n",
              "      <td>...</td>\n",
              "      <td>...</td>\n",
              "      <td>...</td>\n",
              "      <td>...</td>\n",
              "      <td>...</td>\n",
              "      <td>...</td>\n",
              "      <td>...</td>\n",
              "      <td>...</td>\n",
              "      <td>...</td>\n",
              "      <td>...</td>\n",
              "      <td>...</td>\n",
              "      <td>...</td>\n",
              "      <td>...</td>\n",
              "      <td>...</td>\n",
              "      <td>...</td>\n",
              "      <td>...</td>\n",
              "      <td>...</td>\n",
              "      <td>...</td>\n",
              "      <td>...</td>\n",
              "      <td>...</td>\n",
              "      <td>...</td>\n",
              "      <td>...</td>\n",
              "      <td>...</td>\n",
              "      <td>...</td>\n",
              "      <td>...</td>\n",
              "      <td>...</td>\n",
              "    </tr>\n",
              "    <tr>\n",
              "      <th>13899195</th>\n",
              "      <td>611</td>\n",
              "      <td>4</td>\n",
              "      <td>0.146118</td>\n",
              "      <td>0.269043</td>\n",
              "      <td>0.506836</td>\n",
              "      <td>0.723633</td>\n",
              "      <td>0.138916</td>\n",
              "      <td>0</td>\n",
              "      <td>1</td>\n",
              "      <td>0</td>\n",
              "      <td>0</td>\n",
              "      <td>0</td>\n",
              "      <td>0</td>\n",
              "      <td>0</td>\n",
              "      <td>0</td>\n",
              "      <td>0</td>\n",
              "      <td>0</td>\n",
              "      <td>0</td>\n",
              "      <td>0</td>\n",
              "      <td>0</td>\n",
              "      <td>0</td>\n",
              "      <td>0</td>\n",
              "      <td>0</td>\n",
              "      <td>1</td>\n",
              "      <td>0</td>\n",
              "      <td>0</td>\n",
              "      <td>0</td>\n",
              "      <td>0</td>\n",
              "      <td>1</td>\n",
              "      <td>0</td>\n",
              "      <td>0</td>\n",
              "      <td>0</td>\n",
              "      <td>1</td>\n",
              "      <td>0</td>\n",
              "    </tr>\n",
              "    <tr>\n",
              "      <th>13899196</th>\n",
              "      <td>612</td>\n",
              "      <td>4</td>\n",
              "      <td>0.087769</td>\n",
              "      <td>0.153809</td>\n",
              "      <td>0.506836</td>\n",
              "      <td>0.723633</td>\n",
              "      <td>0.138916</td>\n",
              "      <td>0</td>\n",
              "      <td>1</td>\n",
              "      <td>0</td>\n",
              "      <td>0</td>\n",
              "      <td>0</td>\n",
              "      <td>0</td>\n",
              "      <td>0</td>\n",
              "      <td>0</td>\n",
              "      <td>0</td>\n",
              "      <td>0</td>\n",
              "      <td>0</td>\n",
              "      <td>0</td>\n",
              "      <td>0</td>\n",
              "      <td>0</td>\n",
              "      <td>0</td>\n",
              "      <td>0</td>\n",
              "      <td>1</td>\n",
              "      <td>0</td>\n",
              "      <td>0</td>\n",
              "      <td>0</td>\n",
              "      <td>0</td>\n",
              "      <td>1</td>\n",
              "      <td>0</td>\n",
              "      <td>0</td>\n",
              "      <td>1</td>\n",
              "      <td>0</td>\n",
              "      <td>0</td>\n",
              "    </tr>\n",
              "    <tr>\n",
              "      <th>13899197</th>\n",
              "      <td>613</td>\n",
              "      <td>4</td>\n",
              "      <td>0.001168</td>\n",
              "      <td>0.038452</td>\n",
              "      <td>0.506836</td>\n",
              "      <td>0.723633</td>\n",
              "      <td>0.138916</td>\n",
              "      <td>0</td>\n",
              "      <td>0</td>\n",
              "      <td>1</td>\n",
              "      <td>0</td>\n",
              "      <td>0</td>\n",
              "      <td>0</td>\n",
              "      <td>0</td>\n",
              "      <td>0</td>\n",
              "      <td>0</td>\n",
              "      <td>0</td>\n",
              "      <td>0</td>\n",
              "      <td>0</td>\n",
              "      <td>0</td>\n",
              "      <td>0</td>\n",
              "      <td>0</td>\n",
              "      <td>0</td>\n",
              "      <td>1</td>\n",
              "      <td>0</td>\n",
              "      <td>0</td>\n",
              "      <td>0</td>\n",
              "      <td>0</td>\n",
              "      <td>1</td>\n",
              "      <td>0</td>\n",
              "      <td>0</td>\n",
              "      <td>0</td>\n",
              "      <td>0</td>\n",
              "      <td>0</td>\n",
              "    </tr>\n",
              "    <tr>\n",
              "      <th>13899198</th>\n",
              "      <td>614</td>\n",
              "      <td>4</td>\n",
              "      <td>0.211426</td>\n",
              "      <td>0.307617</td>\n",
              "      <td>0.506836</td>\n",
              "      <td>0.723633</td>\n",
              "      <td>0.138916</td>\n",
              "      <td>0</td>\n",
              "      <td>0</td>\n",
              "      <td>0</td>\n",
              "      <td>0</td>\n",
              "      <td>0</td>\n",
              "      <td>1</td>\n",
              "      <td>0</td>\n",
              "      <td>0</td>\n",
              "      <td>0</td>\n",
              "      <td>0</td>\n",
              "      <td>0</td>\n",
              "      <td>0</td>\n",
              "      <td>0</td>\n",
              "      <td>0</td>\n",
              "      <td>0</td>\n",
              "      <td>0</td>\n",
              "      <td>1</td>\n",
              "      <td>0</td>\n",
              "      <td>0</td>\n",
              "      <td>0</td>\n",
              "      <td>0</td>\n",
              "      <td>1</td>\n",
              "      <td>0</td>\n",
              "      <td>0</td>\n",
              "      <td>1</td>\n",
              "      <td>0</td>\n",
              "      <td>0</td>\n",
              "    </tr>\n",
              "    <tr>\n",
              "      <th>13899199</th>\n",
              "      <td>615</td>\n",
              "      <td>4</td>\n",
              "      <td>0.175415</td>\n",
              "      <td>0.269043</td>\n",
              "      <td>0.506836</td>\n",
              "      <td>0.723633</td>\n",
              "      <td>0.138916</td>\n",
              "      <td>0</td>\n",
              "      <td>1</td>\n",
              "      <td>0</td>\n",
              "      <td>0</td>\n",
              "      <td>0</td>\n",
              "      <td>0</td>\n",
              "      <td>0</td>\n",
              "      <td>0</td>\n",
              "      <td>0</td>\n",
              "      <td>0</td>\n",
              "      <td>0</td>\n",
              "      <td>0</td>\n",
              "      <td>0</td>\n",
              "      <td>0</td>\n",
              "      <td>0</td>\n",
              "      <td>0</td>\n",
              "      <td>1</td>\n",
              "      <td>0</td>\n",
              "      <td>0</td>\n",
              "      <td>0</td>\n",
              "      <td>0</td>\n",
              "      <td>1</td>\n",
              "      <td>0</td>\n",
              "      <td>0</td>\n",
              "      <td>0</td>\n",
              "      <td>0</td>\n",
              "      <td>1</td>\n",
              "    </tr>\n",
              "  </tbody>\n",
              "</table>\n",
              "<p>13899199 rows × 34 columns</p>\n",
              "</div>"
            ],
            "text/plain": [
              "          building_id  site_id  square_feet  ...  yearB_q1  yearB_q2  yearB_q3\n",
              "1                   1        0     0.002787  ...         0         0         0\n",
              "2                   2        0     0.005821  ...         0         0         1\n",
              "3                   3        0     0.026749  ...         0         0         0\n",
              "4                   4        0     0.132935  ...         0         0         1\n",
              "5                   5        0     0.008820  ...         0         0         0\n",
              "...               ...      ...          ...  ...       ...       ...       ...\n",
              "13899195          611        4     0.146118  ...         0         1         0\n",
              "13899196          612        4     0.087769  ...         1         0         0\n",
              "13899197          613        4     0.001168  ...         0         0         0\n",
              "13899198          614        4     0.211426  ...         1         0         0\n",
              "13899199          615        4     0.175415  ...         0         0         1\n",
              "\n",
              "[13899199 rows x 34 columns]"
            ]
          },
          "metadata": {
            "tags": []
          },
          "execution_count": 36
        }
      ]
    },
    {
      "cell_type": "code",
      "metadata": {
        "id": "AYp3bYqoCLKi"
      },
      "source": [
        "X_final1.insert(28, 'electricity', X_final.copy())"
      ],
      "execution_count": null,
      "outputs": []
    },
    {
      "cell_type": "code",
      "metadata": {
        "id": "pmm5I4afnU9K"
      },
      "source": [
        "Y_pred_final1 = XGB_Reg.predict(X_final1)"
      ],
      "execution_count": null,
      "outputs": []
    },
    {
      "cell_type": "code",
      "metadata": {
        "id": "A24lKV0AwnKA"
      },
      "source": [
        "Y_pred_final1XGB_df = pd.DataFrame(data=Y_pred_final1)"
      ],
      "execution_count": null,
      "outputs": []
    },
    {
      "cell_type": "code",
      "metadata": {
        "id": "ZPd8peiwnU9M"
      },
      "source": [
        "Y_pred_finalXGB_df = pd.DataFrame(data=Y_pred_final)\n",
        "Y_pred_finalXGB_df.to_csv (r'/content/drive/MyDrive/Kaggle/Y_pred_finalXGB_df.csv', index = False, header=True)"
      ],
      "execution_count": null,
      "outputs": []
    },
    {
      "cell_type": "code",
      "metadata": {
        "colab": {
          "base_uri": "https://localhost:8080/"
        },
        "id": "IbiCvz-KnU9O",
        "outputId": "1b90ce0b-0647-4b5d-f955-1ce77fb871dc"
      },
      "source": [
        "! unzip '/content/sample_submission.csv.zip' -d sample_submission"
      ],
      "execution_count": null,
      "outputs": [
        {
          "output_type": "stream",
          "text": [
            "Archive:  /content/sample_submission.csv.zip\n",
            "  inflating: sample_submission/sample_submission.csv  \n"
          ],
          "name": "stdout"
        }
      ]
    },
    {
      "cell_type": "code",
      "metadata": {
        "id": "YjDyWynrnU9P"
      },
      "source": [
        "submission  = pd.read_csv('/content/drive/MyDrive/Kaggle/sample_submission.csv')\n",
        "submission['meter_reading'] = np.exp(Y_pred_final)\n",
        "submission.loc[submission['meter_reading']<0, 'meter_reading'] = 0\n",
        "submission.to_csv('/content/drive/MyDrive/Kaggle/submission.csv', index=False)"
      ],
      "execution_count": null,
      "outputs": []
    },
    {
      "cell_type": "code",
      "metadata": {
        "colab": {
          "background_save": true
        },
        "id": "d7OV7YbEnU9Q",
        "outputId": "62a61191-47fa-4645-f3f5-e5c6b30ef790"
      },
      "source": [
        "! kaggle competitions submit -c ashrae-energy-prediction -f '/content/drive/MyDrive/Kaggle/submission.csv' -m \"Firt submission using Hist Boost algorithm\""
      ],
      "execution_count": null,
      "outputs": [
        {
          "output_type": "stream",
          "text": [
            "Warning: Looks like you're using an outdated API Version, please consider updating (server 1.5.12 / client 1.5.4)\n",
            "100% 1.05G/1.05G [00:35<00:00, 31.6MB/s]\n",
            "Successfully submitted to ASHRAE - Great Energy Predictor III"
          ],
          "name": "stdout"
        }
      ]
    },
    {
      "cell_type": "markdown",
      "metadata": {
        "id": "S8eK2HJ_qJF4"
      },
      "source": [
        "# Modèle HistGradient Boosting"
      ]
    },
    {
      "cell_type": "markdown",
      "metadata": {
        "id": "5wYFkpJlvvEn"
      },
      "source": [
        "## Entrainement"
      ]
    },
    {
      "cell_type": "code",
      "metadata": {
        "id": "KFxJTjV7ilHc"
      },
      "source": [
        "from sklearn import datasets, ensemble\n",
        "from sklearn.inspection import permutation_importance\n",
        "from sklearn.metrics import mean_squared_error\n"
      ],
      "execution_count": null,
      "outputs": []
    },
    {
      "cell_type": "code",
      "metadata": {
        "id": "yT79dDlLpDqS"
      },
      "source": [
        "from sklearn.experimental import enable_hist_gradient_boosting \n",
        "from sklearn.ensemble import HistGradientBoostingRegressor"
      ],
      "execution_count": null,
      "outputs": []
    },
    {
      "cell_type": "code",
      "metadata": {
        "id": "KHtLhUmHQkmt"
      },
      "source": [
        "X_train1 = pd.read_csv('/content/drive/MyDrive/Kaggle/X_train1.csv')#chemin Olivier"
      ],
      "execution_count": null,
      "outputs": []
    },
    {
      "cell_type": "code",
      "metadata": {
        "id": "coWp6h4FQpsW"
      },
      "source": [
        "X_test1 = pd.read_csv('/content/drive/MyDrive/Kaggle/X_test1.csv')"
      ],
      "execution_count": null,
      "outputs": []
    },
    {
      "cell_type": "code",
      "metadata": {
        "id": "R6e5GRZVgt-l"
      },
      "source": [
        "Y_train = pd.read_csv('/content/drive/MyDrive/Kaggle/Y_train.csv')#chemin Olivier"
      ],
      "execution_count": null,
      "outputs": []
    },
    {
      "cell_type": "code",
      "metadata": {
        "id": "2LvAzUbIgzSP"
      },
      "source": [
        "Y_test = pd.read_csv('/content/drive/MyDrive/Kaggle/Y_test.csv')#chemin Olivier"
      ],
      "execution_count": null,
      "outputs": []
    },
    {
      "cell_type": "code",
      "metadata": {
        "colab": {
          "base_uri": "https://localhost:8080/"
        },
        "id": "pghFYgnpZ_uU",
        "outputId": "0f12741e-eac4-4e22-f839-18914f1d4e8f"
      },
      "source": [
        "print(y_train[0:5])"
      ],
      "execution_count": null,
      "outputs": [
        {
          "output_type": "stream",
          "text": [
            "   meter_reading_log\n",
            "0           4.843242\n",
            "1           6.438743\n",
            "2           3.356897\n",
            "3           4.278609\n",
            "4           3.418710\n"
          ],
          "name": "stdout"
        }
      ]
    },
    {
      "cell_type": "code",
      "metadata": {
        "colab": {
          "base_uri": "https://localhost:8080/"
        },
        "id": "VaNJca6t-IO4",
        "outputId": "b9631c33-91c4-4eb0-d2b0-5575017346d4"
      },
      "source": [
        "HGB =HistGradientBoostingRegressor()\n",
        "HGB_reg=HGB.fit(X_train1, Y_train)"
      ],
      "execution_count": null,
      "outputs": [
        {
          "output_type": "stream",
          "text": [
            "/usr/local/lib/python3.7/dist-packages/sklearn/utils/validation.py:760: DataConversionWarning: A column-vector y was passed when a 1d array was expected. Please change the shape of y to (n_samples, ), for example using ravel().\n",
            "  y = column_or_1d(y, warn=True)\n"
          ],
          "name": "stderr"
        }
      ]
    },
    {
      "cell_type": "code",
      "metadata": {
        "id": "4HAg7cZNYgrX"
      },
      "source": [
        "Y_pred = HGB_reg.predict(X_test1)"
      ],
      "execution_count": null,
      "outputs": []
    },
    {
      "cell_type": "code",
      "metadata": {
        "id": "0_zozYslqYbo"
      },
      "source": [
        "print(Y_pred[300:320]);print(Y_test[300:320])"
      ],
      "execution_count": null,
      "outputs": []
    },
    {
      "cell_type": "code",
      "metadata": {
        "colab": {
          "base_uri": "https://localhost:8080/"
        },
        "id": "O6DWmMeZZlz5",
        "outputId": "4ea973fc-e45e-46e6-9bb7-f9be67d1247f"
      },
      "source": [
        "mse_HGB = mean_squared_error(Y_test, Y_pred)**0.5\n",
        "print(\"The mean squared error (MSE) on test set: {:.4f}\".format(mse_HGB))"
      ],
      "execution_count": null,
      "outputs": [
        {
          "output_type": "stream",
          "text": [
            "The mean squared error (MSE) on test set: 1.3927\n"
          ],
          "name": "stdout"
        }
      ]
    },
    {
      "cell_type": "markdown",
      "metadata": {
        "id": "Zxw5fTnZvzIJ"
      },
      "source": [
        "## Prédiction et soumission"
      ]
    },
    {
      "cell_type": "code",
      "metadata": {
        "id": "z2roTCi4bXIB"
      },
      "source": [
        "X_final = pd.read_csv('/content/drive/MyDrive/Kaggle/X_final.csv')"
      ],
      "execution_count": null,
      "outputs": []
    },
    {
      "cell_type": "code",
      "metadata": {
        "colab": {
          "base_uri": "https://localhost:8080/"
        },
        "id": "LIIu4AAxb6RU",
        "outputId": "974a4cd3-0ac1-4472-fa31-81900e8259cc"
      },
      "source": [
        "X_final=reduce_mem_usage(X_final)"
      ],
      "execution_count": null,
      "outputs": [
        {
          "output_type": "stream",
          "text": [
            "Memory usage after optimization is: 2.17 MB\n",
            "Decreased by 75.9%\n"
          ],
          "name": "stdout"
        }
      ]
    },
    {
      "cell_type": "code",
      "metadata": {
        "id": "vi4bMoRH58yH"
      },
      "source": [
        "Y_pred_final = HGB_reg.predict(X_final)"
      ],
      "execution_count": null,
      "outputs": []
    },
    {
      "cell_type": "code",
      "metadata": {
        "id": "8WmIF2yDg2yW"
      },
      "source": [
        "Y_pred_final_df = pd.DataFrame(data=Y_pred_final)\n",
        "Y_pred_final_df.to_csv (r'/content/drive/MyDrive/Kaggle/Y_pred_final_df.csv', index = False, header=True)"
      ],
      "execution_count": null,
      "outputs": []
    },
    {
      "cell_type": "code",
      "metadata": {
        "colab": {
          "base_uri": "https://localhost:8080/"
        },
        "id": "YXGU7Qajhwkl",
        "outputId": "1b90ce0b-0647-4b5d-f955-1ce77fb871dc"
      },
      "source": [
        "! unzip '/content/sample_submission.csv.zip' -d sample_submission"
      ],
      "execution_count": null,
      "outputs": [
        {
          "output_type": "stream",
          "text": [
            "Archive:  /content/sample_submission.csv.zip\n",
            "  inflating: sample_submission/sample_submission.csv  \n"
          ],
          "name": "stdout"
        }
      ]
    },
    {
      "cell_type": "code",
      "metadata": {
        "id": "26H9hHRzhqpd"
      },
      "source": [
        "submission  = pd.read_csv('/content/drive/MyDrive/Kaggle/sample_submission.csv')\n",
        "submission['meter_reading'] = np.exp(Y_pred_final)\n",
        "submission.loc[submission['meter_reading']<0, 'meter_reading'] = 0\n",
        "submission.to_csv('/content/drive/MyDrive/Kaggle/submission.csv', index=False)"
      ],
      "execution_count": null,
      "outputs": []
    },
    {
      "cell_type": "code",
      "metadata": {
        "colab": {
          "background_save": true
        },
        "id": "OlrgF1IPmYYi",
        "outputId": "62a61191-47fa-4645-f3f5-e5c6b30ef790"
      },
      "source": [
        "! kaggle competitions submit -c ashrae-energy-prediction -f '/content/drive/MyDrive/Kaggle/submission.csv' -m \"Firt submission using Hist Boost algorithm\""
      ],
      "execution_count": null,
      "outputs": [
        {
          "output_type": "stream",
          "text": [
            "Warning: Looks like you're using an outdated API Version, please consider updating (server 1.5.12 / client 1.5.4)\n",
            "100% 1.05G/1.05G [00:35<00:00, 31.6MB/s]\n",
            "Successfully submitted to ASHRAE - Great Energy Predictor III"
          ],
          "name": "stdout"
        }
      ]
    },
    {
      "cell_type": "code",
      "metadata": {
        "id": "uXMRa9kSCz0_"
      },
      "source": [
        ""
      ],
      "execution_count": null,
      "outputs": []
    },
    {
      "cell_type": "markdown",
      "metadata": {
        "id": "ZOwNsVhVC3K4"
      },
      "source": [
        "# Modèle lightgbm"
      ]
    },
    {
      "cell_type": "markdown",
      "metadata": {
        "id": "Mi2ym4d8C_BJ"
      },
      "source": [
        "## Entrainement"
      ]
    },
    {
      "cell_type": "code",
      "metadata": {
        "id": "w0nAIF2qDR97"
      },
      "source": [
        "import lightgbm as lgb\n",
        "from sklearn.metrics import mean_squared_error"
      ],
      "execution_count": null,
      "outputs": []
    },
    {
      "cell_type": "code",
      "metadata": {
        "id": "MDBA0bGDDYn0"
      },
      "source": [
        "params = {\n",
        "    \"objective\": \"regression\",\n",
        "    \"boosting\": \"gbdt\",\n",
        "    \"num_leaves\": 40,\n",
        "    \"learning_rate\": 0.05,\n",
        "    \"feature_fraction\": 0.85,\n",
        "    \"reg_lambda\": 2,\n",
        "    \"metric\": \"rmse\"\n",
        "}"
      ],
      "execution_count": null,
      "outputs": []
    },
    {
      "cell_type": "code",
      "metadata": {
        "id": "wh92NX_MEGA2"
      },
      "source": [
        "import pandas as pd\n",
        "import numpy as np\n",
        "import matplotlib.pyplot as plt\n",
        "import seaborn as sns\n",
        "import pickle\n",
        "import scipy.stats\n",
        "import gc\n",
        "from sklearn.preprocessing import LabelEncoder\n",
        "le = LabelEncoder()"
      ],
      "execution_count": null,
      "outputs": []
    },
    {
      "cell_type": "code",
      "metadata": {
        "id": "pAM5nxwIDpxl"
      },
      "source": [
        "X_train1 = pd.read_csv('/content/drive/MyDrive/Kaggle/X_train1.csv')#chemin Olivier"
      ],
      "execution_count": null,
      "outputs": []
    },
    {
      "cell_type": "code",
      "metadata": {
        "id": "MOa6oORFDpxn"
      },
      "source": [
        "X_test1 = pd.read_csv('/content/drive/MyDrive/Kaggle/X_test1.csv') #cHemin Olivier"
      ],
      "execution_count": null,
      "outputs": []
    },
    {
      "cell_type": "code",
      "metadata": {
        "id": "XET79FfUDpxo"
      },
      "source": [
        "Y_train = pd.read_csv('/content/drive/MyDrive/Kaggle/Y_train.csv')#chemin Olivier"
      ],
      "execution_count": null,
      "outputs": []
    },
    {
      "cell_type": "code",
      "metadata": {
        "id": "N91ec207Dpxp"
      },
      "source": [
        "Y_test = pd.read_csv('/content/drive/MyDrive/Kaggle/Y_test.csv')#chemin Olivier"
      ],
      "execution_count": null,
      "outputs": []
    },
    {
      "cell_type": "code",
      "metadata": {
        "id": "S-v4eW8aDpxq"
      },
      "source": [
        "def reduce_mem_usage(df, verbose=True):\n",
        "    numerics = ['int16', 'int32', 'int64', 'float16', 'float32', 'float64']\n",
        "    start_mem = df.memory_usage().sum() / 1024**2\n",
        "    for col in df.columns:\n",
        "        col_type = df[col].dtypes\n",
        "        if col_type in numerics:\n",
        "            c_min = df[col].min()\n",
        "            c_max = df[col].max()\n",
        "            if str(col_type)[:3] == 'int':\n",
        "                if c_min > np.iinfo(np.int8).min and c_max < np.iinfo(np.int8).max:\n",
        "                    df[col] = df[col].astype(np.int8)\n",
        "                elif c_min > np.iinfo(np.int16).min and c_max < np.iinfo(np.int16).max:\n",
        "                    df[col] = df[col].astype(np.int16)\n",
        "                elif c_min > np.iinfo(np.int32).min and c_max < np.iinfo(np.int32).max:\n",
        "                    df[col] = df[col].astype(np.int32)\n",
        "                elif c_min > np.iinfo(np.int64).min and c_max < np.iinfo(np.int64).max:\n",
        "                    df[col] = df[col].astype(np.int64)\n",
        "            else:\n",
        "                if c_min > np.finfo(np.float16).min and c_max < np.finfo(np.float16).max:\n",
        "                    df[col] = df[col].astype(np.float16)\n",
        "                elif c_min > np.finfo(np.float32).min and c_max < np.finfo(np.float32).max:\n",
        "                    df[col] = df[col].astype(np.float32)\n",
        "                else:\n",
        "                    df[col] = df[col].astype(np.float64)\n",
        "\n",
        "    end_mem = df.memory_usage().sum() / 1024**2\n",
        "    print('Memory usage after optimization is: {:.2f} MB'.format(end_mem))\n",
        "    print('Decreased by {:.1f}%'.format(100 * (start_mem - end_mem) / start_mem))\n",
        "\n",
        "    return df"
      ],
      "execution_count": null,
      "outputs": []
    },
    {
      "cell_type": "code",
      "metadata": {
        "colab": {
          "base_uri": "https://localhost:8080/"
        },
        "id": "CJ4UBkQLDpxr",
        "outputId": "c02eda3a-0d8e-4789-9711-0b439ec0fae8"
      },
      "source": [
        "X_train1=reduce_mem_usage(X_train1)\n",
        "X_test1=reduce_mem_usage(X_test1)"
      ],
      "execution_count": null,
      "outputs": [
        {
          "output_type": "stream",
          "text": [
            "Memory usage after optimization is: 429.32 MB\n",
            "Decreased by 85.6%\n",
            "Memory usage after optimization is: 235.39 MB\n",
            "Decreased by 85.6%\n"
          ],
          "name": "stdout"
        }
      ]
    },
    {
      "cell_type": "code",
      "metadata": {
        "colab": {
          "base_uri": "https://localhost:8080/"
        },
        "id": "N6PEmcq-Dpxt",
        "outputId": "0dd40bc9-ca04-44b6-9904-378444e04987"
      },
      "source": [
        "Y_train=reduce_mem_usage(Y_train)\n",
        "Y_test1=reduce_mem_usage(Y_test)"
      ],
      "execution_count": null,
      "outputs": [
        {
          "output_type": "stream",
          "text": [
            "Memory usage after optimization is: 22.60 MB\n",
            "Decreased by 75.0%\n",
            "Memory usage after optimization is: 12.39 MB\n",
            "Decreased by 75.0%\n"
          ],
          "name": "stdout"
        }
      ]
    },
    {
      "cell_type": "code",
      "metadata": {
        "id": "n0YdjbGZEqJY"
      },
      "source": [
        "LGB = lgb.LGBMRegressor(**params)"
      ],
      "execution_count": null,
      "outputs": []
    },
    {
      "cell_type": "code",
      "metadata": {
        "colab": {
          "base_uri": "https://localhost:8080/"
        },
        "id": "32Sr7rc3EqJ5",
        "outputId": "4f9aa6bd-b4ff-4c67-d855-dbe2f1ef364b"
      },
      "source": [
        "LGB_Reg=LGB.fit(X_train1, Y_train,early_stopping_rounds=True,\n",
        "        eval_set=[(X_test1, Y_test)],\n",
        "        eval_metric='rmse',\n",
        "        verbose=True)"
      ],
      "execution_count": null,
      "outputs": [
        {
          "output_type": "stream",
          "text": [
            "[1]\tvalid_0's rmse: 1.80202\n",
            "Training until validation scores don't improve for True rounds.\n",
            "[2]\tvalid_0's rmse: 1.75474\n",
            "[3]\tvalid_0's rmse: 1.70873\n",
            "[4]\tvalid_0's rmse: 1.68901\n",
            "[5]\tvalid_0's rmse: 1.65891\n",
            "[6]\tvalid_0's rmse: 1.62276\n",
            "[7]\tvalid_0's rmse: 1.59419\n",
            "[8]\tvalid_0's rmse: 1.56949\n",
            "[9]\tvalid_0's rmse: 1.54269\n",
            "[10]\tvalid_0's rmse: 1.51937\n",
            "[11]\tvalid_0's rmse: 1.49915\n",
            "[12]\tvalid_0's rmse: 1.47931\n",
            "[13]\tvalid_0's rmse: 1.47772\n",
            "[14]\tvalid_0's rmse: 1.45792\n",
            "[15]\tvalid_0's rmse: 1.45743\n",
            "[16]\tvalid_0's rmse: 1.44662\n",
            "[17]\tvalid_0's rmse: 1.43246\n",
            "[18]\tvalid_0's rmse: 1.42075\n",
            "[19]\tvalid_0's rmse: 1.41124\n",
            "[20]\tvalid_0's rmse: 1.40062\n",
            "[21]\tvalid_0's rmse: 1.39391\n",
            "[22]\tvalid_0's rmse: 1.38831\n",
            "[23]\tvalid_0's rmse: 1.38023\n",
            "[24]\tvalid_0's rmse: 1.37424\n",
            "[25]\tvalid_0's rmse: 1.36811\n",
            "[26]\tvalid_0's rmse: 1.36403\n",
            "[27]\tvalid_0's rmse: 1.35914\n",
            "[28]\tvalid_0's rmse: 1.355\n",
            "[29]\tvalid_0's rmse: 1.35164\n",
            "[30]\tvalid_0's rmse: 1.34894\n",
            "[31]\tvalid_0's rmse: 1.34651\n",
            "[32]\tvalid_0's rmse: 1.34508\n",
            "[33]\tvalid_0's rmse: 1.34022\n",
            "[34]\tvalid_0's rmse: 1.33681\n",
            "[35]\tvalid_0's rmse: 1.33583\n",
            "[36]\tvalid_0's rmse: 1.33345\n",
            "[37]\tvalid_0's rmse: 1.33233\n",
            "[38]\tvalid_0's rmse: 1.33207\n",
            "[39]\tvalid_0's rmse: 1.33351\n",
            "Early stopping, best iteration is:\n",
            "[38]\tvalid_0's rmse: 1.33207\n"
          ],
          "name": "stdout"
        }
      ]
    },
    {
      "cell_type": "markdown",
      "metadata": {
        "id": "D5QoSJ1FDDuj"
      },
      "source": [
        "## Prediction et soumission"
      ]
    },
    {
      "cell_type": "code",
      "metadata": {
        "id": "klDuw1zFFWq-"
      },
      "source": [
        "X_final = pd.read_csv('/content/drive/MyDrive/Kaggle/X_final.csv')"
      ],
      "execution_count": null,
      "outputs": []
    },
    {
      "cell_type": "code",
      "metadata": {
        "colab": {
          "base_uri": "https://localhost:8080/"
        },
        "id": "_hG1RyvRFWrA",
        "outputId": "421096ec-8ed5-4b32-8b68-ea4cc9f7d3a1"
      },
      "source": [
        "X_final=reduce_mem_usage(X_final)"
      ],
      "execution_count": null,
      "outputs": [
        {
          "output_type": "stream",
          "text": [
            "Memory usage after optimization is: 1590.64 MB\n",
            "Decreased by 85.3%\n"
          ],
          "name": "stdout"
        }
      ]
    },
    {
      "cell_type": "code",
      "metadata": {
        "id": "wDYDA8zJGjzP"
      },
      "source": [
        "del X_final['building_id']"
      ],
      "execution_count": null,
      "outputs": []
    },
    {
      "cell_type": "code",
      "metadata": {
        "id": "dwnyW15TFWrB"
      },
      "source": [
        "Y_pred_finalLGB = LGB_Reg.predict(X_final)"
      ],
      "execution_count": null,
      "outputs": []
    },
    {
      "cell_type": "code",
      "metadata": {
        "id": "U_HYpyKlFlTG"
      },
      "source": [
        "Y_pred_finalLGB_df = pd.DataFrame(data=Y_pred_finalLGB)\n",
        "Y_pred_finalLGB_df.to_csv (r'/content/drive/MyDrive/Kaggle/Y_pred_finalLGB_df.csv', index = False, header=True)"
      ],
      "execution_count": null,
      "outputs": []
    },
    {
      "cell_type": "code",
      "metadata": {
        "id": "2EhMF2yyphGC"
      },
      "source": [
        "reduce_mem_usage(Y_pred_finalLGB_df)"
      ],
      "execution_count": null,
      "outputs": []
    },
    {
      "cell_type": "code",
      "metadata": {
        "id": "-_OeqJavFlTI"
      },
      "source": [
        "submission  = pd.read_csv('/content/drive/MyDrive/Kaggle/sample_submission.csv')\n",
        "submission['meter_reading'] = np.exp(Y_pred_finalLGB)\n",
        "submission.loc[submission['meter_reading']<0, 'meter_reading'] = 0\n",
        "submission.to_csv('/content/drive/MyDrive/Kaggle/submission.csv', index=False)"
      ],
      "execution_count": null,
      "outputs": []
    },
    {
      "cell_type": "code",
      "metadata": {
        "colab": {
          "base_uri": "https://localhost:8080/"
        },
        "id": "23ltkAxgFlTJ",
        "outputId": "e8feccdb-bf75-4304-a400-462a6184f1ea"
      },
      "source": [
        "! kaggle competitions submit -c ashrae-energy-prediction -f '/content/drive/MyDrive/Kaggle/submission.csv' -m \"Firt submission using Hist Boost algorithm\""
      ],
      "execution_count": null,
      "outputs": [
        {
          "output_type": "stream",
          "text": [
            "Warning: Looks like you're using an outdated API Version, please consider updating (server 1.5.12 / client 1.5.4)\n",
            "100% 1.05G/1.05G [00:13<00:00, 84.1MB/s]\n",
            "Successfully submitted to ASHRAE - Great Energy Predictor III"
          ],
          "name": "stdout"
        }
      ]
    }
  ]
}