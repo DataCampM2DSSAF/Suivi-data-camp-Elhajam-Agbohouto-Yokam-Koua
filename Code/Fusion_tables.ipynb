{
  "nbformat": 4,
  "nbformat_minor": 0,
  "metadata": {
    "colab": {
      "name": "Fusion_tables.ipynb",
      "provenance": []
    },
    "kernelspec": {
      "name": "python3",
      "display_name": "Python 3"
    },
    "language_info": {
      "name": "python"
    }
  },
  "cells": [
    {
      "cell_type": "markdown",
      "metadata": {
        "id": "eCVuxLMgVrKu"
      },
      "source": [
        "# Chapitre 2: Fusion des différentes tables de données"
      ]
    },
    {
      "cell_type": "markdown",
      "metadata": {
        "id": "s4j4tWG-Wap5"
      },
      "source": [
        "Nous avons à cette étape fusinner toutes les tables afin d'avoir une grande base de données contenant toutes les informations. Chaque table contient une clé qui permets de les référencer et donc de les fusionner entre elles."
      ]
    },
    {
      "cell_type": "code",
      "metadata": {
        "id": "a-PMiu2OSk8Q"
      },
      "source": [
        "reduce_mem_usage(train)\n",
        "reduce_mem_usage(weather_train)\n",
        "reduce_mem_usage(building_metadata)"
      ],
      "execution_count": null,
      "outputs": []
    },
    {
      "cell_type": "code",
      "metadata": {
        "colab": {
          "base_uri": "https://localhost:8080/"
        },
        "id": "XKiNrDaCV4ZS",
        "outputId": "e377d717-f281-49f4-a8eb-cbcf036a159e"
      },
      "source": [
        "train = train.merge(building_metadata, on='building_id', how='left')\n",
        "alltrain = train.merge(weather_train, on=['site_id','timestamp'], how='left')\n",
        "reduce_mem_usage(alltrain)\n",
        "del building_metadata,weather_train,train\n",
        "gc.collect()"
      ],
      "execution_count": null,
      "outputs": [
        {
          "output_type": "stream",
          "text": [
            "Memory usage after optimization is: 1041.10 MB\n",
            "Decreased by 0.0%\n"
          ],
          "name": "stdout"
        },
        {
          "output_type": "execute_result",
          "data": {
            "text/plain": [
              "292"
            ]
          },
          "metadata": {
            "tags": []
          },
          "execution_count": 50
        }
      ]
    },
    {
      "cell_type": "code",
      "metadata": {
        "id": "2vFZFbI6QHBZ"
      },
      "source": [
        "alltrain.to_csv (r'/content/drive/MyDrive/Kaggle/alltrain.csv', index = False, header=True)"
      ],
      "execution_count": null,
      "outputs": []
    },
    {
      "cell_type": "code",
      "metadata": {
        "colab": {
          "base_uri": "https://localhost:8080/"
        },
        "id": "D2bcAjnrQTeV",
        "outputId": "0311b9a5-ca44-4bba-a6a5-bdb805597e5f"
      },
      "source": [
        "np.shape(alltrain)"
      ],
      "execution_count": null,
      "outputs": [
        {
          "output_type": "execute_result",
          "data": {
            "text/plain": [
              "(20216100, 16)"
            ]
          },
          "metadata": {
            "tags": []
          },
          "execution_count": 51
        }
      ]
    },
    {
      "cell_type": "markdown",
      "metadata": {
        "id": "4eEUtRO5WBBr"
      },
      "source": [
        "La base de données complète contient au total 20216100 individus et 16 variables."
      ]
    },
    {
      "cell_type": "markdown",
      "metadata": {
        "id": "g4Cs0AuDbm7O"
      },
      "source": [
        "## Analyse de la table alltrain"
      ]
    },
    {
      "cell_type": "code",
      "metadata": {
        "id": "c4STHcEmbm7O"
      },
      "source": [
        "alltrain.head()"
      ],
      "execution_count": null,
      "outputs": []
    },
    {
      "cell_type": "code",
      "metadata": {
        "id": "JRAnb027V93T",
        "outputId": "f779e3e5-ae98-492e-bbcd-a0e882bdb454"
      },
      "source": [
        "alltrain.shape"
      ],
      "execution_count": null,
      "outputs": [
        {
          "output_type": "execute_result",
          "data": {
            "text/plain": [
              "(20216100, 16)"
            ]
          },
          "metadata": {
            "tags": []
          },
          "execution_count": 7
        }
      ]
    },
    {
      "cell_type": "code",
      "metadata": {
        "id": "MBoG9B_Zbm7P"
      },
      "source": [
        "alltrain.describe()"
      ],
      "execution_count": null,
      "outputs": []
    },
    {
      "cell_type": "code",
      "metadata": {
        "id": "5B4AqKGUbm7P",
        "outputId": "13d01c36-bb1b-4c07-f49e-e18dbcb2ed8d"
      },
      "source": [
        "alltrain.info()"
      ],
      "execution_count": null,
      "outputs": [
        {
          "output_type": "stream",
          "text": [
            "<class 'pandas.core.frame.DataFrame'>\n",
            "Int64Index: 20216100 entries, 0 to 20216099\n",
            "Data columns (total 16 columns):\n",
            " #   Column              Dtype  \n",
            "---  ------              -----  \n",
            " 0   building_id         int64  \n",
            " 1   meter               int64  \n",
            " 2   timestamp           object \n",
            " 3   meter_reading       float64\n",
            " 4   site_id             int64  \n",
            " 5   primary_use         object \n",
            " 6   square_feet         int64  \n",
            " 7   year_built          float64\n",
            " 8   floor_count         float64\n",
            " 9   air_temperature     float64\n",
            " 10  cloud_coverage      float64\n",
            " 11  dew_temperature     float64\n",
            " 12  precip_depth_1_hr   float64\n",
            " 13  sea_level_pressure  float64\n",
            " 14  wind_direction      float64\n",
            " 15  wind_speed          float64\n",
            "dtypes: float64(10), int64(4), object(2)\n",
            "memory usage: 2.6+ GB\n"
          ],
          "name": "stdout"
        }
      ]
    }
  ]
}